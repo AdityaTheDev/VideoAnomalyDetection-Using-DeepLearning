{
  "nbformat": 4,
  "nbformat_minor": 0,
  "metadata": {
    "colab": {
      "provenance": [],
      "gpuType": "T4"
    },
    "kernelspec": {
      "name": "python3",
      "display_name": "Python 3"
    },
    "accelerator": "GPU",
    "gpuClass": "standard"
  },
  "cells": [
    {
      "cell_type": "code",
      "source": [
        "from google.colab import drive\n",
        "drive.mount('/content/drive')"
      ],
      "metadata": {
        "colab": {
          "base_uri": "https://localhost:8080/"
        },
        "id": "4R8_A4nztqbR",
        "outputId": "e0e9ef2b-4c7d-4d93-97d0-53152e52042d"
      },
      "execution_count": 4,
      "outputs": [
        {
          "output_type": "stream",
          "name": "stdout",
          "text": [
            "Mounted at /content/drive\n"
          ]
        }
      ]
    },
    {
      "cell_type": "code",
      "source": [
        "import keras\n",
        "import tensorflow"
      ],
      "metadata": {
        "id": "Vgx7S4KNuVml"
      },
      "execution_count": 1,
      "outputs": []
    },
    {
      "cell_type": "code",
      "metadata": {
        "id": "tfrrcA1EOx07",
        "outputId": "b951dcc9-64fc-403e-d250-e01b58b5e951",
        "colab": {
          "base_uri": "https://localhost:8080/"
        }
      },
      "source": [
        "\n",
        "\n",
        "from tensorflow.keras.utils import img_to_array,load_img\n",
        "import numpy as np\n",
        "import glob\n",
        "import os \n",
        "from skimage import data, color\n",
        "from skimage.transform import rescale, resize, downscale_local_mean\n",
        "import argparse\n",
        "from PIL import Image\n",
        "imagestore=[]\n",
        "\n",
        "\n",
        "\n",
        "video_source_path='/content/drive/MyDrive/Avenue/training_videos'\n",
        "fps=5\n",
        "#fps refers to the number of seconds after which one frame will be taken . fps=5 means 1 frame after every 5 seconds. More like seconds per frame.\n",
        "\n",
        "def create_dir(path):\n",
        "\tif not os.path.exists(path):\n",
        "\t\tos.makedirs(path)\n",
        "\n",
        "def remove_old_images(path):\n",
        "\tfilelist = glob.glob(os.path.join(path, \"*.png\"))\n",
        "\tfor f in filelist:\n",
        "\t\tos.remove(f)\n",
        "\n",
        "def store(image_path):\n",
        "\timg=load_img(image_path)\n",
        "\timg=img_to_array(img)\n",
        "\n",
        "\n",
        "\t#Resize the Image to (227,227,3) for the network to be able to process it. \n",
        "\n",
        "\n",
        "\timg=resize(img,(227,227,3))\n",
        "\n",
        "\t#Convert the Image to Grayscale\n",
        "\n",
        "\n",
        "\tgray=0.2989*img[:,:,0]+0.5870*img[:,:,1]+0.1140*img[:,:,2]\n",
        "\n",
        "\timagestore.append(gray)\n",
        "\n",
        "\n",
        "\n",
        "#List of all Videos in the Source Directory.\n",
        "videos=os.listdir(video_source_path)\n",
        "print(\"Found \",len(videos),\" training videos\")\n",
        "\n",
        "\n",
        "#Make a temp dir to store all the frames\n",
        "create_dir(video_source_path+'/frames')\n",
        "\n",
        "#Remove old images\n",
        "remove_old_images(video_source_path+'/frames')\n",
        "\n",
        "framepath=video_source_path+'/frames'\n",
        "\n",
        "for video in videos:\n",
        "\t\tos.system( 'ffmpeg -i {}/{} -r 1/{}  {}/frames/%03d.jpg'.format(video_source_path,video,fps,video_source_path))\n",
        "\t\timages=os.listdir(framepath)\n",
        "\t\tfor image in images:\n",
        "\t\t\timage_path=framepath+ '/'+ image\n",
        "\t\t\tstore(image_path)\n",
        "\n",
        "\n",
        "imagestore=np.array(imagestore)\n",
        "a,b,c=imagestore.shape\n",
        "#Reshape to (227,227,batch_size)\n",
        "imagestore.resize(b,c,a)\n",
        "#Normalize\n",
        "imagestore=(imagestore-imagestore.mean())/(imagestore.std())\n",
        "#Clip negative Values\n",
        "imagestore=np.clip(imagestore,0,1)\n",
        "np.save('trainer.npy',imagestore)\n",
        "#Remove Buffer Directory\n",
        "os.system('rm -r {}'.format(framepath))\n",
        "print(\"Program ended. Please wait while trainer.npy is created. \\nRefresh when needed\")\n",
        "print('Number of frames created :', int(len(imagestore)))"
      ],
      "execution_count": null,
      "outputs": [
        {
          "output_type": "stream",
          "name": "stdout",
          "text": [
            "Found  17  training videos\n",
            "Program ended. Please wait while trainer.npy is created. \n",
            "Refresh when needed\n",
            "Number of frames created : 227\n"
          ]
        }
      ]
    },
    {
      "cell_type": "code",
      "metadata": {
        "id": "y6VM2ZTfdRTH",
        "outputId": "fdee6784-1619-4dc6-a8ab-212f10c731dc",
        "colab": {
          "base_uri": "https://localhost:8080/"
        }
      },
      "source": [
        "from keras.callbacks import ModelCheckpoint, EarlyStopping\n",
        "import numpy as np \n",
        "import argparse\n",
        "from keras.layers import Conv3D,ConvLSTM2D,Conv3DTranspose\n",
        "from keras.models import Sequential\n",
        "\n",
        "\n",
        "\n",
        "#load_model starts here :----------------------------------------------------\n",
        "def load_model():\n",
        "\n",
        "\tmodel=Sequential()\n",
        "\tmodel.add(Conv3D(filters=128,kernel_size=(11,11,1),strides=(4,4,1),padding='valid',input_shape=(227,227,10,1),activation='tanh'))\n",
        "\tmodel.add(Conv3D(filters=64,kernel_size=(5,5,1),strides=(2,2,1),padding='valid',activation='tanh'))\n",
        "\n",
        "\n",
        "\n",
        "\tmodel.add(ConvLSTM2D(filters=64,kernel_size=(3,3),strides=1,padding='same',dropout=0.4,recurrent_dropout=0.3,return_sequences=True))\n",
        "\n",
        "\t\n",
        "\tmodel.add(ConvLSTM2D(filters=32,kernel_size=(3,3),strides=1,padding='same',dropout=0.3,return_sequences=True))\n",
        "\n",
        "\n",
        "\tmodel.add(ConvLSTM2D(filters=64,kernel_size=(3,3),strides=1,return_sequences=True, padding='same',dropout=0.5))\n",
        "\n",
        "\n",
        "\n",
        "\n",
        "\tmodel.add(Conv3DTranspose(filters=128,kernel_size=(5,5,1),strides=(2,2,1),padding='valid',activation='tanh'))\n",
        "\tmodel.add(Conv3DTranspose(filters=1,kernel_size=(11,11,1),strides=(4,4,1),padding='valid',activation='tanh'))\n",
        "\n",
        "\tmodel.compile(optimizer='adam',loss='mean_squared_error',metrics=['accuracy'])\n",
        "\n",
        "\treturn model\n",
        "\n",
        "#load_model ends here :----------------------------------------------------\n",
        "\n",
        "\n",
        "\n",
        "X_train=np.load('trainer.npy')\n",
        "frames=X_train.shape[2]\n",
        "#Need to make number of frames divisible by 10 to ease the load_model\n",
        "\n",
        "\n",
        "frames=frames-frames%10\n",
        "\n",
        "X_train=X_train[:,:,:frames]\n",
        "X_train=X_train.reshape(-1,227,227,10)\n",
        "X_train=np.expand_dims(X_train,axis=4)\n",
        "Y_train=X_train.copy()\n",
        "\n",
        "\n",
        "epochs=200\n",
        "batch_size=1\n",
        "\n",
        "\n",
        "\n",
        "if __name__==\"__main__\":\n",
        "\n",
        "\tmodel=load_model()\n",
        "\n",
        "\tcallback_save = ModelCheckpoint(\"AnomalyDetector.h5\",\n",
        "\t\t\t\t\t\t\t\t\tmonitor=\"mean_squared_error\")\n",
        "\n",
        "\tcallback_early_stopping = EarlyStopping(monitor='val_loss', patience=3)\n",
        "\n",
        "\tprint('Trainer has been loaded')\n",
        "\tmodel.fit(X_train,Y_train,\n",
        "\t\t\t  batch_size=batch_size,\n",
        "\t\t\t  epochs=epochs,\n",
        "\t\t\t  callbacks = [callback_save,callback_early_stopping]\n",
        "\t\t\t  )\n",
        "print('Done\\n Please wait while AnomalyDetector.h5 has been created \\nRefresh when needed')\n",
        "\n",
        "\n",
        "\n"
      ],
      "execution_count": null,
      "outputs": [
        {
          "output_type": "stream",
          "name": "stdout",
          "text": [
            "Trainer has been loaded\n",
            "Epoch 1/200\n",
            "22/22 [==============================] - ETA: 0s - loss: 0.2317 - accuracy: 0.5278"
          ]
        },
        {
          "output_type": "stream",
          "name": "stderr",
          "text": [
            "WARNING:tensorflow:Early stopping conditioned on metric `val_loss` which is not available. Available metrics are: loss,accuracy\n"
          ]
        },
        {
          "output_type": "stream",
          "name": "stdout",
          "text": [
            "\b\b\b\b\b\b\b\b\b\b\b\b\b\b\b\b\b\b\b\b\b\b\b\b\b\b\b\b\b\b\b\b\b\b\b\b\b\b\b\b\b\b\b\b\b\b\b\b\b\b\b\b\b\b\b\b\b\b\b\b\b\b\b\b\b\b\b\b\b\b\b\b\b\b\b\b\b\b\b\b\b\b\r22/22 [==============================] - 17s 216ms/step - loss: 0.2317 - accuracy: 0.5278\n",
            "Epoch 2/200\n",
            "22/22 [==============================] - ETA: 0s - loss: 0.2066 - accuracy: 0.5448"
          ]
        },
        {
          "output_type": "stream",
          "name": "stderr",
          "text": [
            "WARNING:tensorflow:Early stopping conditioned on metric `val_loss` which is not available. Available metrics are: loss,accuracy\n"
          ]
        },
        {
          "output_type": "stream",
          "name": "stdout",
          "text": [
            "\b\b\b\b\b\b\b\b\b\b\b\b\b\b\b\b\b\b\b\b\b\b\b\b\b\b\b\b\b\b\b\b\b\b\b\b\b\b\b\b\b\b\b\b\b\b\b\b\b\b\b\b\b\b\b\b\b\b\b\b\b\b\b\b\b\b\b\b\b\b\b\b\b\b\b\b\b\b\b\b\b\b\r22/22 [==============================] - 5s 214ms/step - loss: 0.2066 - accuracy: 0.5448\n",
            "Epoch 3/200\n",
            "22/22 [==============================] - ETA: 0s - loss: 0.2014 - accuracy: 0.5447"
          ]
        },
        {
          "output_type": "stream",
          "name": "stderr",
          "text": [
            "WARNING:tensorflow:Early stopping conditioned on metric `val_loss` which is not available. Available metrics are: loss,accuracy\n"
          ]
        },
        {
          "output_type": "stream",
          "name": "stdout",
          "text": [
            "\b\b\b\b\b\b\b\b\b\b\b\b\b\b\b\b\b\b\b\b\b\b\b\b\b\b\b\b\b\b\b\b\b\b\b\b\b\b\b\b\b\b\b\b\b\b\b\b\b\b\b\b\b\b\b\b\b\b\b\b\b\b\b\b\b\b\b\b\b\b\b\b\b\b\b\b\b\b\b\b\b\b\r22/22 [==============================] - 6s 273ms/step - loss: 0.2014 - accuracy: 0.5447\n",
            "Epoch 4/200\n",
            "22/22 [==============================] - ETA: 0s - loss: 0.1587 - accuracy: 0.6059"
          ]
        },
        {
          "output_type": "stream",
          "name": "stderr",
          "text": [
            "WARNING:tensorflow:Early stopping conditioned on metric `val_loss` which is not available. Available metrics are: loss,accuracy\n"
          ]
        },
        {
          "output_type": "stream",
          "name": "stdout",
          "text": [
            "\b\b\b\b\b\b\b\b\b\b\b\b\b\b\b\b\b\b\b\b\b\b\b\b\b\b\b\b\b\b\b\b\b\b\b\b\b\b\b\b\b\b\b\b\b\b\b\b\b\b\b\b\b\b\b\b\b\b\b\b\b\b\b\b\b\b\b\b\b\b\b\b\b\b\b\b\b\b\b\b\b\b\r22/22 [==============================] - 5s 216ms/step - loss: 0.1587 - accuracy: 0.6059\n",
            "Epoch 5/200\n",
            "22/22 [==============================] - ETA: 0s - loss: 0.1178 - accuracy: 0.6786"
          ]
        },
        {
          "output_type": "stream",
          "name": "stderr",
          "text": [
            "WARNING:tensorflow:Early stopping conditioned on metric `val_loss` which is not available. Available metrics are: loss,accuracy\n"
          ]
        },
        {
          "output_type": "stream",
          "name": "stdout",
          "text": [
            "\b\b\b\b\b\b\b\b\b\b\b\b\b\b\b\b\b\b\b\b\b\b\b\b\b\b\b\b\b\b\b\b\b\b\b\b\b\b\b\b\b\b\b\b\b\b\b\b\b\b\b\b\b\b\b\b\b\b\b\b\b\b\b\b\b\b\b\b\b\b\b\b\b\b\b\b\b\b\b\b\b\b\r22/22 [==============================] - 6s 269ms/step - loss: 0.1178 - accuracy: 0.6786\n",
            "Epoch 6/200\n",
            "22/22 [==============================] - ETA: 0s - loss: 0.1003 - accuracy: 0.7004"
          ]
        },
        {
          "output_type": "stream",
          "name": "stderr",
          "text": [
            "WARNING:tensorflow:Early stopping conditioned on metric `val_loss` which is not available. Available metrics are: loss,accuracy\n"
          ]
        },
        {
          "output_type": "stream",
          "name": "stdout",
          "text": [
            "\b\b\b\b\b\b\b\b\b\b\b\b\b\b\b\b\b\b\b\b\b\b\b\b\b\b\b\b\b\b\b\b\b\b\b\b\b\b\b\b\b\b\b\b\b\b\b\b\b\b\b\b\b\b\b\b\b\b\b\b\b\b\b\b\b\b\b\b\b\b\b\b\b\b\b\b\b\b\b\b\b\b\r22/22 [==============================] - 5s 223ms/step - loss: 0.1003 - accuracy: 0.7004\n",
            "Epoch 7/200\n",
            "22/22 [==============================] - ETA: 0s - loss: 0.0946 - accuracy: 0.7066"
          ]
        },
        {
          "output_type": "stream",
          "name": "stderr",
          "text": [
            "WARNING:tensorflow:Early stopping conditioned on metric `val_loss` which is not available. Available metrics are: loss,accuracy\n"
          ]
        },
        {
          "output_type": "stream",
          "name": "stdout",
          "text": [
            "\b\b\b\b\b\b\b\b\b\b\b\b\b\b\b\b\b\b\b\b\b\b\b\b\b\b\b\b\b\b\b\b\b\b\b\b\b\b\b\b\b\b\b\b\b\b\b\b\b\b\b\b\b\b\b\b\b\b\b\b\b\b\b\b\b\b\b\b\b\b\b\b\b\b\b\b\b\b\b\b\b\b\r22/22 [==============================] - 5s 236ms/step - loss: 0.0946 - accuracy: 0.7066\n",
            "Epoch 8/200\n",
            "22/22 [==============================] - ETA: 0s - loss: 0.0903 - accuracy: 0.7116"
          ]
        },
        {
          "output_type": "stream",
          "name": "stderr",
          "text": [
            "WARNING:tensorflow:Early stopping conditioned on metric `val_loss` which is not available. Available metrics are: loss,accuracy\n"
          ]
        },
        {
          "output_type": "stream",
          "name": "stdout",
          "text": [
            "\b\b\b\b\b\b\b\b\b\b\b\b\b\b\b\b\b\b\b\b\b\b\b\b\b\b\b\b\b\b\b\b\b\b\b\b\b\b\b\b\b\b\b\b\b\b\b\b\b\b\b\b\b\b\b\b\b\b\b\b\b\b\b\b\b\b\b\b\b\b\b\b\b\b\b\b\b\b\b\b\b\b\r22/22 [==============================] - 6s 274ms/step - loss: 0.0903 - accuracy: 0.7116\n",
            "Epoch 9/200\n",
            "22/22 [==============================] - ETA: 0s - loss: 0.0882 - accuracy: 0.7137"
          ]
        },
        {
          "output_type": "stream",
          "name": "stderr",
          "text": [
            "WARNING:tensorflow:Early stopping conditioned on metric `val_loss` which is not available. Available metrics are: loss,accuracy\n"
          ]
        },
        {
          "output_type": "stream",
          "name": "stdout",
          "text": [
            "\b\b\b\b\b\b\b\b\b\b\b\b\b\b\b\b\b\b\b\b\b\b\b\b\b\b\b\b\b\b\b\b\b\b\b\b\b\b\b\b\b\b\b\b\b\b\b\b\b\b\b\b\b\b\b\b\b\b\b\b\b\b\b\b\b\b\b\b\b\b\b\b\b\b\b\b\b\b\b\b\b\b\r22/22 [==============================] - 5s 212ms/step - loss: 0.0882 - accuracy: 0.7137\n",
            "Epoch 10/200\n",
            "22/22 [==============================] - ETA: 0s - loss: 0.0857 - accuracy: 0.7164"
          ]
        },
        {
          "output_type": "stream",
          "name": "stderr",
          "text": [
            "WARNING:tensorflow:Early stopping conditioned on metric `val_loss` which is not available. Available metrics are: loss,accuracy\n"
          ]
        },
        {
          "output_type": "stream",
          "name": "stdout",
          "text": [
            "\b\b\b\b\b\b\b\b\b\b\b\b\b\b\b\b\b\b\b\b\b\b\b\b\b\b\b\b\b\b\b\b\b\b\b\b\b\b\b\b\b\b\b\b\b\b\b\b\b\b\b\b\b\b\b\b\b\b\b\b\b\b\b\b\b\b\b\b\b\b\b\b\b\b\b\b\b\b\b\b\b\b\r22/22 [==============================] - 5s 242ms/step - loss: 0.0857 - accuracy: 0.7164\n",
            "Epoch 11/200\n",
            "22/22 [==============================] - ETA: 0s - loss: 0.0848 - accuracy: 0.7166"
          ]
        },
        {
          "output_type": "stream",
          "name": "stderr",
          "text": [
            "WARNING:tensorflow:Early stopping conditioned on metric `val_loss` which is not available. Available metrics are: loss,accuracy\n"
          ]
        },
        {
          "output_type": "stream",
          "name": "stdout",
          "text": [
            "\b\b\b\b\b\b\b\b\b\b\b\b\b\b\b\b\b\b\b\b\b\b\b\b\b\b\b\b\b\b\b\b\b\b\b\b\b\b\b\b\b\b\b\b\b\b\b\b\b\b\b\b\b\b\b\b\b\b\b\b\b\b\b\b\b\b\b\b\b\b\b\b\b\b\b\b\b\b\b\b\b\b\r22/22 [==============================] - 5s 244ms/step - loss: 0.0848 - accuracy: 0.7166\n",
            "Epoch 12/200\n",
            "22/22 [==============================] - ETA: 0s - loss: 0.0845 - accuracy: 0.7177"
          ]
        },
        {
          "output_type": "stream",
          "name": "stderr",
          "text": [
            "WARNING:tensorflow:Early stopping conditioned on metric `val_loss` which is not available. Available metrics are: loss,accuracy\n"
          ]
        },
        {
          "output_type": "stream",
          "name": "stdout",
          "text": [
            "\b\b\b\b\b\b\b\b\b\b\b\b\b\b\b\b\b\b\b\b\b\b\b\b\b\b\b\b\b\b\b\b\b\b\b\b\b\b\b\b\b\b\b\b\b\b\b\b\b\b\b\b\b\b\b\b\b\b\b\b\b\b\b\b\b\b\b\b\b\b\b\b\b\b\b\b\b\b\b\b\b\b\r22/22 [==============================] - 5s 223ms/step - loss: 0.0845 - accuracy: 0.7177\n",
            "Epoch 13/200\n",
            "22/22 [==============================] - ETA: 0s - loss: 0.0829 - accuracy: 0.7180"
          ]
        },
        {
          "output_type": "stream",
          "name": "stderr",
          "text": [
            "WARNING:tensorflow:Early stopping conditioned on metric `val_loss` which is not available. Available metrics are: loss,accuracy\n"
          ]
        },
        {
          "output_type": "stream",
          "name": "stdout",
          "text": [
            "\b\b\b\b\b\b\b\b\b\b\b\b\b\b\b\b\b\b\b\b\b\b\b\b\b\b\b\b\b\b\b\b\b\b\b\b\b\b\b\b\b\b\b\b\b\b\b\b\b\b\b\b\b\b\b\b\b\b\b\b\b\b\b\b\b\b\b\b\b\b\b\b\b\b\b\b\b\b\b\b\b\b\r22/22 [==============================] - 6s 286ms/step - loss: 0.0829 - accuracy: 0.7180\n",
            "Epoch 14/200\n",
            "22/22 [==============================] - ETA: 0s - loss: 0.0824 - accuracy: 0.7184"
          ]
        },
        {
          "output_type": "stream",
          "name": "stderr",
          "text": [
            "WARNING:tensorflow:Early stopping conditioned on metric `val_loss` which is not available. Available metrics are: loss,accuracy\n"
          ]
        },
        {
          "output_type": "stream",
          "name": "stdout",
          "text": [
            "\b\b\b\b\b\b\b\b\b\b\b\b\b\b\b\b\b\b\b\b\b\b\b\b\b\b\b\b\b\b\b\b\b\b\b\b\b\b\b\b\b\b\b\b\b\b\b\b\b\b\b\b\b\b\b\b\b\b\b\b\b\b\b\b\b\b\b\b\b\b\b\b\b\b\b\b\b\b\b\b\b\b\r22/22 [==============================] - 5s 222ms/step - loss: 0.0824 - accuracy: 0.7184\n",
            "Epoch 15/200\n",
            "22/22 [==============================] - ETA: 0s - loss: 0.0816 - accuracy: 0.7190"
          ]
        },
        {
          "output_type": "stream",
          "name": "stderr",
          "text": [
            "WARNING:tensorflow:Early stopping conditioned on metric `val_loss` which is not available. Available metrics are: loss,accuracy\n"
          ]
        },
        {
          "output_type": "stream",
          "name": "stdout",
          "text": [
            "\b\b\b\b\b\b\b\b\b\b\b\b\b\b\b\b\b\b\b\b\b\b\b\b\b\b\b\b\b\b\b\b\b\b\b\b\b\b\b\b\b\b\b\b\b\b\b\b\b\b\b\b\b\b\b\b\b\b\b\b\b\b\b\b\b\b\b\b\b\b\b\b\b\b\b\b\b\b\b\b\b\b\r22/22 [==============================] - 5s 231ms/step - loss: 0.0816 - accuracy: 0.7190\n",
            "Epoch 16/200\n",
            "22/22 [==============================] - ETA: 0s - loss: 0.0813 - accuracy: 0.7203"
          ]
        },
        {
          "output_type": "stream",
          "name": "stderr",
          "text": [
            "WARNING:tensorflow:Early stopping conditioned on metric `val_loss` which is not available. Available metrics are: loss,accuracy\n"
          ]
        },
        {
          "output_type": "stream",
          "name": "stdout",
          "text": [
            "\b\b\b\b\b\b\b\b\b\b\b\b\b\b\b\b\b\b\b\b\b\b\b\b\b\b\b\b\b\b\b\b\b\b\b\b\b\b\b\b\b\b\b\b\b\b\b\b\b\b\b\b\b\b\b\b\b\b\b\b\b\b\b\b\b\b\b\b\b\b\b\b\b\b\b\b\b\b\b\b\b\b\r22/22 [==============================] - 5s 246ms/step - loss: 0.0813 - accuracy: 0.7203\n",
            "Epoch 17/200\n",
            "22/22 [==============================] - ETA: 0s - loss: 0.0807 - accuracy: 0.7195"
          ]
        },
        {
          "output_type": "stream",
          "name": "stderr",
          "text": [
            "WARNING:tensorflow:Early stopping conditioned on metric `val_loss` which is not available. Available metrics are: loss,accuracy\n"
          ]
        },
        {
          "output_type": "stream",
          "name": "stdout",
          "text": [
            "\b\b\b\b\b\b\b\b\b\b\b\b\b\b\b\b\b\b\b\b\b\b\b\b\b\b\b\b\b\b\b\b\b\b\b\b\b\b\b\b\b\b\b\b\b\b\b\b\b\b\b\b\b\b\b\b\b\b\b\b\b\b\b\b\b\b\b\b\b\b\b\b\b\b\b\b\b\b\b\b\b\b\r22/22 [==============================] - 5s 217ms/step - loss: 0.0807 - accuracy: 0.7195\n",
            "Epoch 18/200\n",
            "22/22 [==============================] - ETA: 0s - loss: 0.0796 - accuracy: 0.7209"
          ]
        },
        {
          "output_type": "stream",
          "name": "stderr",
          "text": [
            "WARNING:tensorflow:Early stopping conditioned on metric `val_loss` which is not available. Available metrics are: loss,accuracy\n"
          ]
        },
        {
          "output_type": "stream",
          "name": "stdout",
          "text": [
            "\b\b\b\b\b\b\b\b\b\b\b\b\b\b\b\b\b\b\b\b\b\b\b\b\b\b\b\b\b\b\b\b\b\b\b\b\b\b\b\b\b\b\b\b\b\b\b\b\b\b\b\b\b\b\b\b\b\b\b\b\b\b\b\b\b\b\b\b\b\b\b\b\b\b\b\b\b\b\b\b\b\b\r22/22 [==============================] - 6s 285ms/step - loss: 0.0796 - accuracy: 0.7209\n",
            "Epoch 19/200\n",
            "22/22 [==============================] - ETA: 0s - loss: 0.0790 - accuracy: 0.7210"
          ]
        },
        {
          "output_type": "stream",
          "name": "stderr",
          "text": [
            "WARNING:tensorflow:Early stopping conditioned on metric `val_loss` which is not available. Available metrics are: loss,accuracy\n"
          ]
        },
        {
          "output_type": "stream",
          "name": "stdout",
          "text": [
            "\b\b\b\b\b\b\b\b\b\b\b\b\b\b\b\b\b\b\b\b\b\b\b\b\b\b\b\b\b\b\b\b\b\b\b\b\b\b\b\b\b\b\b\b\b\b\b\b\b\b\b\b\b\b\b\b\b\b\b\b\b\b\b\b\b\b\b\b\b\b\b\b\b\b\b\b\b\b\b\b\b\b\r22/22 [==============================] - 5s 219ms/step - loss: 0.0790 - accuracy: 0.7210\n",
            "Epoch 20/200\n",
            "22/22 [==============================] - ETA: 0s - loss: 0.0788 - accuracy: 0.7217"
          ]
        },
        {
          "output_type": "stream",
          "name": "stderr",
          "text": [
            "WARNING:tensorflow:Early stopping conditioned on metric `val_loss` which is not available. Available metrics are: loss,accuracy\n"
          ]
        },
        {
          "output_type": "stream",
          "name": "stdout",
          "text": [
            "\b\b\b\b\b\b\b\b\b\b\b\b\b\b\b\b\b\b\b\b\b\b\b\b\b\b\b\b\b\b\b\b\b\b\b\b\b\b\b\b\b\b\b\b\b\b\b\b\b\b\b\b\b\b\b\b\b\b\b\b\b\b\b\b\b\b\b\b\b\b\b\b\b\b\b\b\b\b\b\b\b\b\r22/22 [==============================] - 5s 215ms/step - loss: 0.0788 - accuracy: 0.7217\n",
            "Epoch 21/200\n",
            "22/22 [==============================] - ETA: 0s - loss: 0.0779 - accuracy: 0.7231"
          ]
        },
        {
          "output_type": "stream",
          "name": "stderr",
          "text": [
            "WARNING:tensorflow:Early stopping conditioned on metric `val_loss` which is not available. Available metrics are: loss,accuracy\n"
          ]
        },
        {
          "output_type": "stream",
          "name": "stdout",
          "text": [
            "\b\b\b\b\b\b\b\b\b\b\b\b\b\b\b\b\b\b\b\b\b\b\b\b\b\b\b\b\b\b\b\b\b\b\b\b\b\b\b\b\b\b\b\b\b\b\b\b\b\b\b\b\b\b\b\b\b\b\b\b\b\b\b\b\b\b\b\b\b\b\b\b\b\b\b\b\b\b\b\b\b\b\r22/22 [==============================] - 6s 273ms/step - loss: 0.0779 - accuracy: 0.7231\n",
            "Epoch 22/200\n",
            "22/22 [==============================] - ETA: 0s - loss: 0.0777 - accuracy: 0.7239"
          ]
        },
        {
          "output_type": "stream",
          "name": "stderr",
          "text": [
            "WARNING:tensorflow:Early stopping conditioned on metric `val_loss` which is not available. Available metrics are: loss,accuracy\n"
          ]
        },
        {
          "output_type": "stream",
          "name": "stdout",
          "text": [
            "\b\b\b\b\b\b\b\b\b\b\b\b\b\b\b\b\b\b\b\b\b\b\b\b\b\b\b\b\b\b\b\b\b\b\b\b\b\b\b\b\b\b\b\b\b\b\b\b\b\b\b\b\b\b\b\b\b\b\b\b\b\b\b\b\b\b\b\b\b\b\b\b\b\b\b\b\b\b\b\b\b\b\r22/22 [==============================] - 5s 213ms/step - loss: 0.0777 - accuracy: 0.7239\n",
            "Epoch 23/200\n",
            "22/22 [==============================] - ETA: 0s - loss: 0.0770 - accuracy: 0.7250"
          ]
        },
        {
          "output_type": "stream",
          "name": "stderr",
          "text": [
            "WARNING:tensorflow:Early stopping conditioned on metric `val_loss` which is not available. Available metrics are: loss,accuracy\n"
          ]
        },
        {
          "output_type": "stream",
          "name": "stdout",
          "text": [
            "\b\b\b\b\b\b\b\b\b\b\b\b\b\b\b\b\b\b\b\b\b\b\b\b\b\b\b\b\b\b\b\b\b\b\b\b\b\b\b\b\b\b\b\b\b\b\b\b\b\b\b\b\b\b\b\b\b\b\b\b\b\b\b\b\b\b\b\b\b\b\b\b\b\b\b\b\b\b\b\b\b\b\r22/22 [==============================] - 6s 259ms/step - loss: 0.0770 - accuracy: 0.7250\n",
            "Epoch 24/200\n",
            "22/22 [==============================] - ETA: 0s - loss: 0.0762 - accuracy: 0.7256"
          ]
        },
        {
          "output_type": "stream",
          "name": "stderr",
          "text": [
            "WARNING:tensorflow:Early stopping conditioned on metric `val_loss` which is not available. Available metrics are: loss,accuracy\n"
          ]
        },
        {
          "output_type": "stream",
          "name": "stdout",
          "text": [
            "\b\b\b\b\b\b\b\b\b\b\b\b\b\b\b\b\b\b\b\b\b\b\b\b\b\b\b\b\b\b\b\b\b\b\b\b\b\b\b\b\b\b\b\b\b\b\b\b\b\b\b\b\b\b\b\b\b\b\b\b\b\b\b\b\b\b\b\b\b\b\b\b\b\b\b\b\b\b\b\b\b\b\r22/22 [==============================] - 5s 216ms/step - loss: 0.0762 - accuracy: 0.7256\n",
            "Epoch 25/200\n",
            "22/22 [==============================] - ETA: 0s - loss: 0.0758 - accuracy: 0.7268"
          ]
        },
        {
          "output_type": "stream",
          "name": "stderr",
          "text": [
            "WARNING:tensorflow:Early stopping conditioned on metric `val_loss` which is not available. Available metrics are: loss,accuracy\n"
          ]
        },
        {
          "output_type": "stream",
          "name": "stdout",
          "text": [
            "\b\b\b\b\b\b\b\b\b\b\b\b\b\b\b\b\b\b\b\b\b\b\b\b\b\b\b\b\b\b\b\b\b\b\b\b\b\b\b\b\b\b\b\b\b\b\b\b\b\b\b\b\b\b\b\b\b\b\b\b\b\b\b\b\b\b\b\b\b\b\b\b\b\b\b\b\b\b\b\b\b\b\r22/22 [==============================] - 5s 218ms/step - loss: 0.0758 - accuracy: 0.7268\n",
            "Epoch 26/200\n",
            "22/22 [==============================] - ETA: 0s - loss: 0.0756 - accuracy: 0.7279"
          ]
        },
        {
          "output_type": "stream",
          "name": "stderr",
          "text": [
            "WARNING:tensorflow:Early stopping conditioned on metric `val_loss` which is not available. Available metrics are: loss,accuracy\n"
          ]
        },
        {
          "output_type": "stream",
          "name": "stdout",
          "text": [
            "\b\b\b\b\b\b\b\b\b\b\b\b\b\b\b\b\b\b\b\b\b\b\b\b\b\b\b\b\b\b\b\b\b\b\b\b\b\b\b\b\b\b\b\b\b\b\b\b\b\b\b\b\b\b\b\b\b\b\b\b\b\b\b\b\b\b\b\b\b\b\b\b\b\b\b\b\b\b\b\b\b\b\r22/22 [==============================] - 6s 274ms/step - loss: 0.0756 - accuracy: 0.7279\n",
            "Epoch 27/200\n",
            "22/22 [==============================] - ETA: 0s - loss: 0.0745 - accuracy: 0.7285"
          ]
        },
        {
          "output_type": "stream",
          "name": "stderr",
          "text": [
            "WARNING:tensorflow:Early stopping conditioned on metric `val_loss` which is not available. Available metrics are: loss,accuracy\n"
          ]
        },
        {
          "output_type": "stream",
          "name": "stdout",
          "text": [
            "\b\b\b\b\b\b\b\b\b\b\b\b\b\b\b\b\b\b\b\b\b\b\b\b\b\b\b\b\b\b\b\b\b\b\b\b\b\b\b\b\b\b\b\b\b\b\b\b\b\b\b\b\b\b\b\b\b\b\b\b\b\b\b\b\b\b\b\b\b\b\b\b\b\b\b\b\b\b\b\b\b\b\r22/22 [==============================] - 5s 215ms/step - loss: 0.0745 - accuracy: 0.7285\n",
            "Epoch 28/200\n",
            "22/22 [==============================] - ETA: 0s - loss: 0.0750 - accuracy: 0.7281"
          ]
        },
        {
          "output_type": "stream",
          "name": "stderr",
          "text": [
            "WARNING:tensorflow:Early stopping conditioned on metric `val_loss` which is not available. Available metrics are: loss,accuracy\n"
          ]
        },
        {
          "output_type": "stream",
          "name": "stdout",
          "text": [
            "\b\b\b\b\b\b\b\b\b\b\b\b\b\b\b\b\b\b\b\b\b\b\b\b\b\b\b\b\b\b\b\b\b\b\b\b\b\b\b\b\b\b\b\b\b\b\b\b\b\b\b\b\b\b\b\b\b\b\b\b\b\b\b\b\b\b\b\b\b\b\b\b\b\b\b\b\b\b\b\b\b\b\r22/22 [==============================] - 5s 240ms/step - loss: 0.0750 - accuracy: 0.7281\n",
            "Epoch 29/200\n",
            "22/22 [==============================] - ETA: 0s - loss: 0.0746 - accuracy: 0.7288"
          ]
        },
        {
          "output_type": "stream",
          "name": "stderr",
          "text": [
            "WARNING:tensorflow:Early stopping conditioned on metric `val_loss` which is not available. Available metrics are: loss,accuracy\n"
          ]
        },
        {
          "output_type": "stream",
          "name": "stdout",
          "text": [
            "\b\b\b\b\b\b\b\b\b\b\b\b\b\b\b\b\b\b\b\b\b\b\b\b\b\b\b\b\b\b\b\b\b\b\b\b\b\b\b\b\b\b\b\b\b\b\b\b\b\b\b\b\b\b\b\b\b\b\b\b\b\b\b\b\b\b\b\b\b\b\b\b\b\b\b\b\b\b\b\b\b\b\r22/22 [==============================] - 5s 241ms/step - loss: 0.0746 - accuracy: 0.7288\n",
            "Epoch 30/200\n",
            "22/22 [==============================] - ETA: 0s - loss: 0.0739 - accuracy: 0.7288"
          ]
        },
        {
          "output_type": "stream",
          "name": "stderr",
          "text": [
            "WARNING:tensorflow:Early stopping conditioned on metric `val_loss` which is not available. Available metrics are: loss,accuracy\n"
          ]
        },
        {
          "output_type": "stream",
          "name": "stdout",
          "text": [
            "\b\b\b\b\b\b\b\b\b\b\b\b\b\b\b\b\b\b\b\b\b\b\b\b\b\b\b\b\b\b\b\b\b\b\b\b\b\b\b\b\b\b\b\b\b\b\b\b\b\b\b\b\b\b\b\b\b\b\b\b\b\b\b\b\b\b\b\b\b\b\b\b\b\b\b\b\b\b\b\b\b\b\r22/22 [==============================] - 5s 214ms/step - loss: 0.0739 - accuracy: 0.7288\n",
            "Epoch 31/200\n",
            "22/22 [==============================] - ETA: 0s - loss: 0.0742 - accuracy: 0.7292"
          ]
        },
        {
          "output_type": "stream",
          "name": "stderr",
          "text": [
            "WARNING:tensorflow:Early stopping conditioned on metric `val_loss` which is not available. Available metrics are: loss,accuracy\n"
          ]
        },
        {
          "output_type": "stream",
          "name": "stdout",
          "text": [
            "\b\b\b\b\b\b\b\b\b\b\b\b\b\b\b\b\b\b\b\b\b\b\b\b\b\b\b\b\b\b\b\b\b\b\b\b\b\b\b\b\b\b\b\b\b\b\b\b\b\b\b\b\b\b\b\b\b\b\b\b\b\b\b\b\b\b\b\b\b\b\b\b\b\b\b\b\b\b\b\b\b\b\r22/22 [==============================] - 6s 271ms/step - loss: 0.0742 - accuracy: 0.7292\n",
            "Epoch 32/200\n",
            "22/22 [==============================] - ETA: 0s - loss: 0.0730 - accuracy: 0.7300"
          ]
        },
        {
          "output_type": "stream",
          "name": "stderr",
          "text": [
            "WARNING:tensorflow:Early stopping conditioned on metric `val_loss` which is not available. Available metrics are: loss,accuracy\n"
          ]
        },
        {
          "output_type": "stream",
          "name": "stdout",
          "text": [
            "\b\b\b\b\b\b\b\b\b\b\b\b\b\b\b\b\b\b\b\b\b\b\b\b\b\b\b\b\b\b\b\b\b\b\b\b\b\b\b\b\b\b\b\b\b\b\b\b\b\b\b\b\b\b\b\b\b\b\b\b\b\b\b\b\b\b\b\b\b\b\b\b\b\b\b\b\b\b\b\b\b\b\r22/22 [==============================] - 5s 211ms/step - loss: 0.0730 - accuracy: 0.7300\n",
            "Epoch 33/200\n",
            "22/22 [==============================] - ETA: 0s - loss: 0.0734 - accuracy: 0.7298"
          ]
        },
        {
          "output_type": "stream",
          "name": "stderr",
          "text": [
            "WARNING:tensorflow:Early stopping conditioned on metric `val_loss` which is not available. Available metrics are: loss,accuracy\n"
          ]
        },
        {
          "output_type": "stream",
          "name": "stdout",
          "text": [
            "\b\b\b\b\b\b\b\b\b\b\b\b\b\b\b\b\b\b\b\b\b\b\b\b\b\b\b\b\b\b\b\b\b\b\b\b\b\b\b\b\b\b\b\b\b\b\b\b\b\b\b\b\b\b\b\b\b\b\b\b\b\b\b\b\b\b\b\b\b\b\b\b\b\b\b\b\b\b\b\b\b\b\r22/22 [==============================] - 5s 213ms/step - loss: 0.0734 - accuracy: 0.7298\n",
            "Epoch 34/200\n",
            "22/22 [==============================] - ETA: 0s - loss: 0.0731 - accuracy: 0.7299"
          ]
        },
        {
          "output_type": "stream",
          "name": "stderr",
          "text": [
            "WARNING:tensorflow:Early stopping conditioned on metric `val_loss` which is not available. Available metrics are: loss,accuracy\n"
          ]
        },
        {
          "output_type": "stream",
          "name": "stdout",
          "text": [
            "\b\b\b\b\b\b\b\b\b\b\b\b\b\b\b\b\b\b\b\b\b\b\b\b\b\b\b\b\b\b\b\b\b\b\b\b\b\b\b\b\b\b\b\b\b\b\b\b\b\b\b\b\b\b\b\b\b\b\b\b\b\b\b\b\b\b\b\b\b\b\b\b\b\b\b\b\b\b\b\b\b\b\r22/22 [==============================] - 6s 276ms/step - loss: 0.0731 - accuracy: 0.7299\n",
            "Epoch 35/200\n",
            "22/22 [==============================] - ETA: 0s - loss: 0.0735 - accuracy: 0.7299"
          ]
        },
        {
          "output_type": "stream",
          "name": "stderr",
          "text": [
            "WARNING:tensorflow:Early stopping conditioned on metric `val_loss` which is not available. Available metrics are: loss,accuracy\n"
          ]
        },
        {
          "output_type": "stream",
          "name": "stdout",
          "text": [
            "\b\b\b\b\b\b\b\b\b\b\b\b\b\b\b\b\b\b\b\b\b\b\b\b\b\b\b\b\b\b\b\b\b\b\b\b\b\b\b\b\b\b\b\b\b\b\b\b\b\b\b\b\b\b\b\b\b\b\b\b\b\b\b\b\b\b\b\b\b\b\b\b\b\b\b\b\b\b\b\b\b\b\r22/22 [==============================] - 5s 226ms/step - loss: 0.0735 - accuracy: 0.7299\n",
            "Epoch 36/200\n",
            "22/22 [==============================] - ETA: 0s - loss: 0.0727 - accuracy: 0.7305"
          ]
        },
        {
          "output_type": "stream",
          "name": "stderr",
          "text": [
            "WARNING:tensorflow:Early stopping conditioned on metric `val_loss` which is not available. Available metrics are: loss,accuracy\n"
          ]
        },
        {
          "output_type": "stream",
          "name": "stdout",
          "text": [
            "\b\b\b\b\b\b\b\b\b\b\b\b\b\b\b\b\b\b\b\b\b\b\b\b\b\b\b\b\b\b\b\b\b\b\b\b\b\b\b\b\b\b\b\b\b\b\b\b\b\b\b\b\b\b\b\b\b\b\b\b\b\b\b\b\b\b\b\b\b\b\b\b\b\b\b\b\b\b\b\b\b\b\r22/22 [==============================] - 6s 272ms/step - loss: 0.0727 - accuracy: 0.7305\n",
            "Epoch 37/200\n",
            "22/22 [==============================] - ETA: 0s - loss: 0.0724 - accuracy: 0.7306"
          ]
        },
        {
          "output_type": "stream",
          "name": "stderr",
          "text": [
            "WARNING:tensorflow:Early stopping conditioned on metric `val_loss` which is not available. Available metrics are: loss,accuracy\n"
          ]
        },
        {
          "output_type": "stream",
          "name": "stdout",
          "text": [
            "\b\b\b\b\b\b\b\b\b\b\b\b\b\b\b\b\b\b\b\b\b\b\b\b\b\b\b\b\b\b\b\b\b\b\b\b\b\b\b\b\b\b\b\b\b\b\b\b\b\b\b\b\b\b\b\b\b\b\b\b\b\b\b\b\b\b\b\b\b\b\b\b\b\b\b\b\b\b\b\b\b\b\r22/22 [==============================] - 5s 213ms/step - loss: 0.0724 - accuracy: 0.7306\n",
            "Epoch 38/200\n",
            "22/22 [==============================] - ETA: 0s - loss: 0.0725 - accuracy: 0.7307"
          ]
        },
        {
          "output_type": "stream",
          "name": "stderr",
          "text": [
            "WARNING:tensorflow:Early stopping conditioned on metric `val_loss` which is not available. Available metrics are: loss,accuracy\n"
          ]
        },
        {
          "output_type": "stream",
          "name": "stdout",
          "text": [
            "\b\b\b\b\b\b\b\b\b\b\b\b\b\b\b\b\b\b\b\b\b\b\b\b\b\b\b\b\b\b\b\b\b\b\b\b\b\b\b\b\b\b\b\b\b\b\b\b\b\b\b\b\b\b\b\b\b\b\b\b\b\b\b\b\b\b\b\b\b\b\b\b\b\b\b\b\b\b\b\b\b\b\r22/22 [==============================] - 5s 212ms/step - loss: 0.0725 - accuracy: 0.7307\n",
            "Epoch 39/200\n",
            "22/22 [==============================] - ETA: 0s - loss: 0.0722 - accuracy: 0.7306"
          ]
        },
        {
          "output_type": "stream",
          "name": "stderr",
          "text": [
            "WARNING:tensorflow:Early stopping conditioned on metric `val_loss` which is not available. Available metrics are: loss,accuracy\n"
          ]
        },
        {
          "output_type": "stream",
          "name": "stdout",
          "text": [
            "\b\b\b\b\b\b\b\b\b\b\b\b\b\b\b\b\b\b\b\b\b\b\b\b\b\b\b\b\b\b\b\b\b\b\b\b\b\b\b\b\b\b\b\b\b\b\b\b\b\b\b\b\b\b\b\b\b\b\b\b\b\b\b\b\b\b\b\b\b\b\b\b\b\b\b\b\b\b\b\b\b\b\r22/22 [==============================] - 6s 276ms/step - loss: 0.0722 - accuracy: 0.7306\n",
            "Epoch 40/200\n",
            "22/22 [==============================] - ETA: 0s - loss: 0.0719 - accuracy: 0.7310"
          ]
        },
        {
          "output_type": "stream",
          "name": "stderr",
          "text": [
            "WARNING:tensorflow:Early stopping conditioned on metric `val_loss` which is not available. Available metrics are: loss,accuracy\n"
          ]
        },
        {
          "output_type": "stream",
          "name": "stdout",
          "text": [
            "\b\b\b\b\b\b\b\b\b\b\b\b\b\b\b\b\b\b\b\b\b\b\b\b\b\b\b\b\b\b\b\b\b\b\b\b\b\b\b\b\b\b\b\b\b\b\b\b\b\b\b\b\b\b\b\b\b\b\b\b\b\b\b\b\b\b\b\b\b\b\b\b\b\b\b\b\b\b\b\b\b\b\r22/22 [==============================] - 5s 215ms/step - loss: 0.0719 - accuracy: 0.7310\n",
            "Epoch 41/200\n",
            "22/22 [==============================] - ETA: 0s - loss: 0.0727 - accuracy: 0.7304"
          ]
        },
        {
          "output_type": "stream",
          "name": "stderr",
          "text": [
            "WARNING:tensorflow:Early stopping conditioned on metric `val_loss` which is not available. Available metrics are: loss,accuracy\n"
          ]
        },
        {
          "output_type": "stream",
          "name": "stdout",
          "text": [
            "\b\b\b\b\b\b\b\b\b\b\b\b\b\b\b\b\b\b\b\b\b\b\b\b\b\b\b\b\b\b\b\b\b\b\b\b\b\b\b\b\b\b\b\b\b\b\b\b\b\b\b\b\b\b\b\b\b\b\b\b\b\b\b\b\b\b\b\b\b\b\b\b\b\b\b\b\b\b\b\b\b\b\r22/22 [==============================] - 5s 246ms/step - loss: 0.0727 - accuracy: 0.7304\n",
            "Epoch 42/200\n",
            "22/22 [==============================] - ETA: 0s - loss: 0.0724 - accuracy: 0.7306"
          ]
        },
        {
          "output_type": "stream",
          "name": "stderr",
          "text": [
            "WARNING:tensorflow:Early stopping conditioned on metric `val_loss` which is not available. Available metrics are: loss,accuracy\n"
          ]
        },
        {
          "output_type": "stream",
          "name": "stdout",
          "text": [
            "\b\b\b\b\b\b\b\b\b\b\b\b\b\b\b\b\b\b\b\b\b\b\b\b\b\b\b\b\b\b\b\b\b\b\b\b\b\b\b\b\b\b\b\b\b\b\b\b\b\b\b\b\b\b\b\b\b\b\b\b\b\b\b\b\b\b\b\b\b\b\b\b\b\b\b\b\b\b\b\b\b\b\r22/22 [==============================] - 5s 240ms/step - loss: 0.0724 - accuracy: 0.7306\n",
            "Epoch 43/200\n",
            "22/22 [==============================] - ETA: 0s - loss: 0.0719 - accuracy: 0.7311"
          ]
        },
        {
          "output_type": "stream",
          "name": "stderr",
          "text": [
            "WARNING:tensorflow:Early stopping conditioned on metric `val_loss` which is not available. Available metrics are: loss,accuracy\n"
          ]
        },
        {
          "output_type": "stream",
          "name": "stdout",
          "text": [
            "\b\b\b\b\b\b\b\b\b\b\b\b\b\b\b\b\b\b\b\b\b\b\b\b\b\b\b\b\b\b\b\b\b\b\b\b\b\b\b\b\b\b\b\b\b\b\b\b\b\b\b\b\b\b\b\b\b\b\b\b\b\b\b\b\b\b\b\b\b\b\b\b\b\b\b\b\b\b\b\b\b\b\r22/22 [==============================] - 5s 218ms/step - loss: 0.0719 - accuracy: 0.7311\n",
            "Epoch 44/200\n",
            "22/22 [==============================] - ETA: 0s - loss: 0.0716 - accuracy: 0.7313"
          ]
        },
        {
          "output_type": "stream",
          "name": "stderr",
          "text": [
            "WARNING:tensorflow:Early stopping conditioned on metric `val_loss` which is not available. Available metrics are: loss,accuracy\n"
          ]
        },
        {
          "output_type": "stream",
          "name": "stdout",
          "text": [
            "\b\b\b\b\b\b\b\b\b\b\b\b\b\b\b\b\b\b\b\b\b\b\b\b\b\b\b\b\b\b\b\b\b\b\b\b\b\b\b\b\b\b\b\b\b\b\b\b\b\b\b\b\b\b\b\b\b\b\b\b\b\b\b\b\b\b\b\b\b\b\b\b\b\b\b\b\b\b\b\b\b\b\r22/22 [==============================] - 6s 277ms/step - loss: 0.0716 - accuracy: 0.7313\n",
            "Epoch 45/200\n",
            "22/22 [==============================] - ETA: 0s - loss: 0.0720 - accuracy: 0.7310"
          ]
        },
        {
          "output_type": "stream",
          "name": "stderr",
          "text": [
            "WARNING:tensorflow:Early stopping conditioned on metric `val_loss` which is not available. Available metrics are: loss,accuracy\n"
          ]
        },
        {
          "output_type": "stream",
          "name": "stdout",
          "text": [
            "\b\b\b\b\b\b\b\b\b\b\b\b\b\b\b\b\b\b\b\b\b\b\b\b\b\b\b\b\b\b\b\b\b\b\b\b\b\b\b\b\b\b\b\b\b\b\b\b\b\b\b\b\b\b\b\b\b\b\b\b\b\b\b\b\b\b\b\b\b\b\b\b\b\b\b\b\b\b\b\b\b\b\r22/22 [==============================] - 5s 213ms/step - loss: 0.0720 - accuracy: 0.7310\n",
            "Epoch 46/200\n",
            "22/22 [==============================] - ETA: 0s - loss: 0.0717 - accuracy: 0.7314"
          ]
        },
        {
          "output_type": "stream",
          "name": "stderr",
          "text": [
            "WARNING:tensorflow:Early stopping conditioned on metric `val_loss` which is not available. Available metrics are: loss,accuracy\n"
          ]
        },
        {
          "output_type": "stream",
          "name": "stdout",
          "text": [
            "\b\b\b\b\b\b\b\b\b\b\b\b\b\b\b\b\b\b\b\b\b\b\b\b\b\b\b\b\b\b\b\b\b\b\b\b\b\b\b\b\b\b\b\b\b\b\b\b\b\b\b\b\b\b\b\b\b\b\b\b\b\b\b\b\b\b\b\b\b\b\b\b\b\b\b\b\b\b\b\b\b\b\r22/22 [==============================] - 5s 230ms/step - loss: 0.0717 - accuracy: 0.7314\n",
            "Epoch 47/200\n",
            "22/22 [==============================] - ETA: 0s - loss: 0.0717 - accuracy: 0.7313"
          ]
        },
        {
          "output_type": "stream",
          "name": "stderr",
          "text": [
            "WARNING:tensorflow:Early stopping conditioned on metric `val_loss` which is not available. Available metrics are: loss,accuracy\n"
          ]
        },
        {
          "output_type": "stream",
          "name": "stdout",
          "text": [
            "\b\b\b\b\b\b\b\b\b\b\b\b\b\b\b\b\b\b\b\b\b\b\b\b\b\b\b\b\b\b\b\b\b\b\b\b\b\b\b\b\b\b\b\b\b\b\b\b\b\b\b\b\b\b\b\b\b\b\b\b\b\b\b\b\b\b\b\b\b\b\b\b\b\b\b\b\b\b\b\b\b\b\r22/22 [==============================] - 6s 258ms/step - loss: 0.0717 - accuracy: 0.7313\n",
            "Epoch 48/200\n",
            "22/22 [==============================] - ETA: 0s - loss: 0.0716 - accuracy: 0.7313"
          ]
        },
        {
          "output_type": "stream",
          "name": "stderr",
          "text": [
            "WARNING:tensorflow:Early stopping conditioned on metric `val_loss` which is not available. Available metrics are: loss,accuracy\n"
          ]
        },
        {
          "output_type": "stream",
          "name": "stdout",
          "text": [
            "\b\b\b\b\b\b\b\b\b\b\b\b\b\b\b\b\b\b\b\b\b\b\b\b\b\b\b\b\b\b\b\b\b\b\b\b\b\b\b\b\b\b\b\b\b\b\b\b\b\b\b\b\b\b\b\b\b\b\b\b\b\b\b\b\b\b\b\b\b\b\b\b\b\b\b\b\b\b\b\b\b\b\r22/22 [==============================] - 5s 219ms/step - loss: 0.0716 - accuracy: 0.7313\n",
            "Epoch 49/200\n",
            "22/22 [==============================] - ETA: 0s - loss: 0.0716 - accuracy: 0.7314"
          ]
        },
        {
          "output_type": "stream",
          "name": "stderr",
          "text": [
            "WARNING:tensorflow:Early stopping conditioned on metric `val_loss` which is not available. Available metrics are: loss,accuracy\n"
          ]
        },
        {
          "output_type": "stream",
          "name": "stdout",
          "text": [
            "\b\b\b\b\b\b\b\b\b\b\b\b\b\b\b\b\b\b\b\b\b\b\b\b\b\b\b\b\b\b\b\b\b\b\b\b\b\b\b\b\b\b\b\b\b\b\b\b\b\b\b\b\b\b\b\b\b\b\b\b\b\b\b\b\b\b\b\b\b\b\b\b\b\b\b\b\b\b\b\b\b\b\r22/22 [==============================] - 6s 278ms/step - loss: 0.0716 - accuracy: 0.7314\n",
            "Epoch 50/200\n",
            "22/22 [==============================] - ETA: 0s - loss: 0.0716 - accuracy: 0.7314"
          ]
        },
        {
          "output_type": "stream",
          "name": "stderr",
          "text": [
            "WARNING:tensorflow:Early stopping conditioned on metric `val_loss` which is not available. Available metrics are: loss,accuracy\n"
          ]
        },
        {
          "output_type": "stream",
          "name": "stdout",
          "text": [
            "\b\b\b\b\b\b\b\b\b\b\b\b\b\b\b\b\b\b\b\b\b\b\b\b\b\b\b\b\b\b\b\b\b\b\b\b\b\b\b\b\b\b\b\b\b\b\b\b\b\b\b\b\b\b\b\b\b\b\b\b\b\b\b\b\b\b\b\b\b\b\b\b\b\b\b\b\b\b\b\b\b\b\r22/22 [==============================] - 5s 213ms/step - loss: 0.0716 - accuracy: 0.7314\n",
            "Epoch 51/200\n",
            "22/22 [==============================] - ETA: 0s - loss: 0.0716 - accuracy: 0.7317"
          ]
        },
        {
          "output_type": "stream",
          "name": "stderr",
          "text": [
            "WARNING:tensorflow:Early stopping conditioned on metric `val_loss` which is not available. Available metrics are: loss,accuracy\n"
          ]
        },
        {
          "output_type": "stream",
          "name": "stdout",
          "text": [
            "\b\b\b\b\b\b\b\b\b\b\b\b\b\b\b\b\b\b\b\b\b\b\b\b\b\b\b\b\b\b\b\b\b\b\b\b\b\b\b\b\b\b\b\b\b\b\b\b\b\b\b\b\b\b\b\b\b\b\b\b\b\b\b\b\b\b\b\b\b\b\b\b\b\b\b\b\b\b\b\b\b\b\r22/22 [==============================] - 5s 215ms/step - loss: 0.0716 - accuracy: 0.7317\n",
            "Epoch 52/200\n",
            "22/22 [==============================] - ETA: 0s - loss: 0.0715 - accuracy: 0.7317"
          ]
        },
        {
          "output_type": "stream",
          "name": "stderr",
          "text": [
            "WARNING:tensorflow:Early stopping conditioned on metric `val_loss` which is not available. Available metrics are: loss,accuracy\n"
          ]
        },
        {
          "output_type": "stream",
          "name": "stdout",
          "text": [
            "\b\b\b\b\b\b\b\b\b\b\b\b\b\b\b\b\b\b\b\b\b\b\b\b\b\b\b\b\b\b\b\b\b\b\b\b\b\b\b\b\b\b\b\b\b\b\b\b\b\b\b\b\b\b\b\b\b\b\b\b\b\b\b\b\b\b\b\b\b\b\b\b\b\b\b\b\b\b\b\b\b\b\r22/22 [==============================] - 6s 271ms/step - loss: 0.0715 - accuracy: 0.7317\n",
            "Epoch 53/200\n",
            "22/22 [==============================] - ETA: 0s - loss: 0.0715 - accuracy: 0.7316"
          ]
        },
        {
          "output_type": "stream",
          "name": "stderr",
          "text": [
            "WARNING:tensorflow:Early stopping conditioned on metric `val_loss` which is not available. Available metrics are: loss,accuracy\n"
          ]
        },
        {
          "output_type": "stream",
          "name": "stdout",
          "text": [
            "\b\b\b\b\b\b\b\b\b\b\b\b\b\b\b\b\b\b\b\b\b\b\b\b\b\b\b\b\b\b\b\b\b\b\b\b\b\b\b\b\b\b\b\b\b\b\b\b\b\b\b\b\b\b\b\b\b\b\b\b\b\b\b\b\b\b\b\b\b\b\b\b\b\b\b\b\b\b\b\b\b\b\r22/22 [==============================] - 5s 217ms/step - loss: 0.0715 - accuracy: 0.7316\n",
            "Epoch 54/200\n",
            "22/22 [==============================] - ETA: 0s - loss: 0.0715 - accuracy: 0.7315"
          ]
        },
        {
          "output_type": "stream",
          "name": "stderr",
          "text": [
            "WARNING:tensorflow:Early stopping conditioned on metric `val_loss` which is not available. Available metrics are: loss,accuracy\n"
          ]
        },
        {
          "output_type": "stream",
          "name": "stdout",
          "text": [
            "\b\b\b\b\b\b\b\b\b\b\b\b\b\b\b\b\b\b\b\b\b\b\b\b\b\b\b\b\b\b\b\b\b\b\b\b\b\b\b\b\b\b\b\b\b\b\b\b\b\b\b\b\b\b\b\b\b\b\b\b\b\b\b\b\b\b\b\b\b\b\b\b\b\b\b\b\b\b\b\b\b\b\r22/22 [==============================] - 6s 266ms/step - loss: 0.0715 - accuracy: 0.7315\n",
            "Epoch 55/200\n",
            "22/22 [==============================] - ETA: 0s - loss: 0.0712 - accuracy: 0.7317"
          ]
        },
        {
          "output_type": "stream",
          "name": "stderr",
          "text": [
            "WARNING:tensorflow:Early stopping conditioned on metric `val_loss` which is not available. Available metrics are: loss,accuracy\n"
          ]
        },
        {
          "output_type": "stream",
          "name": "stdout",
          "text": [
            "\b\b\b\b\b\b\b\b\b\b\b\b\b\b\b\b\b\b\b\b\b\b\b\b\b\b\b\b\b\b\b\b\b\b\b\b\b\b\b\b\b\b\b\b\b\b\b\b\b\b\b\b\b\b\b\b\b\b\b\b\b\b\b\b\b\b\b\b\b\b\b\b\b\b\b\b\b\b\b\b\b\b\r22/22 [==============================] - 5s 240ms/step - loss: 0.0712 - accuracy: 0.7317\n",
            "Epoch 56/200\n",
            "22/22 [==============================] - ETA: 0s - loss: 0.0712 - accuracy: 0.7318"
          ]
        },
        {
          "output_type": "stream",
          "name": "stderr",
          "text": [
            "WARNING:tensorflow:Early stopping conditioned on metric `val_loss` which is not available. Available metrics are: loss,accuracy\n"
          ]
        },
        {
          "output_type": "stream",
          "name": "stdout",
          "text": [
            "\b\b\b\b\b\b\b\b\b\b\b\b\b\b\b\b\b\b\b\b\b\b\b\b\b\b\b\b\b\b\b\b\b\b\b\b\b\b\b\b\b\b\b\b\b\b\b\b\b\b\b\b\b\b\b\b\b\b\b\b\b\b\b\b\b\b\b\b\b\b\b\b\b\b\b\b\b\b\b\b\b\b\r22/22 [==============================] - 5s 221ms/step - loss: 0.0712 - accuracy: 0.7318\n",
            "Epoch 57/200\n",
            "22/22 [==============================] - ETA: 0s - loss: 0.0712 - accuracy: 0.7317"
          ]
        },
        {
          "output_type": "stream",
          "name": "stderr",
          "text": [
            "WARNING:tensorflow:Early stopping conditioned on metric `val_loss` which is not available. Available metrics are: loss,accuracy\n"
          ]
        },
        {
          "output_type": "stream",
          "name": "stdout",
          "text": [
            "\b\b\b\b\b\b\b\b\b\b\b\b\b\b\b\b\b\b\b\b\b\b\b\b\b\b\b\b\b\b\b\b\b\b\b\b\b\b\b\b\b\b\b\b\b\b\b\b\b\b\b\b\b\b\b\b\b\b\b\b\b\b\b\b\b\b\b\b\b\b\b\b\b\b\b\b\b\b\b\b\b\b\r22/22 [==============================] - 6s 281ms/step - loss: 0.0712 - accuracy: 0.7317\n",
            "Epoch 58/200\n",
            "22/22 [==============================] - ETA: 0s - loss: 0.0709 - accuracy: 0.7318"
          ]
        },
        {
          "output_type": "stream",
          "name": "stderr",
          "text": [
            "WARNING:tensorflow:Early stopping conditioned on metric `val_loss` which is not available. Available metrics are: loss,accuracy\n"
          ]
        },
        {
          "output_type": "stream",
          "name": "stdout",
          "text": [
            "\b\b\b\b\b\b\b\b\b\b\b\b\b\b\b\b\b\b\b\b\b\b\b\b\b\b\b\b\b\b\b\b\b\b\b\b\b\b\b\b\b\b\b\b\b\b\b\b\b\b\b\b\b\b\b\b\b\b\b\b\b\b\b\b\b\b\b\b\b\b\b\b\b\b\b\b\b\b\b\b\b\b\r22/22 [==============================] - 5s 219ms/step - loss: 0.0709 - accuracy: 0.7318\n",
            "Epoch 59/200\n",
            "22/22 [==============================] - ETA: 0s - loss: 0.0709 - accuracy: 0.7320"
          ]
        },
        {
          "output_type": "stream",
          "name": "stderr",
          "text": [
            "WARNING:tensorflow:Early stopping conditioned on metric `val_loss` which is not available. Available metrics are: loss,accuracy\n"
          ]
        },
        {
          "output_type": "stream",
          "name": "stdout",
          "text": [
            "\b\b\b\b\b\b\b\b\b\b\b\b\b\b\b\b\b\b\b\b\b\b\b\b\b\b\b\b\b\b\b\b\b\b\b\b\b\b\b\b\b\b\b\b\b\b\b\b\b\b\b\b\b\b\b\b\b\b\b\b\b\b\b\b\b\b\b\b\b\b\b\b\b\b\b\b\b\b\b\b\b\b\r22/22 [==============================] - 5s 245ms/step - loss: 0.0709 - accuracy: 0.7320\n",
            "Epoch 60/200\n",
            "22/22 [==============================] - ETA: 0s - loss: 0.0713 - accuracy: 0.7319"
          ]
        },
        {
          "output_type": "stream",
          "name": "stderr",
          "text": [
            "WARNING:tensorflow:Early stopping conditioned on metric `val_loss` which is not available. Available metrics are: loss,accuracy\n"
          ]
        },
        {
          "output_type": "stream",
          "name": "stdout",
          "text": [
            "\b\b\b\b\b\b\b\b\b\b\b\b\b\b\b\b\b\b\b\b\b\b\b\b\b\b\b\b\b\b\b\b\b\b\b\b\b\b\b\b\b\b\b\b\b\b\b\b\b\b\b\b\b\b\b\b\b\b\b\b\b\b\b\b\b\b\b\b\b\b\b\b\b\b\b\b\b\b\b\b\b\b\r22/22 [==============================] - 5s 240ms/step - loss: 0.0713 - accuracy: 0.7319\n",
            "Epoch 61/200\n",
            "22/22 [==============================] - ETA: 0s - loss: 0.0712 - accuracy: 0.7315"
          ]
        },
        {
          "output_type": "stream",
          "name": "stderr",
          "text": [
            "WARNING:tensorflow:Early stopping conditioned on metric `val_loss` which is not available. Available metrics are: loss,accuracy\n"
          ]
        },
        {
          "output_type": "stream",
          "name": "stdout",
          "text": [
            "\b\b\b\b\b\b\b\b\b\b\b\b\b\b\b\b\b\b\b\b\b\b\b\b\b\b\b\b\b\b\b\b\b\b\b\b\b\b\b\b\b\b\b\b\b\b\b\b\b\b\b\b\b\b\b\b\b\b\b\b\b\b\b\b\b\b\b\b\b\b\b\b\b\b\b\b\b\b\b\b\b\b\r22/22 [==============================] - 5s 211ms/step - loss: 0.0712 - accuracy: 0.7315\n",
            "Epoch 62/200\n",
            "22/22 [==============================] - ETA: 0s - loss: 0.0714 - accuracy: 0.7315"
          ]
        },
        {
          "output_type": "stream",
          "name": "stderr",
          "text": [
            "WARNING:tensorflow:Early stopping conditioned on metric `val_loss` which is not available. Available metrics are: loss,accuracy\n"
          ]
        },
        {
          "output_type": "stream",
          "name": "stdout",
          "text": [
            "\b\b\b\b\b\b\b\b\b\b\b\b\b\b\b\b\b\b\b\b\b\b\b\b\b\b\b\b\b\b\b\b\b\b\b\b\b\b\b\b\b\b\b\b\b\b\b\b\b\b\b\b\b\b\b\b\b\b\b\b\b\b\b\b\b\b\b\b\b\b\b\b\b\b\b\b\b\b\b\b\b\b\r22/22 [==============================] - 6s 271ms/step - loss: 0.0714 - accuracy: 0.7315\n",
            "Epoch 63/200\n",
            "22/22 [==============================] - ETA: 0s - loss: 0.0713 - accuracy: 0.7317"
          ]
        },
        {
          "output_type": "stream",
          "name": "stderr",
          "text": [
            "WARNING:tensorflow:Early stopping conditioned on metric `val_loss` which is not available. Available metrics are: loss,accuracy\n"
          ]
        },
        {
          "output_type": "stream",
          "name": "stdout",
          "text": [
            "\b\b\b\b\b\b\b\b\b\b\b\b\b\b\b\b\b\b\b\b\b\b\b\b\b\b\b\b\b\b\b\b\b\b\b\b\b\b\b\b\b\b\b\b\b\b\b\b\b\b\b\b\b\b\b\b\b\b\b\b\b\b\b\b\b\b\b\b\b\b\b\b\b\b\b\b\b\b\b\b\b\b\r22/22 [==============================] - 5s 213ms/step - loss: 0.0713 - accuracy: 0.7317\n",
            "Epoch 64/200\n",
            "22/22 [==============================] - ETA: 0s - loss: 0.0708 - accuracy: 0.7320"
          ]
        },
        {
          "output_type": "stream",
          "name": "stderr",
          "text": [
            "WARNING:tensorflow:Early stopping conditioned on metric `val_loss` which is not available. Available metrics are: loss,accuracy\n"
          ]
        },
        {
          "output_type": "stream",
          "name": "stdout",
          "text": [
            "\b\b\b\b\b\b\b\b\b\b\b\b\b\b\b\b\b\b\b\b\b\b\b\b\b\b\b\b\b\b\b\b\b\b\b\b\b\b\b\b\b\b\b\b\b\b\b\b\b\b\b\b\b\b\b\b\b\b\b\b\b\b\b\b\b\b\b\b\b\b\b\b\b\b\b\b\b\b\b\b\b\b\r22/22 [==============================] - 5s 212ms/step - loss: 0.0708 - accuracy: 0.7320\n",
            "Epoch 65/200\n",
            "22/22 [==============================] - ETA: 0s - loss: 0.0707 - accuracy: 0.7322"
          ]
        },
        {
          "output_type": "stream",
          "name": "stderr",
          "text": [
            "WARNING:tensorflow:Early stopping conditioned on metric `val_loss` which is not available. Available metrics are: loss,accuracy\n"
          ]
        },
        {
          "output_type": "stream",
          "name": "stdout",
          "text": [
            "\b\b\b\b\b\b\b\b\b\b\b\b\b\b\b\b\b\b\b\b\b\b\b\b\b\b\b\b\b\b\b\b\b\b\b\b\b\b\b\b\b\b\b\b\b\b\b\b\b\b\b\b\b\b\b\b\b\b\b\b\b\b\b\b\b\b\b\b\b\b\b\b\b\b\b\b\b\b\b\b\b\b\r22/22 [==============================] - 6s 270ms/step - loss: 0.0707 - accuracy: 0.7322\n",
            "Epoch 66/200\n",
            "22/22 [==============================] - ETA: 0s - loss: 0.0710 - accuracy: 0.7321"
          ]
        },
        {
          "output_type": "stream",
          "name": "stderr",
          "text": [
            "WARNING:tensorflow:Early stopping conditioned on metric `val_loss` which is not available. Available metrics are: loss,accuracy\n"
          ]
        },
        {
          "output_type": "stream",
          "name": "stdout",
          "text": [
            "\b\b\b\b\b\b\b\b\b\b\b\b\b\b\b\b\b\b\b\b\b\b\b\b\b\b\b\b\b\b\b\b\b\b\b\b\b\b\b\b\b\b\b\b\b\b\b\b\b\b\b\b\b\b\b\b\b\b\b\b\b\b\b\b\b\b\b\b\b\b\b\b\b\b\b\b\b\b\b\b\b\b\r22/22 [==============================] - 5s 215ms/step - loss: 0.0710 - accuracy: 0.7321\n",
            "Epoch 67/200\n",
            "22/22 [==============================] - ETA: 0s - loss: 0.0707 - accuracy: 0.7322"
          ]
        },
        {
          "output_type": "stream",
          "name": "stderr",
          "text": [
            "WARNING:tensorflow:Early stopping conditioned on metric `val_loss` which is not available. Available metrics are: loss,accuracy\n"
          ]
        },
        {
          "output_type": "stream",
          "name": "stdout",
          "text": [
            "\b\b\b\b\b\b\b\b\b\b\b\b\b\b\b\b\b\b\b\b\b\b\b\b\b\b\b\b\b\b\b\b\b\b\b\b\b\b\b\b\b\b\b\b\b\b\b\b\b\b\b\b\b\b\b\b\b\b\b\b\b\b\b\b\b\b\b\b\b\b\b\b\b\b\b\b\b\b\b\b\b\b\r22/22 [==============================] - 6s 263ms/step - loss: 0.0707 - accuracy: 0.7322\n",
            "Epoch 68/200\n",
            "22/22 [==============================] - ETA: 0s - loss: 0.0710 - accuracy: 0.7322"
          ]
        },
        {
          "output_type": "stream",
          "name": "stderr",
          "text": [
            "WARNING:tensorflow:Early stopping conditioned on metric `val_loss` which is not available. Available metrics are: loss,accuracy\n"
          ]
        },
        {
          "output_type": "stream",
          "name": "stdout",
          "text": [
            "\b\b\b\b\b\b\b\b\b\b\b\b\b\b\b\b\b\b\b\b\b\b\b\b\b\b\b\b\b\b\b\b\b\b\b\b\b\b\b\b\b\b\b\b\b\b\b\b\b\b\b\b\b\b\b\b\b\b\b\b\b\b\b\b\b\b\b\b\b\b\b\b\b\b\b\b\b\b\b\b\b\b\r22/22 [==============================] - 5s 211ms/step - loss: 0.0710 - accuracy: 0.7322\n",
            "Epoch 69/200\n",
            "22/22 [==============================] - ETA: 0s - loss: 0.0708 - accuracy: 0.7321"
          ]
        },
        {
          "output_type": "stream",
          "name": "stderr",
          "text": [
            "WARNING:tensorflow:Early stopping conditioned on metric `val_loss` which is not available. Available metrics are: loss,accuracy\n"
          ]
        },
        {
          "output_type": "stream",
          "name": "stdout",
          "text": [
            "\b\b\b\b\b\b\b\b\b\b\b\b\b\b\b\b\b\b\b\b\b\b\b\b\b\b\b\b\b\b\b\b\b\b\b\b\b\b\b\b\b\b\b\b\b\b\b\b\b\b\b\b\b\b\b\b\b\b\b\b\b\b\b\b\b\b\b\b\b\b\b\b\b\b\b\b\b\b\b\b\b\b\r22/22 [==============================] - 5s 210ms/step - loss: 0.0708 - accuracy: 0.7321\n",
            "Epoch 70/200\n",
            "22/22 [==============================] - ETA: 0s - loss: 0.0708 - accuracy: 0.7319"
          ]
        },
        {
          "output_type": "stream",
          "name": "stderr",
          "text": [
            "WARNING:tensorflow:Early stopping conditioned on metric `val_loss` which is not available. Available metrics are: loss,accuracy\n"
          ]
        },
        {
          "output_type": "stream",
          "name": "stdout",
          "text": [
            "\b\b\b\b\b\b\b\b\b\b\b\b\b\b\b\b\b\b\b\b\b\b\b\b\b\b\b\b\b\b\b\b\b\b\b\b\b\b\b\b\b\b\b\b\b\b\b\b\b\b\b\b\b\b\b\b\b\b\b\b\b\b\b\b\b\b\b\b\b\b\b\b\b\b\b\b\b\b\b\b\b\b\r22/22 [==============================] - 6s 270ms/step - loss: 0.0708 - accuracy: 0.7319\n",
            "Epoch 71/200\n",
            "22/22 [==============================] - ETA: 0s - loss: 0.0711 - accuracy: 0.7322"
          ]
        },
        {
          "output_type": "stream",
          "name": "stderr",
          "text": [
            "WARNING:tensorflow:Early stopping conditioned on metric `val_loss` which is not available. Available metrics are: loss,accuracy\n"
          ]
        },
        {
          "output_type": "stream",
          "name": "stdout",
          "text": [
            "\b\b\b\b\b\b\b\b\b\b\b\b\b\b\b\b\b\b\b\b\b\b\b\b\b\b\b\b\b\b\b\b\b\b\b\b\b\b\b\b\b\b\b\b\b\b\b\b\b\b\b\b\b\b\b\b\b\b\b\b\b\b\b\b\b\b\b\b\b\b\b\b\b\b\b\b\b\b\b\b\b\b\r22/22 [==============================] - 5s 221ms/step - loss: 0.0711 - accuracy: 0.7322\n",
            "Epoch 72/200\n",
            "22/22 [==============================] - ETA: 0s - loss: 0.0713 - accuracy: 0.7320"
          ]
        },
        {
          "output_type": "stream",
          "name": "stderr",
          "text": [
            "WARNING:tensorflow:Early stopping conditioned on metric `val_loss` which is not available. Available metrics are: loss,accuracy\n"
          ]
        },
        {
          "output_type": "stream",
          "name": "stdout",
          "text": [
            "\b\b\b\b\b\b\b\b\b\b\b\b\b\b\b\b\b\b\b\b\b\b\b\b\b\b\b\b\b\b\b\b\b\b\b\b\b\b\b\b\b\b\b\b\b\b\b\b\b\b\b\b\b\b\b\b\b\b\b\b\b\b\b\b\b\b\b\b\b\b\b\b\b\b\b\b\b\b\b\b\b\b\r22/22 [==============================] - 5s 235ms/step - loss: 0.0713 - accuracy: 0.7320\n",
            "Epoch 73/200\n",
            "22/22 [==============================] - ETA: 0s - loss: 0.0706 - accuracy: 0.7321"
          ]
        },
        {
          "output_type": "stream",
          "name": "stderr",
          "text": [
            "WARNING:tensorflow:Early stopping conditioned on metric `val_loss` which is not available. Available metrics are: loss,accuracy\n"
          ]
        },
        {
          "output_type": "stream",
          "name": "stdout",
          "text": [
            "\b\b\b\b\b\b\b\b\b\b\b\b\b\b\b\b\b\b\b\b\b\b\b\b\b\b\b\b\b\b\b\b\b\b\b\b\b\b\b\b\b\b\b\b\b\b\b\b\b\b\b\b\b\b\b\b\b\b\b\b\b\b\b\b\b\b\b\b\b\b\b\b\b\b\b\b\b\b\b\b\b\b\r22/22 [==============================] - 6s 248ms/step - loss: 0.0706 - accuracy: 0.7321\n",
            "Epoch 74/200\n",
            "22/22 [==============================] - ETA: 0s - loss: 0.0704 - accuracy: 0.7324"
          ]
        },
        {
          "output_type": "stream",
          "name": "stderr",
          "text": [
            "WARNING:tensorflow:Early stopping conditioned on metric `val_loss` which is not available. Available metrics are: loss,accuracy\n"
          ]
        },
        {
          "output_type": "stream",
          "name": "stdout",
          "text": [
            "\b\b\b\b\b\b\b\b\b\b\b\b\b\b\b\b\b\b\b\b\b\b\b\b\b\b\b\b\b\b\b\b\b\b\b\b\b\b\b\b\b\b\b\b\b\b\b\b\b\b\b\b\b\b\b\b\b\b\b\b\b\b\b\b\b\b\b\b\b\b\b\b\b\b\b\b\b\b\b\b\b\b\r22/22 [==============================] - 5s 214ms/step - loss: 0.0704 - accuracy: 0.7324\n",
            "Epoch 75/200\n",
            "22/22 [==============================] - ETA: 0s - loss: 0.0704 - accuracy: 0.7324"
          ]
        },
        {
          "output_type": "stream",
          "name": "stderr",
          "text": [
            "WARNING:tensorflow:Early stopping conditioned on metric `val_loss` which is not available. Available metrics are: loss,accuracy\n"
          ]
        },
        {
          "output_type": "stream",
          "name": "stdout",
          "text": [
            "\b\b\b\b\b\b\b\b\b\b\b\b\b\b\b\b\b\b\b\b\b\b\b\b\b\b\b\b\b\b\b\b\b\b\b\b\b\b\b\b\b\b\b\b\b\b\b\b\b\b\b\b\b\b\b\b\b\b\b\b\b\b\b\b\b\b\b\b\b\b\b\b\b\b\b\b\b\b\b\b\b\b\r22/22 [==============================] - 6s 290ms/step - loss: 0.0704 - accuracy: 0.7324\n",
            "Epoch 76/200\n",
            "22/22 [==============================] - ETA: 0s - loss: 0.0702 - accuracy: 0.7326"
          ]
        },
        {
          "output_type": "stream",
          "name": "stderr",
          "text": [
            "WARNING:tensorflow:Early stopping conditioned on metric `val_loss` which is not available. Available metrics are: loss,accuracy\n"
          ]
        },
        {
          "output_type": "stream",
          "name": "stdout",
          "text": [
            "\b\b\b\b\b\b\b\b\b\b\b\b\b\b\b\b\b\b\b\b\b\b\b\b\b\b\b\b\b\b\b\b\b\b\b\b\b\b\b\b\b\b\b\b\b\b\b\b\b\b\b\b\b\b\b\b\b\b\b\b\b\b\b\b\b\b\b\b\b\b\b\b\b\b\b\b\b\b\b\b\b\b\r22/22 [==============================] - 5s 228ms/step - loss: 0.0702 - accuracy: 0.7326\n",
            "Epoch 77/200\n",
            "22/22 [==============================] - ETA: 0s - loss: 0.0705 - accuracy: 0.7324"
          ]
        },
        {
          "output_type": "stream",
          "name": "stderr",
          "text": [
            "WARNING:tensorflow:Early stopping conditioned on metric `val_loss` which is not available. Available metrics are: loss,accuracy\n"
          ]
        },
        {
          "output_type": "stream",
          "name": "stdout",
          "text": [
            "\b\b\b\b\b\b\b\b\b\b\b\b\b\b\b\b\b\b\b\b\b\b\b\b\b\b\b\b\b\b\b\b\b\b\b\b\b\b\b\b\b\b\b\b\b\b\b\b\b\b\b\b\b\b\b\b\b\b\b\b\b\b\b\b\b\b\b\b\b\b\b\b\b\b\b\b\b\b\b\b\b\b\r22/22 [==============================] - 5s 238ms/step - loss: 0.0705 - accuracy: 0.7324\n",
            "Epoch 78/200\n",
            "22/22 [==============================] - ETA: 0s - loss: 0.0707 - accuracy: 0.7323"
          ]
        },
        {
          "output_type": "stream",
          "name": "stderr",
          "text": [
            "WARNING:tensorflow:Early stopping conditioned on metric `val_loss` which is not available. Available metrics are: loss,accuracy\n"
          ]
        },
        {
          "output_type": "stream",
          "name": "stdout",
          "text": [
            "\b\b\b\b\b\b\b\b\b\b\b\b\b\b\b\b\b\b\b\b\b\b\b\b\b\b\b\b\b\b\b\b\b\b\b\b\b\b\b\b\b\b\b\b\b\b\b\b\b\b\b\b\b\b\b\b\b\b\b\b\b\b\b\b\b\b\b\b\b\b\b\b\b\b\b\b\b\b\b\b\b\b\r22/22 [==============================] - 6s 272ms/step - loss: 0.0707 - accuracy: 0.7323\n",
            "Epoch 79/200\n",
            "22/22 [==============================] - ETA: 0s - loss: 0.0709 - accuracy: 0.7323"
          ]
        },
        {
          "output_type": "stream",
          "name": "stderr",
          "text": [
            "WARNING:tensorflow:Early stopping conditioned on metric `val_loss` which is not available. Available metrics are: loss,accuracy\n"
          ]
        },
        {
          "output_type": "stream",
          "name": "stdout",
          "text": [
            "\b\b\b\b\b\b\b\b\b\b\b\b\b\b\b\b\b\b\b\b\b\b\b\b\b\b\b\b\b\b\b\b\b\b\b\b\b\b\b\b\b\b\b\b\b\b\b\b\b\b\b\b\b\b\b\b\b\b\b\b\b\b\b\b\b\b\b\b\b\b\b\b\b\b\b\b\b\b\b\b\b\b\r22/22 [==============================] - 5s 228ms/step - loss: 0.0709 - accuracy: 0.7323\n",
            "Epoch 80/200\n",
            "22/22 [==============================] - ETA: 0s - loss: 0.0710 - accuracy: 0.7319"
          ]
        },
        {
          "output_type": "stream",
          "name": "stderr",
          "text": [
            "WARNING:tensorflow:Early stopping conditioned on metric `val_loss` which is not available. Available metrics are: loss,accuracy\n"
          ]
        },
        {
          "output_type": "stream",
          "name": "stdout",
          "text": [
            "\b\b\b\b\b\b\b\b\b\b\b\b\b\b\b\b\b\b\b\b\b\b\b\b\b\b\b\b\b\b\b\b\b\b\b\b\b\b\b\b\b\b\b\b\b\b\b\b\b\b\b\b\b\b\b\b\b\b\b\b\b\b\b\b\b\b\b\b\b\b\b\b\b\b\b\b\b\b\b\b\b\b\r22/22 [==============================] - 6s 285ms/step - loss: 0.0710 - accuracy: 0.7319\n",
            "Epoch 81/200\n",
            "22/22 [==============================] - ETA: 0s - loss: 0.0703 - accuracy: 0.7324"
          ]
        },
        {
          "output_type": "stream",
          "name": "stderr",
          "text": [
            "WARNING:tensorflow:Early stopping conditioned on metric `val_loss` which is not available. Available metrics are: loss,accuracy\n"
          ]
        },
        {
          "output_type": "stream",
          "name": "stdout",
          "text": [
            "\b\b\b\b\b\b\b\b\b\b\b\b\b\b\b\b\b\b\b\b\b\b\b\b\b\b\b\b\b\b\b\b\b\b\b\b\b\b\b\b\b\b\b\b\b\b\b\b\b\b\b\b\b\b\b\b\b\b\b\b\b\b\b\b\b\b\b\b\b\b\b\b\b\b\b\b\b\b\b\b\b\b\r22/22 [==============================] - 5s 230ms/step - loss: 0.0703 - accuracy: 0.7324\n",
            "Epoch 82/200\n",
            "22/22 [==============================] - ETA: 0s - loss: 0.0704 - accuracy: 0.7322"
          ]
        },
        {
          "output_type": "stream",
          "name": "stderr",
          "text": [
            "WARNING:tensorflow:Early stopping conditioned on metric `val_loss` which is not available. Available metrics are: loss,accuracy\n"
          ]
        },
        {
          "output_type": "stream",
          "name": "stdout",
          "text": [
            "\b\b\b\b\b\b\b\b\b\b\b\b\b\b\b\b\b\b\b\b\b\b\b\b\b\b\b\b\b\b\b\b\b\b\b\b\b\b\b\b\b\b\b\b\b\b\b\b\b\b\b\b\b\b\b\b\b\b\b\b\b\b\b\b\b\b\b\b\b\b\b\b\b\b\b\b\b\b\b\b\b\b\r22/22 [==============================] - 5s 248ms/step - loss: 0.0704 - accuracy: 0.7322\n",
            "Epoch 83/200\n",
            "22/22 [==============================] - ETA: 0s - loss: 0.0710 - accuracy: 0.7326"
          ]
        },
        {
          "output_type": "stream",
          "name": "stderr",
          "text": [
            "WARNING:tensorflow:Early stopping conditioned on metric `val_loss` which is not available. Available metrics are: loss,accuracy\n"
          ]
        },
        {
          "output_type": "stream",
          "name": "stdout",
          "text": [
            "\b\b\b\b\b\b\b\b\b\b\b\b\b\b\b\b\b\b\b\b\b\b\b\b\b\b\b\b\b\b\b\b\b\b\b\b\b\b\b\b\b\b\b\b\b\b\b\b\b\b\b\b\b\b\b\b\b\b\b\b\b\b\b\b\b\b\b\b\b\b\b\b\b\b\b\b\b\b\b\b\b\b\r22/22 [==============================] - 6s 271ms/step - loss: 0.0710 - accuracy: 0.7326\n",
            "Epoch 84/200\n",
            "22/22 [==============================] - ETA: 0s - loss: 0.0704 - accuracy: 0.7325"
          ]
        },
        {
          "output_type": "stream",
          "name": "stderr",
          "text": [
            "WARNING:tensorflow:Early stopping conditioned on metric `val_loss` which is not available. Available metrics are: loss,accuracy\n"
          ]
        },
        {
          "output_type": "stream",
          "name": "stdout",
          "text": [
            "\b\b\b\b\b\b\b\b\b\b\b\b\b\b\b\b\b\b\b\b\b\b\b\b\b\b\b\b\b\b\b\b\b\b\b\b\b\b\b\b\b\b\b\b\b\b\b\b\b\b\b\b\b\b\b\b\b\b\b\b\b\b\b\b\b\b\b\b\b\b\b\b\b\b\b\b\b\b\b\b\b\b\r22/22 [==============================] - 5s 226ms/step - loss: 0.0704 - accuracy: 0.7325\n",
            "Epoch 85/200\n",
            "22/22 [==============================] - ETA: 0s - loss: 0.0702 - accuracy: 0.7328"
          ]
        },
        {
          "output_type": "stream",
          "name": "stderr",
          "text": [
            "WARNING:tensorflow:Early stopping conditioned on metric `val_loss` which is not available. Available metrics are: loss,accuracy\n"
          ]
        },
        {
          "output_type": "stream",
          "name": "stdout",
          "text": [
            "\b\b\b\b\b\b\b\b\b\b\b\b\b\b\b\b\b\b\b\b\b\b\b\b\b\b\b\b\b\b\b\b\b\b\b\b\b\b\b\b\b\b\b\b\b\b\b\b\b\b\b\b\b\b\b\b\b\b\b\b\b\b\b\b\b\b\b\b\b\b\b\b\b\b\b\b\b\b\b\b\b\b\r22/22 [==============================] - 6s 289ms/step - loss: 0.0702 - accuracy: 0.7328\n",
            "Epoch 86/200\n",
            "22/22 [==============================] - ETA: 0s - loss: 0.0702 - accuracy: 0.7325"
          ]
        },
        {
          "output_type": "stream",
          "name": "stderr",
          "text": [
            "WARNING:tensorflow:Early stopping conditioned on metric `val_loss` which is not available. Available metrics are: loss,accuracy\n"
          ]
        },
        {
          "output_type": "stream",
          "name": "stdout",
          "text": [
            "\b\b\b\b\b\b\b\b\b\b\b\b\b\b\b\b\b\b\b\b\b\b\b\b\b\b\b\b\b\b\b\b\b\b\b\b\b\b\b\b\b\b\b\b\b\b\b\b\b\b\b\b\b\b\b\b\b\b\b\b\b\b\b\b\b\b\b\b\b\b\b\b\b\b\b\b\b\b\b\b\b\b\r22/22 [==============================] - 5s 228ms/step - loss: 0.0702 - accuracy: 0.7325\n",
            "Epoch 87/200\n",
            "22/22 [==============================] - ETA: 0s - loss: 0.0700 - accuracy: 0.7328"
          ]
        },
        {
          "output_type": "stream",
          "name": "stderr",
          "text": [
            "WARNING:tensorflow:Early stopping conditioned on metric `val_loss` which is not available. Available metrics are: loss,accuracy\n"
          ]
        },
        {
          "output_type": "stream",
          "name": "stdout",
          "text": [
            "\b\b\b\b\b\b\b\b\b\b\b\b\b\b\b\b\b\b\b\b\b\b\b\b\b\b\b\b\b\b\b\b\b\b\b\b\b\b\b\b\b\b\b\b\b\b\b\b\b\b\b\b\b\b\b\b\b\b\b\b\b\b\b\b\b\b\b\b\b\b\b\b\b\b\b\b\b\b\b\b\b\b\r22/22 [==============================] - 5s 242ms/step - loss: 0.0700 - accuracy: 0.7328\n",
            "Epoch 88/200\n",
            "22/22 [==============================] - ETA: 0s - loss: 0.0700 - accuracy: 0.7327"
          ]
        },
        {
          "output_type": "stream",
          "name": "stderr",
          "text": [
            "WARNING:tensorflow:Early stopping conditioned on metric `val_loss` which is not available. Available metrics are: loss,accuracy\n"
          ]
        },
        {
          "output_type": "stream",
          "name": "stdout",
          "text": [
            "\b\b\b\b\b\b\b\b\b\b\b\b\b\b\b\b\b\b\b\b\b\b\b\b\b\b\b\b\b\b\b\b\b\b\b\b\b\b\b\b\b\b\b\b\b\b\b\b\b\b\b\b\b\b\b\b\b\b\b\b\b\b\b\b\b\b\b\b\b\b\b\b\b\b\b\b\b\b\b\b\b\b\r22/22 [==============================] - 6s 269ms/step - loss: 0.0700 - accuracy: 0.7327\n",
            "Epoch 89/200\n",
            "22/22 [==============================] - ETA: 0s - loss: 0.0701 - accuracy: 0.7327"
          ]
        },
        {
          "output_type": "stream",
          "name": "stderr",
          "text": [
            "WARNING:tensorflow:Early stopping conditioned on metric `val_loss` which is not available. Available metrics are: loss,accuracy\n"
          ]
        },
        {
          "output_type": "stream",
          "name": "stdout",
          "text": [
            "\b\b\b\b\b\b\b\b\b\b\b\b\b\b\b\b\b\b\b\b\b\b\b\b\b\b\b\b\b\b\b\b\b\b\b\b\b\b\b\b\b\b\b\b\b\b\b\b\b\b\b\b\b\b\b\b\b\b\b\b\b\b\b\b\b\b\b\b\b\b\b\b\b\b\b\b\b\b\b\b\b\b\r22/22 [==============================] - 5s 216ms/step - loss: 0.0701 - accuracy: 0.7327\n",
            "Epoch 90/200\n",
            "22/22 [==============================] - ETA: 0s - loss: 0.0701 - accuracy: 0.7326"
          ]
        },
        {
          "output_type": "stream",
          "name": "stderr",
          "text": [
            "WARNING:tensorflow:Early stopping conditioned on metric `val_loss` which is not available. Available metrics are: loss,accuracy\n"
          ]
        },
        {
          "output_type": "stream",
          "name": "stdout",
          "text": [
            "\b\b\b\b\b\b\b\b\b\b\b\b\b\b\b\b\b\b\b\b\b\b\b\b\b\b\b\b\b\b\b\b\b\b\b\b\b\b\b\b\b\b\b\b\b\b\b\b\b\b\b\b\b\b\b\b\b\b\b\b\b\b\b\b\b\b\b\b\b\b\b\b\b\b\b\b\b\b\b\b\b\b\r22/22 [==============================] - 6s 276ms/step - loss: 0.0701 - accuracy: 0.7326\n",
            "Epoch 91/200\n",
            "22/22 [==============================] - ETA: 0s - loss: 0.0701 - accuracy: 0.7326"
          ]
        },
        {
          "output_type": "stream",
          "name": "stderr",
          "text": [
            "WARNING:tensorflow:Early stopping conditioned on metric `val_loss` which is not available. Available metrics are: loss,accuracy\n"
          ]
        },
        {
          "output_type": "stream",
          "name": "stdout",
          "text": [
            "\b\b\b\b\b\b\b\b\b\b\b\b\b\b\b\b\b\b\b\b\b\b\b\b\b\b\b\b\b\b\b\b\b\b\b\b\b\b\b\b\b\b\b\b\b\b\b\b\b\b\b\b\b\b\b\b\b\b\b\b\b\b\b\b\b\b\b\b\b\b\b\b\b\b\b\b\b\b\b\b\b\b\r22/22 [==============================] - 5s 218ms/step - loss: 0.0701 - accuracy: 0.7326\n",
            "Epoch 92/200\n",
            "22/22 [==============================] - ETA: 0s - loss: 0.0701 - accuracy: 0.7328"
          ]
        },
        {
          "output_type": "stream",
          "name": "stderr",
          "text": [
            "WARNING:tensorflow:Early stopping conditioned on metric `val_loss` which is not available. Available metrics are: loss,accuracy\n"
          ]
        },
        {
          "output_type": "stream",
          "name": "stdout",
          "text": [
            "\b\b\b\b\b\b\b\b\b\b\b\b\b\b\b\b\b\b\b\b\b\b\b\b\b\b\b\b\b\b\b\b\b\b\b\b\b\b\b\b\b\b\b\b\b\b\b\b\b\b\b\b\b\b\b\b\b\b\b\b\b\b\b\b\b\b\b\b\b\b\b\b\b\b\b\b\b\b\b\b\b\b\r22/22 [==============================] - 5s 218ms/step - loss: 0.0701 - accuracy: 0.7328\n",
            "Epoch 93/200\n",
            "22/22 [==============================] - ETA: 0s - loss: 0.0701 - accuracy: 0.7327"
          ]
        },
        {
          "output_type": "stream",
          "name": "stderr",
          "text": [
            "WARNING:tensorflow:Early stopping conditioned on metric `val_loss` which is not available. Available metrics are: loss,accuracy\n"
          ]
        },
        {
          "output_type": "stream",
          "name": "stdout",
          "text": [
            "\b\b\b\b\b\b\b\b\b\b\b\b\b\b\b\b\b\b\b\b\b\b\b\b\b\b\b\b\b\b\b\b\b\b\b\b\b\b\b\b\b\b\b\b\b\b\b\b\b\b\b\b\b\b\b\b\b\b\b\b\b\b\b\b\b\b\b\b\b\b\b\b\b\b\b\b\b\b\b\b\b\b\r22/22 [==============================] - 6s 277ms/step - loss: 0.0701 - accuracy: 0.7327\n",
            "Epoch 94/200\n",
            "22/22 [==============================] - ETA: 0s - loss: 0.0700 - accuracy: 0.7328"
          ]
        },
        {
          "output_type": "stream",
          "name": "stderr",
          "text": [
            "WARNING:tensorflow:Early stopping conditioned on metric `val_loss` which is not available. Available metrics are: loss,accuracy\n"
          ]
        },
        {
          "output_type": "stream",
          "name": "stdout",
          "text": [
            "\b\b\b\b\b\b\b\b\b\b\b\b\b\b\b\b\b\b\b\b\b\b\b\b\b\b\b\b\b\b\b\b\b\b\b\b\b\b\b\b\b\b\b\b\b\b\b\b\b\b\b\b\b\b\b\b\b\b\b\b\b\b\b\b\b\b\b\b\b\b\b\b\b\b\b\b\b\b\b\b\b\b\r22/22 [==============================] - 5s 223ms/step - loss: 0.0700 - accuracy: 0.7328\n",
            "Epoch 95/200\n",
            "22/22 [==============================] - ETA: 0s - loss: 0.0701 - accuracy: 0.7329"
          ]
        },
        {
          "output_type": "stream",
          "name": "stderr",
          "text": [
            "WARNING:tensorflow:Early stopping conditioned on metric `val_loss` which is not available. Available metrics are: loss,accuracy\n"
          ]
        },
        {
          "output_type": "stream",
          "name": "stdout",
          "text": [
            "\b\b\b\b\b\b\b\b\b\b\b\b\b\b\b\b\b\b\b\b\b\b\b\b\b\b\b\b\b\b\b\b\b\b\b\b\b\b\b\b\b\b\b\b\b\b\b\b\b\b\b\b\b\b\b\b\b\b\b\b\b\b\b\b\b\b\b\b\b\b\b\b\b\b\b\b\b\b\b\b\b\b\r22/22 [==============================] - 6s 271ms/step - loss: 0.0701 - accuracy: 0.7329\n",
            "Epoch 96/200\n",
            "22/22 [==============================] - ETA: 0s - loss: 0.0698 - accuracy: 0.7327"
          ]
        },
        {
          "output_type": "stream",
          "name": "stderr",
          "text": [
            "WARNING:tensorflow:Early stopping conditioned on metric `val_loss` which is not available. Available metrics are: loss,accuracy\n"
          ]
        },
        {
          "output_type": "stream",
          "name": "stdout",
          "text": [
            "\b\b\b\b\b\b\b\b\b\b\b\b\b\b\b\b\b\b\b\b\b\b\b\b\b\b\b\b\b\b\b\b\b\b\b\b\b\b\b\b\b\b\b\b\b\b\b\b\b\b\b\b\b\b\b\b\b\b\b\b\b\b\b\b\b\b\b\b\b\b\b\b\b\b\b\b\b\b\b\b\b\b\r22/22 [==============================] - 5s 220ms/step - loss: 0.0698 - accuracy: 0.7327\n",
            "Epoch 97/200\n",
            "22/22 [==============================] - ETA: 0s - loss: 0.0700 - accuracy: 0.7330"
          ]
        },
        {
          "output_type": "stream",
          "name": "stderr",
          "text": [
            "WARNING:tensorflow:Early stopping conditioned on metric `val_loss` which is not available. Available metrics are: loss,accuracy\n"
          ]
        },
        {
          "output_type": "stream",
          "name": "stdout",
          "text": [
            "\b\b\b\b\b\b\b\b\b\b\b\b\b\b\b\b\b\b\b\b\b\b\b\b\b\b\b\b\b\b\b\b\b\b\b\b\b\b\b\b\b\b\b\b\b\b\b\b\b\b\b\b\b\b\b\b\b\b\b\b\b\b\b\b\b\b\b\b\b\b\b\b\b\b\b\b\b\b\b\b\b\b\r22/22 [==============================] - 5s 220ms/step - loss: 0.0700 - accuracy: 0.7330\n",
            "Epoch 98/200\n",
            "22/22 [==============================] - ETA: 0s - loss: 0.0700 - accuracy: 0.7329"
          ]
        },
        {
          "output_type": "stream",
          "name": "stderr",
          "text": [
            "WARNING:tensorflow:Early stopping conditioned on metric `val_loss` which is not available. Available metrics are: loss,accuracy\n"
          ]
        },
        {
          "output_type": "stream",
          "name": "stdout",
          "text": [
            "\b\b\b\b\b\b\b\b\b\b\b\b\b\b\b\b\b\b\b\b\b\b\b\b\b\b\b\b\b\b\b\b\b\b\b\b\b\b\b\b\b\b\b\b\b\b\b\b\b\b\b\b\b\b\b\b\b\b\b\b\b\b\b\b\b\b\b\b\b\b\b\b\b\b\b\b\b\b\b\b\b\b\r22/22 [==============================] - 6s 276ms/step - loss: 0.0700 - accuracy: 0.7329\n",
            "Epoch 99/200\n",
            "22/22 [==============================] - ETA: 0s - loss: 0.0697 - accuracy: 0.7329"
          ]
        },
        {
          "output_type": "stream",
          "name": "stderr",
          "text": [
            "WARNING:tensorflow:Early stopping conditioned on metric `val_loss` which is not available. Available metrics are: loss,accuracy\n"
          ]
        },
        {
          "output_type": "stream",
          "name": "stdout",
          "text": [
            "\b\b\b\b\b\b\b\b\b\b\b\b\b\b\b\b\b\b\b\b\b\b\b\b\b\b\b\b\b\b\b\b\b\b\b\b\b\b\b\b\b\b\b\b\b\b\b\b\b\b\b\b\b\b\b\b\b\b\b\b\b\b\b\b\b\b\b\b\b\b\b\b\b\b\b\b\b\b\b\b\b\b\r22/22 [==============================] - 5s 219ms/step - loss: 0.0697 - accuracy: 0.7329\n",
            "Epoch 100/200\n",
            "22/22 [==============================] - ETA: 0s - loss: 0.0698 - accuracy: 0.7330"
          ]
        },
        {
          "output_type": "stream",
          "name": "stderr",
          "text": [
            "WARNING:tensorflow:Early stopping conditioned on metric `val_loss` which is not available. Available metrics are: loss,accuracy\n"
          ]
        },
        {
          "output_type": "stream",
          "name": "stdout",
          "text": [
            "\b\b\b\b\b\b\b\b\b\b\b\b\b\b\b\b\b\b\b\b\b\b\b\b\b\b\b\b\b\b\b\b\b\b\b\b\b\b\b\b\b\b\b\b\b\b\b\b\b\b\b\b\b\b\b\b\b\b\b\b\b\b\b\b\b\b\b\b\b\b\b\b\b\b\b\b\b\b\b\b\b\b\r22/22 [==============================] - 6s 256ms/step - loss: 0.0698 - accuracy: 0.7330\n",
            "Epoch 101/200\n",
            "22/22 [==============================] - ETA: 0s - loss: 0.0700 - accuracy: 0.7326"
          ]
        },
        {
          "output_type": "stream",
          "name": "stderr",
          "text": [
            "WARNING:tensorflow:Early stopping conditioned on metric `val_loss` which is not available. Available metrics are: loss,accuracy\n"
          ]
        },
        {
          "output_type": "stream",
          "name": "stdout",
          "text": [
            "\b\b\b\b\b\b\b\b\b\b\b\b\b\b\b\b\b\b\b\b\b\b\b\b\b\b\b\b\b\b\b\b\b\b\b\b\b\b\b\b\b\b\b\b\b\b\b\b\b\b\b\b\b\b\b\b\b\b\b\b\b\b\b\b\b\b\b\b\b\b\b\b\b\b\b\b\b\b\b\b\b\b\r22/22 [==============================] - 5s 230ms/step - loss: 0.0700 - accuracy: 0.7326\n",
            "Epoch 102/200\n",
            "22/22 [==============================] - ETA: 0s - loss: 0.0700 - accuracy: 0.7325"
          ]
        },
        {
          "output_type": "stream",
          "name": "stderr",
          "text": [
            "WARNING:tensorflow:Early stopping conditioned on metric `val_loss` which is not available. Available metrics are: loss,accuracy\n"
          ]
        },
        {
          "output_type": "stream",
          "name": "stdout",
          "text": [
            "\b\b\b\b\b\b\b\b\b\b\b\b\b\b\b\b\b\b\b\b\b\b\b\b\b\b\b\b\b\b\b\b\b\b\b\b\b\b\b\b\b\b\b\b\b\b\b\b\b\b\b\b\b\b\b\b\b\b\b\b\b\b\b\b\b\b\b\b\b\b\b\b\b\b\b\b\b\b\b\b\b\b\r22/22 [==============================] - 5s 221ms/step - loss: 0.0700 - accuracy: 0.7325\n",
            "Epoch 103/200\n",
            "22/22 [==============================] - ETA: 0s - loss: 0.0699 - accuracy: 0.7326"
          ]
        },
        {
          "output_type": "stream",
          "name": "stderr",
          "text": [
            "WARNING:tensorflow:Early stopping conditioned on metric `val_loss` which is not available. Available metrics are: loss,accuracy\n"
          ]
        },
        {
          "output_type": "stream",
          "name": "stdout",
          "text": [
            "\b\b\b\b\b\b\b\b\b\b\b\b\b\b\b\b\b\b\b\b\b\b\b\b\b\b\b\b\b\b\b\b\b\b\b\b\b\b\b\b\b\b\b\b\b\b\b\b\b\b\b\b\b\b\b\b\b\b\b\b\b\b\b\b\b\b\b\b\b\b\b\b\b\b\b\b\b\b\b\b\b\b\r22/22 [==============================] - 6s 281ms/step - loss: 0.0699 - accuracy: 0.7326\n",
            "Epoch 104/200\n",
            "22/22 [==============================] - ETA: 0s - loss: 0.0701 - accuracy: 0.7325"
          ]
        },
        {
          "output_type": "stream",
          "name": "stderr",
          "text": [
            "WARNING:tensorflow:Early stopping conditioned on metric `val_loss` which is not available. Available metrics are: loss,accuracy\n"
          ]
        },
        {
          "output_type": "stream",
          "name": "stdout",
          "text": [
            "\b\b\b\b\b\b\b\b\b\b\b\b\b\b\b\b\b\b\b\b\b\b\b\b\b\b\b\b\b\b\b\b\b\b\b\b\b\b\b\b\b\b\b\b\b\b\b\b\b\b\b\b\b\b\b\b\b\b\b\b\b\b\b\b\b\b\b\b\b\b\b\b\b\b\b\b\b\b\b\b\b\b\r22/22 [==============================] - 5s 223ms/step - loss: 0.0701 - accuracy: 0.7325\n",
            "Epoch 105/200\n",
            "22/22 [==============================] - ETA: 0s - loss: 0.0700 - accuracy: 0.7328"
          ]
        },
        {
          "output_type": "stream",
          "name": "stderr",
          "text": [
            "WARNING:tensorflow:Early stopping conditioned on metric `val_loss` which is not available. Available metrics are: loss,accuracy\n"
          ]
        },
        {
          "output_type": "stream",
          "name": "stdout",
          "text": [
            "\b\b\b\b\b\b\b\b\b\b\b\b\b\b\b\b\b\b\b\b\b\b\b\b\b\b\b\b\b\b\b\b\b\b\b\b\b\b\b\b\b\b\b\b\b\b\b\b\b\b\b\b\b\b\b\b\b\b\b\b\b\b\b\b\b\b\b\b\b\b\b\b\b\b\b\b\b\b\b\b\b\b\r22/22 [==============================] - 6s 252ms/step - loss: 0.0700 - accuracy: 0.7328\n",
            "Epoch 106/200\n",
            "22/22 [==============================] - ETA: 0s - loss: 0.0699 - accuracy: 0.7328"
          ]
        },
        {
          "output_type": "stream",
          "name": "stderr",
          "text": [
            "WARNING:tensorflow:Early stopping conditioned on metric `val_loss` which is not available. Available metrics are: loss,accuracy\n"
          ]
        },
        {
          "output_type": "stream",
          "name": "stdout",
          "text": [
            "\b\b\b\b\b\b\b\b\b\b\b\b\b\b\b\b\b\b\b\b\b\b\b\b\b\b\b\b\b\b\b\b\b\b\b\b\b\b\b\b\b\b\b\b\b\b\b\b\b\b\b\b\b\b\b\b\b\b\b\b\b\b\b\b\b\b\b\b\b\b\b\b\b\b\b\b\b\b\b\b\b\b\r22/22 [==============================] - 6s 247ms/step - loss: 0.0699 - accuracy: 0.7328\n",
            "Epoch 107/200\n",
            "22/22 [==============================] - ETA: 0s - loss: 0.0698 - accuracy: 0.7330"
          ]
        },
        {
          "output_type": "stream",
          "name": "stderr",
          "text": [
            "WARNING:tensorflow:Early stopping conditioned on metric `val_loss` which is not available. Available metrics are: loss,accuracy\n"
          ]
        },
        {
          "output_type": "stream",
          "name": "stdout",
          "text": [
            "\b\b\b\b\b\b\b\b\b\b\b\b\b\b\b\b\b\b\b\b\b\b\b\b\b\b\b\b\b\b\b\b\b\b\b\b\b\b\b\b\b\b\b\b\b\b\b\b\b\b\b\b\b\b\b\b\b\b\b\b\b\b\b\b\b\b\b\b\b\b\b\b\b\b\b\b\b\b\b\b\b\b\r22/22 [==============================] - 5s 217ms/step - loss: 0.0698 - accuracy: 0.7330\n",
            "Epoch 108/200\n",
            "22/22 [==============================] - ETA: 0s - loss: 0.0700 - accuracy: 0.7328"
          ]
        },
        {
          "output_type": "stream",
          "name": "stderr",
          "text": [
            "WARNING:tensorflow:Early stopping conditioned on metric `val_loss` which is not available. Available metrics are: loss,accuracy\n"
          ]
        },
        {
          "output_type": "stream",
          "name": "stdout",
          "text": [
            "\b\b\b\b\b\b\b\b\b\b\b\b\b\b\b\b\b\b\b\b\b\b\b\b\b\b\b\b\b\b\b\b\b\b\b\b\b\b\b\b\b\b\b\b\b\b\b\b\b\b\b\b\b\b\b\b\b\b\b\b\b\b\b\b\b\b\b\b\b\b\b\b\b\b\b\b\b\b\b\b\b\b\r22/22 [==============================] - 6s 279ms/step - loss: 0.0700 - accuracy: 0.7328\n",
            "Epoch 109/200\n",
            "22/22 [==============================] - ETA: 0s - loss: 0.0700 - accuracy: 0.7329"
          ]
        },
        {
          "output_type": "stream",
          "name": "stderr",
          "text": [
            "WARNING:tensorflow:Early stopping conditioned on metric `val_loss` which is not available. Available metrics are: loss,accuracy\n"
          ]
        },
        {
          "output_type": "stream",
          "name": "stdout",
          "text": [
            "\b\b\b\b\b\b\b\b\b\b\b\b\b\b\b\b\b\b\b\b\b\b\b\b\b\b\b\b\b\b\b\b\b\b\b\b\b\b\b\b\b\b\b\b\b\b\b\b\b\b\b\b\b\b\b\b\b\b\b\b\b\b\b\b\b\b\b\b\b\b\b\b\b\b\b\b\b\b\b\b\b\b\r22/22 [==============================] - 5s 216ms/step - loss: 0.0700 - accuracy: 0.7329\n",
            "Epoch 110/200\n",
            "22/22 [==============================] - ETA: 0s - loss: 0.0697 - accuracy: 0.7332"
          ]
        },
        {
          "output_type": "stream",
          "name": "stderr",
          "text": [
            "WARNING:tensorflow:Early stopping conditioned on metric `val_loss` which is not available. Available metrics are: loss,accuracy\n"
          ]
        },
        {
          "output_type": "stream",
          "name": "stdout",
          "text": [
            "\b\b\b\b\b\b\b\b\b\b\b\b\b\b\b\b\b\b\b\b\b\b\b\b\b\b\b\b\b\b\b\b\b\b\b\b\b\b\b\b\b\b\b\b\b\b\b\b\b\b\b\b\b\b\b\b\b\b\b\b\b\b\b\b\b\b\b\b\b\b\b\b\b\b\b\b\b\b\b\b\b\b\r22/22 [==============================] - 5s 228ms/step - loss: 0.0697 - accuracy: 0.7332\n",
            "Epoch 111/200\n",
            "22/22 [==============================] - ETA: 0s - loss: 0.0697 - accuracy: 0.7330"
          ]
        },
        {
          "output_type": "stream",
          "name": "stderr",
          "text": [
            "WARNING:tensorflow:Early stopping conditioned on metric `val_loss` which is not available. Available metrics are: loss,accuracy\n"
          ]
        },
        {
          "output_type": "stream",
          "name": "stdout",
          "text": [
            "\b\b\b\b\b\b\b\b\b\b\b\b\b\b\b\b\b\b\b\b\b\b\b\b\b\b\b\b\b\b\b\b\b\b\b\b\b\b\b\b\b\b\b\b\b\b\b\b\b\b\b\b\b\b\b\b\b\b\b\b\b\b\b\b\b\b\b\b\b\b\b\b\b\b\b\b\b\b\b\b\b\b\r22/22 [==============================] - 6s 265ms/step - loss: 0.0697 - accuracy: 0.7330\n",
            "Epoch 112/200\n",
            "22/22 [==============================] - ETA: 0s - loss: 0.0697 - accuracy: 0.7331"
          ]
        },
        {
          "output_type": "stream",
          "name": "stderr",
          "text": [
            "WARNING:tensorflow:Early stopping conditioned on metric `val_loss` which is not available. Available metrics are: loss,accuracy\n"
          ]
        },
        {
          "output_type": "stream",
          "name": "stdout",
          "text": [
            "\b\b\b\b\b\b\b\b\b\b\b\b\b\b\b\b\b\b\b\b\b\b\b\b\b\b\b\b\b\b\b\b\b\b\b\b\b\b\b\b\b\b\b\b\b\b\b\b\b\b\b\b\b\b\b\b\b\b\b\b\b\b\b\b\b\b\b\b\b\b\b\b\b\b\b\b\b\b\b\b\b\b\r22/22 [==============================] - 5s 220ms/step - loss: 0.0697 - accuracy: 0.7331\n",
            "Epoch 113/200\n",
            "22/22 [==============================] - ETA: 0s - loss: 0.0697 - accuracy: 0.7332"
          ]
        },
        {
          "output_type": "stream",
          "name": "stderr",
          "text": [
            "WARNING:tensorflow:Early stopping conditioned on metric `val_loss` which is not available. Available metrics are: loss,accuracy\n"
          ]
        },
        {
          "output_type": "stream",
          "name": "stdout",
          "text": [
            "\b\b\b\b\b\b\b\b\b\b\b\b\b\b\b\b\b\b\b\b\b\b\b\b\b\b\b\b\b\b\b\b\b\b\b\b\b\b\b\b\b\b\b\b\b\b\b\b\b\b\b\b\b\b\b\b\b\b\b\b\b\b\b\b\b\b\b\b\b\b\b\b\b\b\b\b\b\b\b\b\b\b\r22/22 [==============================] - 6s 277ms/step - loss: 0.0697 - accuracy: 0.7332\n",
            "Epoch 114/200\n",
            "22/22 [==============================] - ETA: 0s - loss: 0.0695 - accuracy: 0.7332"
          ]
        },
        {
          "output_type": "stream",
          "name": "stderr",
          "text": [
            "WARNING:tensorflow:Early stopping conditioned on metric `val_loss` which is not available. Available metrics are: loss,accuracy\n"
          ]
        },
        {
          "output_type": "stream",
          "name": "stdout",
          "text": [
            "\b\b\b\b\b\b\b\b\b\b\b\b\b\b\b\b\b\b\b\b\b\b\b\b\b\b\b\b\b\b\b\b\b\b\b\b\b\b\b\b\b\b\b\b\b\b\b\b\b\b\b\b\b\b\b\b\b\b\b\b\b\b\b\b\b\b\b\b\b\b\b\b\b\b\b\b\b\b\b\b\b\b\r22/22 [==============================] - 5s 218ms/step - loss: 0.0695 - accuracy: 0.7332\n",
            "Epoch 115/200\n",
            "22/22 [==============================] - ETA: 0s - loss: 0.0696 - accuracy: 0.7333"
          ]
        },
        {
          "output_type": "stream",
          "name": "stderr",
          "text": [
            "WARNING:tensorflow:Early stopping conditioned on metric `val_loss` which is not available. Available metrics are: loss,accuracy\n"
          ]
        },
        {
          "output_type": "stream",
          "name": "stdout",
          "text": [
            "\b\b\b\b\b\b\b\b\b\b\b\b\b\b\b\b\b\b\b\b\b\b\b\b\b\b\b\b\b\b\b\b\b\b\b\b\b\b\b\b\b\b\b\b\b\b\b\b\b\b\b\b\b\b\b\b\b\b\b\b\b\b\b\b\b\b\b\b\b\b\b\b\b\b\b\b\b\b\b\b\b\b\r22/22 [==============================] - 5s 216ms/step - loss: 0.0696 - accuracy: 0.7333\n",
            "Epoch 116/200\n",
            "22/22 [==============================] - ETA: 0s - loss: 0.0697 - accuracy: 0.7333"
          ]
        },
        {
          "output_type": "stream",
          "name": "stderr",
          "text": [
            "WARNING:tensorflow:Early stopping conditioned on metric `val_loss` which is not available. Available metrics are: loss,accuracy\n"
          ]
        },
        {
          "output_type": "stream",
          "name": "stdout",
          "text": [
            "\b\b\b\b\b\b\b\b\b\b\b\b\b\b\b\b\b\b\b\b\b\b\b\b\b\b\b\b\b\b\b\b\b\b\b\b\b\b\b\b\b\b\b\b\b\b\b\b\b\b\b\b\b\b\b\b\b\b\b\b\b\b\b\b\b\b\b\b\b\b\b\b\b\b\b\b\b\b\b\b\b\b\r22/22 [==============================] - 6s 279ms/step - loss: 0.0697 - accuracy: 0.7333\n",
            "Epoch 117/200\n",
            "22/22 [==============================] - ETA: 0s - loss: 0.0696 - accuracy: 0.7333"
          ]
        },
        {
          "output_type": "stream",
          "name": "stderr",
          "text": [
            "WARNING:tensorflow:Early stopping conditioned on metric `val_loss` which is not available. Available metrics are: loss,accuracy\n"
          ]
        },
        {
          "output_type": "stream",
          "name": "stdout",
          "text": [
            "\b\b\b\b\b\b\b\b\b\b\b\b\b\b\b\b\b\b\b\b\b\b\b\b\b\b\b\b\b\b\b\b\b\b\b\b\b\b\b\b\b\b\b\b\b\b\b\b\b\b\b\b\b\b\b\b\b\b\b\b\b\b\b\b\b\b\b\b\b\b\b\b\b\b\b\b\b\b\b\b\b\b\r22/22 [==============================] - 5s 218ms/step - loss: 0.0696 - accuracy: 0.7333\n",
            "Epoch 118/200\n",
            "22/22 [==============================] - ETA: 0s - loss: 0.0696 - accuracy: 0.7332"
          ]
        },
        {
          "output_type": "stream",
          "name": "stderr",
          "text": [
            "WARNING:tensorflow:Early stopping conditioned on metric `val_loss` which is not available. Available metrics are: loss,accuracy\n"
          ]
        },
        {
          "output_type": "stream",
          "name": "stdout",
          "text": [
            "\b\b\b\b\b\b\b\b\b\b\b\b\b\b\b\b\b\b\b\b\b\b\b\b\b\b\b\b\b\b\b\b\b\b\b\b\b\b\b\b\b\b\b\b\b\b\b\b\b\b\b\b\b\b\b\b\b\b\b\b\b\b\b\b\b\b\b\b\b\b\b\b\b\b\b\b\b\b\b\b\b\b\r22/22 [==============================] - 6s 255ms/step - loss: 0.0696 - accuracy: 0.7332\n",
            "Epoch 119/200\n",
            "22/22 [==============================] - ETA: 0s - loss: 0.0695 - accuracy: 0.7334"
          ]
        },
        {
          "output_type": "stream",
          "name": "stderr",
          "text": [
            "WARNING:tensorflow:Early stopping conditioned on metric `val_loss` which is not available. Available metrics are: loss,accuracy\n"
          ]
        },
        {
          "output_type": "stream",
          "name": "stdout",
          "text": [
            "\b\b\b\b\b\b\b\b\b\b\b\b\b\b\b\b\b\b\b\b\b\b\b\b\b\b\b\b\b\b\b\b\b\b\b\b\b\b\b\b\b\b\b\b\b\b\b\b\b\b\b\b\b\b\b\b\b\b\b\b\b\b\b\b\b\b\b\b\b\b\b\b\b\b\b\b\b\b\b\b\b\b\r22/22 [==============================] - 5s 231ms/step - loss: 0.0695 - accuracy: 0.7334\n",
            "Epoch 120/200\n",
            "22/22 [==============================] - ETA: 0s - loss: 0.0694 - accuracy: 0.7333"
          ]
        },
        {
          "output_type": "stream",
          "name": "stderr",
          "text": [
            "WARNING:tensorflow:Early stopping conditioned on metric `val_loss` which is not available. Available metrics are: loss,accuracy\n"
          ]
        },
        {
          "output_type": "stream",
          "name": "stdout",
          "text": [
            "\b\b\b\b\b\b\b\b\b\b\b\b\b\b\b\b\b\b\b\b\b\b\b\b\b\b\b\b\b\b\b\b\b\b\b\b\b\b\b\b\b\b\b\b\b\b\b\b\b\b\b\b\b\b\b\b\b\b\b\b\b\b\b\b\b\b\b\b\b\b\b\b\b\b\b\b\b\b\b\b\b\b\r22/22 [==============================] - 5s 220ms/step - loss: 0.0694 - accuracy: 0.7333\n",
            "Epoch 121/200\n",
            "22/22 [==============================] - ETA: 0s - loss: 0.0694 - accuracy: 0.7333"
          ]
        },
        {
          "output_type": "stream",
          "name": "stderr",
          "text": [
            "WARNING:tensorflow:Early stopping conditioned on metric `val_loss` which is not available. Available metrics are: loss,accuracy\n"
          ]
        },
        {
          "output_type": "stream",
          "name": "stdout",
          "text": [
            "\b\b\b\b\b\b\b\b\b\b\b\b\b\b\b\b\b\b\b\b\b\b\b\b\b\b\b\b\b\b\b\b\b\b\b\b\b\b\b\b\b\b\b\b\b\b\b\b\b\b\b\b\b\b\b\b\b\b\b\b\b\b\b\b\b\b\b\b\b\b\b\b\b\b\b\b\b\b\b\b\b\b\r22/22 [==============================] - 6s 275ms/step - loss: 0.0694 - accuracy: 0.7333\n",
            "Epoch 122/200\n",
            "22/22 [==============================] - ETA: 0s - loss: 0.0695 - accuracy: 0.7333"
          ]
        },
        {
          "output_type": "stream",
          "name": "stderr",
          "text": [
            "WARNING:tensorflow:Early stopping conditioned on metric `val_loss` which is not available. Available metrics are: loss,accuracy\n"
          ]
        },
        {
          "output_type": "stream",
          "name": "stdout",
          "text": [
            "\b\b\b\b\b\b\b\b\b\b\b\b\b\b\b\b\b\b\b\b\b\b\b\b\b\b\b\b\b\b\b\b\b\b\b\b\b\b\b\b\b\b\b\b\b\b\b\b\b\b\b\b\b\b\b\b\b\b\b\b\b\b\b\b\b\b\b\b\b\b\b\b\b\b\b\b\b\b\b\b\b\b\r22/22 [==============================] - 5s 218ms/step - loss: 0.0695 - accuracy: 0.7333\n",
            "Epoch 123/200\n",
            "22/22 [==============================] - ETA: 0s - loss: 0.0693 - accuracy: 0.7335"
          ]
        },
        {
          "output_type": "stream",
          "name": "stderr",
          "text": [
            "WARNING:tensorflow:Early stopping conditioned on metric `val_loss` which is not available. Available metrics are: loss,accuracy\n"
          ]
        },
        {
          "output_type": "stream",
          "name": "stdout",
          "text": [
            "\b\b\b\b\b\b\b\b\b\b\b\b\b\b\b\b\b\b\b\b\b\b\b\b\b\b\b\b\b\b\b\b\b\b\b\b\b\b\b\b\b\b\b\b\b\b\b\b\b\b\b\b\b\b\b\b\b\b\b\b\b\b\b\b\b\b\b\b\b\b\b\b\b\b\b\b\b\b\b\b\b\b\r22/22 [==============================] - 5s 231ms/step - loss: 0.0693 - accuracy: 0.7335\n",
            "Epoch 124/200\n",
            "22/22 [==============================] - ETA: 0s - loss: 0.0693 - accuracy: 0.7335"
          ]
        },
        {
          "output_type": "stream",
          "name": "stderr",
          "text": [
            "WARNING:tensorflow:Early stopping conditioned on metric `val_loss` which is not available. Available metrics are: loss,accuracy\n"
          ]
        },
        {
          "output_type": "stream",
          "name": "stdout",
          "text": [
            "\b\b\b\b\b\b\b\b\b\b\b\b\b\b\b\b\b\b\b\b\b\b\b\b\b\b\b\b\b\b\b\b\b\b\b\b\b\b\b\b\b\b\b\b\b\b\b\b\b\b\b\b\b\b\b\b\b\b\b\b\b\b\b\b\b\b\b\b\b\b\b\b\b\b\b\b\b\b\b\b\b\b\r22/22 [==============================] - 6s 254ms/step - loss: 0.0693 - accuracy: 0.7335\n",
            "Epoch 125/200\n",
            "22/22 [==============================] - ETA: 0s - loss: 0.0695 - accuracy: 0.7332"
          ]
        },
        {
          "output_type": "stream",
          "name": "stderr",
          "text": [
            "WARNING:tensorflow:Early stopping conditioned on metric `val_loss` which is not available. Available metrics are: loss,accuracy\n"
          ]
        },
        {
          "output_type": "stream",
          "name": "stdout",
          "text": [
            "\b\b\b\b\b\b\b\b\b\b\b\b\b\b\b\b\b\b\b\b\b\b\b\b\b\b\b\b\b\b\b\b\b\b\b\b\b\b\b\b\b\b\b\b\b\b\b\b\b\b\b\b\b\b\b\b\b\b\b\b\b\b\b\b\b\b\b\b\b\b\b\b\b\b\b\b\b\b\b\b\b\b\r22/22 [==============================] - 5s 216ms/step - loss: 0.0695 - accuracy: 0.7332\n",
            "Epoch 126/200\n",
            "22/22 [==============================] - ETA: 0s - loss: 0.0695 - accuracy: 0.7334"
          ]
        },
        {
          "output_type": "stream",
          "name": "stderr",
          "text": [
            "WARNING:tensorflow:Early stopping conditioned on metric `val_loss` which is not available. Available metrics are: loss,accuracy\n"
          ]
        },
        {
          "output_type": "stream",
          "name": "stdout",
          "text": [
            "\b\b\b\b\b\b\b\b\b\b\b\b\b\b\b\b\b\b\b\b\b\b\b\b\b\b\b\b\b\b\b\b\b\b\b\b\b\b\b\b\b\b\b\b\b\b\b\b\b\b\b\b\b\b\b\b\b\b\b\b\b\b\b\b\b\b\b\b\b\b\b\b\b\b\b\b\b\b\b\b\b\b\r22/22 [==============================] - 6s 279ms/step - loss: 0.0695 - accuracy: 0.7334\n",
            "Epoch 127/200\n",
            "22/22 [==============================] - ETA: 0s - loss: 0.0696 - accuracy: 0.7333"
          ]
        },
        {
          "output_type": "stream",
          "name": "stderr",
          "text": [
            "WARNING:tensorflow:Early stopping conditioned on metric `val_loss` which is not available. Available metrics are: loss,accuracy\n"
          ]
        },
        {
          "output_type": "stream",
          "name": "stdout",
          "text": [
            "\b\b\b\b\b\b\b\b\b\b\b\b\b\b\b\b\b\b\b\b\b\b\b\b\b\b\b\b\b\b\b\b\b\b\b\b\b\b\b\b\b\b\b\b\b\b\b\b\b\b\b\b\b\b\b\b\b\b\b\b\b\b\b\b\b\b\b\b\b\b\b\b\b\b\b\b\b\b\b\b\b\b\r22/22 [==============================] - 5s 220ms/step - loss: 0.0696 - accuracy: 0.7333\n",
            "Epoch 128/200\n",
            "22/22 [==============================] - ETA: 0s - loss: 0.0694 - accuracy: 0.7334"
          ]
        },
        {
          "output_type": "stream",
          "name": "stderr",
          "text": [
            "WARNING:tensorflow:Early stopping conditioned on metric `val_loss` which is not available. Available metrics are: loss,accuracy\n"
          ]
        },
        {
          "output_type": "stream",
          "name": "stdout",
          "text": [
            "\b\b\b\b\b\b\b\b\b\b\b\b\b\b\b\b\b\b\b\b\b\b\b\b\b\b\b\b\b\b\b\b\b\b\b\b\b\b\b\b\b\b\b\b\b\b\b\b\b\b\b\b\b\b\b\b\b\b\b\b\b\b\b\b\b\b\b\b\b\b\b\b\b\b\b\b\b\b\b\b\b\b\r22/22 [==============================] - 5s 224ms/step - loss: 0.0694 - accuracy: 0.7334\n",
            "Epoch 129/200\n",
            "22/22 [==============================] - ETA: 0s - loss: 0.0695 - accuracy: 0.7333"
          ]
        },
        {
          "output_type": "stream",
          "name": "stderr",
          "text": [
            "WARNING:tensorflow:Early stopping conditioned on metric `val_loss` which is not available. Available metrics are: loss,accuracy\n"
          ]
        },
        {
          "output_type": "stream",
          "name": "stdout",
          "text": [
            "\b\b\b\b\b\b\b\b\b\b\b\b\b\b\b\b\b\b\b\b\b\b\b\b\b\b\b\b\b\b\b\b\b\b\b\b\b\b\b\b\b\b\b\b\b\b\b\b\b\b\b\b\b\b\b\b\b\b\b\b\b\b\b\b\b\b\b\b\b\b\b\b\b\b\b\b\b\b\b\b\b\b\r22/22 [==============================] - 6s 269ms/step - loss: 0.0695 - accuracy: 0.7333\n",
            "Epoch 130/200\n",
            "22/22 [==============================] - ETA: 0s - loss: 0.0695 - accuracy: 0.7333"
          ]
        },
        {
          "output_type": "stream",
          "name": "stderr",
          "text": [
            "WARNING:tensorflow:Early stopping conditioned on metric `val_loss` which is not available. Available metrics are: loss,accuracy\n"
          ]
        },
        {
          "output_type": "stream",
          "name": "stdout",
          "text": [
            "\b\b\b\b\b\b\b\b\b\b\b\b\b\b\b\b\b\b\b\b\b\b\b\b\b\b\b\b\b\b\b\b\b\b\b\b\b\b\b\b\b\b\b\b\b\b\b\b\b\b\b\b\b\b\b\b\b\b\b\b\b\b\b\b\b\b\b\b\b\b\b\b\b\b\b\b\b\b\b\b\b\b\r22/22 [==============================] - 5s 220ms/step - loss: 0.0695 - accuracy: 0.7333\n",
            "Epoch 131/200\n",
            "22/22 [==============================] - ETA: 0s - loss: 0.0694 - accuracy: 0.7334"
          ]
        },
        {
          "output_type": "stream",
          "name": "stderr",
          "text": [
            "WARNING:tensorflow:Early stopping conditioned on metric `val_loss` which is not available. Available metrics are: loss,accuracy\n"
          ]
        },
        {
          "output_type": "stream",
          "name": "stdout",
          "text": [
            "\b\b\b\b\b\b\b\b\b\b\b\b\b\b\b\b\b\b\b\b\b\b\b\b\b\b\b\b\b\b\b\b\b\b\b\b\b\b\b\b\b\b\b\b\b\b\b\b\b\b\b\b\b\b\b\b\b\b\b\b\b\b\b\b\b\b\b\b\b\b\b\b\b\b\b\b\b\b\b\b\b\b\r22/22 [==============================] - 6s 270ms/step - loss: 0.0694 - accuracy: 0.7334\n",
            "Epoch 132/200\n",
            "22/22 [==============================] - ETA: 0s - loss: 0.0695 - accuracy: 0.7333"
          ]
        },
        {
          "output_type": "stream",
          "name": "stderr",
          "text": [
            "WARNING:tensorflow:Early stopping conditioned on metric `val_loss` which is not available. Available metrics are: loss,accuracy\n"
          ]
        },
        {
          "output_type": "stream",
          "name": "stdout",
          "text": [
            "\b\b\b\b\b\b\b\b\b\b\b\b\b\b\b\b\b\b\b\b\b\b\b\b\b\b\b\b\b\b\b\b\b\b\b\b\b\b\b\b\b\b\b\b\b\b\b\b\b\b\b\b\b\b\b\b\b\b\b\b\b\b\b\b\b\b\b\b\b\b\b\b\b\b\b\b\b\b\b\b\b\b\r22/22 [==============================] - 5s 218ms/step - loss: 0.0695 - accuracy: 0.7333\n",
            "Epoch 133/200\n",
            "22/22 [==============================] - ETA: 0s - loss: 0.0694 - accuracy: 0.7334"
          ]
        },
        {
          "output_type": "stream",
          "name": "stderr",
          "text": [
            "WARNING:tensorflow:Early stopping conditioned on metric `val_loss` which is not available. Available metrics are: loss,accuracy\n"
          ]
        },
        {
          "output_type": "stream",
          "name": "stdout",
          "text": [
            "\b\b\b\b\b\b\b\b\b\b\b\b\b\b\b\b\b\b\b\b\b\b\b\b\b\b\b\b\b\b\b\b\b\b\b\b\b\b\b\b\b\b\b\b\b\b\b\b\b\b\b\b\b\b\b\b\b\b\b\b\b\b\b\b\b\b\b\b\b\b\b\b\b\b\b\b\b\b\b\b\b\b\r22/22 [==============================] - 5s 215ms/step - loss: 0.0694 - accuracy: 0.7334\n",
            "Epoch 134/200\n",
            "22/22 [==============================] - ETA: 0s - loss: 0.0696 - accuracy: 0.7331"
          ]
        },
        {
          "output_type": "stream",
          "name": "stderr",
          "text": [
            "WARNING:tensorflow:Early stopping conditioned on metric `val_loss` which is not available. Available metrics are: loss,accuracy\n"
          ]
        },
        {
          "output_type": "stream",
          "name": "stdout",
          "text": [
            "\b\b\b\b\b\b\b\b\b\b\b\b\b\b\b\b\b\b\b\b\b\b\b\b\b\b\b\b\b\b\b\b\b\b\b\b\b\b\b\b\b\b\b\b\b\b\b\b\b\b\b\b\b\b\b\b\b\b\b\b\b\b\b\b\b\b\b\b\b\b\b\b\b\b\b\b\b\b\b\b\b\b\r22/22 [==============================] - 6s 278ms/step - loss: 0.0696 - accuracy: 0.7331\n",
            "Epoch 135/200\n",
            "22/22 [==============================] - ETA: 0s - loss: 0.0693 - accuracy: 0.7334"
          ]
        },
        {
          "output_type": "stream",
          "name": "stderr",
          "text": [
            "WARNING:tensorflow:Early stopping conditioned on metric `val_loss` which is not available. Available metrics are: loss,accuracy\n"
          ]
        },
        {
          "output_type": "stream",
          "name": "stdout",
          "text": [
            "\b\b\b\b\b\b\b\b\b\b\b\b\b\b\b\b\b\b\b\b\b\b\b\b\b\b\b\b\b\b\b\b\b\b\b\b\b\b\b\b\b\b\b\b\b\b\b\b\b\b\b\b\b\b\b\b\b\b\b\b\b\b\b\b\b\b\b\b\b\b\b\b\b\b\b\b\b\b\b\b\b\b\r22/22 [==============================] - 5s 221ms/step - loss: 0.0693 - accuracy: 0.7334\n",
            "Epoch 136/200\n",
            "22/22 [==============================] - ETA: 0s - loss: 0.0693 - accuracy: 0.7334"
          ]
        },
        {
          "output_type": "stream",
          "name": "stderr",
          "text": [
            "WARNING:tensorflow:Early stopping conditioned on metric `val_loss` which is not available. Available metrics are: loss,accuracy\n"
          ]
        },
        {
          "output_type": "stream",
          "name": "stdout",
          "text": [
            "\b\b\b\b\b\b\b\b\b\b\b\b\b\b\b\b\b\b\b\b\b\b\b\b\b\b\b\b\b\b\b\b\b\b\b\b\b\b\b\b\b\b\b\b\b\b\b\b\b\b\b\b\b\b\b\b\b\b\b\b\b\b\b\b\b\b\b\b\b\b\b\b\b\b\b\b\b\b\b\b\b\b\r22/22 [==============================] - 5s 249ms/step - loss: 0.0693 - accuracy: 0.7334\n",
            "Epoch 137/200\n",
            "22/22 [==============================] - ETA: 0s - loss: 0.0695 - accuracy: 0.7335"
          ]
        },
        {
          "output_type": "stream",
          "name": "stderr",
          "text": [
            "WARNING:tensorflow:Early stopping conditioned on metric `val_loss` which is not available. Available metrics are: loss,accuracy\n"
          ]
        },
        {
          "output_type": "stream",
          "name": "stdout",
          "text": [
            "\b\b\b\b\b\b\b\b\b\b\b\b\b\b\b\b\b\b\b\b\b\b\b\b\b\b\b\b\b\b\b\b\b\b\b\b\b\b\b\b\b\b\b\b\b\b\b\b\b\b\b\b\b\b\b\b\b\b\b\b\b\b\b\b\b\b\b\b\b\b\b\b\b\b\b\b\b\b\b\b\b\b\r22/22 [==============================] - 5s 242ms/step - loss: 0.0695 - accuracy: 0.7335\n",
            "Epoch 138/200\n",
            "22/22 [==============================] - ETA: 0s - loss: 0.0693 - accuracy: 0.7334"
          ]
        },
        {
          "output_type": "stream",
          "name": "stderr",
          "text": [
            "WARNING:tensorflow:Early stopping conditioned on metric `val_loss` which is not available. Available metrics are: loss,accuracy\n"
          ]
        },
        {
          "output_type": "stream",
          "name": "stdout",
          "text": [
            "\b\b\b\b\b\b\b\b\b\b\b\b\b\b\b\b\b\b\b\b\b\b\b\b\b\b\b\b\b\b\b\b\b\b\b\b\b\b\b\b\b\b\b\b\b\b\b\b\b\b\b\b\b\b\b\b\b\b\b\b\b\b\b\b\b\b\b\b\b\b\b\b\b\b\b\b\b\b\b\b\b\b\r22/22 [==============================] - 5s 221ms/step - loss: 0.0693 - accuracy: 0.7334\n",
            "Epoch 139/200\n",
            "22/22 [==============================] - ETA: 0s - loss: 0.0694 - accuracy: 0.7335"
          ]
        },
        {
          "output_type": "stream",
          "name": "stderr",
          "text": [
            "WARNING:tensorflow:Early stopping conditioned on metric `val_loss` which is not available. Available metrics are: loss,accuracy\n"
          ]
        },
        {
          "output_type": "stream",
          "name": "stdout",
          "text": [
            "\b\b\b\b\b\b\b\b\b\b\b\b\b\b\b\b\b\b\b\b\b\b\b\b\b\b\b\b\b\b\b\b\b\b\b\b\b\b\b\b\b\b\b\b\b\b\b\b\b\b\b\b\b\b\b\b\b\b\b\b\b\b\b\b\b\b\b\b\b\b\b\b\b\b\b\b\b\b\b\b\b\b\r22/22 [==============================] - 6s 280ms/step - loss: 0.0694 - accuracy: 0.7335\n",
            "Epoch 140/200\n",
            "22/22 [==============================] - ETA: 0s - loss: 0.0693 - accuracy: 0.7336"
          ]
        },
        {
          "output_type": "stream",
          "name": "stderr",
          "text": [
            "WARNING:tensorflow:Early stopping conditioned on metric `val_loss` which is not available. Available metrics are: loss,accuracy\n"
          ]
        },
        {
          "output_type": "stream",
          "name": "stdout",
          "text": [
            "\b\b\b\b\b\b\b\b\b\b\b\b\b\b\b\b\b\b\b\b\b\b\b\b\b\b\b\b\b\b\b\b\b\b\b\b\b\b\b\b\b\b\b\b\b\b\b\b\b\b\b\b\b\b\b\b\b\b\b\b\b\b\b\b\b\b\b\b\b\b\b\b\b\b\b\b\b\b\b\b\b\b\r22/22 [==============================] - 5s 231ms/step - loss: 0.0693 - accuracy: 0.7336\n",
            "Epoch 141/200\n",
            "22/22 [==============================] - ETA: 0s - loss: 0.0692 - accuracy: 0.7336"
          ]
        },
        {
          "output_type": "stream",
          "name": "stderr",
          "text": [
            "WARNING:tensorflow:Early stopping conditioned on metric `val_loss` which is not available. Available metrics are: loss,accuracy\n"
          ]
        },
        {
          "output_type": "stream",
          "name": "stdout",
          "text": [
            "\b\b\b\b\b\b\b\b\b\b\b\b\b\b\b\b\b\b\b\b\b\b\b\b\b\b\b\b\b\b\b\b\b\b\b\b\b\b\b\b\b\b\b\b\b\b\b\b\b\b\b\b\b\b\b\b\b\b\b\b\b\b\b\b\b\b\b\b\b\b\b\b\b\b\b\b\b\b\b\b\b\b\r22/22 [==============================] - 6s 254ms/step - loss: 0.0692 - accuracy: 0.7336\n",
            "Epoch 142/200\n",
            "22/22 [==============================] - ETA: 0s - loss: 0.0691 - accuracy: 0.7337"
          ]
        },
        {
          "output_type": "stream",
          "name": "stderr",
          "text": [
            "WARNING:tensorflow:Early stopping conditioned on metric `val_loss` which is not available. Available metrics are: loss,accuracy\n"
          ]
        },
        {
          "output_type": "stream",
          "name": "stdout",
          "text": [
            "\b\b\b\b\b\b\b\b\b\b\b\b\b\b\b\b\b\b\b\b\b\b\b\b\b\b\b\b\b\b\b\b\b\b\b\b\b\b\b\b\b\b\b\b\b\b\b\b\b\b\b\b\b\b\b\b\b\b\b\b\b\b\b\b\b\b\b\b\b\b\b\b\b\b\b\b\b\b\b\b\b\b\r22/22 [==============================] - 6s 259ms/step - loss: 0.0691 - accuracy: 0.7337\n",
            "Epoch 143/200\n",
            "22/22 [==============================] - ETA: 0s - loss: 0.0691 - accuracy: 0.7334"
          ]
        },
        {
          "output_type": "stream",
          "name": "stderr",
          "text": [
            "WARNING:tensorflow:Early stopping conditioned on metric `val_loss` which is not available. Available metrics are: loss,accuracy\n"
          ]
        },
        {
          "output_type": "stream",
          "name": "stdout",
          "text": [
            "\b\b\b\b\b\b\b\b\b\b\b\b\b\b\b\b\b\b\b\b\b\b\b\b\b\b\b\b\b\b\b\b\b\b\b\b\b\b\b\b\b\b\b\b\b\b\b\b\b\b\b\b\b\b\b\b\b\b\b\b\b\b\b\b\b\b\b\b\b\b\b\b\b\b\b\b\b\b\b\b\b\b\r22/22 [==============================] - 5s 226ms/step - loss: 0.0691 - accuracy: 0.7334\n",
            "Epoch 144/200\n",
            "22/22 [==============================] - ETA: 0s - loss: 0.0691 - accuracy: 0.7336"
          ]
        },
        {
          "output_type": "stream",
          "name": "stderr",
          "text": [
            "WARNING:tensorflow:Early stopping conditioned on metric `val_loss` which is not available. Available metrics are: loss,accuracy\n"
          ]
        },
        {
          "output_type": "stream",
          "name": "stdout",
          "text": [
            "\b\b\b\b\b\b\b\b\b\b\b\b\b\b\b\b\b\b\b\b\b\b\b\b\b\b\b\b\b\b\b\b\b\b\b\b\b\b\b\b\b\b\b\b\b\b\b\b\b\b\b\b\b\b\b\b\b\b\b\b\b\b\b\b\b\b\b\b\b\b\b\b\b\b\b\b\b\b\b\b\b\b\r22/22 [==============================] - 6s 289ms/step - loss: 0.0691 - accuracy: 0.7336\n",
            "Epoch 145/200\n",
            "22/22 [==============================] - ETA: 0s - loss: 0.0693 - accuracy: 0.7335"
          ]
        },
        {
          "output_type": "stream",
          "name": "stderr",
          "text": [
            "WARNING:tensorflow:Early stopping conditioned on metric `val_loss` which is not available. Available metrics are: loss,accuracy\n"
          ]
        },
        {
          "output_type": "stream",
          "name": "stdout",
          "text": [
            "\b\b\b\b\b\b\b\b\b\b\b\b\b\b\b\b\b\b\b\b\b\b\b\b\b\b\b\b\b\b\b\b\b\b\b\b\b\b\b\b\b\b\b\b\b\b\b\b\b\b\b\b\b\b\b\b\b\b\b\b\b\b\b\b\b\b\b\b\b\b\b\b\b\b\b\b\b\b\b\b\b\b\r22/22 [==============================] - 5s 226ms/step - loss: 0.0693 - accuracy: 0.7335\n",
            "Epoch 146/200\n",
            "22/22 [==============================] - ETA: 0s - loss: 0.0694 - accuracy: 0.7335"
          ]
        },
        {
          "output_type": "stream",
          "name": "stderr",
          "text": [
            "WARNING:tensorflow:Early stopping conditioned on metric `val_loss` which is not available. Available metrics are: loss,accuracy\n"
          ]
        },
        {
          "output_type": "stream",
          "name": "stdout",
          "text": [
            "\b\b\b\b\b\b\b\b\b\b\b\b\b\b\b\b\b\b\b\b\b\b\b\b\b\b\b\b\b\b\b\b\b\b\b\b\b\b\b\b\b\b\b\b\b\b\b\b\b\b\b\b\b\b\b\b\b\b\b\b\b\b\b\b\b\b\b\b\b\b\b\b\b\b\b\b\b\b\b\b\b\b\r22/22 [==============================] - 6s 252ms/step - loss: 0.0694 - accuracy: 0.7335\n",
            "Epoch 147/200\n",
            "22/22 [==============================] - ETA: 0s - loss: 0.0693 - accuracy: 0.7334"
          ]
        },
        {
          "output_type": "stream",
          "name": "stderr",
          "text": [
            "WARNING:tensorflow:Early stopping conditioned on metric `val_loss` which is not available. Available metrics are: loss,accuracy\n"
          ]
        },
        {
          "output_type": "stream",
          "name": "stdout",
          "text": [
            "\b\b\b\b\b\b\b\b\b\b\b\b\b\b\b\b\b\b\b\b\b\b\b\b\b\b\b\b\b\b\b\b\b\b\b\b\b\b\b\b\b\b\b\b\b\b\b\b\b\b\b\b\b\b\b\b\b\b\b\b\b\b\b\b\b\b\b\b\b\b\b\b\b\b\b\b\b\b\b\b\b\b\r22/22 [==============================] - 5s 241ms/step - loss: 0.0693 - accuracy: 0.7334\n",
            "Epoch 148/200\n",
            "22/22 [==============================] - ETA: 0s - loss: 0.0693 - accuracy: 0.7335"
          ]
        },
        {
          "output_type": "stream",
          "name": "stderr",
          "text": [
            "WARNING:tensorflow:Early stopping conditioned on metric `val_loss` which is not available. Available metrics are: loss,accuracy\n"
          ]
        },
        {
          "output_type": "stream",
          "name": "stdout",
          "text": [
            "\b\b\b\b\b\b\b\b\b\b\b\b\b\b\b\b\b\b\b\b\b\b\b\b\b\b\b\b\b\b\b\b\b\b\b\b\b\b\b\b\b\b\b\b\b\b\b\b\b\b\b\b\b\b\b\b\b\b\b\b\b\b\b\b\b\b\b\b\b\b\b\b\b\b\b\b\b\b\b\b\b\b\r22/22 [==============================] - 5s 215ms/step - loss: 0.0693 - accuracy: 0.7335\n",
            "Epoch 149/200\n",
            "22/22 [==============================] - ETA: 0s - loss: 0.0692 - accuracy: 0.7335"
          ]
        },
        {
          "output_type": "stream",
          "name": "stderr",
          "text": [
            "WARNING:tensorflow:Early stopping conditioned on metric `val_loss` which is not available. Available metrics are: loss,accuracy\n"
          ]
        },
        {
          "output_type": "stream",
          "name": "stdout",
          "text": [
            "\b\b\b\b\b\b\b\b\b\b\b\b\b\b\b\b\b\b\b\b\b\b\b\b\b\b\b\b\b\b\b\b\b\b\b\b\b\b\b\b\b\b\b\b\b\b\b\b\b\b\b\b\b\b\b\b\b\b\b\b\b\b\b\b\b\b\b\b\b\b\b\b\b\b\b\b\b\b\b\b\b\b\r22/22 [==============================] - 6s 277ms/step - loss: 0.0692 - accuracy: 0.7335\n",
            "Epoch 150/200\n",
            "22/22 [==============================] - ETA: 0s - loss: 0.0690 - accuracy: 0.7336"
          ]
        },
        {
          "output_type": "stream",
          "name": "stderr",
          "text": [
            "WARNING:tensorflow:Early stopping conditioned on metric `val_loss` which is not available. Available metrics are: loss,accuracy\n"
          ]
        },
        {
          "output_type": "stream",
          "name": "stdout",
          "text": [
            "\b\b\b\b\b\b\b\b\b\b\b\b\b\b\b\b\b\b\b\b\b\b\b\b\b\b\b\b\b\b\b\b\b\b\b\b\b\b\b\b\b\b\b\b\b\b\b\b\b\b\b\b\b\b\b\b\b\b\b\b\b\b\b\b\b\b\b\b\b\b\b\b\b\b\b\b\b\b\b\b\b\b\r22/22 [==============================] - 5s 218ms/step - loss: 0.0690 - accuracy: 0.7336\n",
            "Epoch 151/200\n",
            "22/22 [==============================] - ETA: 0s - loss: 0.0693 - accuracy: 0.7334"
          ]
        },
        {
          "output_type": "stream",
          "name": "stderr",
          "text": [
            "WARNING:tensorflow:Early stopping conditioned on metric `val_loss` which is not available. Available metrics are: loss,accuracy\n"
          ]
        },
        {
          "output_type": "stream",
          "name": "stdout",
          "text": [
            "\b\b\b\b\b\b\b\b\b\b\b\b\b\b\b\b\b\b\b\b\b\b\b\b\b\b\b\b\b\b\b\b\b\b\b\b\b\b\b\b\b\b\b\b\b\b\b\b\b\b\b\b\b\b\b\b\b\b\b\b\b\b\b\b\b\b\b\b\b\b\b\b\b\b\b\b\b\b\b\b\b\b\r22/22 [==============================] - 5s 238ms/step - loss: 0.0693 - accuracy: 0.7334\n",
            "Epoch 152/200\n",
            "22/22 [==============================] - ETA: 0s - loss: 0.0694 - accuracy: 0.7334"
          ]
        },
        {
          "output_type": "stream",
          "name": "stderr",
          "text": [
            "WARNING:tensorflow:Early stopping conditioned on metric `val_loss` which is not available. Available metrics are: loss,accuracy\n"
          ]
        },
        {
          "output_type": "stream",
          "name": "stdout",
          "text": [
            "\b\b\b\b\b\b\b\b\b\b\b\b\b\b\b\b\b\b\b\b\b\b\b\b\b\b\b\b\b\b\b\b\b\b\b\b\b\b\b\b\b\b\b\b\b\b\b\b\b\b\b\b\b\b\b\b\b\b\b\b\b\b\b\b\b\b\b\b\b\b\b\b\b\b\b\b\b\b\b\b\b\b\r22/22 [==============================] - 6s 263ms/step - loss: 0.0694 - accuracy: 0.7334\n",
            "Epoch 153/200\n",
            "22/22 [==============================] - ETA: 0s - loss: 0.0692 - accuracy: 0.7336"
          ]
        },
        {
          "output_type": "stream",
          "name": "stderr",
          "text": [
            "WARNING:tensorflow:Early stopping conditioned on metric `val_loss` which is not available. Available metrics are: loss,accuracy\n"
          ]
        },
        {
          "output_type": "stream",
          "name": "stdout",
          "text": [
            "\b\b\b\b\b\b\b\b\b\b\b\b\b\b\b\b\b\b\b\b\b\b\b\b\b\b\b\b\b\b\b\b\b\b\b\b\b\b\b\b\b\b\b\b\b\b\b\b\b\b\b\b\b\b\b\b\b\b\b\b\b\b\b\b\b\b\b\b\b\b\b\b\b\b\b\b\b\b\b\b\b\b\r22/22 [==============================] - 5s 220ms/step - loss: 0.0692 - accuracy: 0.7336\n",
            "Epoch 154/200\n",
            "22/22 [==============================] - ETA: 0s - loss: 0.0694 - accuracy: 0.7333"
          ]
        },
        {
          "output_type": "stream",
          "name": "stderr",
          "text": [
            "WARNING:tensorflow:Early stopping conditioned on metric `val_loss` which is not available. Available metrics are: loss,accuracy\n"
          ]
        },
        {
          "output_type": "stream",
          "name": "stdout",
          "text": [
            "\b\b\b\b\b\b\b\b\b\b\b\b\b\b\b\b\b\b\b\b\b\b\b\b\b\b\b\b\b\b\b\b\b\b\b\b\b\b\b\b\b\b\b\b\b\b\b\b\b\b\b\b\b\b\b\b\b\b\b\b\b\b\b\b\b\b\b\b\b\b\b\b\b\b\b\b\b\b\b\b\b\b\r22/22 [==============================] - 6s 278ms/step - loss: 0.0694 - accuracy: 0.7333\n",
            "Epoch 155/200\n",
            "22/22 [==============================] - ETA: 0s - loss: 0.0691 - accuracy: 0.7337"
          ]
        },
        {
          "output_type": "stream",
          "name": "stderr",
          "text": [
            "WARNING:tensorflow:Early stopping conditioned on metric `val_loss` which is not available. Available metrics are: loss,accuracy\n"
          ]
        },
        {
          "output_type": "stream",
          "name": "stdout",
          "text": [
            "\b\b\b\b\b\b\b\b\b\b\b\b\b\b\b\b\b\b\b\b\b\b\b\b\b\b\b\b\b\b\b\b\b\b\b\b\b\b\b\b\b\b\b\b\b\b\b\b\b\b\b\b\b\b\b\b\b\b\b\b\b\b\b\b\b\b\b\b\b\b\b\b\b\b\b\b\b\b\b\b\b\b\r22/22 [==============================] - 5s 218ms/step - loss: 0.0691 - accuracy: 0.7337\n",
            "Epoch 156/200\n",
            "22/22 [==============================] - ETA: 0s - loss: 0.0692 - accuracy: 0.7338"
          ]
        },
        {
          "output_type": "stream",
          "name": "stderr",
          "text": [
            "WARNING:tensorflow:Early stopping conditioned on metric `val_loss` which is not available. Available metrics are: loss,accuracy\n"
          ]
        },
        {
          "output_type": "stream",
          "name": "stdout",
          "text": [
            "\b\b\b\b\b\b\b\b\b\b\b\b\b\b\b\b\b\b\b\b\b\b\b\b\b\b\b\b\b\b\b\b\b\b\b\b\b\b\b\b\b\b\b\b\b\b\b\b\b\b\b\b\b\b\b\b\b\b\b\b\b\b\b\b\b\b\b\b\b\b\b\b\b\b\b\b\b\b\b\b\b\b\r22/22 [==============================] - 5s 219ms/step - loss: 0.0692 - accuracy: 0.7338\n",
            "Epoch 157/200\n",
            "22/22 [==============================] - ETA: 0s - loss: 0.0691 - accuracy: 0.7338"
          ]
        },
        {
          "output_type": "stream",
          "name": "stderr",
          "text": [
            "WARNING:tensorflow:Early stopping conditioned on metric `val_loss` which is not available. Available metrics are: loss,accuracy\n"
          ]
        },
        {
          "output_type": "stream",
          "name": "stdout",
          "text": [
            "\b\b\b\b\b\b\b\b\b\b\b\b\b\b\b\b\b\b\b\b\b\b\b\b\b\b\b\b\b\b\b\b\b\b\b\b\b\b\b\b\b\b\b\b\b\b\b\b\b\b\b\b\b\b\b\b\b\b\b\b\b\b\b\b\b\b\b\b\b\b\b\b\b\b\b\b\b\b\b\b\b\b\r22/22 [==============================] - 6s 279ms/step - loss: 0.0691 - accuracy: 0.7338\n",
            "Epoch 158/200\n",
            "22/22 [==============================] - ETA: 0s - loss: 0.0689 - accuracy: 0.7339"
          ]
        },
        {
          "output_type": "stream",
          "name": "stderr",
          "text": [
            "WARNING:tensorflow:Early stopping conditioned on metric `val_loss` which is not available. Available metrics are: loss,accuracy\n"
          ]
        },
        {
          "output_type": "stream",
          "name": "stdout",
          "text": [
            "\b\b\b\b\b\b\b\b\b\b\b\b\b\b\b\b\b\b\b\b\b\b\b\b\b\b\b\b\b\b\b\b\b\b\b\b\b\b\b\b\b\b\b\b\b\b\b\b\b\b\b\b\b\b\b\b\b\b\b\b\b\b\b\b\b\b\b\b\b\b\b\b\b\b\b\b\b\b\b\b\b\b\r22/22 [==============================] - 5s 220ms/step - loss: 0.0689 - accuracy: 0.7339\n",
            "Epoch 159/200\n",
            "22/22 [==============================] - ETA: 0s - loss: 0.0690 - accuracy: 0.7338"
          ]
        },
        {
          "output_type": "stream",
          "name": "stderr",
          "text": [
            "WARNING:tensorflow:Early stopping conditioned on metric `val_loss` which is not available. Available metrics are: loss,accuracy\n"
          ]
        },
        {
          "output_type": "stream",
          "name": "stdout",
          "text": [
            "\b\b\b\b\b\b\b\b\b\b\b\b\b\b\b\b\b\b\b\b\b\b\b\b\b\b\b\b\b\b\b\b\b\b\b\b\b\b\b\b\b\b\b\b\b\b\b\b\b\b\b\b\b\b\b\b\b\b\b\b\b\b\b\b\b\b\b\b\b\b\b\b\b\b\b\b\b\b\b\b\b\b\r22/22 [==============================] - 6s 261ms/step - loss: 0.0690 - accuracy: 0.7338\n",
            "Epoch 160/200\n",
            "22/22 [==============================] - ETA: 0s - loss: 0.0688 - accuracy: 0.7339"
          ]
        },
        {
          "output_type": "stream",
          "name": "stderr",
          "text": [
            "WARNING:tensorflow:Early stopping conditioned on metric `val_loss` which is not available. Available metrics are: loss,accuracy\n"
          ]
        },
        {
          "output_type": "stream",
          "name": "stdout",
          "text": [
            "\b\b\b\b\b\b\b\b\b\b\b\b\b\b\b\b\b\b\b\b\b\b\b\b\b\b\b\b\b\b\b\b\b\b\b\b\b\b\b\b\b\b\b\b\b\b\b\b\b\b\b\b\b\b\b\b\b\b\b\b\b\b\b\b\b\b\b\b\b\b\b\b\b\b\b\b\b\b\b\b\b\b\r22/22 [==============================] - 5s 230ms/step - loss: 0.0688 - accuracy: 0.7339\n",
            "Epoch 161/200\n",
            "22/22 [==============================] - ETA: 0s - loss: 0.0688 - accuracy: 0.7338"
          ]
        },
        {
          "output_type": "stream",
          "name": "stderr",
          "text": [
            "WARNING:tensorflow:Early stopping conditioned on metric `val_loss` which is not available. Available metrics are: loss,accuracy\n"
          ]
        },
        {
          "output_type": "stream",
          "name": "stdout",
          "text": [
            "\b\b\b\b\b\b\b\b\b\b\b\b\b\b\b\b\b\b\b\b\b\b\b\b\b\b\b\b\b\b\b\b\b\b\b\b\b\b\b\b\b\b\b\b\b\b\b\b\b\b\b\b\b\b\b\b\b\b\b\b\b\b\b\b\b\b\b\b\b\b\b\b\b\b\b\b\b\b\b\b\b\b\r22/22 [==============================] - 5s 217ms/step - loss: 0.0688 - accuracy: 0.7338\n",
            "Epoch 162/200\n",
            "22/22 [==============================] - ETA: 0s - loss: 0.0689 - accuracy: 0.7340"
          ]
        },
        {
          "output_type": "stream",
          "name": "stderr",
          "text": [
            "WARNING:tensorflow:Early stopping conditioned on metric `val_loss` which is not available. Available metrics are: loss,accuracy\n"
          ]
        },
        {
          "output_type": "stream",
          "name": "stdout",
          "text": [
            "\b\b\b\b\b\b\b\b\b\b\b\b\b\b\b\b\b\b\b\b\b\b\b\b\b\b\b\b\b\b\b\b\b\b\b\b\b\b\b\b\b\b\b\b\b\b\b\b\b\b\b\b\b\b\b\b\b\b\b\b\b\b\b\b\b\b\b\b\b\b\b\b\b\b\b\b\b\b\b\b\b\b\r22/22 [==============================] - 6s 283ms/step - loss: 0.0689 - accuracy: 0.7340\n",
            "Epoch 163/200\n",
            "22/22 [==============================] - ETA: 0s - loss: 0.0688 - accuracy: 0.7340"
          ]
        },
        {
          "output_type": "stream",
          "name": "stderr",
          "text": [
            "WARNING:tensorflow:Early stopping conditioned on metric `val_loss` which is not available. Available metrics are: loss,accuracy\n"
          ]
        },
        {
          "output_type": "stream",
          "name": "stdout",
          "text": [
            "\b\b\b\b\b\b\b\b\b\b\b\b\b\b\b\b\b\b\b\b\b\b\b\b\b\b\b\b\b\b\b\b\b\b\b\b\b\b\b\b\b\b\b\b\b\b\b\b\b\b\b\b\b\b\b\b\b\b\b\b\b\b\b\b\b\b\b\b\b\b\b\b\b\b\b\b\b\b\b\b\b\b\r22/22 [==============================] - 5s 222ms/step - loss: 0.0688 - accuracy: 0.7340\n",
            "Epoch 164/200\n",
            "22/22 [==============================] - ETA: 0s - loss: 0.0688 - accuracy: 0.7340"
          ]
        },
        {
          "output_type": "stream",
          "name": "stderr",
          "text": [
            "WARNING:tensorflow:Early stopping conditioned on metric `val_loss` which is not available. Available metrics are: loss,accuracy\n"
          ]
        },
        {
          "output_type": "stream",
          "name": "stdout",
          "text": [
            "\b\b\b\b\b\b\b\b\b\b\b\b\b\b\b\b\b\b\b\b\b\b\b\b\b\b\b\b\b\b\b\b\b\b\b\b\b\b\b\b\b\b\b\b\b\b\b\b\b\b\b\b\b\b\b\b\b\b\b\b\b\b\b\b\b\b\b\b\b\b\b\b\b\b\b\b\b\b\b\b\b\b\r22/22 [==============================] - 5s 240ms/step - loss: 0.0688 - accuracy: 0.7340\n",
            "Epoch 165/200\n",
            "22/22 [==============================] - ETA: 0s - loss: 0.0690 - accuracy: 0.7340"
          ]
        },
        {
          "output_type": "stream",
          "name": "stderr",
          "text": [
            "WARNING:tensorflow:Early stopping conditioned on metric `val_loss` which is not available. Available metrics are: loss,accuracy\n"
          ]
        },
        {
          "output_type": "stream",
          "name": "stdout",
          "text": [
            "\b\b\b\b\b\b\b\b\b\b\b\b\b\b\b\b\b\b\b\b\b\b\b\b\b\b\b\b\b\b\b\b\b\b\b\b\b\b\b\b\b\b\b\b\b\b\b\b\b\b\b\b\b\b\b\b\b\b\b\b\b\b\b\b\b\b\b\b\b\b\b\b\b\b\b\b\b\b\b\b\b\b\r22/22 [==============================] - 6s 248ms/step - loss: 0.0690 - accuracy: 0.7340\n",
            "Epoch 166/200\n",
            "22/22 [==============================] - ETA: 0s - loss: 0.0690 - accuracy: 0.7340"
          ]
        },
        {
          "output_type": "stream",
          "name": "stderr",
          "text": [
            "WARNING:tensorflow:Early stopping conditioned on metric `val_loss` which is not available. Available metrics are: loss,accuracy\n"
          ]
        },
        {
          "output_type": "stream",
          "name": "stdout",
          "text": [
            "\b\b\b\b\b\b\b\b\b\b\b\b\b\b\b\b\b\b\b\b\b\b\b\b\b\b\b\b\b\b\b\b\b\b\b\b\b\b\b\b\b\b\b\b\b\b\b\b\b\b\b\b\b\b\b\b\b\b\b\b\b\b\b\b\b\b\b\b\b\b\b\b\b\b\b\b\b\b\b\b\b\b\r22/22 [==============================] - 5s 217ms/step - loss: 0.0690 - accuracy: 0.7340\n",
            "Epoch 167/200\n",
            "22/22 [==============================] - ETA: 0s - loss: 0.0688 - accuracy: 0.7341"
          ]
        },
        {
          "output_type": "stream",
          "name": "stderr",
          "text": [
            "WARNING:tensorflow:Early stopping conditioned on metric `val_loss` which is not available. Available metrics are: loss,accuracy\n"
          ]
        },
        {
          "output_type": "stream",
          "name": "stdout",
          "text": [
            "\b\b\b\b\b\b\b\b\b\b\b\b\b\b\b\b\b\b\b\b\b\b\b\b\b\b\b\b\b\b\b\b\b\b\b\b\b\b\b\b\b\b\b\b\b\b\b\b\b\b\b\b\b\b\b\b\b\b\b\b\b\b\b\b\b\b\b\b\b\b\b\b\b\b\b\b\b\b\b\b\b\b\r22/22 [==============================] - 6s 276ms/step - loss: 0.0688 - accuracy: 0.7341\n",
            "Epoch 168/200\n",
            "22/22 [==============================] - ETA: 0s - loss: 0.0687 - accuracy: 0.7341"
          ]
        },
        {
          "output_type": "stream",
          "name": "stderr",
          "text": [
            "WARNING:tensorflow:Early stopping conditioned on metric `val_loss` which is not available. Available metrics are: loss,accuracy\n"
          ]
        },
        {
          "output_type": "stream",
          "name": "stdout",
          "text": [
            "\b\b\b\b\b\b\b\b\b\b\b\b\b\b\b\b\b\b\b\b\b\b\b\b\b\b\b\b\b\b\b\b\b\b\b\b\b\b\b\b\b\b\b\b\b\b\b\b\b\b\b\b\b\b\b\b\b\b\b\b\b\b\b\b\b\b\b\b\b\b\b\b\b\b\b\b\b\b\b\b\b\b\r22/22 [==============================] - 5s 219ms/step - loss: 0.0687 - accuracy: 0.7341\n",
            "Epoch 169/200\n",
            "22/22 [==============================] - ETA: 0s - loss: 0.0687 - accuracy: 0.7341"
          ]
        },
        {
          "output_type": "stream",
          "name": "stderr",
          "text": [
            "WARNING:tensorflow:Early stopping conditioned on metric `val_loss` which is not available. Available metrics are: loss,accuracy\n"
          ]
        },
        {
          "output_type": "stream",
          "name": "stdout",
          "text": [
            "\b\b\b\b\b\b\b\b\b\b\b\b\b\b\b\b\b\b\b\b\b\b\b\b\b\b\b\b\b\b\b\b\b\b\b\b\b\b\b\b\b\b\b\b\b\b\b\b\b\b\b\b\b\b\b\b\b\b\b\b\b\b\b\b\b\b\b\b\b\b\b\b\b\b\b\b\b\b\b\b\b\b\r22/22 [==============================] - 5s 219ms/step - loss: 0.0687 - accuracy: 0.7341\n",
            "Epoch 170/200\n",
            "22/22 [==============================] - ETA: 0s - loss: 0.0687 - accuracy: 0.7341"
          ]
        },
        {
          "output_type": "stream",
          "name": "stderr",
          "text": [
            "WARNING:tensorflow:Early stopping conditioned on metric `val_loss` which is not available. Available metrics are: loss,accuracy\n"
          ]
        },
        {
          "output_type": "stream",
          "name": "stdout",
          "text": [
            "\b\b\b\b\b\b\b\b\b\b\b\b\b\b\b\b\b\b\b\b\b\b\b\b\b\b\b\b\b\b\b\b\b\b\b\b\b\b\b\b\b\b\b\b\b\b\b\b\b\b\b\b\b\b\b\b\b\b\b\b\b\b\b\b\b\b\b\b\b\b\b\b\b\b\b\b\b\b\b\b\b\b\r22/22 [==============================] - 6s 272ms/step - loss: 0.0687 - accuracy: 0.7341\n",
            "Epoch 171/200\n",
            "22/22 [==============================] - ETA: 0s - loss: 0.0686 - accuracy: 0.7340"
          ]
        },
        {
          "output_type": "stream",
          "name": "stderr",
          "text": [
            "WARNING:tensorflow:Early stopping conditioned on metric `val_loss` which is not available. Available metrics are: loss,accuracy\n"
          ]
        },
        {
          "output_type": "stream",
          "name": "stdout",
          "text": [
            "\b\b\b\b\b\b\b\b\b\b\b\b\b\b\b\b\b\b\b\b\b\b\b\b\b\b\b\b\b\b\b\b\b\b\b\b\b\b\b\b\b\b\b\b\b\b\b\b\b\b\b\b\b\b\b\b\b\b\b\b\b\b\b\b\b\b\b\b\b\b\b\b\b\b\b\b\b\b\b\b\b\b\r22/22 [==============================] - 5s 219ms/step - loss: 0.0686 - accuracy: 0.7340\n",
            "Epoch 172/200\n",
            "22/22 [==============================] - ETA: 0s - loss: 0.0689 - accuracy: 0.7340"
          ]
        },
        {
          "output_type": "stream",
          "name": "stderr",
          "text": [
            "WARNING:tensorflow:Early stopping conditioned on metric `val_loss` which is not available. Available metrics are: loss,accuracy\n"
          ]
        },
        {
          "output_type": "stream",
          "name": "stdout",
          "text": [
            "\b\b\b\b\b\b\b\b\b\b\b\b\b\b\b\b\b\b\b\b\b\b\b\b\b\b\b\b\b\b\b\b\b\b\b\b\b\b\b\b\b\b\b\b\b\b\b\b\b\b\b\b\b\b\b\b\b\b\b\b\b\b\b\b\b\b\b\b\b\b\b\b\b\b\b\b\b\b\b\b\b\b\r22/22 [==============================] - 6s 276ms/step - loss: 0.0689 - accuracy: 0.7340\n",
            "Epoch 173/200\n",
            "22/22 [==============================] - ETA: 0s - loss: 0.0687 - accuracy: 0.7341"
          ]
        },
        {
          "output_type": "stream",
          "name": "stderr",
          "text": [
            "WARNING:tensorflow:Early stopping conditioned on metric `val_loss` which is not available. Available metrics are: loss,accuracy\n"
          ]
        },
        {
          "output_type": "stream",
          "name": "stdout",
          "text": [
            "\b\b\b\b\b\b\b\b\b\b\b\b\b\b\b\b\b\b\b\b\b\b\b\b\b\b\b\b\b\b\b\b\b\b\b\b\b\b\b\b\b\b\b\b\b\b\b\b\b\b\b\b\b\b\b\b\b\b\b\b\b\b\b\b\b\b\b\b\b\b\b\b\b\b\b\b\b\b\b\b\b\b\r22/22 [==============================] - 5s 222ms/step - loss: 0.0687 - accuracy: 0.7341\n",
            "Epoch 174/200\n",
            "22/22 [==============================] - ETA: 0s - loss: 0.0685 - accuracy: 0.7341"
          ]
        },
        {
          "output_type": "stream",
          "name": "stderr",
          "text": [
            "WARNING:tensorflow:Early stopping conditioned on metric `val_loss` which is not available. Available metrics are: loss,accuracy\n"
          ]
        },
        {
          "output_type": "stream",
          "name": "stdout",
          "text": [
            "\b\b\b\b\b\b\b\b\b\b\b\b\b\b\b\b\b\b\b\b\b\b\b\b\b\b\b\b\b\b\b\b\b\b\b\b\b\b\b\b\b\b\b\b\b\b\b\b\b\b\b\b\b\b\b\b\b\b\b\b\b\b\b\b\b\b\b\b\b\b\b\b\b\b\b\b\b\b\b\b\b\b\r22/22 [==============================] - 5s 223ms/step - loss: 0.0685 - accuracy: 0.7341\n",
            "Epoch 175/200\n",
            "22/22 [==============================] - ETA: 0s - loss: 0.0685 - accuracy: 0.7342"
          ]
        },
        {
          "output_type": "stream",
          "name": "stderr",
          "text": [
            "WARNING:tensorflow:Early stopping conditioned on metric `val_loss` which is not available. Available metrics are: loss,accuracy\n"
          ]
        },
        {
          "output_type": "stream",
          "name": "stdout",
          "text": [
            "\b\b\b\b\b\b\b\b\b\b\b\b\b\b\b\b\b\b\b\b\b\b\b\b\b\b\b\b\b\b\b\b\b\b\b\b\b\b\b\b\b\b\b\b\b\b\b\b\b\b\b\b\b\b\b\b\b\b\b\b\b\b\b\b\b\b\b\b\b\b\b\b\b\b\b\b\b\b\b\b\b\b\r22/22 [==============================] - 6s 285ms/step - loss: 0.0685 - accuracy: 0.7342\n",
            "Epoch 176/200\n",
            "22/22 [==============================] - ETA: 0s - loss: 0.0685 - accuracy: 0.7342"
          ]
        },
        {
          "output_type": "stream",
          "name": "stderr",
          "text": [
            "WARNING:tensorflow:Early stopping conditioned on metric `val_loss` which is not available. Available metrics are: loss,accuracy\n"
          ]
        },
        {
          "output_type": "stream",
          "name": "stdout",
          "text": [
            "\b\b\b\b\b\b\b\b\b\b\b\b\b\b\b\b\b\b\b\b\b\b\b\b\b\b\b\b\b\b\b\b\b\b\b\b\b\b\b\b\b\b\b\b\b\b\b\b\b\b\b\b\b\b\b\b\b\b\b\b\b\b\b\b\b\b\b\b\b\b\b\b\b\b\b\b\b\b\b\b\b\b\r22/22 [==============================] - 5s 221ms/step - loss: 0.0685 - accuracy: 0.7342\n",
            "Epoch 177/200\n",
            "22/22 [==============================] - ETA: 0s - loss: 0.0685 - accuracy: 0.7340"
          ]
        },
        {
          "output_type": "stream",
          "name": "stderr",
          "text": [
            "WARNING:tensorflow:Early stopping conditioned on metric `val_loss` which is not available. Available metrics are: loss,accuracy\n"
          ]
        },
        {
          "output_type": "stream",
          "name": "stdout",
          "text": [
            "\b\b\b\b\b\b\b\b\b\b\b\b\b\b\b\b\b\b\b\b\b\b\b\b\b\b\b\b\b\b\b\b\b\b\b\b\b\b\b\b\b\b\b\b\b\b\b\b\b\b\b\b\b\b\b\b\b\b\b\b\b\b\b\b\b\b\b\b\b\b\b\b\b\b\b\b\b\b\b\b\b\b\r22/22 [==============================] - 6s 259ms/step - loss: 0.0685 - accuracy: 0.7340\n",
            "Epoch 178/200\n",
            "22/22 [==============================] - ETA: 0s - loss: 0.0682 - accuracy: 0.7341"
          ]
        },
        {
          "output_type": "stream",
          "name": "stderr",
          "text": [
            "WARNING:tensorflow:Early stopping conditioned on metric `val_loss` which is not available. Available metrics are: loss,accuracy\n"
          ]
        },
        {
          "output_type": "stream",
          "name": "stdout",
          "text": [
            "\b\b\b\b\b\b\b\b\b\b\b\b\b\b\b\b\b\b\b\b\b\b\b\b\b\b\b\b\b\b\b\b\b\b\b\b\b\b\b\b\b\b\b\b\b\b\b\b\b\b\b\b\b\b\b\b\b\b\b\b\b\b\b\b\b\b\b\b\b\b\b\b\b\b\b\b\b\b\b\b\b\b\r22/22 [==============================] - 5s 233ms/step - loss: 0.0682 - accuracy: 0.7341\n",
            "Epoch 179/200\n",
            "22/22 [==============================] - ETA: 0s - loss: 0.0677 - accuracy: 0.7338"
          ]
        },
        {
          "output_type": "stream",
          "name": "stderr",
          "text": [
            "WARNING:tensorflow:Early stopping conditioned on metric `val_loss` which is not available. Available metrics are: loss,accuracy\n"
          ]
        },
        {
          "output_type": "stream",
          "name": "stdout",
          "text": [
            "\b\b\b\b\b\b\b\b\b\b\b\b\b\b\b\b\b\b\b\b\b\b\b\b\b\b\b\b\b\b\b\b\b\b\b\b\b\b\b\b\b\b\b\b\b\b\b\b\b\b\b\b\b\b\b\b\b\b\b\b\b\b\b\b\b\b\b\b\b\b\b\b\b\b\b\b\b\b\b\b\b\b\r22/22 [==============================] - 5s 221ms/step - loss: 0.0677 - accuracy: 0.7338\n",
            "Epoch 180/200\n",
            "22/22 [==============================] - ETA: 0s - loss: 0.0676 - accuracy: 0.7335"
          ]
        },
        {
          "output_type": "stream",
          "name": "stderr",
          "text": [
            "WARNING:tensorflow:Early stopping conditioned on metric `val_loss` which is not available. Available metrics are: loss,accuracy\n"
          ]
        },
        {
          "output_type": "stream",
          "name": "stdout",
          "text": [
            "\b\b\b\b\b\b\b\b\b\b\b\b\b\b\b\b\b\b\b\b\b\b\b\b\b\b\b\b\b\b\b\b\b\b\b\b\b\b\b\b\b\b\b\b\b\b\b\b\b\b\b\b\b\b\b\b\b\b\b\b\b\b\b\b\b\b\b\b\b\b\b\b\b\b\b\b\b\b\b\b\b\b\r22/22 [==============================] - 6s 282ms/step - loss: 0.0676 - accuracy: 0.7335\n",
            "Epoch 181/200\n",
            "22/22 [==============================] - ETA: 0s - loss: 0.0673 - accuracy: 0.7337"
          ]
        },
        {
          "output_type": "stream",
          "name": "stderr",
          "text": [
            "WARNING:tensorflow:Early stopping conditioned on metric `val_loss` which is not available. Available metrics are: loss,accuracy\n"
          ]
        },
        {
          "output_type": "stream",
          "name": "stdout",
          "text": [
            "\b\b\b\b\b\b\b\b\b\b\b\b\b\b\b\b\b\b\b\b\b\b\b\b\b\b\b\b\b\b\b\b\b\b\b\b\b\b\b\b\b\b\b\b\b\b\b\b\b\b\b\b\b\b\b\b\b\b\b\b\b\b\b\b\b\b\b\b\b\b\b\b\b\b\b\b\b\b\b\b\b\b\r22/22 [==============================] - 5s 219ms/step - loss: 0.0673 - accuracy: 0.7337\n",
            "Epoch 182/200\n",
            "22/22 [==============================] - ETA: 0s - loss: 0.0669 - accuracy: 0.7339"
          ]
        },
        {
          "output_type": "stream",
          "name": "stderr",
          "text": [
            "WARNING:tensorflow:Early stopping conditioned on metric `val_loss` which is not available. Available metrics are: loss,accuracy\n"
          ]
        },
        {
          "output_type": "stream",
          "name": "stdout",
          "text": [
            "\b\b\b\b\b\b\b\b\b\b\b\b\b\b\b\b\b\b\b\b\b\b\b\b\b\b\b\b\b\b\b\b\b\b\b\b\b\b\b\b\b\b\b\b\b\b\b\b\b\b\b\b\b\b\b\b\b\b\b\b\b\b\b\b\b\b\b\b\b\b\b\b\b\b\b\b\b\b\b\b\b\b\r22/22 [==============================] - 5s 242ms/step - loss: 0.0669 - accuracy: 0.7339\n",
            "Epoch 183/200\n",
            "22/22 [==============================] - ETA: 0s - loss: 0.0664 - accuracy: 0.7341"
          ]
        },
        {
          "output_type": "stream",
          "name": "stderr",
          "text": [
            "WARNING:tensorflow:Early stopping conditioned on metric `val_loss` which is not available. Available metrics are: loss,accuracy\n"
          ]
        },
        {
          "output_type": "stream",
          "name": "stdout",
          "text": [
            "\b\b\b\b\b\b\b\b\b\b\b\b\b\b\b\b\b\b\b\b\b\b\b\b\b\b\b\b\b\b\b\b\b\b\b\b\b\b\b\b\b\b\b\b\b\b\b\b\b\b\b\b\b\b\b\b\b\b\b\b\b\b\b\b\b\b\b\b\b\b\b\b\b\b\b\b\b\b\b\b\b\b\r22/22 [==============================] - 6s 253ms/step - loss: 0.0664 - accuracy: 0.7341\n",
            "Epoch 184/200\n",
            "22/22 [==============================] - ETA: 0s - loss: 0.0656 - accuracy: 0.7341"
          ]
        },
        {
          "output_type": "stream",
          "name": "stderr",
          "text": [
            "WARNING:tensorflow:Early stopping conditioned on metric `val_loss` which is not available. Available metrics are: loss,accuracy\n"
          ]
        },
        {
          "output_type": "stream",
          "name": "stdout",
          "text": [
            "\b\b\b\b\b\b\b\b\b\b\b\b\b\b\b\b\b\b\b\b\b\b\b\b\b\b\b\b\b\b\b\b\b\b\b\b\b\b\b\b\b\b\b\b\b\b\b\b\b\b\b\b\b\b\b\b\b\b\b\b\b\b\b\b\b\b\b\b\b\b\b\b\b\b\b\b\b\b\b\b\b\b\r22/22 [==============================] - 5s 221ms/step - loss: 0.0656 - accuracy: 0.7341\n",
            "Epoch 185/200\n",
            "22/22 [==============================] - ETA: 0s - loss: 0.0639 - accuracy: 0.7347"
          ]
        },
        {
          "output_type": "stream",
          "name": "stderr",
          "text": [
            "WARNING:tensorflow:Early stopping conditioned on metric `val_loss` which is not available. Available metrics are: loss,accuracy\n"
          ]
        },
        {
          "output_type": "stream",
          "name": "stdout",
          "text": [
            "\b\b\b\b\b\b\b\b\b\b\b\b\b\b\b\b\b\b\b\b\b\b\b\b\b\b\b\b\b\b\b\b\b\b\b\b\b\b\b\b\b\b\b\b\b\b\b\b\b\b\b\b\b\b\b\b\b\b\b\b\b\b\b\b\b\b\b\b\b\b\b\b\b\b\b\b\b\b\b\b\b\b\r22/22 [==============================] - 6s 284ms/step - loss: 0.0639 - accuracy: 0.7347\n",
            "Epoch 186/200\n",
            "22/22 [==============================] - ETA: 0s - loss: 0.0624 - accuracy: 0.7352"
          ]
        },
        {
          "output_type": "stream",
          "name": "stderr",
          "text": [
            "WARNING:tensorflow:Early stopping conditioned on metric `val_loss` which is not available. Available metrics are: loss,accuracy\n"
          ]
        },
        {
          "output_type": "stream",
          "name": "stdout",
          "text": [
            "\b\b\b\b\b\b\b\b\b\b\b\b\b\b\b\b\b\b\b\b\b\b\b\b\b\b\b\b\b\b\b\b\b\b\b\b\b\b\b\b\b\b\b\b\b\b\b\b\b\b\b\b\b\b\b\b\b\b\b\b\b\b\b\b\b\b\b\b\b\b\b\b\b\b\b\b\b\b\b\b\b\b\r22/22 [==============================] - 5s 221ms/step - loss: 0.0624 - accuracy: 0.7352\n",
            "Epoch 187/200\n",
            "22/22 [==============================] - ETA: 0s - loss: 0.0603 - accuracy: 0.7361"
          ]
        },
        {
          "output_type": "stream",
          "name": "stderr",
          "text": [
            "WARNING:tensorflow:Early stopping conditioned on metric `val_loss` which is not available. Available metrics are: loss,accuracy\n"
          ]
        },
        {
          "output_type": "stream",
          "name": "stdout",
          "text": [
            "\b\b\b\b\b\b\b\b\b\b\b\b\b\b\b\b\b\b\b\b\b\b\b\b\b\b\b\b\b\b\b\b\b\b\b\b\b\b\b\b\b\b\b\b\b\b\b\b\b\b\b\b\b\b\b\b\b\b\b\b\b\b\b\b\b\b\b\b\b\b\b\b\b\b\b\b\b\b\b\b\b\b\r22/22 [==============================] - 5s 226ms/step - loss: 0.0603 - accuracy: 0.7361\n",
            "Epoch 188/200\n",
            "22/22 [==============================] - ETA: 0s - loss: 0.0573 - accuracy: 0.7377"
          ]
        },
        {
          "output_type": "stream",
          "name": "stderr",
          "text": [
            "WARNING:tensorflow:Early stopping conditioned on metric `val_loss` which is not available. Available metrics are: loss,accuracy\n"
          ]
        },
        {
          "output_type": "stream",
          "name": "stdout",
          "text": [
            "\b\b\b\b\b\b\b\b\b\b\b\b\b\b\b\b\b\b\b\b\b\b\b\b\b\b\b\b\b\b\b\b\b\b\b\b\b\b\b\b\b\b\b\b\b\b\b\b\b\b\b\b\b\b\b\b\b\b\b\b\b\b\b\b\b\b\b\b\b\b\b\b\b\b\b\b\b\b\b\b\b\b\r22/22 [==============================] - 6s 274ms/step - loss: 0.0573 - accuracy: 0.7377\n",
            "Epoch 189/200\n",
            "22/22 [==============================] - ETA: 0s - loss: 0.0547 - accuracy: 0.7399"
          ]
        },
        {
          "output_type": "stream",
          "name": "stderr",
          "text": [
            "WARNING:tensorflow:Early stopping conditioned on metric `val_loss` which is not available. Available metrics are: loss,accuracy\n"
          ]
        },
        {
          "output_type": "stream",
          "name": "stdout",
          "text": [
            "\b\b\b\b\b\b\b\b\b\b\b\b\b\b\b\b\b\b\b\b\b\b\b\b\b\b\b\b\b\b\b\b\b\b\b\b\b\b\b\b\b\b\b\b\b\b\b\b\b\b\b\b\b\b\b\b\b\b\b\b\b\b\b\b\b\b\b\b\b\b\b\b\b\b\b\b\b\b\b\b\b\b\r22/22 [==============================] - 5s 220ms/step - loss: 0.0547 - accuracy: 0.7399\n",
            "Epoch 190/200\n",
            "22/22 [==============================] - ETA: 0s - loss: 0.0527 - accuracy: 0.7419"
          ]
        },
        {
          "output_type": "stream",
          "name": "stderr",
          "text": [
            "WARNING:tensorflow:Early stopping conditioned on metric `val_loss` which is not available. Available metrics are: loss,accuracy\n"
          ]
        },
        {
          "output_type": "stream",
          "name": "stdout",
          "text": [
            "\b\b\b\b\b\b\b\b\b\b\b\b\b\b\b\b\b\b\b\b\b\b\b\b\b\b\b\b\b\b\b\b\b\b\b\b\b\b\b\b\b\b\b\b\b\b\b\b\b\b\b\b\b\b\b\b\b\b\b\b\b\b\b\b\b\b\b\b\b\b\b\b\b\b\b\b\b\b\b\b\b\b\r22/22 [==============================] - 6s 278ms/step - loss: 0.0527 - accuracy: 0.7419\n",
            "Epoch 191/200\n",
            "22/22 [==============================] - ETA: 0s - loss: 0.0507 - accuracy: 0.7442"
          ]
        },
        {
          "output_type": "stream",
          "name": "stderr",
          "text": [
            "WARNING:tensorflow:Early stopping conditioned on metric `val_loss` which is not available. Available metrics are: loss,accuracy\n"
          ]
        },
        {
          "output_type": "stream",
          "name": "stdout",
          "text": [
            "\b\b\b\b\b\b\b\b\b\b\b\b\b\b\b\b\b\b\b\b\b\b\b\b\b\b\b\b\b\b\b\b\b\b\b\b\b\b\b\b\b\b\b\b\b\b\b\b\b\b\b\b\b\b\b\b\b\b\b\b\b\b\b\b\b\b\b\b\b\b\b\b\b\b\b\b\b\b\b\b\b\b\r22/22 [==============================] - 5s 221ms/step - loss: 0.0507 - accuracy: 0.7442\n",
            "Epoch 192/200\n",
            "22/22 [==============================] - ETA: 0s - loss: 0.0496 - accuracy: 0.7465"
          ]
        },
        {
          "output_type": "stream",
          "name": "stderr",
          "text": [
            "WARNING:tensorflow:Early stopping conditioned on metric `val_loss` which is not available. Available metrics are: loss,accuracy\n"
          ]
        },
        {
          "output_type": "stream",
          "name": "stdout",
          "text": [
            "\b\b\b\b\b\b\b\b\b\b\b\b\b\b\b\b\b\b\b\b\b\b\b\b\b\b\b\b\b\b\b\b\b\b\b\b\b\b\b\b\b\b\b\b\b\b\b\b\b\b\b\b\b\b\b\b\b\b\b\b\b\b\b\b\b\b\b\b\b\b\b\b\b\b\b\b\b\b\b\b\b\b\r22/22 [==============================] - 5s 220ms/step - loss: 0.0496 - accuracy: 0.7465\n",
            "Epoch 193/200\n",
            "22/22 [==============================] - ETA: 0s - loss: 0.0479 - accuracy: 0.7495"
          ]
        },
        {
          "output_type": "stream",
          "name": "stderr",
          "text": [
            "WARNING:tensorflow:Early stopping conditioned on metric `val_loss` which is not available. Available metrics are: loss,accuracy\n"
          ]
        },
        {
          "output_type": "stream",
          "name": "stdout",
          "text": [
            "\b\b\b\b\b\b\b\b\b\b\b\b\b\b\b\b\b\b\b\b\b\b\b\b\b\b\b\b\b\b\b\b\b\b\b\b\b\b\b\b\b\b\b\b\b\b\b\b\b\b\b\b\b\b\b\b\b\b\b\b\b\b\b\b\b\b\b\b\b\b\b\b\b\b\b\b\b\b\b\b\b\b\r22/22 [==============================] - 6s 280ms/step - loss: 0.0479 - accuracy: 0.7495\n",
            "Epoch 194/200\n",
            "22/22 [==============================] - ETA: 0s - loss: 0.0467 - accuracy: 0.7525"
          ]
        },
        {
          "output_type": "stream",
          "name": "stderr",
          "text": [
            "WARNING:tensorflow:Early stopping conditioned on metric `val_loss` which is not available. Available metrics are: loss,accuracy\n"
          ]
        },
        {
          "output_type": "stream",
          "name": "stdout",
          "text": [
            "\b\b\b\b\b\b\b\b\b\b\b\b\b\b\b\b\b\b\b\b\b\b\b\b\b\b\b\b\b\b\b\b\b\b\b\b\b\b\b\b\b\b\b\b\b\b\b\b\b\b\b\b\b\b\b\b\b\b\b\b\b\b\b\b\b\b\b\b\b\b\b\b\b\b\b\b\b\b\b\b\b\b\r22/22 [==============================] - 5s 218ms/step - loss: 0.0467 - accuracy: 0.7525\n",
            "Epoch 195/200\n",
            "22/22 [==============================] - ETA: 0s - loss: 0.0453 - accuracy: 0.7544"
          ]
        },
        {
          "output_type": "stream",
          "name": "stderr",
          "text": [
            "WARNING:tensorflow:Early stopping conditioned on metric `val_loss` which is not available. Available metrics are: loss,accuracy\n"
          ]
        },
        {
          "output_type": "stream",
          "name": "stdout",
          "text": [
            "\b\b\b\b\b\b\b\b\b\b\b\b\b\b\b\b\b\b\b\b\b\b\b\b\b\b\b\b\b\b\b\b\b\b\b\b\b\b\b\b\b\b\b\b\b\b\b\b\b\b\b\b\b\b\b\b\b\b\b\b\b\b\b\b\b\b\b\b\b\b\b\b\b\b\b\b\b\b\b\b\b\b\r22/22 [==============================] - 6s 255ms/step - loss: 0.0453 - accuracy: 0.7544\n",
            "Epoch 196/200\n",
            "22/22 [==============================] - ETA: 0s - loss: 0.0442 - accuracy: 0.7563"
          ]
        },
        {
          "output_type": "stream",
          "name": "stderr",
          "text": [
            "WARNING:tensorflow:Early stopping conditioned on metric `val_loss` which is not available. Available metrics are: loss,accuracy\n"
          ]
        },
        {
          "output_type": "stream",
          "name": "stdout",
          "text": [
            "\b\b\b\b\b\b\b\b\b\b\b\b\b\b\b\b\b\b\b\b\b\b\b\b\b\b\b\b\b\b\b\b\b\b\b\b\b\b\b\b\b\b\b\b\b\b\b\b\b\b\b\b\b\b\b\b\b\b\b\b\b\b\b\b\b\b\b\b\b\b\b\b\b\b\b\b\b\b\b\b\b\b\r22/22 [==============================] - 5s 233ms/step - loss: 0.0442 - accuracy: 0.7563\n",
            "Epoch 197/200\n",
            "22/22 [==============================] - ETA: 0s - loss: 0.0435 - accuracy: 0.7579"
          ]
        },
        {
          "output_type": "stream",
          "name": "stderr",
          "text": [
            "WARNING:tensorflow:Early stopping conditioned on metric `val_loss` which is not available. Available metrics are: loss,accuracy\n"
          ]
        },
        {
          "output_type": "stream",
          "name": "stdout",
          "text": [
            "\b\b\b\b\b\b\b\b\b\b\b\b\b\b\b\b\b\b\b\b\b\b\b\b\b\b\b\b\b\b\b\b\b\b\b\b\b\b\b\b\b\b\b\b\b\b\b\b\b\b\b\b\b\b\b\b\b\b\b\b\b\b\b\b\b\b\b\b\b\b\b\b\b\b\b\b\b\b\b\b\b\b\r22/22 [==============================] - 5s 216ms/step - loss: 0.0435 - accuracy: 0.7579\n",
            "Epoch 198/200\n",
            "22/22 [==============================] - ETA: 0s - loss: 0.0428 - accuracy: 0.7588"
          ]
        },
        {
          "output_type": "stream",
          "name": "stderr",
          "text": [
            "WARNING:tensorflow:Early stopping conditioned on metric `val_loss` which is not available. Available metrics are: loss,accuracy\n"
          ]
        },
        {
          "output_type": "stream",
          "name": "stdout",
          "text": [
            "\b\b\b\b\b\b\b\b\b\b\b\b\b\b\b\b\b\b\b\b\b\b\b\b\b\b\b\b\b\b\b\b\b\b\b\b\b\b\b\b\b\b\b\b\b\b\b\b\b\b\b\b\b\b\b\b\b\b\b\b\b\b\b\b\b\b\b\b\b\b\b\b\b\b\b\b\b\b\b\b\b\b\r22/22 [==============================] - 6s 276ms/step - loss: 0.0428 - accuracy: 0.7588\n",
            "Epoch 199/200\n",
            "22/22 [==============================] - ETA: 0s - loss: 0.0420 - accuracy: 0.7601"
          ]
        },
        {
          "output_type": "stream",
          "name": "stderr",
          "text": [
            "WARNING:tensorflow:Early stopping conditioned on metric `val_loss` which is not available. Available metrics are: loss,accuracy\n"
          ]
        },
        {
          "output_type": "stream",
          "name": "stdout",
          "text": [
            "\b\b\b\b\b\b\b\b\b\b\b\b\b\b\b\b\b\b\b\b\b\b\b\b\b\b\b\b\b\b\b\b\b\b\b\b\b\b\b\b\b\b\b\b\b\b\b\b\b\b\b\b\b\b\b\b\b\b\b\b\b\b\b\b\b\b\b\b\b\b\b\b\b\b\b\b\b\b\b\b\b\b\r22/22 [==============================] - 5s 213ms/step - loss: 0.0420 - accuracy: 0.7601\n",
            "Epoch 200/200\n",
            "22/22 [==============================] - ETA: 0s - loss: 0.0414 - accuracy: 0.7606"
          ]
        },
        {
          "output_type": "stream",
          "name": "stderr",
          "text": [
            "WARNING:tensorflow:Early stopping conditioned on metric `val_loss` which is not available. Available metrics are: loss,accuracy\n"
          ]
        },
        {
          "output_type": "stream",
          "name": "stdout",
          "text": [
            "\b\b\b\b\b\b\b\b\b\b\b\b\b\b\b\b\b\b\b\b\b\b\b\b\b\b\b\b\b\b\b\b\b\b\b\b\b\b\b\b\b\b\b\b\b\b\b\b\b\b\b\b\b\b\b\b\b\b\b\b\b\b\b\b\b\b\b\b\b\b\b\b\b\b\b\b\b\b\b\b\b\b\r22/22 [==============================] - 5s 234ms/step - loss: 0.0414 - accuracy: 0.7606\n",
            "Done\n",
            " Please wait while AnomalyDetector.h5 has been created \n",
            "Refresh when needed\n"
          ]
        }
      ]
    },
    {
      "cell_type": "code",
      "metadata": {
        "id": "P8sIcLnqEEPN",
        "outputId": "83d4663a-bc2a-43f8-ed73-f8878fb5f714",
        "colab": {
          "base_uri": "https://localhost:8080/"
        }
      },
      "source": [
        "\n",
        "\n",
        "from tensorflow.keras.utils import img_to_array,load_img\n",
        "import numpy as np\n",
        "import glob\n",
        "import os \n",
        "from skimage import data, color\n",
        "from skimage.transform import rescale, resize, downscale_local_mean\n",
        "import argparse\n",
        "from PIL import Image\n",
        "imagestore=[]\n",
        "\n",
        "\n",
        "\n",
        "video_source_path='/content/drive/MyDrive/Avenue/testing_videos'\n",
        "fps=5\n",
        "#fps refers to the number of seconds after which one frame will be taken . fps=5 means 1 frame after every 5 seconds. More like seconds per frame.\n",
        "\n",
        "def create_dir(path):\n",
        "\tif not os.path.exists(path):\n",
        "\t\tos.makedirs(path)\n",
        "\n",
        "def remove_old_images(path):\n",
        "\tfilelist = glob.glob(os.path.join(path, \"*.png\"))\n",
        "\tfor f in filelist:\n",
        "\t\tos.remove(f)\n",
        "\n",
        "def store(image_path):\n",
        "\timg=load_img(image_path)\n",
        "\timg=img_to_array(img)\n",
        "\n",
        "\n",
        "\t#Resize the Image to (227,227,3) for the network to be able to process it. \n",
        "\n",
        "\n",
        "\timg=resize(img,(227,227,3))\n",
        "\n",
        "\t#Convert the Image to Grayscale\n",
        "\n",
        "\n",
        "\tgray=0.2989*img[:,:,0]+0.5870*img[:,:,1]+0.1140*img[:,:,2]\n",
        "\n",
        "\timagestore.append(gray)\n",
        "#List of all Videos in the Source Directory.\n",
        "videos=os.listdir(video_source_path)\n",
        "print(\"Found \",len(videos),\" testing videos\")\n",
        "\n",
        "\n",
        "#Make a temp dir to store all the frames\n",
        "create_dir(video_source_path+'/frames')\n",
        "\n",
        "#Remove old images\n",
        "remove_old_images(video_source_path+'/frames')\n",
        "\n",
        "framepath=video_source_path+'/frames'\n",
        "total=0\n",
        "video_count=0\n",
        "\n",
        "for video in videos:\n",
        "\t\tvideo_count+=1\n",
        "\t\tprint(\"Video number: \",video_count)\n",
        "\t\tprint(\"Video:\",str(video))\n",
        "\t\timage_count=0\n",
        "\t\tos.system( 'ffmpeg -i {}/{} -r 1/{}  {}/frames/%03d.jpg'.format(video_source_path,video,fps,video_source_path))\n",
        "\t\timages=os.listdir(framepath)\n",
        "\t\timage_count=len(images)\n",
        "\t\tfor image in images:\n",
        "\t\t\timage_path=framepath+ '/'+ image\n",
        "\t\t\tstore(image_path)\n",
        "\t\ttotal=len(images)+total\n",
        "\t\tprint(\"Number of images:\",image_count,\"\\n----------\\n\")\n",
        "\n",
        "\n",
        "imagestore=np.array(imagestore)\n",
        "a,b,c=imagestore.shape\n",
        "#Reshape to (227,227,batch_size)\n",
        "imagestore.resize(b,c,a)\n",
        "#Normalize\n",
        "imagestore=(imagestore-imagestore.mean())/(imagestore.std())\n",
        "#Clip negative Values\n",
        "imagestore=np.clip(imagestore,0,1)\n",
        "np.save('tester.npy',imagestore)\n",
        "#Remove Buffer Directory\n",
        "os.system('rm -r {}'.format(framepath))\n",
        "\n",
        "print(\"Program ended. All testing videos shall be stored in tester.npy \\n Please wait while tester.npy is created. \\nRefresh when needed\")\n",
        "print('Number of frames created :', int(total))\n",
        "print ('Number of bunches=',int(total),\"/10 = \",int(total/10))\n",
        "print(\"\\nCorrupted and unreadable bunches were ignored\")"
      ],
      "execution_count": null,
      "outputs": [
        {
          "output_type": "stream",
          "name": "stdout",
          "text": [
            "Found  21  testing videos\n",
            "Video number:  1\n",
            "Video: 01.avi\n",
            "Number of images: 13 \n",
            "----------\n",
            "\n",
            "Video number:  2\n",
            "Video: 02.avi\n",
            "Number of images: 13 \n",
            "----------\n",
            "\n",
            "Video number:  3\n",
            "Video: 03.avi\n",
            "Number of images: 13 \n",
            "----------\n",
            "\n",
            "Video number:  4\n",
            "Video: 04.avi\n",
            "Number of images: 13 \n",
            "----------\n",
            "\n",
            "Video number:  5\n",
            "Video: 05.avi\n",
            "Number of images: 13 \n",
            "----------\n",
            "\n",
            "Video number:  6\n",
            "Video: 06.avi\n",
            "Number of images: 13 \n",
            "----------\n",
            "\n",
            "Video number:  7\n",
            "Video: 07.avi\n",
            "Number of images: 13 \n",
            "----------\n",
            "\n",
            "Video number:  8\n",
            "Video: 08.avi\n",
            "Number of images: 13 \n",
            "----------\n",
            "\n",
            "Video number:  9\n",
            "Video: 09.avi\n",
            "Number of images: 13 \n",
            "----------\n",
            "\n",
            "Video number:  10\n",
            "Video: 10.avi\n",
            "Number of images: 13 \n",
            "----------\n",
            "\n",
            "Video number:  11\n",
            "Video: 11.avi\n",
            "Number of images: 13 \n",
            "----------\n",
            "\n",
            "Video number:  12\n",
            "Video: 12.avi\n",
            "Number of images: 13 \n",
            "----------\n",
            "\n",
            "Video number:  13\n",
            "Video: 13.avi\n",
            "Number of images: 13 \n",
            "----------\n",
            "\n",
            "Video number:  14\n",
            "Video: 14.avi\n",
            "Number of images: 13 \n",
            "----------\n",
            "\n",
            "Video number:  15\n",
            "Video: 15.avi\n",
            "Number of images: 13 \n",
            "----------\n",
            "\n",
            "Video number:  16\n",
            "Video: 16.avi\n",
            "Number of images: 13 \n",
            "----------\n",
            "\n",
            "Video number:  17\n",
            "Video: 17.avi\n",
            "Number of images: 13 \n",
            "----------\n",
            "\n",
            "Video number:  18\n",
            "Video: 18.avi\n",
            "Number of images: 13 \n",
            "----------\n",
            "\n",
            "Video number:  19\n",
            "Video: 19.avi\n",
            "Number of images: 13 \n",
            "----------\n",
            "\n",
            "Video number:  20\n",
            "Video: 20.avi\n",
            "Number of images: 13 \n",
            "----------\n",
            "\n",
            "Video number:  21\n",
            "Video: 21.avi\n",
            "Number of images: 13 \n",
            "----------\n",
            "\n",
            "Program ended. All testing videos shall be stored in tester.npy \n",
            " Please wait while tester.npy is created. \n",
            "Refresh when needed\n",
            "Number of frames created : 273\n",
            "Number of bunches= 273 /10 =  27\n",
            "\n",
            "Corrupted and unreadable bunches were ignored\n"
          ]
        }
      ]
    },
    {
      "cell_type": "code",
      "metadata": {
        "id": "dcfYMukPeOx6",
        "colab": {
          "base_uri": "https://localhost:8080/"
        },
        "outputId": "5be1fbc1-4f48-4542-c117-6c341d0bdeed"
      },
      "source": [
        "\n",
        "from keras.models import load_model\n",
        "import numpy as np \n",
        "\n",
        "\n",
        "\n",
        "\n",
        "def mean_squared_loss(x1,x2):\n",
        "\n",
        "\n",
        "\n",
        "\n",
        "\tdiff=x1-x2\n",
        "\ta,b,c,d,e=diff.shape\n",
        "\tn_samples=a*b*c*d*e\n",
        "\tsq_diff=diff**2\n",
        "\tSum=sq_diff.sum()\n",
        "\tdist=np.sqrt(Sum)\n",
        "\tmean_dist=dist/n_samples\n",
        "\n",
        "\treturn mean_dist\n",
        "\n",
        "\n",
        "\n",
        "\n",
        "\n",
        "\n",
        "'''Define threshold for Sensitivity\n",
        "Lower the Threshhold,higher the chances that a bunch of frames will be flagged as Anomalous.\n",
        "\n",
        "'''\n",
        "\n",
        "threshold=0.0004 #(Accuracy level 1)\n",
        "#threshold=0.00042 #(Accuracy level 2)\n",
        "#threshold=0.0008#(Accuracy level Vishakha)\n",
        "\n",
        "model=load_model('AnomalyDetector.h5')\n",
        "\n",
        "X_test=np.load('tester.npy')\n",
        "frames=X_test.shape[2]\n",
        "#Need to make number of frames divisible by 10\n",
        "\n",
        "\n",
        "flag=0 #Overall video flagq\n",
        "\n",
        "frames=frames-frames%10\n",
        "\n",
        "X_test=X_test[:,:,:frames]\n",
        "X_test=X_test.reshape(-1,227,227,10)\n",
        "X_test=np.expand_dims(X_test,axis=4)\n",
        "counter =0\n",
        "for number,bunch in enumerate(X_test):\n",
        "\tn_bunch=np.expand_dims(bunch,axis=0)\n",
        "\treconstructed_bunch=model.predict(n_bunch)\n",
        "\n",
        "\n",
        "\tloss=mean_squared_loss(n_bunch,reconstructed_bunch)\n",
        "\t\n",
        "\tif loss>threshold:\n",
        "\t\tprint(\"Anomalous bunch of frames at bunch number {}\".format(number))\n",
        "\t\tcounter=counter+1\n",
        "\t\tprint(\"bunch number: \",counter)\n",
        "\t\tflag=1\n",
        "\n",
        "\n",
        "\telse:\n",
        "\t\tprint('No anomaly')\n",
        "\t\tcounter=counter+1\n",
        "\t\tprint(\"bunch number: \",counter)\n",
        "\n",
        "\n",
        "\n",
        "if flag==1:\n",
        "\tprint(\"Anomalous Events detected\")\n",
        "else:\n",
        "\tprint(\"No anomaly detected\")\n",
        "\t\n",
        "print(\"\\nCorrupted and unreadable bunches were ignored\")"
      ],
      "execution_count": null,
      "outputs": [
        {
          "output_type": "stream",
          "name": "stdout",
          "text": [
            "1/1 [==============================] - 1s 1s/step\n",
            "Anomalous bunch of frames at bunch number 0\n",
            "bunch number:  1\n",
            "1/1 [==============================] - 0s 68ms/step\n",
            "Anomalous bunch of frames at bunch number 1\n",
            "bunch number:  2\n",
            "1/1 [==============================] - 0s 72ms/step\n",
            "No anomaly\n",
            "bunch number:  3\n",
            "1/1 [==============================] - 0s 64ms/step\n",
            "No anomaly\n",
            "bunch number:  4\n",
            "1/1 [==============================] - 0s 63ms/step\n",
            "No anomaly\n",
            "bunch number:  5\n",
            "1/1 [==============================] - 0s 62ms/step\n",
            "No anomaly\n",
            "bunch number:  6\n",
            "1/1 [==============================] - 0s 66ms/step\n",
            "No anomaly\n",
            "bunch number:  7\n",
            "1/1 [==============================] - 0s 63ms/step\n",
            "No anomaly\n",
            "bunch number:  8\n",
            "1/1 [==============================] - 0s 61ms/step\n",
            "Anomalous bunch of frames at bunch number 8\n",
            "bunch number:  9\n",
            "1/1 [==============================] - 0s 64ms/step\n",
            "Anomalous bunch of frames at bunch number 9\n",
            "bunch number:  10\n",
            "1/1 [==============================] - 0s 64ms/step\n",
            "No anomaly\n",
            "bunch number:  11\n",
            "1/1 [==============================] - 0s 68ms/step\n",
            "Anomalous bunch of frames at bunch number 11\n",
            "bunch number:  12\n",
            "1/1 [==============================] - 0s 60ms/step\n",
            "No anomaly\n",
            "bunch number:  13\n",
            "1/1 [==============================] - 0s 65ms/step\n",
            "No anomaly\n",
            "bunch number:  14\n",
            "1/1 [==============================] - 0s 59ms/step\n",
            "No anomaly\n",
            "bunch number:  15\n",
            "1/1 [==============================] - 0s 57ms/step\n",
            "No anomaly\n",
            "bunch number:  16\n",
            "1/1 [==============================] - 0s 66ms/step\n",
            "No anomaly\n",
            "bunch number:  17\n",
            "1/1 [==============================] - 0s 63ms/step\n",
            "No anomaly\n",
            "bunch number:  18\n",
            "1/1 [==============================] - 0s 60ms/step\n",
            "No anomaly\n",
            "bunch number:  19\n",
            "1/1 [==============================] - 0s 60ms/step\n",
            "No anomaly\n",
            "bunch number:  20\n",
            "1/1 [==============================] - 0s 61ms/step\n",
            "Anomalous bunch of frames at bunch number 20\n",
            "bunch number:  21\n",
            "1/1 [==============================] - 0s 67ms/step\n",
            "Anomalous bunch of frames at bunch number 21\n",
            "bunch number:  22\n",
            "1/1 [==============================] - 0s 60ms/step\n",
            "Anomalous bunch of frames at bunch number 22\n",
            "bunch number:  23\n",
            "1/1 [==============================] - 0s 59ms/step\n",
            "Anomalous bunch of frames at bunch number 23\n",
            "bunch number:  24\n",
            "1/1 [==============================] - 0s 61ms/step\n",
            "No anomaly\n",
            "bunch number:  25\n",
            "1/1 [==============================] - 0s 63ms/step\n",
            "Anomalous bunch of frames at bunch number 25\n",
            "bunch number:  26\n",
            "1/1 [==============================] - 0s 61ms/step\n",
            "Anomalous bunch of frames at bunch number 26\n",
            "bunch number:  27\n",
            "Anomalous Events detected\n",
            "\n",
            "Corrupted and unreadable bunches were ignored\n"
          ]
        }
      ]
    },
    {
      "cell_type": "code",
      "metadata": {
        "id": "fhBwtxuwKwQ8",
        "outputId": "5551601b-9586-4c7b-b5e7-83d855367940",
        "colab": {
          "base_uri": "https://localhost:8080/"
        }
      },
      "source": [
        "\n",
        "from keras.models import load_model\n",
        "import numpy as np \n",
        "\n",
        "from tensorflow.keras.utils import img_to_array,load_img\n",
        "import numpy as np\n",
        "import glob\n",
        "import os \n",
        "from skimage import data, color\n",
        "from skimage.transform import rescale, resize, downscale_local_mean\n",
        "import argparse\n",
        "from PIL import Image\n",
        "imagestore=[]\n",
        "\n",
        "\n",
        "\n",
        "video_source_path='/content/drive/MyDrive/Avenue/testing_videos'\n",
        "fps=5\n",
        "#fps refers to the number of seconds after which one frame will be taken . fps=5 means 1 frame after every 5 seconds. More like seconds per frame.\n",
        "\n",
        "def create_dir(path):\n",
        "\tif not os.path.exists(path):\n",
        "\t\tos.makedirs(path)\n",
        "\n",
        "def remove_old_images(path):\n",
        "\tfilelist = glob.glob(os.path.join(path, \"*.png\"))\n",
        "\tfor f in filelist:\n",
        "\t\tos.remove(f)\n",
        "\n",
        "def store(image_path):\n",
        "\timg=load_img(image_path)\n",
        "\timg=img_to_array(img)\n",
        "\n",
        "\n",
        "\t#Resize the Image to (227,227,3) for the network to be able to process it. \n",
        "\n",
        "\n",
        "\timg=resize(img,(227,227,3))\n",
        "\n",
        "\t#Convert the Image to Grayscale\n",
        "\n",
        "\n",
        "\tgray=0.2989*img[:,:,0]+0.5870*img[:,:,1]+0.1140*img[:,:,2]\n",
        "\n",
        "\timagestore.append(gray)\n",
        "\n",
        "\n",
        "\n",
        "#List of all Videos in the Source Directory.\n",
        "videos=os.listdir(video_source_path)\n",
        "print(\"Found \",len(videos),\" files\")\n",
        "\n",
        "\n",
        "#Make a temp dir to store all the frames\n",
        "create_dir(video_source_path+'/frames')\n",
        "\n",
        "#Remove old images\n",
        "remove_old_images(video_source_path+'/frames')\n",
        "\n",
        "framepath=video_source_path+'/frames'\n",
        "flag=0\n",
        "for video in videos:\n",
        "\t\tif (video==\"01.avi\"):\n",
        "\t\t\tprint(\"Test video found\")\n",
        "\t\t\tflag=1\n",
        "\t\t\tos.system( 'ffmpeg -i {}/{} -r 1/{}  {}/frames/%03d.jpg'.format(video_source_path,video,fps,video_source_path))\n",
        "\t\t\timages=os.listdir(framepath)\n",
        "\t\t\tfor image in images:\n",
        "\t\t\t\timage_path=framepath+ '/'+ image\n",
        "\t\t\t\tstore(image_path)\n",
        "\n",
        "if flag==0:\n",
        "\tprint(\"Couldn't find test.mp4 or test.avi. Make sure you reupload and try this\")\n",
        "\texit()\n",
        "imagestore=np.array(imagestore)\n",
        "a,b,c=imagestore.shape\n",
        "#Reshape to (227,227,batch_size)\n",
        "imagestore.resize(b,c,a)\n",
        "#Normalize\n",
        "imagestore=(imagestore-imagestore.mean())/(imagestore.std())\n",
        "#Clip negative Values\n",
        "imagestore=np.clip(imagestore,0,1)\n",
        "np.save('sample.npy',imagestore)\n",
        "#Remove Buffer Directory\n",
        "os.system('rm -r {}'.format(framepath))\n",
        "print(\"Please wait while video is processed. \\nRefresh when needed\")\n",
        "\n",
        "\n",
        "def mean_squared_loss(x1,x2):\n",
        "\n",
        "\n",
        "\t''' Compute Euclidean Distance Loss  between \n",
        "\tinput frame and the reconstructed frame'''\n",
        "\n",
        "\n",
        "\tdiff=x1-x2\n",
        "\ta,b,c,d,e=diff.shape\n",
        "\tn_samples=a*b*c*d*e\n",
        "\tsq_diff=diff**2\n",
        "\tSum=sq_diff.sum()\n",
        "\tdist=np.sqrt(Sum)\n",
        "\tmean_dist=dist/n_samples\n",
        "\n",
        "\treturn mean_dist\n",
        "\n",
        "\n",
        "'''Define threshold for Sensitivity\n",
        "Lower the Threshhold,higher the chances that a bunch of frames will be flagged as Anomalous.\n",
        "\n",
        "'''\n",
        "\n",
        "threshold=0.0004 #(Accuracy level 1)\n",
        "#threshold=0.00042 #(Accuracy level 2)\n",
        "#threshold=0.0008#(Accuracy level 3)\n",
        "\n",
        "model=load_model('AnomalyDetector.h5')\n",
        "\n",
        "X_test=np.load('sample.npy')\n",
        "frames=X_test.shape[2]\n",
        "#Need to make number of frames divisible by 10\n",
        "\n",
        "\n",
        "flag=0 #Overall video flagq\n",
        "\n",
        "frames=frames-frames%10\n",
        "\n",
        "X_test=X_test[:,:,:frames]\n",
        "X_test=X_test.reshape(-1,227,227,10)\n",
        "X_test=np.expand_dims(X_test,axis=4)\n",
        "counter =0\n",
        "for number,bunch in enumerate(X_test):\n",
        "\tn_bunch=np.expand_dims(bunch,axis=0)\n",
        "\treconstructed_bunch=model.predict(n_bunch)\n",
        "\n",
        "\n",
        "\tloss=mean_squared_loss(n_bunch,reconstructed_bunch)\n",
        "\t\n",
        "\tif loss>threshold:\n",
        "\t\tprint(\"Anomalous bunch of frames at bunch number {}\".format(number))\n",
        "\t\tcounter=counter+1\n",
        "\t\tprint(\"bunch number: \",counter)\n",
        "\t\tflag=1\n",
        "\n",
        "\n",
        "\telse:\n",
        "\t\tprint('No anomaly')\n",
        "\t\tcounter=counter+1\n",
        "\t\tprint(\"bunch number: \",counter)\n",
        "\n",
        "\n",
        "print(\"----------------------------------------------------\\nOUTPUT\\n----------------------------------------------------\\n\")\n",
        "if flag==1:\n",
        "\tprint(\"Anomalous Events detected\")\n",
        "else:\n",
        "\tprint(\"No anomaly detected\")\n",
        "\t\n",
        "print(\"\\n----------------------------------------------------\\nCorrupted and unreadable bunches were ignored\")\n",
        "\n"
      ],
      "execution_count": 13,
      "outputs": [
        {
          "output_type": "stream",
          "name": "stdout",
          "text": [
            "Found  22  files\n",
            "Test video found\n",
            "Please wait while video is processed. \n",
            "Refresh when needed\n",
            "1/1 [==============================] - 1s 683ms/step\n",
            "Anomalous bunch of frames at bunch number 0\n",
            "bunch number:  1\n",
            "----------------------------------------------------\n",
            "OUTPUT\n",
            "----------------------------------------------------\n",
            "\n",
            "Anomalous Events detected\n",
            "\n",
            "----------------------------------------------------\n",
            "Corrupted and unreadable bunches were ignored\n"
          ]
        }
      ]
    },
    {
      "cell_type": "code",
      "source": [
        "import urllib.request\n",
        "\n",
        "url = \"http://www.svcl.ucsd.edu/projects/anomaly/UCSD_Anomaly_Dataset.tar.gz\"\n",
        "filename = \"UCSD_Anomaly_Dataset.tar.gz\"\n",
        "\n",
        "urllib.request.urlretrieve(url, filename)"
      ],
      "metadata": {
        "colab": {
          "base_uri": "https://localhost:8080/"
        },
        "id": "67qq0IzFLmik",
        "outputId": "99c4c6a0-fd85-44a3-bce7-485241b7b11a"
      },
      "execution_count": 2,
      "outputs": [
        {
          "output_type": "execute_result",
          "data": {
            "text/plain": [
              "('UCSD_Anomaly_Dataset.tar.gz', <http.client.HTTPMessage at 0x7f0859b91dc0>)"
            ]
          },
          "metadata": {},
          "execution_count": 2
        }
      ]
    },
    {
      "cell_type": "code",
      "source": [
        "import tarfile\n",
        "\n",
        "filename = \"UCSD_Anomaly_Dataset.tar.gz\"\n",
        "output_dir = \"/content/drive/MyDrive\"\n",
        "\n",
        "with tarfile.open(filename, \"r:gz\") as tar:\n",
        "    tar.extractall(output_dir)"
      ],
      "metadata": {
        "id": "spLugltLMl6M"
      },
      "execution_count": 5,
      "outputs": []
    },
    {
      "cell_type": "code",
      "source": [
        "\n",
        "\n",
        "from tensorflow.keras.utils import img_to_array,load_img\n",
        "import numpy as np\n",
        "import glob\n",
        "import os \n",
        "from skimage import data, color\n",
        "from skimage.transform import rescale, resize, downscale_local_mean\n",
        "import argparse\n",
        "from PIL import Image\n",
        "imagestore=[]\n",
        "\n",
        "\n",
        "for v in range(1,35):\n",
        "  imagestore=[]\n",
        "  video_source_path='/content/drive/MyDrive/UCSD_Anomaly_Dataset.v1p2/UCSDped1/Train/'+str(v)\n",
        "  print(video_source_path)\n",
        "  fps=5\n",
        "#fps refers to the number of seconds after which one frame will be taken . fps=5 means 1 frame after every 5 seconds. More like seconds per frame.\n",
        "\n",
        "  def create_dir(path):\n",
        "    if not os.path.exists(path):\n",
        "      os.makedirs(path)\n",
        "\n",
        "  def remove_old_images(path):\n",
        "    filelist = glob.glob(os.path.join(path, \"*.png\"))\n",
        "    for f in filelist:\n",
        "      os.remove(f)\n",
        "\n",
        "  def store(image_path):\n",
        "\t  img=load_img(image_path)\n",
        "\t  img=img_to_array(img)\n",
        "\t#Resize the Image to (227,227,3) for the network to be able to process it. \n",
        "\t  img=resize(img,(227,227,3))\n",
        "\t#Convert the Image to Grayscale\n",
        "\t  gray=0.2989*img[:,:,0]+0.5870*img[:,:,1]+0.1140*img[:,:,2]\n",
        "\t  imagestore.append(gray)\n",
        "#List of all Videos in the Source Directory.\n",
        "  videos=os.listdir(video_source_path)\n",
        "  print(\"Found \",len(videos),\" training videos\")\n",
        "\n",
        "\n",
        "#Make a temp dir to store all the frames\n",
        "  create_dir(video_source_path+'/frames')\n",
        "\n",
        "#Remove old images\n",
        "  remove_old_images(video_source_path+'/frames')\n",
        "\n",
        "  framepath=video_source_path+'/frames'\n",
        "\n",
        "  for video in videos:\n",
        "\t\t  os.system( 'ffmpeg -i {}/{} -r 1/{}  {}/frames/%03d.jpg'.format(video_source_path,video,fps,video_source_path))\n",
        "\t\t  images=os.listdir(framepath)\n",
        "\t\t  for image in images:\n",
        "\t\t\t  image_path=framepath+ '/'+ image\n",
        "\t\t\t  store(image_path)\n",
        "\n",
        "\n",
        "  imagestore=np.array(imagestore)\n",
        "  a,b,c=imagestore.shape\n",
        "#Reshape to (227,227,batch_size)\n",
        "  imagestore.resize(b,c,a)\n",
        "#Normalize\n",
        "  imagestore=(imagestore-imagestore.mean())/(imagestore.std())\n",
        "#Clip negative Values\n",
        "  imagestore=np.clip(imagestore,0,1)\n",
        "  np.save('trainer.npy',imagestore)\n",
        "#Remove Buffer Directory\n",
        "  os.system('rm -r {}'.format(framepath))\n",
        "  print(\"Program ended. Please wait while trainer.npy is created. \\nRefresh when needed\")\n",
        "  print('Number of frames created :', int(len(imagestore)))\n"
      ],
      "metadata": {
        "colab": {
          "base_uri": "https://localhost:8080/"
        },
        "id": "t9IYYJshN_-X",
        "outputId": "7dba9a2a-1f06-436b-cbde-c3d5dae04cc5"
      },
      "execution_count": 7,
      "outputs": [
        {
          "output_type": "stream",
          "name": "stdout",
          "text": [
            "/content/drive/MyDrive/UCSD_Anomaly_Dataset.v1p2/UCSDped1/Train/1\n",
            "Found  202  training videos\n",
            "Program ended. Please wait while trainer.npy is created. \n",
            "Refresh when needed\n",
            "Number of frames created : 227\n",
            "/content/drive/MyDrive/UCSD_Anomaly_Dataset.v1p2/UCSDped1/Train/2\n",
            "Found  200  training videos\n",
            "Program ended. Please wait while trainer.npy is created. \n",
            "Refresh when needed\n",
            "Number of frames created : 227\n",
            "/content/drive/MyDrive/UCSD_Anomaly_Dataset.v1p2/UCSDped1/Train/3\n",
            "Found  200  training videos\n",
            "Program ended. Please wait while trainer.npy is created. \n",
            "Refresh when needed\n",
            "Number of frames created : 227\n",
            "/content/drive/MyDrive/UCSD_Anomaly_Dataset.v1p2/UCSDped1/Train/4\n",
            "Found  200  training videos\n",
            "Program ended. Please wait while trainer.npy is created. \n",
            "Refresh when needed\n",
            "Number of frames created : 227\n",
            "/content/drive/MyDrive/UCSD_Anomaly_Dataset.v1p2/UCSDped1/Train/5\n",
            "Found  200  training videos\n",
            "Program ended. Please wait while trainer.npy is created. \n",
            "Refresh when needed\n",
            "Number of frames created : 227\n",
            "/content/drive/MyDrive/UCSD_Anomaly_Dataset.v1p2/UCSDped1/Train/6\n",
            "Found  200  training videos\n",
            "Program ended. Please wait while trainer.npy is created. \n",
            "Refresh when needed\n",
            "Number of frames created : 227\n",
            "/content/drive/MyDrive/UCSD_Anomaly_Dataset.v1p2/UCSDped1/Train/7\n",
            "Found  200  training videos\n",
            "Program ended. Please wait while trainer.npy is created. \n",
            "Refresh when needed\n",
            "Number of frames created : 227\n",
            "/content/drive/MyDrive/UCSD_Anomaly_Dataset.v1p2/UCSDped1/Train/8\n",
            "Found  200  training videos\n",
            "Program ended. Please wait while trainer.npy is created. \n",
            "Refresh when needed\n",
            "Number of frames created : 227\n",
            "/content/drive/MyDrive/UCSD_Anomaly_Dataset.v1p2/UCSDped1/Train/9\n",
            "Found  200  training videos\n",
            "Program ended. Please wait while trainer.npy is created. \n",
            "Refresh when needed\n",
            "Number of frames created : 227\n",
            "/content/drive/MyDrive/UCSD_Anomaly_Dataset.v1p2/UCSDped1/Train/10\n",
            "Found  200  training videos\n",
            "Program ended. Please wait while trainer.npy is created. \n",
            "Refresh when needed\n",
            "Number of frames created : 227\n",
            "/content/drive/MyDrive/UCSD_Anomaly_Dataset.v1p2/UCSDped1/Train/11\n",
            "Found  200  training videos\n",
            "Program ended. Please wait while trainer.npy is created. \n",
            "Refresh when needed\n",
            "Number of frames created : 227\n",
            "/content/drive/MyDrive/UCSD_Anomaly_Dataset.v1p2/UCSDped1/Train/12\n",
            "Found  200  training videos\n",
            "Program ended. Please wait while trainer.npy is created. \n",
            "Refresh when needed\n",
            "Number of frames created : 227\n",
            "/content/drive/MyDrive/UCSD_Anomaly_Dataset.v1p2/UCSDped1/Train/13\n",
            "Found  200  training videos\n",
            "Program ended. Please wait while trainer.npy is created. \n",
            "Refresh when needed\n",
            "Number of frames created : 227\n",
            "/content/drive/MyDrive/UCSD_Anomaly_Dataset.v1p2/UCSDped1/Train/14\n",
            "Found  200  training videos\n",
            "Program ended. Please wait while trainer.npy is created. \n",
            "Refresh when needed\n",
            "Number of frames created : 227\n",
            "/content/drive/MyDrive/UCSD_Anomaly_Dataset.v1p2/UCSDped1/Train/15\n",
            "Found  200  training videos\n",
            "Program ended. Please wait while trainer.npy is created. \n",
            "Refresh when needed\n",
            "Number of frames created : 227\n",
            "/content/drive/MyDrive/UCSD_Anomaly_Dataset.v1p2/UCSDped1/Train/16\n",
            "Found  200  training videos\n",
            "Program ended. Please wait while trainer.npy is created. \n",
            "Refresh when needed\n",
            "Number of frames created : 227\n",
            "/content/drive/MyDrive/UCSD_Anomaly_Dataset.v1p2/UCSDped1/Train/17\n",
            "Found  200  training videos\n",
            "Program ended. Please wait while trainer.npy is created. \n",
            "Refresh when needed\n",
            "Number of frames created : 227\n",
            "/content/drive/MyDrive/UCSD_Anomaly_Dataset.v1p2/UCSDped1/Train/18\n",
            "Found  200  training videos\n",
            "Program ended. Please wait while trainer.npy is created. \n",
            "Refresh when needed\n",
            "Number of frames created : 227\n",
            "/content/drive/MyDrive/UCSD_Anomaly_Dataset.v1p2/UCSDped1/Train/19\n",
            "Found  200  training videos\n",
            "Program ended. Please wait while trainer.npy is created. \n",
            "Refresh when needed\n",
            "Number of frames created : 227\n",
            "/content/drive/MyDrive/UCSD_Anomaly_Dataset.v1p2/UCSDped1/Train/20\n",
            "Found  200  training videos\n",
            "Program ended. Please wait while trainer.npy is created. \n",
            "Refresh when needed\n",
            "Number of frames created : 227\n",
            "/content/drive/MyDrive/UCSD_Anomaly_Dataset.v1p2/UCSDped1/Train/21\n",
            "Found  200  training videos\n",
            "Program ended. Please wait while trainer.npy is created. \n",
            "Refresh when needed\n",
            "Number of frames created : 227\n",
            "/content/drive/MyDrive/UCSD_Anomaly_Dataset.v1p2/UCSDped1/Train/22\n",
            "Found  200  training videos\n",
            "Program ended. Please wait while trainer.npy is created. \n",
            "Refresh when needed\n",
            "Number of frames created : 227\n",
            "/content/drive/MyDrive/UCSD_Anomaly_Dataset.v1p2/UCSDped1/Train/23\n",
            "Found  200  training videos\n",
            "Program ended. Please wait while trainer.npy is created. \n",
            "Refresh when needed\n",
            "Number of frames created : 227\n",
            "/content/drive/MyDrive/UCSD_Anomaly_Dataset.v1p2/UCSDped1/Train/24\n",
            "Found  200  training videos\n",
            "Program ended. Please wait while trainer.npy is created. \n",
            "Refresh when needed\n",
            "Number of frames created : 227\n",
            "/content/drive/MyDrive/UCSD_Anomaly_Dataset.v1p2/UCSDped1/Train/25\n",
            "Found  200  training videos\n",
            "Program ended. Please wait while trainer.npy is created. \n",
            "Refresh when needed\n",
            "Number of frames created : 227\n",
            "/content/drive/MyDrive/UCSD_Anomaly_Dataset.v1p2/UCSDped1/Train/26\n",
            "Found  200  training videos\n",
            "Program ended. Please wait while trainer.npy is created. \n",
            "Refresh when needed\n",
            "Number of frames created : 227\n",
            "/content/drive/MyDrive/UCSD_Anomaly_Dataset.v1p2/UCSDped1/Train/27\n",
            "Found  200  training videos\n",
            "Program ended. Please wait while trainer.npy is created. \n",
            "Refresh when needed\n",
            "Number of frames created : 227\n",
            "/content/drive/MyDrive/UCSD_Anomaly_Dataset.v1p2/UCSDped1/Train/28\n",
            "Found  200  training videos\n",
            "Program ended. Please wait while trainer.npy is created. \n",
            "Refresh when needed\n",
            "Number of frames created : 227\n",
            "/content/drive/MyDrive/UCSD_Anomaly_Dataset.v1p2/UCSDped1/Train/29\n",
            "Found  200  training videos\n",
            "Program ended. Please wait while trainer.npy is created. \n",
            "Refresh when needed\n",
            "Number of frames created : 227\n",
            "/content/drive/MyDrive/UCSD_Anomaly_Dataset.v1p2/UCSDped1/Train/30\n",
            "Found  200  training videos\n",
            "Program ended. Please wait while trainer.npy is created. \n",
            "Refresh when needed\n",
            "Number of frames created : 227\n",
            "/content/drive/MyDrive/UCSD_Anomaly_Dataset.v1p2/UCSDped1/Train/31\n",
            "Found  200  training videos\n",
            "Program ended. Please wait while trainer.npy is created. \n",
            "Refresh when needed\n",
            "Number of frames created : 227\n",
            "/content/drive/MyDrive/UCSD_Anomaly_Dataset.v1p2/UCSDped1/Train/32\n",
            "Found  200  training videos\n",
            "Program ended. Please wait while trainer.npy is created. \n",
            "Refresh when needed\n",
            "Number of frames created : 227\n",
            "/content/drive/MyDrive/UCSD_Anomaly_Dataset.v1p2/UCSDped1/Train/33\n",
            "Found  200  training videos\n",
            "Program ended. Please wait while trainer.npy is created. \n",
            "Refresh when needed\n",
            "Number of frames created : 227\n",
            "/content/drive/MyDrive/UCSD_Anomaly_Dataset.v1p2/UCSDped1/Train/34\n",
            "Found  200  training videos\n",
            "Program ended. Please wait while trainer.npy is created. \n",
            "Refresh when needed\n",
            "Number of frames created : 227\n"
          ]
        }
      ]
    },
    {
      "cell_type": "code",
      "source": [
        "from keras.callbacks import ModelCheckpoint, EarlyStopping\n",
        "import numpy as np \n",
        "import argparse\n",
        "from keras.layers import Conv3D,ConvLSTM2D,Conv3DTranspose\n",
        "from keras.models import Sequential\n",
        "\n",
        "\n",
        "\n",
        "def load_model():\n",
        "\t\"\"\"\n",
        "\tReturn the model used for abnormal event \n",
        "\tdetection in videos using spatiotemporal autoencoder\n",
        "\n",
        "\t\"\"\"\n",
        "\tmodel=Sequential()\n",
        "\tmodel.add(Conv3D(filters=128,kernel_size=(11,11,1),strides=(4,4,1),padding='valid',input_shape=(227,227,10,1),activation='tanh'))\n",
        "\tmodel.add(Conv3D(filters=64,kernel_size=(5,5,1),strides=(2,2,1),padding='valid',activation='tanh'))\n",
        "\n",
        "\n",
        "\n",
        "\tmodel.add(ConvLSTM2D(filters=64,kernel_size=(3,3),strides=1,padding='same',dropout=0.4,recurrent_dropout=0.3,return_sequences=True))\n",
        "\n",
        "\t\n",
        "\tmodel.add(ConvLSTM2D(filters=32,kernel_size=(3,3),strides=1,padding='same',dropout=0.3,return_sequences=True))\n",
        "\n",
        "\n",
        "\tmodel.add(ConvLSTM2D(filters=64,kernel_size=(3,3),strides=1,return_sequences=True, padding='same',dropout=0.5))\n",
        "\n",
        "\n",
        "\n",
        "\n",
        "\tmodel.add(Conv3DTranspose(filters=128,kernel_size=(5,5,1),strides=(2,2,1),padding='valid',activation='tanh'))\n",
        "\tmodel.add(Conv3DTranspose(filters=1,kernel_size=(11,11,1),strides=(4,4,1),padding='valid',activation='tanh'))\n",
        "\n",
        "\tmodel.compile(optimizer='adam',loss='mean_squared_error',metrics=['accuracy'])\n",
        "\n",
        "\treturn model\n",
        "\n",
        "\n",
        "\n",
        "\n",
        "\n",
        "X_train=np.load('trainer.npy')\n",
        "frames=X_train.shape[2]\n",
        "frames=frames-frames%10\n",
        "X_train=X_train[:,:,:frames]\n",
        "X_train=X_train.reshape(-1,227,227,10)\n",
        "X_train=np.expand_dims(X_train,axis=4)\n",
        "Y_train=X_train.copy()\n",
        "epochs=200\n",
        "batch_size=1\n",
        "\n",
        "\n",
        "\n",
        "if __name__==\"__main__\":\n",
        "\n",
        "\tmodel=load_model()\n",
        "\n",
        "\tcallback_save = ModelCheckpoint(\"AnomalyDetector.h5\",\n",
        "\t\t\t\t\t\t\t\t\tmonitor=\"mean_squared_error\")\n",
        "\n",
        "\tcallback_early_stopping = EarlyStopping(monitor='val_loss', patience=3)\n",
        "\n",
        "\tprint('Trainer has been loaded')\n",
        "\tmodel.fit(X_train,Y_train,\n",
        "\t\t\t  batch_size=batch_size,\n",
        "\t\t\t  epochs=epochs,\n",
        "\t\t\t  callbacks = [callback_save,callback_early_stopping]\n",
        "\t\t\t  )\n",
        "print('Done\\n Please wait while AnomalyDetector.h5 has been created \\nRefresh when needed')\n"
      ],
      "metadata": {
        "colab": {
          "base_uri": "https://localhost:8080/"
        },
        "id": "JgprGWO9YMb0",
        "outputId": "c35ae1bf-0161-48c3-e12c-d44ed018e484"
      },
      "execution_count": 8,
      "outputs": [
        {
          "output_type": "stream",
          "name": "stdout",
          "text": [
            "Trainer has been loaded\n",
            "Epoch 1/200\n",
            "20/20 [==============================] - ETA: 0s - loss: 0.2408 - accuracy: 0.5700"
          ]
        },
        {
          "output_type": "stream",
          "name": "stderr",
          "text": [
            "WARNING:tensorflow:Early stopping conditioned on metric `val_loss` which is not available. Available metrics are: loss,accuracy\n"
          ]
        },
        {
          "output_type": "stream",
          "name": "stdout",
          "text": [
            "\b\b\b\b\b\b\b\b\b\b\b\b\b\b\b\b\b\b\b\b\b\b\b\b\b\b\b\b\b\b\b\b\b\b\b\b\b\b\b\b\b\b\b\b\b\b\b\b\b\b\b\b\b\b\b\b\b\b\b\b\b\b\b\b\b\b\b\b\b\b\b\b\b\b\b\b\b\b\b\b\b\b\r20/20 [==============================] - 23s 211ms/step - loss: 0.2408 - accuracy: 0.5700\n",
            "Epoch 2/200\n",
            "20/20 [==============================] - ETA: 0s - loss: 0.2079 - accuracy: 0.5861"
          ]
        },
        {
          "output_type": "stream",
          "name": "stderr",
          "text": [
            "WARNING:tensorflow:Early stopping conditioned on metric `val_loss` which is not available. Available metrics are: loss,accuracy\n"
          ]
        },
        {
          "output_type": "stream",
          "name": "stdout",
          "text": [
            "\b\b\b\b\b\b\b\b\b\b\b\b\b\b\b\b\b\b\b\b\b\b\b\b\b\b\b\b\b\b\b\b\b\b\b\b\b\b\b\b\b\b\b\b\b\b\b\b\b\b\b\b\b\b\b\b\b\b\b\b\b\b\b\b\b\b\b\b\b\b\b\b\b\b\b\b\b\b\b\b\b\b\r20/20 [==============================] - 4s 219ms/step - loss: 0.2079 - accuracy: 0.5861\n",
            "Epoch 3/200\n",
            "20/20 [==============================] - ETA: 0s - loss: 0.1947 - accuracy: 0.6000"
          ]
        },
        {
          "output_type": "stream",
          "name": "stderr",
          "text": [
            "WARNING:tensorflow:Early stopping conditioned on metric `val_loss` which is not available. Available metrics are: loss,accuracy\n"
          ]
        },
        {
          "output_type": "stream",
          "name": "stdout",
          "text": [
            "\b\b\b\b\b\b\b\b\b\b\b\b\b\b\b\b\b\b\b\b\b\b\b\b\b\b\b\b\b\b\b\b\b\b\b\b\b\b\b\b\b\b\b\b\b\b\b\b\b\b\b\b\b\b\b\b\b\b\b\b\b\b\b\b\b\b\b\b\b\b\b\b\b\b\b\b\b\b\b\b\b\b\r20/20 [==============================] - 5s 256ms/step - loss: 0.1947 - accuracy: 0.6000\n",
            "Epoch 4/200\n",
            "20/20 [==============================] - ETA: 0s - loss: 0.1870 - accuracy: 0.6065"
          ]
        },
        {
          "output_type": "stream",
          "name": "stderr",
          "text": [
            "WARNING:tensorflow:Early stopping conditioned on metric `val_loss` which is not available. Available metrics are: loss,accuracy\n"
          ]
        },
        {
          "output_type": "stream",
          "name": "stdout",
          "text": [
            "\b\b\b\b\b\b\b\b\b\b\b\b\b\b\b\b\b\b\b\b\b\b\b\b\b\b\b\b\b\b\b\b\b\b\b\b\b\b\b\b\b\b\b\b\b\b\b\b\b\b\b\b\b\b\b\b\b\b\b\b\b\b\b\b\b\b\b\b\b\b\b\b\b\b\b\b\b\b\b\b\b\b\r20/20 [==============================] - 4s 205ms/step - loss: 0.1870 - accuracy: 0.6065\n",
            "Epoch 5/200\n",
            "20/20 [==============================] - ETA: 0s - loss: 0.1657 - accuracy: 0.6345"
          ]
        },
        {
          "output_type": "stream",
          "name": "stderr",
          "text": [
            "WARNING:tensorflow:Early stopping conditioned on metric `val_loss` which is not available. Available metrics are: loss,accuracy\n"
          ]
        },
        {
          "output_type": "stream",
          "name": "stdout",
          "text": [
            "\b\b\b\b\b\b\b\b\b\b\b\b\b\b\b\b\b\b\b\b\b\b\b\b\b\b\b\b\b\b\b\b\b\b\b\b\b\b\b\b\b\b\b\b\b\b\b\b\b\b\b\b\b\b\b\b\b\b\b\b\b\b\b\b\b\b\b\b\b\b\b\b\b\b\b\b\b\b\b\b\b\b\r20/20 [==============================] - 4s 218ms/step - loss: 0.1657 - accuracy: 0.6345\n",
            "Epoch 6/200\n",
            "20/20 [==============================] - ETA: 0s - loss: 0.1584 - accuracy: 0.6489"
          ]
        },
        {
          "output_type": "stream",
          "name": "stderr",
          "text": [
            "WARNING:tensorflow:Early stopping conditioned on metric `val_loss` which is not available. Available metrics are: loss,accuracy\n"
          ]
        },
        {
          "output_type": "stream",
          "name": "stdout",
          "text": [
            "\b\b\b\b\b\b\b\b\b\b\b\b\b\b\b\b\b\b\b\b\b\b\b\b\b\b\b\b\b\b\b\b\b\b\b\b\b\b\b\b\b\b\b\b\b\b\b\b\b\b\b\b\b\b\b\b\b\b\b\b\b\b\b\b\b\b\b\b\b\b\b\b\b\b\b\b\b\b\b\b\b\b\r20/20 [==============================] - 5s 259ms/step - loss: 0.1584 - accuracy: 0.6489\n",
            "Epoch 7/200\n",
            "20/20 [==============================] - ETA: 0s - loss: 0.1421 - accuracy: 0.6782"
          ]
        },
        {
          "output_type": "stream",
          "name": "stderr",
          "text": [
            "WARNING:tensorflow:Early stopping conditioned on metric `val_loss` which is not available. Available metrics are: loss,accuracy\n"
          ]
        },
        {
          "output_type": "stream",
          "name": "stdout",
          "text": [
            "\b\b\b\b\b\b\b\b\b\b\b\b\b\b\b\b\b\b\b\b\b\b\b\b\b\b\b\b\b\b\b\b\b\b\b\b\b\b\b\b\b\b\b\b\b\b\b\b\b\b\b\b\b\b\b\b\b\b\b\b\b\b\b\b\b\b\b\b\b\b\b\b\b\b\b\b\b\b\b\b\b\b\r20/20 [==============================] - 4s 209ms/step - loss: 0.1421 - accuracy: 0.6782\n",
            "Epoch 8/200\n",
            "20/20 [==============================] - ETA: 0s - loss: 0.1161 - accuracy: 0.7286"
          ]
        },
        {
          "output_type": "stream",
          "name": "stderr",
          "text": [
            "WARNING:tensorflow:Early stopping conditioned on metric `val_loss` which is not available. Available metrics are: loss,accuracy\n"
          ]
        },
        {
          "output_type": "stream",
          "name": "stdout",
          "text": [
            "\b\b\b\b\b\b\b\b\b\b\b\b\b\b\b\b\b\b\b\b\b\b\b\b\b\b\b\b\b\b\b\b\b\b\b\b\b\b\b\b\b\b\b\b\b\b\b\b\b\b\b\b\b\b\b\b\b\b\b\b\b\b\b\b\b\b\b\b\b\b\b\b\b\b\b\b\b\b\b\b\b\b\r20/20 [==============================] - 4s 214ms/step - loss: 0.1161 - accuracy: 0.7286\n",
            "Epoch 9/200\n",
            "20/20 [==============================] - ETA: 0s - loss: 0.0830 - accuracy: 0.7843"
          ]
        },
        {
          "output_type": "stream",
          "name": "stderr",
          "text": [
            "WARNING:tensorflow:Early stopping conditioned on metric `val_loss` which is not available. Available metrics are: loss,accuracy\n"
          ]
        },
        {
          "output_type": "stream",
          "name": "stdout",
          "text": [
            "\b\b\b\b\b\b\b\b\b\b\b\b\b\b\b\b\b\b\b\b\b\b\b\b\b\b\b\b\b\b\b\b\b\b\b\b\b\b\b\b\b\b\b\b\b\b\b\b\b\b\b\b\b\b\b\b\b\b\b\b\b\b\b\b\b\b\b\b\b\b\b\b\b\b\b\b\b\b\b\b\b\b\r20/20 [==============================] - 5s 254ms/step - loss: 0.0830 - accuracy: 0.7843\n",
            "Epoch 10/200\n",
            "20/20 [==============================] - ETA: 0s - loss: 0.0664 - accuracy: 0.8057"
          ]
        },
        {
          "output_type": "stream",
          "name": "stderr",
          "text": [
            "WARNING:tensorflow:Early stopping conditioned on metric `val_loss` which is not available. Available metrics are: loss,accuracy\n"
          ]
        },
        {
          "output_type": "stream",
          "name": "stdout",
          "text": [
            "\b\b\b\b\b\b\b\b\b\b\b\b\b\b\b\b\b\b\b\b\b\b\b\b\b\b\b\b\b\b\b\b\b\b\b\b\b\b\b\b\b\b\b\b\b\b\b\b\b\b\b\b\b\b\b\b\b\b\b\b\b\b\b\b\b\b\b\b\b\b\b\b\b\b\b\b\b\b\b\b\b\b\r20/20 [==============================] - 4s 207ms/step - loss: 0.0664 - accuracy: 0.8057\n",
            "Epoch 11/200\n",
            "20/20 [==============================] - ETA: 0s - loss: 0.0584 - accuracy: 0.8134"
          ]
        },
        {
          "output_type": "stream",
          "name": "stderr",
          "text": [
            "WARNING:tensorflow:Early stopping conditioned on metric `val_loss` which is not available. Available metrics are: loss,accuracy\n"
          ]
        },
        {
          "output_type": "stream",
          "name": "stdout",
          "text": [
            "\b\b\b\b\b\b\b\b\b\b\b\b\b\b\b\b\b\b\b\b\b\b\b\b\b\b\b\b\b\b\b\b\b\b\b\b\b\b\b\b\b\b\b\b\b\b\b\b\b\b\b\b\b\b\b\b\b\b\b\b\b\b\b\b\b\b\b\b\b\b\b\b\b\b\b\b\b\b\b\b\b\b\r20/20 [==============================] - 5s 276ms/step - loss: 0.0584 - accuracy: 0.8134\n",
            "Epoch 12/200\n",
            "20/20 [==============================] - ETA: 0s - loss: 0.0541 - accuracy: 0.8172"
          ]
        },
        {
          "output_type": "stream",
          "name": "stderr",
          "text": [
            "WARNING:tensorflow:Early stopping conditioned on metric `val_loss` which is not available. Available metrics are: loss,accuracy\n"
          ]
        },
        {
          "output_type": "stream",
          "name": "stdout",
          "text": [
            "\b\b\b\b\b\b\b\b\b\b\b\b\b\b\b\b\b\b\b\b\b\b\b\b\b\b\b\b\b\b\b\b\b\b\b\b\b\b\b\b\b\b\b\b\b\b\b\b\b\b\b\b\b\b\b\b\b\b\b\b\b\b\b\b\b\b\b\b\b\b\b\b\b\b\b\b\b\b\b\b\b\b\r20/20 [==============================] - 8s 368ms/step - loss: 0.0541 - accuracy: 0.8172\n",
            "Epoch 13/200\n",
            "20/20 [==============================] - ETA: 0s - loss: 0.0510 - accuracy: 0.8204"
          ]
        },
        {
          "output_type": "stream",
          "name": "stderr",
          "text": [
            "WARNING:tensorflow:Early stopping conditioned on metric `val_loss` which is not available. Available metrics are: loss,accuracy\n"
          ]
        },
        {
          "output_type": "stream",
          "name": "stdout",
          "text": [
            "\b\b\b\b\b\b\b\b\b\b\b\b\b\b\b\b\b\b\b\b\b\b\b\b\b\b\b\b\b\b\b\b\b\b\b\b\b\b\b\b\b\b\b\b\b\b\b\b\b\b\b\b\b\b\b\b\b\b\b\b\b\b\b\b\b\b\b\b\b\b\b\b\b\b\b\b\b\b\b\b\b\b\r20/20 [==============================] - 4s 207ms/step - loss: 0.0510 - accuracy: 0.8204\n",
            "Epoch 14/200\n",
            "20/20 [==============================] - ETA: 0s - loss: 0.0484 - accuracy: 0.8229"
          ]
        },
        {
          "output_type": "stream",
          "name": "stderr",
          "text": [
            "WARNING:tensorflow:Early stopping conditioned on metric `val_loss` which is not available. Available metrics are: loss,accuracy\n"
          ]
        },
        {
          "output_type": "stream",
          "name": "stdout",
          "text": [
            "\b\b\b\b\b\b\b\b\b\b\b\b\b\b\b\b\b\b\b\b\b\b\b\b\b\b\b\b\b\b\b\b\b\b\b\b\b\b\b\b\b\b\b\b\b\b\b\b\b\b\b\b\b\b\b\b\b\b\b\b\b\b\b\b\b\b\b\b\b\b\b\b\b\b\b\b\b\b\b\b\b\b\r20/20 [==============================] - 6s 280ms/step - loss: 0.0484 - accuracy: 0.8229\n",
            "Epoch 15/200\n",
            "20/20 [==============================] - ETA: 0s - loss: 0.0465 - accuracy: 0.8245"
          ]
        },
        {
          "output_type": "stream",
          "name": "stderr",
          "text": [
            "WARNING:tensorflow:Early stopping conditioned on metric `val_loss` which is not available. Available metrics are: loss,accuracy\n"
          ]
        },
        {
          "output_type": "stream",
          "name": "stdout",
          "text": [
            "\b\b\b\b\b\b\b\b\b\b\b\b\b\b\b\b\b\b\b\b\b\b\b\b\b\b\b\b\b\b\b\b\b\b\b\b\b\b\b\b\b\b\b\b\b\b\b\b\b\b\b\b\b\b\b\b\b\b\b\b\b\b\b\b\b\b\b\b\b\b\b\b\b\b\b\b\b\b\b\b\b\b\r20/20 [==============================] - 4s 207ms/step - loss: 0.0465 - accuracy: 0.8245\n",
            "Epoch 16/200\n",
            "20/20 [==============================] - ETA: 0s - loss: 0.0451 - accuracy: 0.8256"
          ]
        },
        {
          "output_type": "stream",
          "name": "stderr",
          "text": [
            "WARNING:tensorflow:Early stopping conditioned on metric `val_loss` which is not available. Available metrics are: loss,accuracy\n"
          ]
        },
        {
          "output_type": "stream",
          "name": "stdout",
          "text": [
            "\b\b\b\b\b\b\b\b\b\b\b\b\b\b\b\b\b\b\b\b\b\b\b\b\b\b\b\b\b\b\b\b\b\b\b\b\b\b\b\b\b\b\b\b\b\b\b\b\b\b\b\b\b\b\b\b\b\b\b\b\b\b\b\b\b\b\b\b\b\b\b\b\b\b\b\b\b\b\b\b\b\b\r20/20 [==============================] - 4s 205ms/step - loss: 0.0451 - accuracy: 0.8256\n",
            "Epoch 17/200\n",
            "20/20 [==============================] - ETA: 0s - loss: 0.0434 - accuracy: 0.8272"
          ]
        },
        {
          "output_type": "stream",
          "name": "stderr",
          "text": [
            "WARNING:tensorflow:Early stopping conditioned on metric `val_loss` which is not available. Available metrics are: loss,accuracy\n"
          ]
        },
        {
          "output_type": "stream",
          "name": "stdout",
          "text": [
            "\b\b\b\b\b\b\b\b\b\b\b\b\b\b\b\b\b\b\b\b\b\b\b\b\b\b\b\b\b\b\b\b\b\b\b\b\b\b\b\b\b\b\b\b\b\b\b\b\b\b\b\b\b\b\b\b\b\b\b\b\b\b\b\b\b\b\b\b\b\b\b\b\b\b\b\b\b\b\b\b\b\b\r20/20 [==============================] - 5s 276ms/step - loss: 0.0434 - accuracy: 0.8272\n",
            "Epoch 18/200\n",
            "20/20 [==============================] - ETA: 0s - loss: 0.0420 - accuracy: 0.8283"
          ]
        },
        {
          "output_type": "stream",
          "name": "stderr",
          "text": [
            "WARNING:tensorflow:Early stopping conditioned on metric `val_loss` which is not available. Available metrics are: loss,accuracy\n"
          ]
        },
        {
          "output_type": "stream",
          "name": "stdout",
          "text": [
            "\b\b\b\b\b\b\b\b\b\b\b\b\b\b\b\b\b\b\b\b\b\b\b\b\b\b\b\b\b\b\b\b\b\b\b\b\b\b\b\b\b\b\b\b\b\b\b\b\b\b\b\b\b\b\b\b\b\b\b\b\b\b\b\b\b\b\b\b\b\b\b\b\b\b\b\b\b\b\b\b\b\b\r20/20 [==============================] - 4s 211ms/step - loss: 0.0420 - accuracy: 0.8283\n",
            "Epoch 19/200\n",
            "20/20 [==============================] - ETA: 0s - loss: 0.0409 - accuracy: 0.8292"
          ]
        },
        {
          "output_type": "stream",
          "name": "stderr",
          "text": [
            "WARNING:tensorflow:Early stopping conditioned on metric `val_loss` which is not available. Available metrics are: loss,accuracy\n"
          ]
        },
        {
          "output_type": "stream",
          "name": "stdout",
          "text": [
            "\b\b\b\b\b\b\b\b\b\b\b\b\b\b\b\b\b\b\b\b\b\b\b\b\b\b\b\b\b\b\b\b\b\b\b\b\b\b\b\b\b\b\b\b\b\b\b\b\b\b\b\b\b\b\b\b\b\b\b\b\b\b\b\b\b\b\b\b\b\b\b\b\b\b\b\b\b\b\b\b\b\b\r20/20 [==============================] - 4s 209ms/step - loss: 0.0409 - accuracy: 0.8292\n",
            "Epoch 20/200\n",
            "20/20 [==============================] - ETA: 0s - loss: 0.0403 - accuracy: 0.8296"
          ]
        },
        {
          "output_type": "stream",
          "name": "stderr",
          "text": [
            "WARNING:tensorflow:Early stopping conditioned on metric `val_loss` which is not available. Available metrics are: loss,accuracy\n"
          ]
        },
        {
          "output_type": "stream",
          "name": "stdout",
          "text": [
            "\b\b\b\b\b\b\b\b\b\b\b\b\b\b\b\b\b\b\b\b\b\b\b\b\b\b\b\b\b\b\b\b\b\b\b\b\b\b\b\b\b\b\b\b\b\b\b\b\b\b\b\b\b\b\b\b\b\b\b\b\b\b\b\b\b\b\b\b\b\b\b\b\b\b\b\b\b\b\b\b\b\b\r20/20 [==============================] - 6s 278ms/step - loss: 0.0403 - accuracy: 0.8296\n",
            "Epoch 21/200\n",
            "20/20 [==============================] - ETA: 0s - loss: 0.0395 - accuracy: 0.8302"
          ]
        },
        {
          "output_type": "stream",
          "name": "stderr",
          "text": [
            "WARNING:tensorflow:Early stopping conditioned on metric `val_loss` which is not available. Available metrics are: loss,accuracy\n"
          ]
        },
        {
          "output_type": "stream",
          "name": "stdout",
          "text": [
            "\b\b\b\b\b\b\b\b\b\b\b\b\b\b\b\b\b\b\b\b\b\b\b\b\b\b\b\b\b\b\b\b\b\b\b\b\b\b\b\b\b\b\b\b\b\b\b\b\b\b\b\b\b\b\b\b\b\b\b\b\b\b\b\b\b\b\b\b\b\b\b\b\b\b\b\b\b\b\b\b\b\b\r20/20 [==============================] - 4s 213ms/step - loss: 0.0395 - accuracy: 0.8302\n",
            "Epoch 22/200\n",
            "20/20 [==============================] - ETA: 0s - loss: 0.0385 - accuracy: 0.8310"
          ]
        },
        {
          "output_type": "stream",
          "name": "stderr",
          "text": [
            "WARNING:tensorflow:Early stopping conditioned on metric `val_loss` which is not available. Available metrics are: loss,accuracy\n"
          ]
        },
        {
          "output_type": "stream",
          "name": "stdout",
          "text": [
            "\b\b\b\b\b\b\b\b\b\b\b\b\b\b\b\b\b\b\b\b\b\b\b\b\b\b\b\b\b\b\b\b\b\b\b\b\b\b\b\b\b\b\b\b\b\b\b\b\b\b\b\b\b\b\b\b\b\b\b\b\b\b\b\b\b\b\b\b\b\b\b\b\b\b\b\b\b\b\b\b\b\b\r20/20 [==============================] - 4s 211ms/step - loss: 0.0385 - accuracy: 0.8310\n",
            "Epoch 23/200\n",
            "20/20 [==============================] - ETA: 0s - loss: 0.0378 - accuracy: 0.8318"
          ]
        },
        {
          "output_type": "stream",
          "name": "stderr",
          "text": [
            "WARNING:tensorflow:Early stopping conditioned on metric `val_loss` which is not available. Available metrics are: loss,accuracy\n"
          ]
        },
        {
          "output_type": "stream",
          "name": "stdout",
          "text": [
            "\b\b\b\b\b\b\b\b\b\b\b\b\b\b\b\b\b\b\b\b\b\b\b\b\b\b\b\b\b\b\b\b\b\b\b\b\b\b\b\b\b\b\b\b\b\b\b\b\b\b\b\b\b\b\b\b\b\b\b\b\b\b\b\b\b\b\b\b\b\b\b\b\b\b\b\b\b\b\b\b\b\b\r20/20 [==============================] - 6s 280ms/step - loss: 0.0378 - accuracy: 0.8318\n",
            "Epoch 24/200\n",
            "20/20 [==============================] - ETA: 0s - loss: 0.0370 - accuracy: 0.8324"
          ]
        },
        {
          "output_type": "stream",
          "name": "stderr",
          "text": [
            "WARNING:tensorflow:Early stopping conditioned on metric `val_loss` which is not available. Available metrics are: loss,accuracy\n"
          ]
        },
        {
          "output_type": "stream",
          "name": "stdout",
          "text": [
            "\b\b\b\b\b\b\b\b\b\b\b\b\b\b\b\b\b\b\b\b\b\b\b\b\b\b\b\b\b\b\b\b\b\b\b\b\b\b\b\b\b\b\b\b\b\b\b\b\b\b\b\b\b\b\b\b\b\b\b\b\b\b\b\b\b\b\b\b\b\b\b\b\b\b\b\b\b\b\b\b\b\b\r20/20 [==============================] - 5s 228ms/step - loss: 0.0370 - accuracy: 0.8324\n",
            "Epoch 25/200\n",
            "20/20 [==============================] - ETA: 0s - loss: 0.0363 - accuracy: 0.8330"
          ]
        },
        {
          "output_type": "stream",
          "name": "stderr",
          "text": [
            "WARNING:tensorflow:Early stopping conditioned on metric `val_loss` which is not available. Available metrics are: loss,accuracy\n"
          ]
        },
        {
          "output_type": "stream",
          "name": "stdout",
          "text": [
            "\b\b\b\b\b\b\b\b\b\b\b\b\b\b\b\b\b\b\b\b\b\b\b\b\b\b\b\b\b\b\b\b\b\b\b\b\b\b\b\b\b\b\b\b\b\b\b\b\b\b\b\b\b\b\b\b\b\b\b\b\b\b\b\b\b\b\b\b\b\b\b\b\b\b\b\b\b\b\b\b\b\b\r20/20 [==============================] - 5s 244ms/step - loss: 0.0363 - accuracy: 0.8330\n",
            "Epoch 26/200\n",
            "20/20 [==============================] - ETA: 0s - loss: 0.0358 - accuracy: 0.8335"
          ]
        },
        {
          "output_type": "stream",
          "name": "stderr",
          "text": [
            "WARNING:tensorflow:Early stopping conditioned on metric `val_loss` which is not available. Available metrics are: loss,accuracy\n"
          ]
        },
        {
          "output_type": "stream",
          "name": "stdout",
          "text": [
            "\b\b\b\b\b\b\b\b\b\b\b\b\b\b\b\b\b\b\b\b\b\b\b\b\b\b\b\b\b\b\b\b\b\b\b\b\b\b\b\b\b\b\b\b\b\b\b\b\b\b\b\b\b\b\b\b\b\b\b\b\b\b\b\b\b\b\b\b\b\b\b\b\b\b\b\b\b\b\b\b\b\b\r20/20 [==============================] - 5s 248ms/step - loss: 0.0358 - accuracy: 0.8335\n",
            "Epoch 27/200\n",
            "20/20 [==============================] - ETA: 0s - loss: 0.0355 - accuracy: 0.8337"
          ]
        },
        {
          "output_type": "stream",
          "name": "stderr",
          "text": [
            "WARNING:tensorflow:Early stopping conditioned on metric `val_loss` which is not available. Available metrics are: loss,accuracy\n"
          ]
        },
        {
          "output_type": "stream",
          "name": "stdout",
          "text": [
            "\b\b\b\b\b\b\b\b\b\b\b\b\b\b\b\b\b\b\b\b\b\b\b\b\b\b\b\b\b\b\b\b\b\b\b\b\b\b\b\b\b\b\b\b\b\b\b\b\b\b\b\b\b\b\b\b\b\b\b\b\b\b\b\b\b\b\b\b\b\b\b\b\b\b\b\b\b\b\b\b\b\b\r20/20 [==============================] - 4s 206ms/step - loss: 0.0355 - accuracy: 0.8337\n",
            "Epoch 28/200\n",
            "20/20 [==============================] - ETA: 0s - loss: 0.0348 - accuracy: 0.8343"
          ]
        },
        {
          "output_type": "stream",
          "name": "stderr",
          "text": [
            "WARNING:tensorflow:Early stopping conditioned on metric `val_loss` which is not available. Available metrics are: loss,accuracy\n"
          ]
        },
        {
          "output_type": "stream",
          "name": "stdout",
          "text": [
            "\b\b\b\b\b\b\b\b\b\b\b\b\b\b\b\b\b\b\b\b\b\b\b\b\b\b\b\b\b\b\b\b\b\b\b\b\b\b\b\b\b\b\b\b\b\b\b\b\b\b\b\b\b\b\b\b\b\b\b\b\b\b\b\b\b\b\b\b\b\b\b\b\b\b\b\b\b\b\b\b\b\b\r20/20 [==============================] - 5s 235ms/step - loss: 0.0348 - accuracy: 0.8343\n",
            "Epoch 29/200\n",
            "20/20 [==============================] - ETA: 0s - loss: 0.0345 - accuracy: 0.8346"
          ]
        },
        {
          "output_type": "stream",
          "name": "stderr",
          "text": [
            "WARNING:tensorflow:Early stopping conditioned on metric `val_loss` which is not available. Available metrics are: loss,accuracy\n"
          ]
        },
        {
          "output_type": "stream",
          "name": "stdout",
          "text": [
            "\b\b\b\b\b\b\b\b\b\b\b\b\b\b\b\b\b\b\b\b\b\b\b\b\b\b\b\b\b\b\b\b\b\b\b\b\b\b\b\b\b\b\b\b\b\b\b\b\b\b\b\b\b\b\b\b\b\b\b\b\b\b\b\b\b\b\b\b\b\b\b\b\b\b\b\b\b\b\b\b\b\b\r20/20 [==============================] - 5s 239ms/step - loss: 0.0345 - accuracy: 0.8346\n",
            "Epoch 30/200\n",
            "20/20 [==============================] - ETA: 0s - loss: 0.0341 - accuracy: 0.8348"
          ]
        },
        {
          "output_type": "stream",
          "name": "stderr",
          "text": [
            "WARNING:tensorflow:Early stopping conditioned on metric `val_loss` which is not available. Available metrics are: loss,accuracy\n"
          ]
        },
        {
          "output_type": "stream",
          "name": "stdout",
          "text": [
            "\b\b\b\b\b\b\b\b\b\b\b\b\b\b\b\b\b\b\b\b\b\b\b\b\b\b\b\b\b\b\b\b\b\b\b\b\b\b\b\b\b\b\b\b\b\b\b\b\b\b\b\b\b\b\b\b\b\b\b\b\b\b\b\b\b\b\b\b\b\b\b\b\b\b\b\b\b\b\b\b\b\b\r20/20 [==============================] - 4s 208ms/step - loss: 0.0341 - accuracy: 0.8348\n",
            "Epoch 31/200\n",
            "20/20 [==============================] - ETA: 0s - loss: 0.0338 - accuracy: 0.8350"
          ]
        },
        {
          "output_type": "stream",
          "name": "stderr",
          "text": [
            "WARNING:tensorflow:Early stopping conditioned on metric `val_loss` which is not available. Available metrics are: loss,accuracy\n"
          ]
        },
        {
          "output_type": "stream",
          "name": "stdout",
          "text": [
            "\b\b\b\b\b\b\b\b\b\b\b\b\b\b\b\b\b\b\b\b\b\b\b\b\b\b\b\b\b\b\b\b\b\b\b\b\b\b\b\b\b\b\b\b\b\b\b\b\b\b\b\b\b\b\b\b\b\b\b\b\b\b\b\b\b\b\b\b\b\b\b\b\b\b\b\b\b\b\b\b\b\b\r20/20 [==============================] - 5s 242ms/step - loss: 0.0338 - accuracy: 0.8350\n",
            "Epoch 32/200\n",
            "20/20 [==============================] - ETA: 0s - loss: 0.0334 - accuracy: 0.8353"
          ]
        },
        {
          "output_type": "stream",
          "name": "stderr",
          "text": [
            "WARNING:tensorflow:Early stopping conditioned on metric `val_loss` which is not available. Available metrics are: loss,accuracy\n"
          ]
        },
        {
          "output_type": "stream",
          "name": "stdout",
          "text": [
            "\b\b\b\b\b\b\b\b\b\b\b\b\b\b\b\b\b\b\b\b\b\b\b\b\b\b\b\b\b\b\b\b\b\b\b\b\b\b\b\b\b\b\b\b\b\b\b\b\b\b\b\b\b\b\b\b\b\b\b\b\b\b\b\b\b\b\b\b\b\b\b\b\b\b\b\b\b\b\b\b\b\b\r20/20 [==============================] - 7s 326ms/step - loss: 0.0334 - accuracy: 0.8353\n",
            "Epoch 33/200\n",
            "20/20 [==============================] - ETA: 0s - loss: 0.0329 - accuracy: 0.8357"
          ]
        },
        {
          "output_type": "stream",
          "name": "stderr",
          "text": [
            "WARNING:tensorflow:Early stopping conditioned on metric `val_loss` which is not available. Available metrics are: loss,accuracy\n"
          ]
        },
        {
          "output_type": "stream",
          "name": "stdout",
          "text": [
            "\b\b\b\b\b\b\b\b\b\b\b\b\b\b\b\b\b\b\b\b\b\b\b\b\b\b\b\b\b\b\b\b\b\b\b\b\b\b\b\b\b\b\b\b\b\b\b\b\b\b\b\b\b\b\b\b\b\b\b\b\b\b\b\b\b\b\b\b\b\b\b\b\b\b\b\b\b\b\b\b\b\b\r20/20 [==============================] - 4s 217ms/step - loss: 0.0329 - accuracy: 0.8357\n",
            "Epoch 34/200\n",
            "20/20 [==============================] - ETA: 0s - loss: 0.0327 - accuracy: 0.8359"
          ]
        },
        {
          "output_type": "stream",
          "name": "stderr",
          "text": [
            "WARNING:tensorflow:Early stopping conditioned on metric `val_loss` which is not available. Available metrics are: loss,accuracy\n"
          ]
        },
        {
          "output_type": "stream",
          "name": "stdout",
          "text": [
            "\b\b\b\b\b\b\b\b\b\b\b\b\b\b\b\b\b\b\b\b\b\b\b\b\b\b\b\b\b\b\b\b\b\b\b\b\b\b\b\b\b\b\b\b\b\b\b\b\b\b\b\b\b\b\b\b\b\b\b\b\b\b\b\b\b\b\b\b\b\b\b\b\b\b\b\b\b\b\b\b\b\b\r20/20 [==============================] - 8s 396ms/step - loss: 0.0327 - accuracy: 0.8359\n",
            "Epoch 35/200\n",
            "20/20 [==============================] - ETA: 0s - loss: 0.0325 - accuracy: 0.8359"
          ]
        },
        {
          "output_type": "stream",
          "name": "stderr",
          "text": [
            "WARNING:tensorflow:Early stopping conditioned on metric `val_loss` which is not available. Available metrics are: loss,accuracy\n"
          ]
        },
        {
          "output_type": "stream",
          "name": "stdout",
          "text": [
            "\b\b\b\b\b\b\b\b\b\b\b\b\b\b\b\b\b\b\b\b\b\b\b\b\b\b\b\b\b\b\b\b\b\b\b\b\b\b\b\b\b\b\b\b\b\b\b\b\b\b\b\b\b\b\b\b\b\b\b\b\b\b\b\b\b\b\b\b\b\b\b\b\b\b\b\b\b\b\b\b\b\b\r20/20 [==============================] - 4s 214ms/step - loss: 0.0325 - accuracy: 0.8359\n",
            "Epoch 36/200\n",
            "20/20 [==============================] - ETA: 0s - loss: 0.0321 - accuracy: 0.8363"
          ]
        },
        {
          "output_type": "stream",
          "name": "stderr",
          "text": [
            "WARNING:tensorflow:Early stopping conditioned on metric `val_loss` which is not available. Available metrics are: loss,accuracy\n"
          ]
        },
        {
          "output_type": "stream",
          "name": "stdout",
          "text": [
            "\b\b\b\b\b\b\b\b\b\b\b\b\b\b\b\b\b\b\b\b\b\b\b\b\b\b\b\b\b\b\b\b\b\b\b\b\b\b\b\b\b\b\b\b\b\b\b\b\b\b\b\b\b\b\b\b\b\b\b\b\b\b\b\b\b\b\b\b\b\b\b\b\b\b\b\b\b\b\b\b\b\b\r20/20 [==============================] - 7s 353ms/step - loss: 0.0321 - accuracy: 0.8363\n",
            "Epoch 37/200\n",
            "20/20 [==============================] - ETA: 0s - loss: 0.0318 - accuracy: 0.8364"
          ]
        },
        {
          "output_type": "stream",
          "name": "stderr",
          "text": [
            "WARNING:tensorflow:Early stopping conditioned on metric `val_loss` which is not available. Available metrics are: loss,accuracy\n"
          ]
        },
        {
          "output_type": "stream",
          "name": "stdout",
          "text": [
            "\b\b\b\b\b\b\b\b\b\b\b\b\b\b\b\b\b\b\b\b\b\b\b\b\b\b\b\b\b\b\b\b\b\b\b\b\b\b\b\b\b\b\b\b\b\b\b\b\b\b\b\b\b\b\b\b\b\b\b\b\b\b\b\b\b\b\b\b\b\b\b\b\b\b\b\b\b\b\b\b\b\b\r20/20 [==============================] - 4s 215ms/step - loss: 0.0318 - accuracy: 0.8364\n",
            "Epoch 38/200\n",
            "20/20 [==============================] - ETA: 0s - loss: 0.0317 - accuracy: 0.8366"
          ]
        },
        {
          "output_type": "stream",
          "name": "stderr",
          "text": [
            "WARNING:tensorflow:Early stopping conditioned on metric `val_loss` which is not available. Available metrics are: loss,accuracy\n"
          ]
        },
        {
          "output_type": "stream",
          "name": "stdout",
          "text": [
            "\b\b\b\b\b\b\b\b\b\b\b\b\b\b\b\b\b\b\b\b\b\b\b\b\b\b\b\b\b\b\b\b\b\b\b\b\b\b\b\b\b\b\b\b\b\b\b\b\b\b\b\b\b\b\b\b\b\b\b\b\b\b\b\b\b\b\b\b\b\b\b\b\b\b\b\b\b\b\b\b\b\b\r20/20 [==============================] - 5s 253ms/step - loss: 0.0317 - accuracy: 0.8366\n",
            "Epoch 39/200\n",
            "20/20 [==============================] - ETA: 0s - loss: 0.0314 - accuracy: 0.8367"
          ]
        },
        {
          "output_type": "stream",
          "name": "stderr",
          "text": [
            "WARNING:tensorflow:Early stopping conditioned on metric `val_loss` which is not available. Available metrics are: loss,accuracy\n"
          ]
        },
        {
          "output_type": "stream",
          "name": "stdout",
          "text": [
            "\b\b\b\b\b\b\b\b\b\b\b\b\b\b\b\b\b\b\b\b\b\b\b\b\b\b\b\b\b\b\b\b\b\b\b\b\b\b\b\b\b\b\b\b\b\b\b\b\b\b\b\b\b\b\b\b\b\b\b\b\b\b\b\b\b\b\b\b\b\b\b\b\b\b\b\b\b\b\b\b\b\b\r20/20 [==============================] - 6s 281ms/step - loss: 0.0314 - accuracy: 0.8367\n",
            "Epoch 40/200\n",
            "20/20 [==============================] - ETA: 0s - loss: 0.0311 - accuracy: 0.8370"
          ]
        },
        {
          "output_type": "stream",
          "name": "stderr",
          "text": [
            "WARNING:tensorflow:Early stopping conditioned on metric `val_loss` which is not available. Available metrics are: loss,accuracy\n"
          ]
        },
        {
          "output_type": "stream",
          "name": "stdout",
          "text": [
            "\b\b\b\b\b\b\b\b\b\b\b\b\b\b\b\b\b\b\b\b\b\b\b\b\b\b\b\b\b\b\b\b\b\b\b\b\b\b\b\b\b\b\b\b\b\b\b\b\b\b\b\b\b\b\b\b\b\b\b\b\b\b\b\b\b\b\b\b\b\b\b\b\b\b\b\b\b\b\b\b\b\b\r20/20 [==============================] - 4s 207ms/step - loss: 0.0311 - accuracy: 0.8370\n",
            "Epoch 41/200\n",
            "20/20 [==============================] - ETA: 0s - loss: 0.0308 - accuracy: 0.8371"
          ]
        },
        {
          "output_type": "stream",
          "name": "stderr",
          "text": [
            "WARNING:tensorflow:Early stopping conditioned on metric `val_loss` which is not available. Available metrics are: loss,accuracy\n"
          ]
        },
        {
          "output_type": "stream",
          "name": "stdout",
          "text": [
            "\b\b\b\b\b\b\b\b\b\b\b\b\b\b\b\b\b\b\b\b\b\b\b\b\b\b\b\b\b\b\b\b\b\b\b\b\b\b\b\b\b\b\b\b\b\b\b\b\b\b\b\b\b\b\b\b\b\b\b\b\b\b\b\b\b\b\b\b\b\b\b\b\b\b\b\b\b\b\b\b\b\b\r20/20 [==============================] - 4s 207ms/step - loss: 0.0308 - accuracy: 0.8371\n",
            "Epoch 42/200\n",
            "20/20 [==============================] - ETA: 0s - loss: 0.0307 - accuracy: 0.8373"
          ]
        },
        {
          "output_type": "stream",
          "name": "stderr",
          "text": [
            "WARNING:tensorflow:Early stopping conditioned on metric `val_loss` which is not available. Available metrics are: loss,accuracy\n"
          ]
        },
        {
          "output_type": "stream",
          "name": "stdout",
          "text": [
            "\b\b\b\b\b\b\b\b\b\b\b\b\b\b\b\b\b\b\b\b\b\b\b\b\b\b\b\b\b\b\b\b\b\b\b\b\b\b\b\b\b\b\b\b\b\b\b\b\b\b\b\b\b\b\b\b\b\b\b\b\b\b\b\b\b\b\b\b\b\b\b\b\b\b\b\b\b\b\b\b\b\b\r20/20 [==============================] - 5s 272ms/step - loss: 0.0307 - accuracy: 0.8373\n",
            "Epoch 43/200\n",
            "20/20 [==============================] - ETA: 0s - loss: 0.0306 - accuracy: 0.8372"
          ]
        },
        {
          "output_type": "stream",
          "name": "stderr",
          "text": [
            "WARNING:tensorflow:Early stopping conditioned on metric `val_loss` which is not available. Available metrics are: loss,accuracy\n"
          ]
        },
        {
          "output_type": "stream",
          "name": "stdout",
          "text": [
            "\b\b\b\b\b\b\b\b\b\b\b\b\b\b\b\b\b\b\b\b\b\b\b\b\b\b\b\b\b\b\b\b\b\b\b\b\b\b\b\b\b\b\b\b\b\b\b\b\b\b\b\b\b\b\b\b\b\b\b\b\b\b\b\b\b\b\b\b\b\b\b\b\b\b\b\b\b\b\b\b\b\b\r20/20 [==============================] - 4s 203ms/step - loss: 0.0306 - accuracy: 0.8372\n",
            "Epoch 44/200\n",
            "20/20 [==============================] - ETA: 0s - loss: 0.0303 - accuracy: 0.8375"
          ]
        },
        {
          "output_type": "stream",
          "name": "stderr",
          "text": [
            "WARNING:tensorflow:Early stopping conditioned on metric `val_loss` which is not available. Available metrics are: loss,accuracy\n"
          ]
        },
        {
          "output_type": "stream",
          "name": "stdout",
          "text": [
            "\b\b\b\b\b\b\b\b\b\b\b\b\b\b\b\b\b\b\b\b\b\b\b\b\b\b\b\b\b\b\b\b\b\b\b\b\b\b\b\b\b\b\b\b\b\b\b\b\b\b\b\b\b\b\b\b\b\b\b\b\b\b\b\b\b\b\b\b\b\b\b\b\b\b\b\b\b\b\b\b\b\b\r20/20 [==============================] - 4s 211ms/step - loss: 0.0303 - accuracy: 0.8375\n",
            "Epoch 45/200\n",
            "20/20 [==============================] - ETA: 0s - loss: 0.0301 - accuracy: 0.8377"
          ]
        },
        {
          "output_type": "stream",
          "name": "stderr",
          "text": [
            "WARNING:tensorflow:Early stopping conditioned on metric `val_loss` which is not available. Available metrics are: loss,accuracy\n"
          ]
        },
        {
          "output_type": "stream",
          "name": "stdout",
          "text": [
            "\b\b\b\b\b\b\b\b\b\b\b\b\b\b\b\b\b\b\b\b\b\b\b\b\b\b\b\b\b\b\b\b\b\b\b\b\b\b\b\b\b\b\b\b\b\b\b\b\b\b\b\b\b\b\b\b\b\b\b\b\b\b\b\b\b\b\b\b\b\b\b\b\b\b\b\b\b\b\b\b\b\b\r20/20 [==============================] - 5s 276ms/step - loss: 0.0301 - accuracy: 0.8377\n",
            "Epoch 46/200\n",
            "20/20 [==============================] - ETA: 0s - loss: 0.0299 - accuracy: 0.8378"
          ]
        },
        {
          "output_type": "stream",
          "name": "stderr",
          "text": [
            "WARNING:tensorflow:Early stopping conditioned on metric `val_loss` which is not available. Available metrics are: loss,accuracy\n"
          ]
        },
        {
          "output_type": "stream",
          "name": "stdout",
          "text": [
            "\b\b\b\b\b\b\b\b\b\b\b\b\b\b\b\b\b\b\b\b\b\b\b\b\b\b\b\b\b\b\b\b\b\b\b\b\b\b\b\b\b\b\b\b\b\b\b\b\b\b\b\b\b\b\b\b\b\b\b\b\b\b\b\b\b\b\b\b\b\b\b\b\b\b\b\b\b\b\b\b\b\b\r20/20 [==============================] - 4s 208ms/step - loss: 0.0299 - accuracy: 0.8378\n",
            "Epoch 47/200\n",
            "20/20 [==============================] - ETA: 0s - loss: 0.0298 - accuracy: 0.8379"
          ]
        },
        {
          "output_type": "stream",
          "name": "stderr",
          "text": [
            "WARNING:tensorflow:Early stopping conditioned on metric `val_loss` which is not available. Available metrics are: loss,accuracy\n"
          ]
        },
        {
          "output_type": "stream",
          "name": "stdout",
          "text": [
            "\b\b\b\b\b\b\b\b\b\b\b\b\b\b\b\b\b\b\b\b\b\b\b\b\b\b\b\b\b\b\b\b\b\b\b\b\b\b\b\b\b\b\b\b\b\b\b\b\b\b\b\b\b\b\b\b\b\b\b\b\b\b\b\b\b\b\b\b\b\b\b\b\b\b\b\b\b\b\b\b\b\b\r20/20 [==============================] - 4s 210ms/step - loss: 0.0298 - accuracy: 0.8379\n",
            "Epoch 48/200\n",
            "20/20 [==============================] - ETA: 0s - loss: 0.0295 - accuracy: 0.8381"
          ]
        },
        {
          "output_type": "stream",
          "name": "stderr",
          "text": [
            "WARNING:tensorflow:Early stopping conditioned on metric `val_loss` which is not available. Available metrics are: loss,accuracy\n"
          ]
        },
        {
          "output_type": "stream",
          "name": "stdout",
          "text": [
            "\b\b\b\b\b\b\b\b\b\b\b\b\b\b\b\b\b\b\b\b\b\b\b\b\b\b\b\b\b\b\b\b\b\b\b\b\b\b\b\b\b\b\b\b\b\b\b\b\b\b\b\b\b\b\b\b\b\b\b\b\b\b\b\b\b\b\b\b\b\b\b\b\b\b\b\b\b\b\b\b\b\b\r20/20 [==============================] - 7s 337ms/step - loss: 0.0295 - accuracy: 0.8381\n",
            "Epoch 49/200\n",
            "20/20 [==============================] - ETA: 0s - loss: 0.0295 - accuracy: 0.8381"
          ]
        },
        {
          "output_type": "stream",
          "name": "stderr",
          "text": [
            "WARNING:tensorflow:Early stopping conditioned on metric `val_loss` which is not available. Available metrics are: loss,accuracy\n"
          ]
        },
        {
          "output_type": "stream",
          "name": "stdout",
          "text": [
            "\b\b\b\b\b\b\b\b\b\b\b\b\b\b\b\b\b\b\b\b\b\b\b\b\b\b\b\b\b\b\b\b\b\b\b\b\b\b\b\b\b\b\b\b\b\b\b\b\b\b\b\b\b\b\b\b\b\b\b\b\b\b\b\b\b\b\b\b\b\b\b\b\b\b\b\b\b\b\b\b\b\b\r20/20 [==============================] - 4s 207ms/step - loss: 0.0295 - accuracy: 0.8381\n",
            "Epoch 50/200\n",
            "20/20 [==============================] - ETA: 0s - loss: 0.0292 - accuracy: 0.8383"
          ]
        },
        {
          "output_type": "stream",
          "name": "stderr",
          "text": [
            "WARNING:tensorflow:Early stopping conditioned on metric `val_loss` which is not available. Available metrics are: loss,accuracy\n"
          ]
        },
        {
          "output_type": "stream",
          "name": "stdout",
          "text": [
            "\b\b\b\b\b\b\b\b\b\b\b\b\b\b\b\b\b\b\b\b\b\b\b\b\b\b\b\b\b\b\b\b\b\b\b\b\b\b\b\b\b\b\b\b\b\b\b\b\b\b\b\b\b\b\b\b\b\b\b\b\b\b\b\b\b\b\b\b\b\b\b\b\b\b\b\b\b\b\b\b\b\b\r20/20 [==============================] - 4s 219ms/step - loss: 0.0292 - accuracy: 0.8383\n",
            "Epoch 51/200\n",
            "20/20 [==============================] - ETA: 0s - loss: 0.0293 - accuracy: 0.8381"
          ]
        },
        {
          "output_type": "stream",
          "name": "stderr",
          "text": [
            "WARNING:tensorflow:Early stopping conditioned on metric `val_loss` which is not available. Available metrics are: loss,accuracy\n"
          ]
        },
        {
          "output_type": "stream",
          "name": "stdout",
          "text": [
            "\b\b\b\b\b\b\b\b\b\b\b\b\b\b\b\b\b\b\b\b\b\b\b\b\b\b\b\b\b\b\b\b\b\b\b\b\b\b\b\b\b\b\b\b\b\b\b\b\b\b\b\b\b\b\b\b\b\b\b\b\b\b\b\b\b\b\b\b\b\b\b\b\b\b\b\b\b\b\b\b\b\b\r20/20 [==============================] - 6s 311ms/step - loss: 0.0293 - accuracy: 0.8381\n",
            "Epoch 52/200\n",
            "20/20 [==============================] - ETA: 0s - loss: 0.0290 - accuracy: 0.8384"
          ]
        },
        {
          "output_type": "stream",
          "name": "stderr",
          "text": [
            "WARNING:tensorflow:Early stopping conditioned on metric `val_loss` which is not available. Available metrics are: loss,accuracy\n"
          ]
        },
        {
          "output_type": "stream",
          "name": "stdout",
          "text": [
            "\b\b\b\b\b\b\b\b\b\b\b\b\b\b\b\b\b\b\b\b\b\b\b\b\b\b\b\b\b\b\b\b\b\b\b\b\b\b\b\b\b\b\b\b\b\b\b\b\b\b\b\b\b\b\b\b\b\b\b\b\b\b\b\b\b\b\b\b\b\b\b\b\b\b\b\b\b\b\b\b\b\b\r20/20 [==============================] - 5s 235ms/step - loss: 0.0290 - accuracy: 0.8384\n",
            "Epoch 53/200\n",
            "20/20 [==============================] - ETA: 0s - loss: 0.0289 - accuracy: 0.8385"
          ]
        },
        {
          "output_type": "stream",
          "name": "stderr",
          "text": [
            "WARNING:tensorflow:Early stopping conditioned on metric `val_loss` which is not available. Available metrics are: loss,accuracy\n"
          ]
        },
        {
          "output_type": "stream",
          "name": "stdout",
          "text": [
            "\b\b\b\b\b\b\b\b\b\b\b\b\b\b\b\b\b\b\b\b\b\b\b\b\b\b\b\b\b\b\b\b\b\b\b\b\b\b\b\b\b\b\b\b\b\b\b\b\b\b\b\b\b\b\b\b\b\b\b\b\b\b\b\b\b\b\b\b\b\b\b\b\b\b\b\b\b\b\b\b\b\b\r20/20 [==============================] - 6s 322ms/step - loss: 0.0289 - accuracy: 0.8385\n",
            "Epoch 54/200\n",
            "20/20 [==============================] - ETA: 0s - loss: 0.0286 - accuracy: 0.8387"
          ]
        },
        {
          "output_type": "stream",
          "name": "stderr",
          "text": [
            "WARNING:tensorflow:Early stopping conditioned on metric `val_loss` which is not available. Available metrics are: loss,accuracy\n"
          ]
        },
        {
          "output_type": "stream",
          "name": "stdout",
          "text": [
            "\b\b\b\b\b\b\b\b\b\b\b\b\b\b\b\b\b\b\b\b\b\b\b\b\b\b\b\b\b\b\b\b\b\b\b\b\b\b\b\b\b\b\b\b\b\b\b\b\b\b\b\b\b\b\b\b\b\b\b\b\b\b\b\b\b\b\b\b\b\b\b\b\b\b\b\b\b\b\b\b\b\b\r20/20 [==============================] - 6s 288ms/step - loss: 0.0286 - accuracy: 0.8387\n",
            "Epoch 55/200\n",
            "20/20 [==============================] - ETA: 0s - loss: 0.0285 - accuracy: 0.8388"
          ]
        },
        {
          "output_type": "stream",
          "name": "stderr",
          "text": [
            "WARNING:tensorflow:Early stopping conditioned on metric `val_loss` which is not available. Available metrics are: loss,accuracy\n"
          ]
        },
        {
          "output_type": "stream",
          "name": "stdout",
          "text": [
            "\b\b\b\b\b\b\b\b\b\b\b\b\b\b\b\b\b\b\b\b\b\b\b\b\b\b\b\b\b\b\b\b\b\b\b\b\b\b\b\b\b\b\b\b\b\b\b\b\b\b\b\b\b\b\b\b\b\b\b\b\b\b\b\b\b\b\b\b\b\b\b\b\b\b\b\b\b\b\b\b\b\b\r20/20 [==============================] - 4s 206ms/step - loss: 0.0285 - accuracy: 0.8388\n",
            "Epoch 56/200\n",
            "20/20 [==============================] - ETA: 0s - loss: 0.0285 - accuracy: 0.8387"
          ]
        },
        {
          "output_type": "stream",
          "name": "stderr",
          "text": [
            "WARNING:tensorflow:Early stopping conditioned on metric `val_loss` which is not available. Available metrics are: loss,accuracy\n"
          ]
        },
        {
          "output_type": "stream",
          "name": "stdout",
          "text": [
            "\b\b\b\b\b\b\b\b\b\b\b\b\b\b\b\b\b\b\b\b\b\b\b\b\b\b\b\b\b\b\b\b\b\b\b\b\b\b\b\b\b\b\b\b\b\b\b\b\b\b\b\b\b\b\b\b\b\b\b\b\b\b\b\b\b\b\b\b\b\b\b\b\b\b\b\b\b\b\b\b\b\b\r20/20 [==============================] - 5s 267ms/step - loss: 0.0285 - accuracy: 0.8387\n",
            "Epoch 57/200\n",
            "20/20 [==============================] - ETA: 0s - loss: 0.0283 - accuracy: 0.8388"
          ]
        },
        {
          "output_type": "stream",
          "name": "stderr",
          "text": [
            "WARNING:tensorflow:Early stopping conditioned on metric `val_loss` which is not available. Available metrics are: loss,accuracy\n"
          ]
        },
        {
          "output_type": "stream",
          "name": "stdout",
          "text": [
            "\b\b\b\b\b\b\b\b\b\b\b\b\b\b\b\b\b\b\b\b\b\b\b\b\b\b\b\b\b\b\b\b\b\b\b\b\b\b\b\b\b\b\b\b\b\b\b\b\b\b\b\b\b\b\b\b\b\b\b\b\b\b\b\b\b\b\b\b\b\b\b\b\b\b\b\b\b\b\b\b\b\b\r20/20 [==============================] - 5s 235ms/step - loss: 0.0283 - accuracy: 0.8388\n",
            "Epoch 58/200\n",
            "20/20 [==============================] - ETA: 0s - loss: 0.0282 - accuracy: 0.8390"
          ]
        },
        {
          "output_type": "stream",
          "name": "stderr",
          "text": [
            "WARNING:tensorflow:Early stopping conditioned on metric `val_loss` which is not available. Available metrics are: loss,accuracy\n"
          ]
        },
        {
          "output_type": "stream",
          "name": "stdout",
          "text": [
            "\b\b\b\b\b\b\b\b\b\b\b\b\b\b\b\b\b\b\b\b\b\b\b\b\b\b\b\b\b\b\b\b\b\b\b\b\b\b\b\b\b\b\b\b\b\b\b\b\b\b\b\b\b\b\b\b\b\b\b\b\b\b\b\b\b\b\b\b\b\b\b\b\b\b\b\b\b\b\b\b\b\b\r20/20 [==============================] - 5s 253ms/step - loss: 0.0282 - accuracy: 0.8390\n",
            "Epoch 59/200\n",
            "20/20 [==============================] - ETA: 0s - loss: 0.0280 - accuracy: 0.8390"
          ]
        },
        {
          "output_type": "stream",
          "name": "stderr",
          "text": [
            "WARNING:tensorflow:Early stopping conditioned on metric `val_loss` which is not available. Available metrics are: loss,accuracy\n"
          ]
        },
        {
          "output_type": "stream",
          "name": "stdout",
          "text": [
            "\b\b\b\b\b\b\b\b\b\b\b\b\b\b\b\b\b\b\b\b\b\b\b\b\b\b\b\b\b\b\b\b\b\b\b\b\b\b\b\b\b\b\b\b\b\b\b\b\b\b\b\b\b\b\b\b\b\b\b\b\b\b\b\b\b\b\b\b\b\b\b\b\b\b\b\b\b\b\b\b\b\b\r20/20 [==============================] - 5s 245ms/step - loss: 0.0280 - accuracy: 0.8390\n",
            "Epoch 60/200\n",
            "20/20 [==============================] - ETA: 0s - loss: 0.0279 - accuracy: 0.8391"
          ]
        },
        {
          "output_type": "stream",
          "name": "stderr",
          "text": [
            "WARNING:tensorflow:Early stopping conditioned on metric `val_loss` which is not available. Available metrics are: loss,accuracy\n"
          ]
        },
        {
          "output_type": "stream",
          "name": "stdout",
          "text": [
            "\b\b\b\b\b\b\b\b\b\b\b\b\b\b\b\b\b\b\b\b\b\b\b\b\b\b\b\b\b\b\b\b\b\b\b\b\b\b\b\b\b\b\b\b\b\b\b\b\b\b\b\b\b\b\b\b\b\b\b\b\b\b\b\b\b\b\b\b\b\b\b\b\b\b\b\b\b\b\b\b\b\b\r20/20 [==============================] - 4s 216ms/step - loss: 0.0279 - accuracy: 0.8391\n",
            "Epoch 61/200\n",
            "20/20 [==============================] - ETA: 0s - loss: 0.0278 - accuracy: 0.8392"
          ]
        },
        {
          "output_type": "stream",
          "name": "stderr",
          "text": [
            "WARNING:tensorflow:Early stopping conditioned on metric `val_loss` which is not available. Available metrics are: loss,accuracy\n"
          ]
        },
        {
          "output_type": "stream",
          "name": "stdout",
          "text": [
            "\b\b\b\b\b\b\b\b\b\b\b\b\b\b\b\b\b\b\b\b\b\b\b\b\b\b\b\b\b\b\b\b\b\b\b\b\b\b\b\b\b\b\b\b\b\b\b\b\b\b\b\b\b\b\b\b\b\b\b\b\b\b\b\b\b\b\b\b\b\b\b\b\b\b\b\b\b\b\b\b\b\b\r20/20 [==============================] - 5s 257ms/step - loss: 0.0278 - accuracy: 0.8392\n",
            "Epoch 62/200\n",
            "20/20 [==============================] - ETA: 0s - loss: 0.0276 - accuracy: 0.8392"
          ]
        },
        {
          "output_type": "stream",
          "name": "stderr",
          "text": [
            "WARNING:tensorflow:Early stopping conditioned on metric `val_loss` which is not available. Available metrics are: loss,accuracy\n"
          ]
        },
        {
          "output_type": "stream",
          "name": "stdout",
          "text": [
            "\b\b\b\b\b\b\b\b\b\b\b\b\b\b\b\b\b\b\b\b\b\b\b\b\b\b\b\b\b\b\b\b\b\b\b\b\b\b\b\b\b\b\b\b\b\b\b\b\b\b\b\b\b\b\b\b\b\b\b\b\b\b\b\b\b\b\b\b\b\b\b\b\b\b\b\b\b\b\b\b\b\b\r20/20 [==============================] - 5s 230ms/step - loss: 0.0276 - accuracy: 0.8392\n",
            "Epoch 63/200\n",
            "20/20 [==============================] - ETA: 0s - loss: 0.0277 - accuracy: 0.8392"
          ]
        },
        {
          "output_type": "stream",
          "name": "stderr",
          "text": [
            "WARNING:tensorflow:Early stopping conditioned on metric `val_loss` which is not available. Available metrics are: loss,accuracy\n"
          ]
        },
        {
          "output_type": "stream",
          "name": "stdout",
          "text": [
            "\b\b\b\b\b\b\b\b\b\b\b\b\b\b\b\b\b\b\b\b\b\b\b\b\b\b\b\b\b\b\b\b\b\b\b\b\b\b\b\b\b\b\b\b\b\b\b\b\b\b\b\b\b\b\b\b\b\b\b\b\b\b\b\b\b\b\b\b\b\b\b\b\b\b\b\b\b\b\b\b\b\b\r20/20 [==============================] - 4s 207ms/step - loss: 0.0277 - accuracy: 0.8392\n",
            "Epoch 64/200\n",
            "20/20 [==============================] - ETA: 0s - loss: 0.0276 - accuracy: 0.8393"
          ]
        },
        {
          "output_type": "stream",
          "name": "stderr",
          "text": [
            "WARNING:tensorflow:Early stopping conditioned on metric `val_loss` which is not available. Available metrics are: loss,accuracy\n"
          ]
        },
        {
          "output_type": "stream",
          "name": "stdout",
          "text": [
            "\b\b\b\b\b\b\b\b\b\b\b\b\b\b\b\b\b\b\b\b\b\b\b\b\b\b\b\b\b\b\b\b\b\b\b\b\b\b\b\b\b\b\b\b\b\b\b\b\b\b\b\b\b\b\b\b\b\b\b\b\b\b\b\b\b\b\b\b\b\b\b\b\b\b\b\b\b\b\b\b\b\b\r20/20 [==============================] - 5s 248ms/step - loss: 0.0276 - accuracy: 0.8393\n",
            "Epoch 65/200\n",
            "20/20 [==============================] - ETA: 0s - loss: 0.0274 - accuracy: 0.8393"
          ]
        },
        {
          "output_type": "stream",
          "name": "stderr",
          "text": [
            "WARNING:tensorflow:Early stopping conditioned on metric `val_loss` which is not available. Available metrics are: loss,accuracy\n"
          ]
        },
        {
          "output_type": "stream",
          "name": "stdout",
          "text": [
            "\b\b\b\b\b\b\b\b\b\b\b\b\b\b\b\b\b\b\b\b\b\b\b\b\b\b\b\b\b\b\b\b\b\b\b\b\b\b\b\b\b\b\b\b\b\b\b\b\b\b\b\b\b\b\b\b\b\b\b\b\b\b\b\b\b\b\b\b\b\b\b\b\b\b\b\b\b\b\b\b\b\b\r20/20 [==============================] - 5s 228ms/step - loss: 0.0274 - accuracy: 0.8393\n",
            "Epoch 66/200\n",
            "20/20 [==============================] - ETA: 0s - loss: 0.0273 - accuracy: 0.8394"
          ]
        },
        {
          "output_type": "stream",
          "name": "stderr",
          "text": [
            "WARNING:tensorflow:Early stopping conditioned on metric `val_loss` which is not available. Available metrics are: loss,accuracy\n"
          ]
        },
        {
          "output_type": "stream",
          "name": "stdout",
          "text": [
            "\b\b\b\b\b\b\b\b\b\b\b\b\b\b\b\b\b\b\b\b\b\b\b\b\b\b\b\b\b\b\b\b\b\b\b\b\b\b\b\b\b\b\b\b\b\b\b\b\b\b\b\b\b\b\b\b\b\b\b\b\b\b\b\b\b\b\b\b\b\b\b\b\b\b\b\b\b\b\b\b\b\b\r20/20 [==============================] - 4s 206ms/step - loss: 0.0273 - accuracy: 0.8394\n",
            "Epoch 67/200\n",
            "20/20 [==============================] - ETA: 0s - loss: 0.0271 - accuracy: 0.8395"
          ]
        },
        {
          "output_type": "stream",
          "name": "stderr",
          "text": [
            "WARNING:tensorflow:Early stopping conditioned on metric `val_loss` which is not available. Available metrics are: loss,accuracy\n"
          ]
        },
        {
          "output_type": "stream",
          "name": "stdout",
          "text": [
            "\b\b\b\b\b\b\b\b\b\b\b\b\b\b\b\b\b\b\b\b\b\b\b\b\b\b\b\b\b\b\b\b\b\b\b\b\b\b\b\b\b\b\b\b\b\b\b\b\b\b\b\b\b\b\b\b\b\b\b\b\b\b\b\b\b\b\b\b\b\b\b\b\b\b\b\b\b\b\b\b\b\b\r20/20 [==============================] - 5s 242ms/step - loss: 0.0271 - accuracy: 0.8395\n",
            "Epoch 68/200\n",
            "20/20 [==============================] - ETA: 0s - loss: 0.0272 - accuracy: 0.8395"
          ]
        },
        {
          "output_type": "stream",
          "name": "stderr",
          "text": [
            "WARNING:tensorflow:Early stopping conditioned on metric `val_loss` which is not available. Available metrics are: loss,accuracy\n"
          ]
        },
        {
          "output_type": "stream",
          "name": "stdout",
          "text": [
            "\b\b\b\b\b\b\b\b\b\b\b\b\b\b\b\b\b\b\b\b\b\b\b\b\b\b\b\b\b\b\b\b\b\b\b\b\b\b\b\b\b\b\b\b\b\b\b\b\b\b\b\b\b\b\b\b\b\b\b\b\b\b\b\b\b\b\b\b\b\b\b\b\b\b\b\b\b\b\b\b\b\b\r20/20 [==============================] - 5s 232ms/step - loss: 0.0272 - accuracy: 0.8395\n",
            "Epoch 69/200\n",
            "20/20 [==============================] - ETA: 0s - loss: 0.0269 - accuracy: 0.8396"
          ]
        },
        {
          "output_type": "stream",
          "name": "stderr",
          "text": [
            "WARNING:tensorflow:Early stopping conditioned on metric `val_loss` which is not available. Available metrics are: loss,accuracy\n"
          ]
        },
        {
          "output_type": "stream",
          "name": "stdout",
          "text": [
            "\b\b\b\b\b\b\b\b\b\b\b\b\b\b\b\b\b\b\b\b\b\b\b\b\b\b\b\b\b\b\b\b\b\b\b\b\b\b\b\b\b\b\b\b\b\b\b\b\b\b\b\b\b\b\b\b\b\b\b\b\b\b\b\b\b\b\b\b\b\b\b\b\b\b\b\b\b\b\b\b\b\b\r20/20 [==============================] - 4s 205ms/step - loss: 0.0269 - accuracy: 0.8396\n",
            "Epoch 70/200\n",
            "20/20 [==============================] - ETA: 0s - loss: 0.0269 - accuracy: 0.8397"
          ]
        },
        {
          "output_type": "stream",
          "name": "stderr",
          "text": [
            "WARNING:tensorflow:Early stopping conditioned on metric `val_loss` which is not available. Available metrics are: loss,accuracy\n"
          ]
        },
        {
          "output_type": "stream",
          "name": "stdout",
          "text": [
            "\b\b\b\b\b\b\b\b\b\b\b\b\b\b\b\b\b\b\b\b\b\b\b\b\b\b\b\b\b\b\b\b\b\b\b\b\b\b\b\b\b\b\b\b\b\b\b\b\b\b\b\b\b\b\b\b\b\b\b\b\b\b\b\b\b\b\b\b\b\b\b\b\b\b\b\b\b\b\b\b\b\b\r20/20 [==============================] - 5s 251ms/step - loss: 0.0269 - accuracy: 0.8397\n",
            "Epoch 71/200\n",
            "20/20 [==============================] - ETA: 0s - loss: 0.0268 - accuracy: 0.8397"
          ]
        },
        {
          "output_type": "stream",
          "name": "stderr",
          "text": [
            "WARNING:tensorflow:Early stopping conditioned on metric `val_loss` which is not available. Available metrics are: loss,accuracy\n"
          ]
        },
        {
          "output_type": "stream",
          "name": "stdout",
          "text": [
            "\b\b\b\b\b\b\b\b\b\b\b\b\b\b\b\b\b\b\b\b\b\b\b\b\b\b\b\b\b\b\b\b\b\b\b\b\b\b\b\b\b\b\b\b\b\b\b\b\b\b\b\b\b\b\b\b\b\b\b\b\b\b\b\b\b\b\b\b\b\b\b\b\b\b\b\b\b\b\b\b\b\b\r20/20 [==============================] - 5s 230ms/step - loss: 0.0268 - accuracy: 0.8397\n",
            "Epoch 72/200\n",
            "20/20 [==============================] - ETA: 0s - loss: 0.0267 - accuracy: 0.8398"
          ]
        },
        {
          "output_type": "stream",
          "name": "stderr",
          "text": [
            "WARNING:tensorflow:Early stopping conditioned on metric `val_loss` which is not available. Available metrics are: loss,accuracy\n"
          ]
        },
        {
          "output_type": "stream",
          "name": "stdout",
          "text": [
            "\b\b\b\b\b\b\b\b\b\b\b\b\b\b\b\b\b\b\b\b\b\b\b\b\b\b\b\b\b\b\b\b\b\b\b\b\b\b\b\b\b\b\b\b\b\b\b\b\b\b\b\b\b\b\b\b\b\b\b\b\b\b\b\b\b\b\b\b\b\b\b\b\b\b\b\b\b\b\b\b\b\b\r20/20 [==============================] - 4s 215ms/step - loss: 0.0267 - accuracy: 0.8398\n",
            "Epoch 73/200\n",
            "20/20 [==============================] - ETA: 0s - loss: 0.0267 - accuracy: 0.8397"
          ]
        },
        {
          "output_type": "stream",
          "name": "stderr",
          "text": [
            "WARNING:tensorflow:Early stopping conditioned on metric `val_loss` which is not available. Available metrics are: loss,accuracy\n"
          ]
        },
        {
          "output_type": "stream",
          "name": "stdout",
          "text": [
            "\b\b\b\b\b\b\b\b\b\b\b\b\b\b\b\b\b\b\b\b\b\b\b\b\b\b\b\b\b\b\b\b\b\b\b\b\b\b\b\b\b\b\b\b\b\b\b\b\b\b\b\b\b\b\b\b\b\b\b\b\b\b\b\b\b\b\b\b\b\b\b\b\b\b\b\b\b\b\b\b\b\b\r20/20 [==============================] - 5s 263ms/step - loss: 0.0267 - accuracy: 0.8397\n",
            "Epoch 74/200\n",
            "20/20 [==============================] - ETA: 0s - loss: 0.0271 - accuracy: 0.8393"
          ]
        },
        {
          "output_type": "stream",
          "name": "stderr",
          "text": [
            "WARNING:tensorflow:Early stopping conditioned on metric `val_loss` which is not available. Available metrics are: loss,accuracy\n"
          ]
        },
        {
          "output_type": "stream",
          "name": "stdout",
          "text": [
            "\b\b\b\b\b\b\b\b\b\b\b\b\b\b\b\b\b\b\b\b\b\b\b\b\b\b\b\b\b\b\b\b\b\b\b\b\b\b\b\b\b\b\b\b\b\b\b\b\b\b\b\b\b\b\b\b\b\b\b\b\b\b\b\b\b\b\b\b\b\b\b\b\b\b\b\b\b\b\b\b\b\b\r20/20 [==============================] - 5s 221ms/step - loss: 0.0271 - accuracy: 0.8393\n",
            "Epoch 75/200\n",
            "20/20 [==============================] - ETA: 0s - loss: 0.0266 - accuracy: 0.8398"
          ]
        },
        {
          "output_type": "stream",
          "name": "stderr",
          "text": [
            "WARNING:tensorflow:Early stopping conditioned on metric `val_loss` which is not available. Available metrics are: loss,accuracy\n"
          ]
        },
        {
          "output_type": "stream",
          "name": "stdout",
          "text": [
            "\b\b\b\b\b\b\b\b\b\b\b\b\b\b\b\b\b\b\b\b\b\b\b\b\b\b\b\b\b\b\b\b\b\b\b\b\b\b\b\b\b\b\b\b\b\b\b\b\b\b\b\b\b\b\b\b\b\b\b\b\b\b\b\b\b\b\b\b\b\b\b\b\b\b\b\b\b\b\b\b\b\b\r20/20 [==============================] - 4s 203ms/step - loss: 0.0266 - accuracy: 0.8398\n",
            "Epoch 76/200\n",
            "20/20 [==============================] - ETA: 0s - loss: 0.0265 - accuracy: 0.8399"
          ]
        },
        {
          "output_type": "stream",
          "name": "stderr",
          "text": [
            "WARNING:tensorflow:Early stopping conditioned on metric `val_loss` which is not available. Available metrics are: loss,accuracy\n"
          ]
        },
        {
          "output_type": "stream",
          "name": "stdout",
          "text": [
            "\b\b\b\b\b\b\b\b\b\b\b\b\b\b\b\b\b\b\b\b\b\b\b\b\b\b\b\b\b\b\b\b\b\b\b\b\b\b\b\b\b\b\b\b\b\b\b\b\b\b\b\b\b\b\b\b\b\b\b\b\b\b\b\b\b\b\b\b\b\b\b\b\b\b\b\b\b\b\b\b\b\b\r20/20 [==============================] - 5s 274ms/step - loss: 0.0265 - accuracy: 0.8399\n",
            "Epoch 77/200\n",
            "20/20 [==============================] - ETA: 0s - loss: 0.0263 - accuracy: 0.8400"
          ]
        },
        {
          "output_type": "stream",
          "name": "stderr",
          "text": [
            "WARNING:tensorflow:Early stopping conditioned on metric `val_loss` which is not available. Available metrics are: loss,accuracy\n"
          ]
        },
        {
          "output_type": "stream",
          "name": "stdout",
          "text": [
            "\b\b\b\b\b\b\b\b\b\b\b\b\b\b\b\b\b\b\b\b\b\b\b\b\b\b\b\b\b\b\b\b\b\b\b\b\b\b\b\b\b\b\b\b\b\b\b\b\b\b\b\b\b\b\b\b\b\b\b\b\b\b\b\b\b\b\b\b\b\b\b\b\b\b\b\b\b\b\b\b\b\b\r20/20 [==============================] - 4s 208ms/step - loss: 0.0263 - accuracy: 0.8400\n",
            "Epoch 78/200\n",
            "20/20 [==============================] - ETA: 0s - loss: 0.0261 - accuracy: 0.8400"
          ]
        },
        {
          "output_type": "stream",
          "name": "stderr",
          "text": [
            "WARNING:tensorflow:Early stopping conditioned on metric `val_loss` which is not available. Available metrics are: loss,accuracy\n"
          ]
        },
        {
          "output_type": "stream",
          "name": "stdout",
          "text": [
            "\b\b\b\b\b\b\b\b\b\b\b\b\b\b\b\b\b\b\b\b\b\b\b\b\b\b\b\b\b\b\b\b\b\b\b\b\b\b\b\b\b\b\b\b\b\b\b\b\b\b\b\b\b\b\b\b\b\b\b\b\b\b\b\b\b\b\b\b\b\b\b\b\b\b\b\b\b\b\b\b\b\b\r20/20 [==============================] - 4s 204ms/step - loss: 0.0261 - accuracy: 0.8400\n",
            "Epoch 79/200\n",
            "20/20 [==============================] - ETA: 0s - loss: 0.0261 - accuracy: 0.8401"
          ]
        },
        {
          "output_type": "stream",
          "name": "stderr",
          "text": [
            "WARNING:tensorflow:Early stopping conditioned on metric `val_loss` which is not available. Available metrics are: loss,accuracy\n"
          ]
        },
        {
          "output_type": "stream",
          "name": "stdout",
          "text": [
            "\b\b\b\b\b\b\b\b\b\b\b\b\b\b\b\b\b\b\b\b\b\b\b\b\b\b\b\b\b\b\b\b\b\b\b\b\b\b\b\b\b\b\b\b\b\b\b\b\b\b\b\b\b\b\b\b\b\b\b\b\b\b\b\b\b\b\b\b\b\b\b\b\b\b\b\b\b\b\b\b\b\b\r20/20 [==============================] - 6s 291ms/step - loss: 0.0261 - accuracy: 0.8401\n",
            "Epoch 80/200\n",
            "20/20 [==============================] - ETA: 0s - loss: 0.0260 - accuracy: 0.8401"
          ]
        },
        {
          "output_type": "stream",
          "name": "stderr",
          "text": [
            "WARNING:tensorflow:Early stopping conditioned on metric `val_loss` which is not available. Available metrics are: loss,accuracy\n"
          ]
        },
        {
          "output_type": "stream",
          "name": "stdout",
          "text": [
            "\b\b\b\b\b\b\b\b\b\b\b\b\b\b\b\b\b\b\b\b\b\b\b\b\b\b\b\b\b\b\b\b\b\b\b\b\b\b\b\b\b\b\b\b\b\b\b\b\b\b\b\b\b\b\b\b\b\b\b\b\b\b\b\b\b\b\b\b\b\b\b\b\b\b\b\b\b\b\b\b\b\b\r20/20 [==============================] - 4s 203ms/step - loss: 0.0260 - accuracy: 0.8401\n",
            "Epoch 81/200\n",
            "20/20 [==============================] - ETA: 0s - loss: 0.0260 - accuracy: 0.8402"
          ]
        },
        {
          "output_type": "stream",
          "name": "stderr",
          "text": [
            "WARNING:tensorflow:Early stopping conditioned on metric `val_loss` which is not available. Available metrics are: loss,accuracy\n"
          ]
        },
        {
          "output_type": "stream",
          "name": "stdout",
          "text": [
            "\b\b\b\b\b\b\b\b\b\b\b\b\b\b\b\b\b\b\b\b\b\b\b\b\b\b\b\b\b\b\b\b\b\b\b\b\b\b\b\b\b\b\b\b\b\b\b\b\b\b\b\b\b\b\b\b\b\b\b\b\b\b\b\b\b\b\b\b\b\b\b\b\b\b\b\b\b\b\b\b\b\b\r20/20 [==============================] - 4s 206ms/step - loss: 0.0260 - accuracy: 0.8402\n",
            "Epoch 82/200\n",
            "20/20 [==============================] - ETA: 0s - loss: 0.0259 - accuracy: 0.8401"
          ]
        },
        {
          "output_type": "stream",
          "name": "stderr",
          "text": [
            "WARNING:tensorflow:Early stopping conditioned on metric `val_loss` which is not available. Available metrics are: loss,accuracy\n"
          ]
        },
        {
          "output_type": "stream",
          "name": "stdout",
          "text": [
            "\b\b\b\b\b\b\b\b\b\b\b\b\b\b\b\b\b\b\b\b\b\b\b\b\b\b\b\b\b\b\b\b\b\b\b\b\b\b\b\b\b\b\b\b\b\b\b\b\b\b\b\b\b\b\b\b\b\b\b\b\b\b\b\b\b\b\b\b\b\b\b\b\b\b\b\b\b\b\b\b\b\b\r20/20 [==============================] - 5s 264ms/step - loss: 0.0259 - accuracy: 0.8401\n",
            "Epoch 83/200\n",
            "20/20 [==============================] - ETA: 0s - loss: 0.0259 - accuracy: 0.8403"
          ]
        },
        {
          "output_type": "stream",
          "name": "stderr",
          "text": [
            "WARNING:tensorflow:Early stopping conditioned on metric `val_loss` which is not available. Available metrics are: loss,accuracy\n"
          ]
        },
        {
          "output_type": "stream",
          "name": "stdout",
          "text": [
            "\b\b\b\b\b\b\b\b\b\b\b\b\b\b\b\b\b\b\b\b\b\b\b\b\b\b\b\b\b\b\b\b\b\b\b\b\b\b\b\b\b\b\b\b\b\b\b\b\b\b\b\b\b\b\b\b\b\b\b\b\b\b\b\b\b\b\b\b\b\b\b\b\b\b\b\b\b\b\b\b\b\b\r20/20 [==============================] - 4s 208ms/step - loss: 0.0259 - accuracy: 0.8403\n",
            "Epoch 84/200\n",
            "20/20 [==============================] - ETA: 0s - loss: 0.0258 - accuracy: 0.8403"
          ]
        },
        {
          "output_type": "stream",
          "name": "stderr",
          "text": [
            "WARNING:tensorflow:Early stopping conditioned on metric `val_loss` which is not available. Available metrics are: loss,accuracy\n"
          ]
        },
        {
          "output_type": "stream",
          "name": "stdout",
          "text": [
            "\b\b\b\b\b\b\b\b\b\b\b\b\b\b\b\b\b\b\b\b\b\b\b\b\b\b\b\b\b\b\b\b\b\b\b\b\b\b\b\b\b\b\b\b\b\b\b\b\b\b\b\b\b\b\b\b\b\b\b\b\b\b\b\b\b\b\b\b\b\b\b\b\b\b\b\b\b\b\b\b\b\b\r20/20 [==============================] - 4s 205ms/step - loss: 0.0258 - accuracy: 0.8403\n",
            "Epoch 85/200\n",
            "20/20 [==============================] - ETA: 0s - loss: 0.0257 - accuracy: 0.8403"
          ]
        },
        {
          "output_type": "stream",
          "name": "stderr",
          "text": [
            "WARNING:tensorflow:Early stopping conditioned on metric `val_loss` which is not available. Available metrics are: loss,accuracy\n"
          ]
        },
        {
          "output_type": "stream",
          "name": "stdout",
          "text": [
            "\b\b\b\b\b\b\b\b\b\b\b\b\b\b\b\b\b\b\b\b\b\b\b\b\b\b\b\b\b\b\b\b\b\b\b\b\b\b\b\b\b\b\b\b\b\b\b\b\b\b\b\b\b\b\b\b\b\b\b\b\b\b\b\b\b\b\b\b\b\b\b\b\b\b\b\b\b\b\b\b\b\b\r20/20 [==============================] - 5s 274ms/step - loss: 0.0257 - accuracy: 0.8403\n",
            "Epoch 86/200\n",
            "20/20 [==============================] - ETA: 0s - loss: 0.0256 - accuracy: 0.8404"
          ]
        },
        {
          "output_type": "stream",
          "name": "stderr",
          "text": [
            "WARNING:tensorflow:Early stopping conditioned on metric `val_loss` which is not available. Available metrics are: loss,accuracy\n"
          ]
        },
        {
          "output_type": "stream",
          "name": "stdout",
          "text": [
            "\b\b\b\b\b\b\b\b\b\b\b\b\b\b\b\b\b\b\b\b\b\b\b\b\b\b\b\b\b\b\b\b\b\b\b\b\b\b\b\b\b\b\b\b\b\b\b\b\b\b\b\b\b\b\b\b\b\b\b\b\b\b\b\b\b\b\b\b\b\b\b\b\b\b\b\b\b\b\b\b\b\b\r20/20 [==============================] - 4s 211ms/step - loss: 0.0256 - accuracy: 0.8404\n",
            "Epoch 87/200\n",
            "20/20 [==============================] - ETA: 0s - loss: 0.0255 - accuracy: 0.8405"
          ]
        },
        {
          "output_type": "stream",
          "name": "stderr",
          "text": [
            "WARNING:tensorflow:Early stopping conditioned on metric `val_loss` which is not available. Available metrics are: loss,accuracy\n"
          ]
        },
        {
          "output_type": "stream",
          "name": "stdout",
          "text": [
            "\b\b\b\b\b\b\b\b\b\b\b\b\b\b\b\b\b\b\b\b\b\b\b\b\b\b\b\b\b\b\b\b\b\b\b\b\b\b\b\b\b\b\b\b\b\b\b\b\b\b\b\b\b\b\b\b\b\b\b\b\b\b\b\b\b\b\b\b\b\b\b\b\b\b\b\b\b\b\b\b\b\b\r20/20 [==============================] - 4s 208ms/step - loss: 0.0255 - accuracy: 0.8405\n",
            "Epoch 88/200\n",
            "20/20 [==============================] - ETA: 0s - loss: 0.0255 - accuracy: 0.8404"
          ]
        },
        {
          "output_type": "stream",
          "name": "stderr",
          "text": [
            "WARNING:tensorflow:Early stopping conditioned on metric `val_loss` which is not available. Available metrics are: loss,accuracy\n"
          ]
        },
        {
          "output_type": "stream",
          "name": "stdout",
          "text": [
            "\b\b\b\b\b\b\b\b\b\b\b\b\b\b\b\b\b\b\b\b\b\b\b\b\b\b\b\b\b\b\b\b\b\b\b\b\b\b\b\b\b\b\b\b\b\b\b\b\b\b\b\b\b\b\b\b\b\b\b\b\b\b\b\b\b\b\b\b\b\b\b\b\b\b\b\b\b\b\b\b\b\b\r20/20 [==============================] - 6s 281ms/step - loss: 0.0255 - accuracy: 0.8404\n",
            "Epoch 89/200\n",
            "20/20 [==============================] - ETA: 0s - loss: 0.0255 - accuracy: 0.8405"
          ]
        },
        {
          "output_type": "stream",
          "name": "stderr",
          "text": [
            "WARNING:tensorflow:Early stopping conditioned on metric `val_loss` which is not available. Available metrics are: loss,accuracy\n"
          ]
        },
        {
          "output_type": "stream",
          "name": "stdout",
          "text": [
            "\b\b\b\b\b\b\b\b\b\b\b\b\b\b\b\b\b\b\b\b\b\b\b\b\b\b\b\b\b\b\b\b\b\b\b\b\b\b\b\b\b\b\b\b\b\b\b\b\b\b\b\b\b\b\b\b\b\b\b\b\b\b\b\b\b\b\b\b\b\b\b\b\b\b\b\b\b\b\b\b\b\b\r20/20 [==============================] - 4s 209ms/step - loss: 0.0255 - accuracy: 0.8405\n",
            "Epoch 90/200\n",
            "20/20 [==============================] - ETA: 0s - loss: 0.0254 - accuracy: 0.8405"
          ]
        },
        {
          "output_type": "stream",
          "name": "stderr",
          "text": [
            "WARNING:tensorflow:Early stopping conditioned on metric `val_loss` which is not available. Available metrics are: loss,accuracy\n"
          ]
        },
        {
          "output_type": "stream",
          "name": "stdout",
          "text": [
            "\b\b\b\b\b\b\b\b\b\b\b\b\b\b\b\b\b\b\b\b\b\b\b\b\b\b\b\b\b\b\b\b\b\b\b\b\b\b\b\b\b\b\b\b\b\b\b\b\b\b\b\b\b\b\b\b\b\b\b\b\b\b\b\b\b\b\b\b\b\b\b\b\b\b\b\b\b\b\b\b\b\b\r20/20 [==============================] - 4s 209ms/step - loss: 0.0254 - accuracy: 0.8405\n",
            "Epoch 91/200\n",
            "20/20 [==============================] - ETA: 0s - loss: 0.0253 - accuracy: 0.8406"
          ]
        },
        {
          "output_type": "stream",
          "name": "stderr",
          "text": [
            "WARNING:tensorflow:Early stopping conditioned on metric `val_loss` which is not available. Available metrics are: loss,accuracy\n"
          ]
        },
        {
          "output_type": "stream",
          "name": "stdout",
          "text": [
            "\b\b\b\b\b\b\b\b\b\b\b\b\b\b\b\b\b\b\b\b\b\b\b\b\b\b\b\b\b\b\b\b\b\b\b\b\b\b\b\b\b\b\b\b\b\b\b\b\b\b\b\b\b\b\b\b\b\b\b\b\b\b\b\b\b\b\b\b\b\b\b\b\b\b\b\b\b\b\b\b\b\b\r20/20 [==============================] - 5s 272ms/step - loss: 0.0253 - accuracy: 0.8406\n",
            "Epoch 92/200\n",
            "20/20 [==============================] - ETA: 0s - loss: 0.0252 - accuracy: 0.8407"
          ]
        },
        {
          "output_type": "stream",
          "name": "stderr",
          "text": [
            "WARNING:tensorflow:Early stopping conditioned on metric `val_loss` which is not available. Available metrics are: loss,accuracy\n"
          ]
        },
        {
          "output_type": "stream",
          "name": "stdout",
          "text": [
            "\b\b\b\b\b\b\b\b\b\b\b\b\b\b\b\b\b\b\b\b\b\b\b\b\b\b\b\b\b\b\b\b\b\b\b\b\b\b\b\b\b\b\b\b\b\b\b\b\b\b\b\b\b\b\b\b\b\b\b\b\b\b\b\b\b\b\b\b\b\b\b\b\b\b\b\b\b\b\b\b\b\b\r20/20 [==============================] - 4s 203ms/step - loss: 0.0252 - accuracy: 0.8407\n",
            "Epoch 93/200\n",
            "20/20 [==============================] - ETA: 0s - loss: 0.0252 - accuracy: 0.8407"
          ]
        },
        {
          "output_type": "stream",
          "name": "stderr",
          "text": [
            "WARNING:tensorflow:Early stopping conditioned on metric `val_loss` which is not available. Available metrics are: loss,accuracy\n"
          ]
        },
        {
          "output_type": "stream",
          "name": "stdout",
          "text": [
            "\b\b\b\b\b\b\b\b\b\b\b\b\b\b\b\b\b\b\b\b\b\b\b\b\b\b\b\b\b\b\b\b\b\b\b\b\b\b\b\b\b\b\b\b\b\b\b\b\b\b\b\b\b\b\b\b\b\b\b\b\b\b\b\b\b\b\b\b\b\b\b\b\b\b\b\b\b\b\b\b\b\b\r20/20 [==============================] - 4s 204ms/step - loss: 0.0252 - accuracy: 0.8407\n",
            "Epoch 94/200\n",
            "20/20 [==============================] - ETA: 0s - loss: 0.0251 - accuracy: 0.8407"
          ]
        },
        {
          "output_type": "stream",
          "name": "stderr",
          "text": [
            "WARNING:tensorflow:Early stopping conditioned on metric `val_loss` which is not available. Available metrics are: loss,accuracy\n"
          ]
        },
        {
          "output_type": "stream",
          "name": "stdout",
          "text": [
            "\b\b\b\b\b\b\b\b\b\b\b\b\b\b\b\b\b\b\b\b\b\b\b\b\b\b\b\b\b\b\b\b\b\b\b\b\b\b\b\b\b\b\b\b\b\b\b\b\b\b\b\b\b\b\b\b\b\b\b\b\b\b\b\b\b\b\b\b\b\b\b\b\b\b\b\b\b\b\b\b\b\b\r20/20 [==============================] - 5s 274ms/step - loss: 0.0251 - accuracy: 0.8407\n",
            "Epoch 95/200\n",
            "20/20 [==============================] - ETA: 0s - loss: 0.0250 - accuracy: 0.8408"
          ]
        },
        {
          "output_type": "stream",
          "name": "stderr",
          "text": [
            "WARNING:tensorflow:Early stopping conditioned on metric `val_loss` which is not available. Available metrics are: loss,accuracy\n"
          ]
        },
        {
          "output_type": "stream",
          "name": "stdout",
          "text": [
            "\b\b\b\b\b\b\b\b\b\b\b\b\b\b\b\b\b\b\b\b\b\b\b\b\b\b\b\b\b\b\b\b\b\b\b\b\b\b\b\b\b\b\b\b\b\b\b\b\b\b\b\b\b\b\b\b\b\b\b\b\b\b\b\b\b\b\b\b\b\b\b\b\b\b\b\b\b\b\b\b\b\b\r20/20 [==============================] - 4s 206ms/step - loss: 0.0250 - accuracy: 0.8408\n",
            "Epoch 96/200\n",
            "20/20 [==============================] - ETA: 0s - loss: 0.0250 - accuracy: 0.8407"
          ]
        },
        {
          "output_type": "stream",
          "name": "stderr",
          "text": [
            "WARNING:tensorflow:Early stopping conditioned on metric `val_loss` which is not available. Available metrics are: loss,accuracy\n"
          ]
        },
        {
          "output_type": "stream",
          "name": "stdout",
          "text": [
            "\b\b\b\b\b\b\b\b\b\b\b\b\b\b\b\b\b\b\b\b\b\b\b\b\b\b\b\b\b\b\b\b\b\b\b\b\b\b\b\b\b\b\b\b\b\b\b\b\b\b\b\b\b\b\b\b\b\b\b\b\b\b\b\b\b\b\b\b\b\b\b\b\b\b\b\b\b\b\b\b\b\b\r20/20 [==============================] - 4s 209ms/step - loss: 0.0250 - accuracy: 0.8407\n",
            "Epoch 97/200\n",
            "20/20 [==============================] - ETA: 0s - loss: 0.0251 - accuracy: 0.8407"
          ]
        },
        {
          "output_type": "stream",
          "name": "stderr",
          "text": [
            "WARNING:tensorflow:Early stopping conditioned on metric `val_loss` which is not available. Available metrics are: loss,accuracy\n"
          ]
        },
        {
          "output_type": "stream",
          "name": "stdout",
          "text": [
            "\b\b\b\b\b\b\b\b\b\b\b\b\b\b\b\b\b\b\b\b\b\b\b\b\b\b\b\b\b\b\b\b\b\b\b\b\b\b\b\b\b\b\b\b\b\b\b\b\b\b\b\b\b\b\b\b\b\b\b\b\b\b\b\b\b\b\b\b\b\b\b\b\b\b\b\b\b\b\b\b\b\b\r20/20 [==============================] - 5s 271ms/step - loss: 0.0251 - accuracy: 0.8407\n",
            "Epoch 98/200\n",
            "20/20 [==============================] - ETA: 0s - loss: 0.0249 - accuracy: 0.8409"
          ]
        },
        {
          "output_type": "stream",
          "name": "stderr",
          "text": [
            "WARNING:tensorflow:Early stopping conditioned on metric `val_loss` which is not available. Available metrics are: loss,accuracy\n"
          ]
        },
        {
          "output_type": "stream",
          "name": "stdout",
          "text": [
            "\b\b\b\b\b\b\b\b\b\b\b\b\b\b\b\b\b\b\b\b\b\b\b\b\b\b\b\b\b\b\b\b\b\b\b\b\b\b\b\b\b\b\b\b\b\b\b\b\b\b\b\b\b\b\b\b\b\b\b\b\b\b\b\b\b\b\b\b\b\b\b\b\b\b\b\b\b\b\b\b\b\b\r20/20 [==============================] - 4s 204ms/step - loss: 0.0249 - accuracy: 0.8409\n",
            "Epoch 99/200\n",
            "20/20 [==============================] - ETA: 0s - loss: 0.0249 - accuracy: 0.8408"
          ]
        },
        {
          "output_type": "stream",
          "name": "stderr",
          "text": [
            "WARNING:tensorflow:Early stopping conditioned on metric `val_loss` which is not available. Available metrics are: loss,accuracy\n"
          ]
        },
        {
          "output_type": "stream",
          "name": "stdout",
          "text": [
            "\b\b\b\b\b\b\b\b\b\b\b\b\b\b\b\b\b\b\b\b\b\b\b\b\b\b\b\b\b\b\b\b\b\b\b\b\b\b\b\b\b\b\b\b\b\b\b\b\b\b\b\b\b\b\b\b\b\b\b\b\b\b\b\b\b\b\b\b\b\b\b\b\b\b\b\b\b\b\b\b\b\b\r20/20 [==============================] - 4s 209ms/step - loss: 0.0249 - accuracy: 0.8408\n",
            "Epoch 100/200\n",
            "20/20 [==============================] - ETA: 0s - loss: 0.0247 - accuracy: 0.8409"
          ]
        },
        {
          "output_type": "stream",
          "name": "stderr",
          "text": [
            "WARNING:tensorflow:Early stopping conditioned on metric `val_loss` which is not available. Available metrics are: loss,accuracy\n"
          ]
        },
        {
          "output_type": "stream",
          "name": "stdout",
          "text": [
            "\b\b\b\b\b\b\b\b\b\b\b\b\b\b\b\b\b\b\b\b\b\b\b\b\b\b\b\b\b\b\b\b\b\b\b\b\b\b\b\b\b\b\b\b\b\b\b\b\b\b\b\b\b\b\b\b\b\b\b\b\b\b\b\b\b\b\b\b\b\b\b\b\b\b\b\b\b\b\b\b\b\b\r20/20 [==============================] - 6s 284ms/step - loss: 0.0247 - accuracy: 0.8409\n",
            "Epoch 101/200\n",
            "20/20 [==============================] - ETA: 0s - loss: 0.0248 - accuracy: 0.8409"
          ]
        },
        {
          "output_type": "stream",
          "name": "stderr",
          "text": [
            "WARNING:tensorflow:Early stopping conditioned on metric `val_loss` which is not available. Available metrics are: loss,accuracy\n"
          ]
        },
        {
          "output_type": "stream",
          "name": "stdout",
          "text": [
            "\b\b\b\b\b\b\b\b\b\b\b\b\b\b\b\b\b\b\b\b\b\b\b\b\b\b\b\b\b\b\b\b\b\b\b\b\b\b\b\b\b\b\b\b\b\b\b\b\b\b\b\b\b\b\b\b\b\b\b\b\b\b\b\b\b\b\b\b\b\b\b\b\b\b\b\b\b\b\b\b\b\b\r20/20 [==============================] - 4s 207ms/step - loss: 0.0248 - accuracy: 0.8409\n",
            "Epoch 102/200\n",
            "20/20 [==============================] - ETA: 0s - loss: 0.0248 - accuracy: 0.8407"
          ]
        },
        {
          "output_type": "stream",
          "name": "stderr",
          "text": [
            "WARNING:tensorflow:Early stopping conditioned on metric `val_loss` which is not available. Available metrics are: loss,accuracy\n"
          ]
        },
        {
          "output_type": "stream",
          "name": "stdout",
          "text": [
            "\b\b\b\b\b\b\b\b\b\b\b\b\b\b\b\b\b\b\b\b\b\b\b\b\b\b\b\b\b\b\b\b\b\b\b\b\b\b\b\b\b\b\b\b\b\b\b\b\b\b\b\b\b\b\b\b\b\b\b\b\b\b\b\b\b\b\b\b\b\b\b\b\b\b\b\b\b\b\b\b\b\b\r20/20 [==============================] - 4s 207ms/step - loss: 0.0248 - accuracy: 0.8407\n",
            "Epoch 103/200\n",
            "20/20 [==============================] - ETA: 0s - loss: 0.0247 - accuracy: 0.8409"
          ]
        },
        {
          "output_type": "stream",
          "name": "stderr",
          "text": [
            "WARNING:tensorflow:Early stopping conditioned on metric `val_loss` which is not available. Available metrics are: loss,accuracy\n"
          ]
        },
        {
          "output_type": "stream",
          "name": "stdout",
          "text": [
            "\b\b\b\b\b\b\b\b\b\b\b\b\b\b\b\b\b\b\b\b\b\b\b\b\b\b\b\b\b\b\b\b\b\b\b\b\b\b\b\b\b\b\b\b\b\b\b\b\b\b\b\b\b\b\b\b\b\b\b\b\b\b\b\b\b\b\b\b\b\b\b\b\b\b\b\b\b\b\b\b\b\b\r20/20 [==============================] - 5s 276ms/step - loss: 0.0247 - accuracy: 0.8409\n",
            "Epoch 104/200\n",
            "20/20 [==============================] - ETA: 0s - loss: 0.0247 - accuracy: 0.8409"
          ]
        },
        {
          "output_type": "stream",
          "name": "stderr",
          "text": [
            "WARNING:tensorflow:Early stopping conditioned on metric `val_loss` which is not available. Available metrics are: loss,accuracy\n"
          ]
        },
        {
          "output_type": "stream",
          "name": "stdout",
          "text": [
            "\b\b\b\b\b\b\b\b\b\b\b\b\b\b\b\b\b\b\b\b\b\b\b\b\b\b\b\b\b\b\b\b\b\b\b\b\b\b\b\b\b\b\b\b\b\b\b\b\b\b\b\b\b\b\b\b\b\b\b\b\b\b\b\b\b\b\b\b\b\b\b\b\b\b\b\b\b\b\b\b\b\b\r20/20 [==============================] - 4s 209ms/step - loss: 0.0247 - accuracy: 0.8409\n",
            "Epoch 105/200\n",
            "20/20 [==============================] - ETA: 0s - loss: 0.0245 - accuracy: 0.8411"
          ]
        },
        {
          "output_type": "stream",
          "name": "stderr",
          "text": [
            "WARNING:tensorflow:Early stopping conditioned on metric `val_loss` which is not available. Available metrics are: loss,accuracy\n"
          ]
        },
        {
          "output_type": "stream",
          "name": "stdout",
          "text": [
            "\b\b\b\b\b\b\b\b\b\b\b\b\b\b\b\b\b\b\b\b\b\b\b\b\b\b\b\b\b\b\b\b\b\b\b\b\b\b\b\b\b\b\b\b\b\b\b\b\b\b\b\b\b\b\b\b\b\b\b\b\b\b\b\b\b\b\b\b\b\b\b\b\b\b\b\b\b\b\b\b\b\b\r20/20 [==============================] - 4s 209ms/step - loss: 0.0245 - accuracy: 0.8411\n",
            "Epoch 106/200\n",
            "20/20 [==============================] - ETA: 0s - loss: 0.0244 - accuracy: 0.8411"
          ]
        },
        {
          "output_type": "stream",
          "name": "stderr",
          "text": [
            "WARNING:tensorflow:Early stopping conditioned on metric `val_loss` which is not available. Available metrics are: loss,accuracy\n"
          ]
        },
        {
          "output_type": "stream",
          "name": "stdout",
          "text": [
            "\b\b\b\b\b\b\b\b\b\b\b\b\b\b\b\b\b\b\b\b\b\b\b\b\b\b\b\b\b\b\b\b\b\b\b\b\b\b\b\b\b\b\b\b\b\b\b\b\b\b\b\b\b\b\b\b\b\b\b\b\b\b\b\b\b\b\b\b\b\b\b\b\b\b\b\b\b\b\b\b\b\b\r20/20 [==============================] - 5s 277ms/step - loss: 0.0244 - accuracy: 0.8411\n",
            "Epoch 107/200\n",
            "20/20 [==============================] - ETA: 0s - loss: 0.0244 - accuracy: 0.8411"
          ]
        },
        {
          "output_type": "stream",
          "name": "stderr",
          "text": [
            "WARNING:tensorflow:Early stopping conditioned on metric `val_loss` which is not available. Available metrics are: loss,accuracy\n"
          ]
        },
        {
          "output_type": "stream",
          "name": "stdout",
          "text": [
            "\b\b\b\b\b\b\b\b\b\b\b\b\b\b\b\b\b\b\b\b\b\b\b\b\b\b\b\b\b\b\b\b\b\b\b\b\b\b\b\b\b\b\b\b\b\b\b\b\b\b\b\b\b\b\b\b\b\b\b\b\b\b\b\b\b\b\b\b\b\b\b\b\b\b\b\b\b\b\b\b\b\b\r20/20 [==============================] - 4s 208ms/step - loss: 0.0244 - accuracy: 0.8411\n",
            "Epoch 108/200\n",
            "20/20 [==============================] - ETA: 0s - loss: 0.0244 - accuracy: 0.8411"
          ]
        },
        {
          "output_type": "stream",
          "name": "stderr",
          "text": [
            "WARNING:tensorflow:Early stopping conditioned on metric `val_loss` which is not available. Available metrics are: loss,accuracy\n"
          ]
        },
        {
          "output_type": "stream",
          "name": "stdout",
          "text": [
            "\b\b\b\b\b\b\b\b\b\b\b\b\b\b\b\b\b\b\b\b\b\b\b\b\b\b\b\b\b\b\b\b\b\b\b\b\b\b\b\b\b\b\b\b\b\b\b\b\b\b\b\b\b\b\b\b\b\b\b\b\b\b\b\b\b\b\b\b\b\b\b\b\b\b\b\b\b\b\b\b\b\b\r20/20 [==============================] - 4s 204ms/step - loss: 0.0244 - accuracy: 0.8411\n",
            "Epoch 109/200\n",
            "20/20 [==============================] - ETA: 0s - loss: 0.0244 - accuracy: 0.8411"
          ]
        },
        {
          "output_type": "stream",
          "name": "stderr",
          "text": [
            "WARNING:tensorflow:Early stopping conditioned on metric `val_loss` which is not available. Available metrics are: loss,accuracy\n"
          ]
        },
        {
          "output_type": "stream",
          "name": "stdout",
          "text": [
            "\b\b\b\b\b\b\b\b\b\b\b\b\b\b\b\b\b\b\b\b\b\b\b\b\b\b\b\b\b\b\b\b\b\b\b\b\b\b\b\b\b\b\b\b\b\b\b\b\b\b\b\b\b\b\b\b\b\b\b\b\b\b\b\b\b\b\b\b\b\b\b\b\b\b\b\b\b\b\b\b\b\b\r20/20 [==============================] - 6s 279ms/step - loss: 0.0244 - accuracy: 0.8411\n",
            "Epoch 110/200\n",
            "20/20 [==============================] - ETA: 0s - loss: 0.0242 - accuracy: 0.8412"
          ]
        },
        {
          "output_type": "stream",
          "name": "stderr",
          "text": [
            "WARNING:tensorflow:Early stopping conditioned on metric `val_loss` which is not available. Available metrics are: loss,accuracy\n"
          ]
        },
        {
          "output_type": "stream",
          "name": "stdout",
          "text": [
            "\b\b\b\b\b\b\b\b\b\b\b\b\b\b\b\b\b\b\b\b\b\b\b\b\b\b\b\b\b\b\b\b\b\b\b\b\b\b\b\b\b\b\b\b\b\b\b\b\b\b\b\b\b\b\b\b\b\b\b\b\b\b\b\b\b\b\b\b\b\b\b\b\b\b\b\b\b\b\b\b\b\b\r20/20 [==============================] - 4s 206ms/step - loss: 0.0242 - accuracy: 0.8412\n",
            "Epoch 111/200\n",
            "20/20 [==============================] - ETA: 0s - loss: 0.0242 - accuracy: 0.8413"
          ]
        },
        {
          "output_type": "stream",
          "name": "stderr",
          "text": [
            "WARNING:tensorflow:Early stopping conditioned on metric `val_loss` which is not available. Available metrics are: loss,accuracy\n"
          ]
        },
        {
          "output_type": "stream",
          "name": "stdout",
          "text": [
            "\b\b\b\b\b\b\b\b\b\b\b\b\b\b\b\b\b\b\b\b\b\b\b\b\b\b\b\b\b\b\b\b\b\b\b\b\b\b\b\b\b\b\b\b\b\b\b\b\b\b\b\b\b\b\b\b\b\b\b\b\b\b\b\b\b\b\b\b\b\b\b\b\b\b\b\b\b\b\b\b\b\b\r20/20 [==============================] - 4s 206ms/step - loss: 0.0242 - accuracy: 0.8413\n",
            "Epoch 112/200\n",
            "20/20 [==============================] - ETA: 0s - loss: 0.0241 - accuracy: 0.8413"
          ]
        },
        {
          "output_type": "stream",
          "name": "stderr",
          "text": [
            "WARNING:tensorflow:Early stopping conditioned on metric `val_loss` which is not available. Available metrics are: loss,accuracy\n"
          ]
        },
        {
          "output_type": "stream",
          "name": "stdout",
          "text": [
            "\b\b\b\b\b\b\b\b\b\b\b\b\b\b\b\b\b\b\b\b\b\b\b\b\b\b\b\b\b\b\b\b\b\b\b\b\b\b\b\b\b\b\b\b\b\b\b\b\b\b\b\b\b\b\b\b\b\b\b\b\b\b\b\b\b\b\b\b\b\b\b\b\b\b\b\b\b\b\b\b\b\b\r20/20 [==============================] - 5s 279ms/step - loss: 0.0241 - accuracy: 0.8413\n",
            "Epoch 113/200\n",
            "20/20 [==============================] - ETA: 0s - loss: 0.0241 - accuracy: 0.8413"
          ]
        },
        {
          "output_type": "stream",
          "name": "stderr",
          "text": [
            "WARNING:tensorflow:Early stopping conditioned on metric `val_loss` which is not available. Available metrics are: loss,accuracy\n"
          ]
        },
        {
          "output_type": "stream",
          "name": "stdout",
          "text": [
            "\b\b\b\b\b\b\b\b\b\b\b\b\b\b\b\b\b\b\b\b\b\b\b\b\b\b\b\b\b\b\b\b\b\b\b\b\b\b\b\b\b\b\b\b\b\b\b\b\b\b\b\b\b\b\b\b\b\b\b\b\b\b\b\b\b\b\b\b\b\b\b\b\b\b\b\b\b\b\b\b\b\b\r20/20 [==============================] - 4s 207ms/step - loss: 0.0241 - accuracy: 0.8413\n",
            "Epoch 114/200\n",
            "20/20 [==============================] - ETA: 0s - loss: 0.0240 - accuracy: 0.8414"
          ]
        },
        {
          "output_type": "stream",
          "name": "stderr",
          "text": [
            "WARNING:tensorflow:Early stopping conditioned on metric `val_loss` which is not available. Available metrics are: loss,accuracy\n"
          ]
        },
        {
          "output_type": "stream",
          "name": "stdout",
          "text": [
            "\b\b\b\b\b\b\b\b\b\b\b\b\b\b\b\b\b\b\b\b\b\b\b\b\b\b\b\b\b\b\b\b\b\b\b\b\b\b\b\b\b\b\b\b\b\b\b\b\b\b\b\b\b\b\b\b\b\b\b\b\b\b\b\b\b\b\b\b\b\b\b\b\b\b\b\b\b\b\b\b\b\b\r20/20 [==============================] - 4s 208ms/step - loss: 0.0240 - accuracy: 0.8414\n",
            "Epoch 115/200\n",
            "20/20 [==============================] - ETA: 0s - loss: 0.0240 - accuracy: 0.8413"
          ]
        },
        {
          "output_type": "stream",
          "name": "stderr",
          "text": [
            "WARNING:tensorflow:Early stopping conditioned on metric `val_loss` which is not available. Available metrics are: loss,accuracy\n"
          ]
        },
        {
          "output_type": "stream",
          "name": "stdout",
          "text": [
            "\b\b\b\b\b\b\b\b\b\b\b\b\b\b\b\b\b\b\b\b\b\b\b\b\b\b\b\b\b\b\b\b\b\b\b\b\b\b\b\b\b\b\b\b\b\b\b\b\b\b\b\b\b\b\b\b\b\b\b\b\b\b\b\b\b\b\b\b\b\b\b\b\b\b\b\b\b\b\b\b\b\b\r20/20 [==============================] - 5s 271ms/step - loss: 0.0240 - accuracy: 0.8413\n",
            "Epoch 116/200\n",
            "20/20 [==============================] - ETA: 0s - loss: 0.0239 - accuracy: 0.8414"
          ]
        },
        {
          "output_type": "stream",
          "name": "stderr",
          "text": [
            "WARNING:tensorflow:Early stopping conditioned on metric `val_loss` which is not available. Available metrics are: loss,accuracy\n"
          ]
        },
        {
          "output_type": "stream",
          "name": "stdout",
          "text": [
            "\b\b\b\b\b\b\b\b\b\b\b\b\b\b\b\b\b\b\b\b\b\b\b\b\b\b\b\b\b\b\b\b\b\b\b\b\b\b\b\b\b\b\b\b\b\b\b\b\b\b\b\b\b\b\b\b\b\b\b\b\b\b\b\b\b\b\b\b\b\b\b\b\b\b\b\b\b\b\b\b\b\b\r20/20 [==============================] - 4s 210ms/step - loss: 0.0239 - accuracy: 0.8414\n",
            "Epoch 117/200\n",
            "20/20 [==============================] - ETA: 0s - loss: 0.0239 - accuracy: 0.8414"
          ]
        },
        {
          "output_type": "stream",
          "name": "stderr",
          "text": [
            "WARNING:tensorflow:Early stopping conditioned on metric `val_loss` which is not available. Available metrics are: loss,accuracy\n"
          ]
        },
        {
          "output_type": "stream",
          "name": "stdout",
          "text": [
            "\b\b\b\b\b\b\b\b\b\b\b\b\b\b\b\b\b\b\b\b\b\b\b\b\b\b\b\b\b\b\b\b\b\b\b\b\b\b\b\b\b\b\b\b\b\b\b\b\b\b\b\b\b\b\b\b\b\b\b\b\b\b\b\b\b\b\b\b\b\b\b\b\b\b\b\b\b\b\b\b\b\b\r20/20 [==============================] - 4s 205ms/step - loss: 0.0239 - accuracy: 0.8414\n",
            "Epoch 118/200\n",
            "20/20 [==============================] - ETA: 0s - loss: 0.0238 - accuracy: 0.8414"
          ]
        },
        {
          "output_type": "stream",
          "name": "stderr",
          "text": [
            "WARNING:tensorflow:Early stopping conditioned on metric `val_loss` which is not available. Available metrics are: loss,accuracy\n"
          ]
        },
        {
          "output_type": "stream",
          "name": "stdout",
          "text": [
            "\b\b\b\b\b\b\b\b\b\b\b\b\b\b\b\b\b\b\b\b\b\b\b\b\b\b\b\b\b\b\b\b\b\b\b\b\b\b\b\b\b\b\b\b\b\b\b\b\b\b\b\b\b\b\b\b\b\b\b\b\b\b\b\b\b\b\b\b\b\b\b\b\b\b\b\b\b\b\b\b\b\b\r20/20 [==============================] - 5s 272ms/step - loss: 0.0238 - accuracy: 0.8414\n",
            "Epoch 119/200\n",
            "20/20 [==============================] - ETA: 0s - loss: 0.0238 - accuracy: 0.8414"
          ]
        },
        {
          "output_type": "stream",
          "name": "stderr",
          "text": [
            "WARNING:tensorflow:Early stopping conditioned on metric `val_loss` which is not available. Available metrics are: loss,accuracy\n"
          ]
        },
        {
          "output_type": "stream",
          "name": "stdout",
          "text": [
            "\b\b\b\b\b\b\b\b\b\b\b\b\b\b\b\b\b\b\b\b\b\b\b\b\b\b\b\b\b\b\b\b\b\b\b\b\b\b\b\b\b\b\b\b\b\b\b\b\b\b\b\b\b\b\b\b\b\b\b\b\b\b\b\b\b\b\b\b\b\b\b\b\b\b\b\b\b\b\b\b\b\b\r20/20 [==============================] - 4s 199ms/step - loss: 0.0238 - accuracy: 0.8414\n",
            "Epoch 120/200\n",
            "20/20 [==============================] - ETA: 0s - loss: 0.0237 - accuracy: 0.8415"
          ]
        },
        {
          "output_type": "stream",
          "name": "stderr",
          "text": [
            "WARNING:tensorflow:Early stopping conditioned on metric `val_loss` which is not available. Available metrics are: loss,accuracy\n"
          ]
        },
        {
          "output_type": "stream",
          "name": "stdout",
          "text": [
            "\b\b\b\b\b\b\b\b\b\b\b\b\b\b\b\b\b\b\b\b\b\b\b\b\b\b\b\b\b\b\b\b\b\b\b\b\b\b\b\b\b\b\b\b\b\b\b\b\b\b\b\b\b\b\b\b\b\b\b\b\b\b\b\b\b\b\b\b\b\b\b\b\b\b\b\b\b\b\b\b\b\b\r20/20 [==============================] - 4s 209ms/step - loss: 0.0237 - accuracy: 0.8415\n",
            "Epoch 121/200\n",
            "20/20 [==============================] - ETA: 0s - loss: 0.0237 - accuracy: 0.8415"
          ]
        },
        {
          "output_type": "stream",
          "name": "stderr",
          "text": [
            "WARNING:tensorflow:Early stopping conditioned on metric `val_loss` which is not available. Available metrics are: loss,accuracy\n"
          ]
        },
        {
          "output_type": "stream",
          "name": "stdout",
          "text": [
            "\b\b\b\b\b\b\b\b\b\b\b\b\b\b\b\b\b\b\b\b\b\b\b\b\b\b\b\b\b\b\b\b\b\b\b\b\b\b\b\b\b\b\b\b\b\b\b\b\b\b\b\b\b\b\b\b\b\b\b\b\b\b\b\b\b\b\b\b\b\b\b\b\b\b\b\b\b\b\b\b\b\b\r20/20 [==============================] - 5s 276ms/step - loss: 0.0237 - accuracy: 0.8415\n",
            "Epoch 122/200\n",
            "20/20 [==============================] - ETA: 0s - loss: 0.0239 - accuracy: 0.8414"
          ]
        },
        {
          "output_type": "stream",
          "name": "stderr",
          "text": [
            "WARNING:tensorflow:Early stopping conditioned on metric `val_loss` which is not available. Available metrics are: loss,accuracy\n"
          ]
        },
        {
          "output_type": "stream",
          "name": "stdout",
          "text": [
            "\b\b\b\b\b\b\b\b\b\b\b\b\b\b\b\b\b\b\b\b\b\b\b\b\b\b\b\b\b\b\b\b\b\b\b\b\b\b\b\b\b\b\b\b\b\b\b\b\b\b\b\b\b\b\b\b\b\b\b\b\b\b\b\b\b\b\b\b\b\b\b\b\b\b\b\b\b\b\b\b\b\b\r20/20 [==============================] - 5s 277ms/step - loss: 0.0239 - accuracy: 0.8414\n",
            "Epoch 123/200\n",
            "20/20 [==============================] - ETA: 0s - loss: 0.0236 - accuracy: 0.8416"
          ]
        },
        {
          "output_type": "stream",
          "name": "stderr",
          "text": [
            "WARNING:tensorflow:Early stopping conditioned on metric `val_loss` which is not available. Available metrics are: loss,accuracy\n"
          ]
        },
        {
          "output_type": "stream",
          "name": "stdout",
          "text": [
            "\b\b\b\b\b\b\b\b\b\b\b\b\b\b\b\b\b\b\b\b\b\b\b\b\b\b\b\b\b\b\b\b\b\b\b\b\b\b\b\b\b\b\b\b\b\b\b\b\b\b\b\b\b\b\b\b\b\b\b\b\b\b\b\b\b\b\b\b\b\b\b\b\b\b\b\b\b\b\b\b\b\b\r20/20 [==============================] - 4s 225ms/step - loss: 0.0236 - accuracy: 0.8416\n",
            "Epoch 124/200\n",
            "20/20 [==============================] - ETA: 0s - loss: 0.0236 - accuracy: 0.8416"
          ]
        },
        {
          "output_type": "stream",
          "name": "stderr",
          "text": [
            "WARNING:tensorflow:Early stopping conditioned on metric `val_loss` which is not available. Available metrics are: loss,accuracy\n"
          ]
        },
        {
          "output_type": "stream",
          "name": "stdout",
          "text": [
            "\b\b\b\b\b\b\b\b\b\b\b\b\b\b\b\b\b\b\b\b\b\b\b\b\b\b\b\b\b\b\b\b\b\b\b\b\b\b\b\b\b\b\b\b\b\b\b\b\b\b\b\b\b\b\b\b\b\b\b\b\b\b\b\b\b\b\b\b\b\b\b\b\b\b\b\b\b\b\b\b\b\b\r20/20 [==============================] - 5s 255ms/step - loss: 0.0236 - accuracy: 0.8416\n",
            "Epoch 125/200\n",
            "20/20 [==============================] - ETA: 0s - loss: 0.0236 - accuracy: 0.8416"
          ]
        },
        {
          "output_type": "stream",
          "name": "stderr",
          "text": [
            "WARNING:tensorflow:Early stopping conditioned on metric `val_loss` which is not available. Available metrics are: loss,accuracy\n"
          ]
        },
        {
          "output_type": "stream",
          "name": "stdout",
          "text": [
            "\b\b\b\b\b\b\b\b\b\b\b\b\b\b\b\b\b\b\b\b\b\b\b\b\b\b\b\b\b\b\b\b\b\b\b\b\b\b\b\b\b\b\b\b\b\b\b\b\b\b\b\b\b\b\b\b\b\b\b\b\b\b\b\b\b\b\b\b\b\b\b\b\b\b\b\b\b\b\b\b\b\b\r20/20 [==============================] - 4s 213ms/step - loss: 0.0236 - accuracy: 0.8416\n",
            "Epoch 126/200\n",
            "20/20 [==============================] - ETA: 0s - loss: 0.0236 - accuracy: 0.8416"
          ]
        },
        {
          "output_type": "stream",
          "name": "stderr",
          "text": [
            "WARNING:tensorflow:Early stopping conditioned on metric `val_loss` which is not available. Available metrics are: loss,accuracy\n"
          ]
        },
        {
          "output_type": "stream",
          "name": "stdout",
          "text": [
            "\b\b\b\b\b\b\b\b\b\b\b\b\b\b\b\b\b\b\b\b\b\b\b\b\b\b\b\b\b\b\b\b\b\b\b\b\b\b\b\b\b\b\b\b\b\b\b\b\b\b\b\b\b\b\b\b\b\b\b\b\b\b\b\b\b\b\b\b\b\b\b\b\b\b\b\b\b\b\b\b\b\b\r20/20 [==============================] - 5s 227ms/step - loss: 0.0236 - accuracy: 0.8416\n",
            "Epoch 127/200\n",
            "20/20 [==============================] - ETA: 0s - loss: 0.0234 - accuracy: 0.8417"
          ]
        },
        {
          "output_type": "stream",
          "name": "stderr",
          "text": [
            "WARNING:tensorflow:Early stopping conditioned on metric `val_loss` which is not available. Available metrics are: loss,accuracy\n"
          ]
        },
        {
          "output_type": "stream",
          "name": "stdout",
          "text": [
            "\b\b\b\b\b\b\b\b\b\b\b\b\b\b\b\b\b\b\b\b\b\b\b\b\b\b\b\b\b\b\b\b\b\b\b\b\b\b\b\b\b\b\b\b\b\b\b\b\b\b\b\b\b\b\b\b\b\b\b\b\b\b\b\b\b\b\b\b\b\b\b\b\b\b\b\b\b\b\b\b\b\b\r20/20 [==============================] - 5s 246ms/step - loss: 0.0234 - accuracy: 0.8417\n",
            "Epoch 128/200\n",
            "20/20 [==============================] - ETA: 0s - loss: 0.0233 - accuracy: 0.8417"
          ]
        },
        {
          "output_type": "stream",
          "name": "stderr",
          "text": [
            "WARNING:tensorflow:Early stopping conditioned on metric `val_loss` which is not available. Available metrics are: loss,accuracy\n"
          ]
        },
        {
          "output_type": "stream",
          "name": "stdout",
          "text": [
            "\b\b\b\b\b\b\b\b\b\b\b\b\b\b\b\b\b\b\b\b\b\b\b\b\b\b\b\b\b\b\b\b\b\b\b\b\b\b\b\b\b\b\b\b\b\b\b\b\b\b\b\b\b\b\b\b\b\b\b\b\b\b\b\b\b\b\b\b\b\b\b\b\b\b\b\b\b\b\b\b\b\b\r20/20 [==============================] - 4s 205ms/step - loss: 0.0233 - accuracy: 0.8417\n",
            "Epoch 129/200\n",
            "20/20 [==============================] - ETA: 0s - loss: 0.0233 - accuracy: 0.8417"
          ]
        },
        {
          "output_type": "stream",
          "name": "stderr",
          "text": [
            "WARNING:tensorflow:Early stopping conditioned on metric `val_loss` which is not available. Available metrics are: loss,accuracy\n"
          ]
        },
        {
          "output_type": "stream",
          "name": "stdout",
          "text": [
            "\b\b\b\b\b\b\b\b\b\b\b\b\b\b\b\b\b\b\b\b\b\b\b\b\b\b\b\b\b\b\b\b\b\b\b\b\b\b\b\b\b\b\b\b\b\b\b\b\b\b\b\b\b\b\b\b\b\b\b\b\b\b\b\b\b\b\b\b\b\b\b\b\b\b\b\b\b\b\b\b\b\b\r20/20 [==============================] - 5s 237ms/step - loss: 0.0233 - accuracy: 0.8417\n",
            "Epoch 130/200\n",
            "20/20 [==============================] - ETA: 0s - loss: 0.0233 - accuracy: 0.8417"
          ]
        },
        {
          "output_type": "stream",
          "name": "stderr",
          "text": [
            "WARNING:tensorflow:Early stopping conditioned on metric `val_loss` which is not available. Available metrics are: loss,accuracy\n"
          ]
        },
        {
          "output_type": "stream",
          "name": "stdout",
          "text": [
            "\b\b\b\b\b\b\b\b\b\b\b\b\b\b\b\b\b\b\b\b\b\b\b\b\b\b\b\b\b\b\b\b\b\b\b\b\b\b\b\b\b\b\b\b\b\b\b\b\b\b\b\b\b\b\b\b\b\b\b\b\b\b\b\b\b\b\b\b\b\b\b\b\b\b\b\b\b\b\b\b\b\b\r20/20 [==============================] - 5s 245ms/step - loss: 0.0233 - accuracy: 0.8417\n",
            "Epoch 131/200\n",
            "20/20 [==============================] - ETA: 0s - loss: 0.0233 - accuracy: 0.8417"
          ]
        },
        {
          "output_type": "stream",
          "name": "stderr",
          "text": [
            "WARNING:tensorflow:Early stopping conditioned on metric `val_loss` which is not available. Available metrics are: loss,accuracy\n"
          ]
        },
        {
          "output_type": "stream",
          "name": "stdout",
          "text": [
            "\b\b\b\b\b\b\b\b\b\b\b\b\b\b\b\b\b\b\b\b\b\b\b\b\b\b\b\b\b\b\b\b\b\b\b\b\b\b\b\b\b\b\b\b\b\b\b\b\b\b\b\b\b\b\b\b\b\b\b\b\b\b\b\b\b\b\b\b\b\b\b\b\b\b\b\b\b\b\b\b\b\b\r20/20 [==============================] - 4s 206ms/step - loss: 0.0233 - accuracy: 0.8417\n",
            "Epoch 132/200\n",
            "20/20 [==============================] - ETA: 0s - loss: 0.0233 - accuracy: 0.8418"
          ]
        },
        {
          "output_type": "stream",
          "name": "stderr",
          "text": [
            "WARNING:tensorflow:Early stopping conditioned on metric `val_loss` which is not available. Available metrics are: loss,accuracy\n"
          ]
        },
        {
          "output_type": "stream",
          "name": "stdout",
          "text": [
            "\b\b\b\b\b\b\b\b\b\b\b\b\b\b\b\b\b\b\b\b\b\b\b\b\b\b\b\b\b\b\b\b\b\b\b\b\b\b\b\b\b\b\b\b\b\b\b\b\b\b\b\b\b\b\b\b\b\b\b\b\b\b\b\b\b\b\b\b\b\b\b\b\b\b\b\b\b\b\b\b\b\b\r20/20 [==============================] - 5s 228ms/step - loss: 0.0233 - accuracy: 0.8418\n",
            "Epoch 133/200\n",
            "20/20 [==============================] - ETA: 0s - loss: 0.0232 - accuracy: 0.8417"
          ]
        },
        {
          "output_type": "stream",
          "name": "stderr",
          "text": [
            "WARNING:tensorflow:Early stopping conditioned on metric `val_loss` which is not available. Available metrics are: loss,accuracy\n"
          ]
        },
        {
          "output_type": "stream",
          "name": "stdout",
          "text": [
            "\b\b\b\b\b\b\b\b\b\b\b\b\b\b\b\b\b\b\b\b\b\b\b\b\b\b\b\b\b\b\b\b\b\b\b\b\b\b\b\b\b\b\b\b\b\b\b\b\b\b\b\b\b\b\b\b\b\b\b\b\b\b\b\b\b\b\b\b\b\b\b\b\b\b\b\b\b\b\b\b\b\b\r20/20 [==============================] - 5s 247ms/step - loss: 0.0232 - accuracy: 0.8417\n",
            "Epoch 134/200\n",
            "20/20 [==============================] - ETA: 0s - loss: 0.0233 - accuracy: 0.8417"
          ]
        },
        {
          "output_type": "stream",
          "name": "stderr",
          "text": [
            "WARNING:tensorflow:Early stopping conditioned on metric `val_loss` which is not available. Available metrics are: loss,accuracy\n"
          ]
        },
        {
          "output_type": "stream",
          "name": "stdout",
          "text": [
            "\b\b\b\b\b\b\b\b\b\b\b\b\b\b\b\b\b\b\b\b\b\b\b\b\b\b\b\b\b\b\b\b\b\b\b\b\b\b\b\b\b\b\b\b\b\b\b\b\b\b\b\b\b\b\b\b\b\b\b\b\b\b\b\b\b\b\b\b\b\b\b\b\b\b\b\b\b\b\b\b\b\b\r20/20 [==============================] - 4s 206ms/step - loss: 0.0233 - accuracy: 0.8417\n",
            "Epoch 135/200\n",
            "20/20 [==============================] - ETA: 0s - loss: 0.0232 - accuracy: 0.8418"
          ]
        },
        {
          "output_type": "stream",
          "name": "stderr",
          "text": [
            "WARNING:tensorflow:Early stopping conditioned on metric `val_loss` which is not available. Available metrics are: loss,accuracy\n"
          ]
        },
        {
          "output_type": "stream",
          "name": "stdout",
          "text": [
            "\b\b\b\b\b\b\b\b\b\b\b\b\b\b\b\b\b\b\b\b\b\b\b\b\b\b\b\b\b\b\b\b\b\b\b\b\b\b\b\b\b\b\b\b\b\b\b\b\b\b\b\b\b\b\b\b\b\b\b\b\b\b\b\b\b\b\b\b\b\b\b\b\b\b\b\b\b\b\b\b\b\b\r20/20 [==============================] - 5s 238ms/step - loss: 0.0232 - accuracy: 0.8418\n",
            "Epoch 136/200\n",
            "20/20 [==============================] - ETA: 0s - loss: 0.0231 - accuracy: 0.8419"
          ]
        },
        {
          "output_type": "stream",
          "name": "stderr",
          "text": [
            "WARNING:tensorflow:Early stopping conditioned on metric `val_loss` which is not available. Available metrics are: loss,accuracy\n"
          ]
        },
        {
          "output_type": "stream",
          "name": "stdout",
          "text": [
            "\b\b\b\b\b\b\b\b\b\b\b\b\b\b\b\b\b\b\b\b\b\b\b\b\b\b\b\b\b\b\b\b\b\b\b\b\b\b\b\b\b\b\b\b\b\b\b\b\b\b\b\b\b\b\b\b\b\b\b\b\b\b\b\b\b\b\b\b\b\b\b\b\b\b\b\b\b\b\b\b\b\b\r20/20 [==============================] - 5s 245ms/step - loss: 0.0231 - accuracy: 0.8419\n",
            "Epoch 137/200\n",
            "20/20 [==============================] - ETA: 0s - loss: 0.0230 - accuracy: 0.8419"
          ]
        },
        {
          "output_type": "stream",
          "name": "stderr",
          "text": [
            "WARNING:tensorflow:Early stopping conditioned on metric `val_loss` which is not available. Available metrics are: loss,accuracy\n"
          ]
        },
        {
          "output_type": "stream",
          "name": "stdout",
          "text": [
            "\b\b\b\b\b\b\b\b\b\b\b\b\b\b\b\b\b\b\b\b\b\b\b\b\b\b\b\b\b\b\b\b\b\b\b\b\b\b\b\b\b\b\b\b\b\b\b\b\b\b\b\b\b\b\b\b\b\b\b\b\b\b\b\b\b\b\b\b\b\b\b\b\b\b\b\b\b\b\b\b\b\b\r20/20 [==============================] - 4s 213ms/step - loss: 0.0230 - accuracy: 0.8419\n",
            "Epoch 138/200\n",
            "20/20 [==============================] - ETA: 0s - loss: 0.0230 - accuracy: 0.8419"
          ]
        },
        {
          "output_type": "stream",
          "name": "stderr",
          "text": [
            "WARNING:tensorflow:Early stopping conditioned on metric `val_loss` which is not available. Available metrics are: loss,accuracy\n"
          ]
        },
        {
          "output_type": "stream",
          "name": "stdout",
          "text": [
            "\b\b\b\b\b\b\b\b\b\b\b\b\b\b\b\b\b\b\b\b\b\b\b\b\b\b\b\b\b\b\b\b\b\b\b\b\b\b\b\b\b\b\b\b\b\b\b\b\b\b\b\b\b\b\b\b\b\b\b\b\b\b\b\b\b\b\b\b\b\b\b\b\b\b\b\b\b\b\b\b\b\b\r20/20 [==============================] - 7s 368ms/step - loss: 0.0230 - accuracy: 0.8419\n",
            "Epoch 139/200\n",
            "20/20 [==============================] - ETA: 0s - loss: 0.0230 - accuracy: 0.8419"
          ]
        },
        {
          "output_type": "stream",
          "name": "stderr",
          "text": [
            "WARNING:tensorflow:Early stopping conditioned on metric `val_loss` which is not available. Available metrics are: loss,accuracy\n"
          ]
        },
        {
          "output_type": "stream",
          "name": "stdout",
          "text": [
            "\b\b\b\b\b\b\b\b\b\b\b\b\b\b\b\b\b\b\b\b\b\b\b\b\b\b\b\b\b\b\b\b\b\b\b\b\b\b\b\b\b\b\b\b\b\b\b\b\b\b\b\b\b\b\b\b\b\b\b\b\b\b\b\b\b\b\b\b\b\b\b\b\b\b\b\b\b\b\b\b\b\b\r20/20 [==============================] - 4s 210ms/step - loss: 0.0230 - accuracy: 0.8419\n",
            "Epoch 140/200\n",
            "20/20 [==============================] - ETA: 0s - loss: 0.0229 - accuracy: 0.8419"
          ]
        },
        {
          "output_type": "stream",
          "name": "stderr",
          "text": [
            "WARNING:tensorflow:Early stopping conditioned on metric `val_loss` which is not available. Available metrics are: loss,accuracy\n"
          ]
        },
        {
          "output_type": "stream",
          "name": "stdout",
          "text": [
            "\b\b\b\b\b\b\b\b\b\b\b\b\b\b\b\b\b\b\b\b\b\b\b\b\b\b\b\b\b\b\b\b\b\b\b\b\b\b\b\b\b\b\b\b\b\b\b\b\b\b\b\b\b\b\b\b\b\b\b\b\b\b\b\b\b\b\b\b\b\b\b\b\b\b\b\b\b\b\b\b\b\b\r20/20 [==============================] - 4s 211ms/step - loss: 0.0229 - accuracy: 0.8419\n",
            "Epoch 141/200\n",
            "20/20 [==============================] - ETA: 0s - loss: 0.0230 - accuracy: 0.8420"
          ]
        },
        {
          "output_type": "stream",
          "name": "stderr",
          "text": [
            "WARNING:tensorflow:Early stopping conditioned on metric `val_loss` which is not available. Available metrics are: loss,accuracy\n"
          ]
        },
        {
          "output_type": "stream",
          "name": "stdout",
          "text": [
            "\b\b\b\b\b\b\b\b\b\b\b\b\b\b\b\b\b\b\b\b\b\b\b\b\b\b\b\b\b\b\b\b\b\b\b\b\b\b\b\b\b\b\b\b\b\b\b\b\b\b\b\b\b\b\b\b\b\b\b\b\b\b\b\b\b\b\b\b\b\b\b\b\b\b\b\b\b\b\b\b\b\b\r20/20 [==============================] - 6s 279ms/step - loss: 0.0230 - accuracy: 0.8420\n",
            "Epoch 142/200\n",
            "20/20 [==============================] - ETA: 0s - loss: 0.0229 - accuracy: 0.8420"
          ]
        },
        {
          "output_type": "stream",
          "name": "stderr",
          "text": [
            "WARNING:tensorflow:Early stopping conditioned on metric `val_loss` which is not available. Available metrics are: loss,accuracy\n"
          ]
        },
        {
          "output_type": "stream",
          "name": "stdout",
          "text": [
            "\b\b\b\b\b\b\b\b\b\b\b\b\b\b\b\b\b\b\b\b\b\b\b\b\b\b\b\b\b\b\b\b\b\b\b\b\b\b\b\b\b\b\b\b\b\b\b\b\b\b\b\b\b\b\b\b\b\b\b\b\b\b\b\b\b\b\b\b\b\b\b\b\b\b\b\b\b\b\b\b\b\b\r20/20 [==============================] - 4s 208ms/step - loss: 0.0229 - accuracy: 0.8420\n",
            "Epoch 143/200\n",
            "20/20 [==============================] - ETA: 0s - loss: 0.0228 - accuracy: 0.8420"
          ]
        },
        {
          "output_type": "stream",
          "name": "stderr",
          "text": [
            "WARNING:tensorflow:Early stopping conditioned on metric `val_loss` which is not available. Available metrics are: loss,accuracy\n"
          ]
        },
        {
          "output_type": "stream",
          "name": "stdout",
          "text": [
            "\b\b\b\b\b\b\b\b\b\b\b\b\b\b\b\b\b\b\b\b\b\b\b\b\b\b\b\b\b\b\b\b\b\b\b\b\b\b\b\b\b\b\b\b\b\b\b\b\b\b\b\b\b\b\b\b\b\b\b\b\b\b\b\b\b\b\b\b\b\b\b\b\b\b\b\b\b\b\b\b\b\b\r20/20 [==============================] - 4s 209ms/step - loss: 0.0228 - accuracy: 0.8420\n",
            "Epoch 144/200\n",
            "20/20 [==============================] - ETA: 0s - loss: 0.0228 - accuracy: 0.8421"
          ]
        },
        {
          "output_type": "stream",
          "name": "stderr",
          "text": [
            "WARNING:tensorflow:Early stopping conditioned on metric `val_loss` which is not available. Available metrics are: loss,accuracy\n"
          ]
        },
        {
          "output_type": "stream",
          "name": "stdout",
          "text": [
            "\b\b\b\b\b\b\b\b\b\b\b\b\b\b\b\b\b\b\b\b\b\b\b\b\b\b\b\b\b\b\b\b\b\b\b\b\b\b\b\b\b\b\b\b\b\b\b\b\b\b\b\b\b\b\b\b\b\b\b\b\b\b\b\b\b\b\b\b\b\b\b\b\b\b\b\b\b\b\b\b\b\b\r20/20 [==============================] - 5s 272ms/step - loss: 0.0228 - accuracy: 0.8421\n",
            "Epoch 145/200\n",
            "20/20 [==============================] - ETA: 0s - loss: 0.0228 - accuracy: 0.8421"
          ]
        },
        {
          "output_type": "stream",
          "name": "stderr",
          "text": [
            "WARNING:tensorflow:Early stopping conditioned on metric `val_loss` which is not available. Available metrics are: loss,accuracy\n"
          ]
        },
        {
          "output_type": "stream",
          "name": "stdout",
          "text": [
            "\b\b\b\b\b\b\b\b\b\b\b\b\b\b\b\b\b\b\b\b\b\b\b\b\b\b\b\b\b\b\b\b\b\b\b\b\b\b\b\b\b\b\b\b\b\b\b\b\b\b\b\b\b\b\b\b\b\b\b\b\b\b\b\b\b\b\b\b\b\b\b\b\b\b\b\b\b\b\b\b\b\b\r20/20 [==============================] - 4s 206ms/step - loss: 0.0228 - accuracy: 0.8421\n",
            "Epoch 146/200\n",
            "20/20 [==============================] - ETA: 0s - loss: 0.0227 - accuracy: 0.8421"
          ]
        },
        {
          "output_type": "stream",
          "name": "stderr",
          "text": [
            "WARNING:tensorflow:Early stopping conditioned on metric `val_loss` which is not available. Available metrics are: loss,accuracy\n"
          ]
        },
        {
          "output_type": "stream",
          "name": "stdout",
          "text": [
            "\b\b\b\b\b\b\b\b\b\b\b\b\b\b\b\b\b\b\b\b\b\b\b\b\b\b\b\b\b\b\b\b\b\b\b\b\b\b\b\b\b\b\b\b\b\b\b\b\b\b\b\b\b\b\b\b\b\b\b\b\b\b\b\b\b\b\b\b\b\b\b\b\b\b\b\b\b\b\b\b\b\b\r20/20 [==============================] - 4s 203ms/step - loss: 0.0227 - accuracy: 0.8421\n",
            "Epoch 147/200\n",
            "20/20 [==============================] - ETA: 0s - loss: 0.0227 - accuracy: 0.8420"
          ]
        },
        {
          "output_type": "stream",
          "name": "stderr",
          "text": [
            "WARNING:tensorflow:Early stopping conditioned on metric `val_loss` which is not available. Available metrics are: loss,accuracy\n"
          ]
        },
        {
          "output_type": "stream",
          "name": "stdout",
          "text": [
            "\b\b\b\b\b\b\b\b\b\b\b\b\b\b\b\b\b\b\b\b\b\b\b\b\b\b\b\b\b\b\b\b\b\b\b\b\b\b\b\b\b\b\b\b\b\b\b\b\b\b\b\b\b\b\b\b\b\b\b\b\b\b\b\b\b\b\b\b\b\b\b\b\b\b\b\b\b\b\b\b\b\b\r20/20 [==============================] - 5s 274ms/step - loss: 0.0227 - accuracy: 0.8420\n",
            "Epoch 148/200\n",
            "20/20 [==============================] - ETA: 0s - loss: 0.0226 - accuracy: 0.8421"
          ]
        },
        {
          "output_type": "stream",
          "name": "stderr",
          "text": [
            "WARNING:tensorflow:Early stopping conditioned on metric `val_loss` which is not available. Available metrics are: loss,accuracy\n"
          ]
        },
        {
          "output_type": "stream",
          "name": "stdout",
          "text": [
            "\b\b\b\b\b\b\b\b\b\b\b\b\b\b\b\b\b\b\b\b\b\b\b\b\b\b\b\b\b\b\b\b\b\b\b\b\b\b\b\b\b\b\b\b\b\b\b\b\b\b\b\b\b\b\b\b\b\b\b\b\b\b\b\b\b\b\b\b\b\b\b\b\b\b\b\b\b\b\b\b\b\b\r20/20 [==============================] - 4s 206ms/step - loss: 0.0226 - accuracy: 0.8421\n",
            "Epoch 149/200\n",
            "20/20 [==============================] - ETA: 0s - loss: 0.0226 - accuracy: 0.8422"
          ]
        },
        {
          "output_type": "stream",
          "name": "stderr",
          "text": [
            "WARNING:tensorflow:Early stopping conditioned on metric `val_loss` which is not available. Available metrics are: loss,accuracy\n"
          ]
        },
        {
          "output_type": "stream",
          "name": "stdout",
          "text": [
            "\b\b\b\b\b\b\b\b\b\b\b\b\b\b\b\b\b\b\b\b\b\b\b\b\b\b\b\b\b\b\b\b\b\b\b\b\b\b\b\b\b\b\b\b\b\b\b\b\b\b\b\b\b\b\b\b\b\b\b\b\b\b\b\b\b\b\b\b\b\b\b\b\b\b\b\b\b\b\b\b\b\b\r20/20 [==============================] - 4s 209ms/step - loss: 0.0226 - accuracy: 0.8422\n",
            "Epoch 150/200\n",
            "20/20 [==============================] - ETA: 0s - loss: 0.0225 - accuracy: 0.8421"
          ]
        },
        {
          "output_type": "stream",
          "name": "stderr",
          "text": [
            "WARNING:tensorflow:Early stopping conditioned on metric `val_loss` which is not available. Available metrics are: loss,accuracy\n"
          ]
        },
        {
          "output_type": "stream",
          "name": "stdout",
          "text": [
            "\b\b\b\b\b\b\b\b\b\b\b\b\b\b\b\b\b\b\b\b\b\b\b\b\b\b\b\b\b\b\b\b\b\b\b\b\b\b\b\b\b\b\b\b\b\b\b\b\b\b\b\b\b\b\b\b\b\b\b\b\b\b\b\b\b\b\b\b\b\b\b\b\b\b\b\b\b\b\b\b\b\b\r20/20 [==============================] - 5s 277ms/step - loss: 0.0225 - accuracy: 0.8421\n",
            "Epoch 151/200\n",
            "20/20 [==============================] - ETA: 0s - loss: 0.0225 - accuracy: 0.8421"
          ]
        },
        {
          "output_type": "stream",
          "name": "stderr",
          "text": [
            "WARNING:tensorflow:Early stopping conditioned on metric `val_loss` which is not available. Available metrics are: loss,accuracy\n"
          ]
        },
        {
          "output_type": "stream",
          "name": "stdout",
          "text": [
            "\b\b\b\b\b\b\b\b\b\b\b\b\b\b\b\b\b\b\b\b\b\b\b\b\b\b\b\b\b\b\b\b\b\b\b\b\b\b\b\b\b\b\b\b\b\b\b\b\b\b\b\b\b\b\b\b\b\b\b\b\b\b\b\b\b\b\b\b\b\b\b\b\b\b\b\b\b\b\b\b\b\b\r20/20 [==============================] - 4s 211ms/step - loss: 0.0225 - accuracy: 0.8421\n",
            "Epoch 152/200\n",
            "20/20 [==============================] - ETA: 0s - loss: 0.0225 - accuracy: 0.8422"
          ]
        },
        {
          "output_type": "stream",
          "name": "stderr",
          "text": [
            "WARNING:tensorflow:Early stopping conditioned on metric `val_loss` which is not available. Available metrics are: loss,accuracy\n"
          ]
        },
        {
          "output_type": "stream",
          "name": "stdout",
          "text": [
            "\b\b\b\b\b\b\b\b\b\b\b\b\b\b\b\b\b\b\b\b\b\b\b\b\b\b\b\b\b\b\b\b\b\b\b\b\b\b\b\b\b\b\b\b\b\b\b\b\b\b\b\b\b\b\b\b\b\b\b\b\b\b\b\b\b\b\b\b\b\b\b\b\b\b\b\b\b\b\b\b\b\b\r20/20 [==============================] - 4s 210ms/step - loss: 0.0225 - accuracy: 0.8422\n",
            "Epoch 153/200\n",
            "20/20 [==============================] - ETA: 0s - loss: 0.0224 - accuracy: 0.8422"
          ]
        },
        {
          "output_type": "stream",
          "name": "stderr",
          "text": [
            "WARNING:tensorflow:Early stopping conditioned on metric `val_loss` which is not available. Available metrics are: loss,accuracy\n"
          ]
        },
        {
          "output_type": "stream",
          "name": "stdout",
          "text": [
            "\b\b\b\b\b\b\b\b\b\b\b\b\b\b\b\b\b\b\b\b\b\b\b\b\b\b\b\b\b\b\b\b\b\b\b\b\b\b\b\b\b\b\b\b\b\b\b\b\b\b\b\b\b\b\b\b\b\b\b\b\b\b\b\b\b\b\b\b\b\b\b\b\b\b\b\b\b\b\b\b\b\b\r20/20 [==============================] - 5s 276ms/step - loss: 0.0224 - accuracy: 0.8422\n",
            "Epoch 154/200\n",
            "20/20 [==============================] - ETA: 0s - loss: 0.0224 - accuracy: 0.8422"
          ]
        },
        {
          "output_type": "stream",
          "name": "stderr",
          "text": [
            "WARNING:tensorflow:Early stopping conditioned on metric `val_loss` which is not available. Available metrics are: loss,accuracy\n"
          ]
        },
        {
          "output_type": "stream",
          "name": "stdout",
          "text": [
            "\b\b\b\b\b\b\b\b\b\b\b\b\b\b\b\b\b\b\b\b\b\b\b\b\b\b\b\b\b\b\b\b\b\b\b\b\b\b\b\b\b\b\b\b\b\b\b\b\b\b\b\b\b\b\b\b\b\b\b\b\b\b\b\b\b\b\b\b\b\b\b\b\b\b\b\b\b\b\b\b\b\b\r20/20 [==============================] - 4s 205ms/step - loss: 0.0224 - accuracy: 0.8422\n",
            "Epoch 155/200\n",
            "20/20 [==============================] - ETA: 0s - loss: 0.0224 - accuracy: 0.8423"
          ]
        },
        {
          "output_type": "stream",
          "name": "stderr",
          "text": [
            "WARNING:tensorflow:Early stopping conditioned on metric `val_loss` which is not available. Available metrics are: loss,accuracy\n"
          ]
        },
        {
          "output_type": "stream",
          "name": "stdout",
          "text": [
            "\b\b\b\b\b\b\b\b\b\b\b\b\b\b\b\b\b\b\b\b\b\b\b\b\b\b\b\b\b\b\b\b\b\b\b\b\b\b\b\b\b\b\b\b\b\b\b\b\b\b\b\b\b\b\b\b\b\b\b\b\b\b\b\b\b\b\b\b\b\b\b\b\b\b\b\b\b\b\b\b\b\b\r20/20 [==============================] - 4s 208ms/step - loss: 0.0224 - accuracy: 0.8423\n",
            "Epoch 156/200\n",
            "20/20 [==============================] - ETA: 0s - loss: 0.0224 - accuracy: 0.8422"
          ]
        },
        {
          "output_type": "stream",
          "name": "stderr",
          "text": [
            "WARNING:tensorflow:Early stopping conditioned on metric `val_loss` which is not available. Available metrics are: loss,accuracy\n"
          ]
        },
        {
          "output_type": "stream",
          "name": "stdout",
          "text": [
            "\b\b\b\b\b\b\b\b\b\b\b\b\b\b\b\b\b\b\b\b\b\b\b\b\b\b\b\b\b\b\b\b\b\b\b\b\b\b\b\b\b\b\b\b\b\b\b\b\b\b\b\b\b\b\b\b\b\b\b\b\b\b\b\b\b\b\b\b\b\b\b\b\b\b\b\b\b\b\b\b\b\b\r20/20 [==============================] - 6s 286ms/step - loss: 0.0224 - accuracy: 0.8422\n",
            "Epoch 157/200\n",
            "20/20 [==============================] - ETA: 0s - loss: 0.0223 - accuracy: 0.8423"
          ]
        },
        {
          "output_type": "stream",
          "name": "stderr",
          "text": [
            "WARNING:tensorflow:Early stopping conditioned on metric `val_loss` which is not available. Available metrics are: loss,accuracy\n"
          ]
        },
        {
          "output_type": "stream",
          "name": "stdout",
          "text": [
            "\b\b\b\b\b\b\b\b\b\b\b\b\b\b\b\b\b\b\b\b\b\b\b\b\b\b\b\b\b\b\b\b\b\b\b\b\b\b\b\b\b\b\b\b\b\b\b\b\b\b\b\b\b\b\b\b\b\b\b\b\b\b\b\b\b\b\b\b\b\b\b\b\b\b\b\b\b\b\b\b\b\b\r20/20 [==============================] - 4s 214ms/step - loss: 0.0223 - accuracy: 0.8423\n",
            "Epoch 158/200\n",
            "20/20 [==============================] - ETA: 0s - loss: 0.0223 - accuracy: 0.8423"
          ]
        },
        {
          "output_type": "stream",
          "name": "stderr",
          "text": [
            "WARNING:tensorflow:Early stopping conditioned on metric `val_loss` which is not available. Available metrics are: loss,accuracy\n"
          ]
        },
        {
          "output_type": "stream",
          "name": "stdout",
          "text": [
            "\b\b\b\b\b\b\b\b\b\b\b\b\b\b\b\b\b\b\b\b\b\b\b\b\b\b\b\b\b\b\b\b\b\b\b\b\b\b\b\b\b\b\b\b\b\b\b\b\b\b\b\b\b\b\b\b\b\b\b\b\b\b\b\b\b\b\b\b\b\b\b\b\b\b\b\b\b\b\b\b\b\b\r20/20 [==============================] - 4s 208ms/step - loss: 0.0223 - accuracy: 0.8423\n",
            "Epoch 159/200\n",
            "20/20 [==============================] - ETA: 0s - loss: 0.0222 - accuracy: 0.8424"
          ]
        },
        {
          "output_type": "stream",
          "name": "stderr",
          "text": [
            "WARNING:tensorflow:Early stopping conditioned on metric `val_loss` which is not available. Available metrics are: loss,accuracy\n"
          ]
        },
        {
          "output_type": "stream",
          "name": "stdout",
          "text": [
            "\b\b\b\b\b\b\b\b\b\b\b\b\b\b\b\b\b\b\b\b\b\b\b\b\b\b\b\b\b\b\b\b\b\b\b\b\b\b\b\b\b\b\b\b\b\b\b\b\b\b\b\b\b\b\b\b\b\b\b\b\b\b\b\b\b\b\b\b\b\b\b\b\b\b\b\b\b\b\b\b\b\b\r20/20 [==============================] - 5s 278ms/step - loss: 0.0222 - accuracy: 0.8424\n",
            "Epoch 160/200\n",
            "20/20 [==============================] - ETA: 0s - loss: 0.0222 - accuracy: 0.8424"
          ]
        },
        {
          "output_type": "stream",
          "name": "stderr",
          "text": [
            "WARNING:tensorflow:Early stopping conditioned on metric `val_loss` which is not available. Available metrics are: loss,accuracy\n"
          ]
        },
        {
          "output_type": "stream",
          "name": "stdout",
          "text": [
            "\b\b\b\b\b\b\b\b\b\b\b\b\b\b\b\b\b\b\b\b\b\b\b\b\b\b\b\b\b\b\b\b\b\b\b\b\b\b\b\b\b\b\b\b\b\b\b\b\b\b\b\b\b\b\b\b\b\b\b\b\b\b\b\b\b\b\b\b\b\b\b\b\b\b\b\b\b\b\b\b\b\b\r20/20 [==============================] - 4s 208ms/step - loss: 0.0222 - accuracy: 0.8424\n",
            "Epoch 161/200\n",
            "20/20 [==============================] - ETA: 0s - loss: 0.0222 - accuracy: 0.8423"
          ]
        },
        {
          "output_type": "stream",
          "name": "stderr",
          "text": [
            "WARNING:tensorflow:Early stopping conditioned on metric `val_loss` which is not available. Available metrics are: loss,accuracy\n"
          ]
        },
        {
          "output_type": "stream",
          "name": "stdout",
          "text": [
            "\b\b\b\b\b\b\b\b\b\b\b\b\b\b\b\b\b\b\b\b\b\b\b\b\b\b\b\b\b\b\b\b\b\b\b\b\b\b\b\b\b\b\b\b\b\b\b\b\b\b\b\b\b\b\b\b\b\b\b\b\b\b\b\b\b\b\b\b\b\b\b\b\b\b\b\b\b\b\b\b\b\b\r20/20 [==============================] - 4s 208ms/step - loss: 0.0222 - accuracy: 0.8423\n",
            "Epoch 162/200\n",
            "20/20 [==============================] - ETA: 0s - loss: 0.0222 - accuracy: 0.8424"
          ]
        },
        {
          "output_type": "stream",
          "name": "stderr",
          "text": [
            "WARNING:tensorflow:Early stopping conditioned on metric `val_loss` which is not available. Available metrics are: loss,accuracy\n"
          ]
        },
        {
          "output_type": "stream",
          "name": "stdout",
          "text": [
            "\b\b\b\b\b\b\b\b\b\b\b\b\b\b\b\b\b\b\b\b\b\b\b\b\b\b\b\b\b\b\b\b\b\b\b\b\b\b\b\b\b\b\b\b\b\b\b\b\b\b\b\b\b\b\b\b\b\b\b\b\b\b\b\b\b\b\b\b\b\b\b\b\b\b\b\b\b\b\b\b\b\b\r20/20 [==============================] - 6s 280ms/step - loss: 0.0222 - accuracy: 0.8424\n",
            "Epoch 163/200\n",
            "20/20 [==============================] - ETA: 0s - loss: 0.0221 - accuracy: 0.8424"
          ]
        },
        {
          "output_type": "stream",
          "name": "stderr",
          "text": [
            "WARNING:tensorflow:Early stopping conditioned on metric `val_loss` which is not available. Available metrics are: loss,accuracy\n"
          ]
        },
        {
          "output_type": "stream",
          "name": "stdout",
          "text": [
            "\b\b\b\b\b\b\b\b\b\b\b\b\b\b\b\b\b\b\b\b\b\b\b\b\b\b\b\b\b\b\b\b\b\b\b\b\b\b\b\b\b\b\b\b\b\b\b\b\b\b\b\b\b\b\b\b\b\b\b\b\b\b\b\b\b\b\b\b\b\b\b\b\b\b\b\b\b\b\b\b\b\b\r20/20 [==============================] - 4s 205ms/step - loss: 0.0221 - accuracy: 0.8424\n",
            "Epoch 164/200\n",
            "20/20 [==============================] - ETA: 0s - loss: 0.0222 - accuracy: 0.8424"
          ]
        },
        {
          "output_type": "stream",
          "name": "stderr",
          "text": [
            "WARNING:tensorflow:Early stopping conditioned on metric `val_loss` which is not available. Available metrics are: loss,accuracy\n"
          ]
        },
        {
          "output_type": "stream",
          "name": "stdout",
          "text": [
            "\b\b\b\b\b\b\b\b\b\b\b\b\b\b\b\b\b\b\b\b\b\b\b\b\b\b\b\b\b\b\b\b\b\b\b\b\b\b\b\b\b\b\b\b\b\b\b\b\b\b\b\b\b\b\b\b\b\b\b\b\b\b\b\b\b\b\b\b\b\b\b\b\b\b\b\b\b\b\b\b\b\b\r20/20 [==============================] - 4s 210ms/step - loss: 0.0222 - accuracy: 0.8424\n",
            "Epoch 165/200\n",
            "20/20 [==============================] - ETA: 0s - loss: 0.0221 - accuracy: 0.8424"
          ]
        },
        {
          "output_type": "stream",
          "name": "stderr",
          "text": [
            "WARNING:tensorflow:Early stopping conditioned on metric `val_loss` which is not available. Available metrics are: loss,accuracy\n"
          ]
        },
        {
          "output_type": "stream",
          "name": "stdout",
          "text": [
            "\b\b\b\b\b\b\b\b\b\b\b\b\b\b\b\b\b\b\b\b\b\b\b\b\b\b\b\b\b\b\b\b\b\b\b\b\b\b\b\b\b\b\b\b\b\b\b\b\b\b\b\b\b\b\b\b\b\b\b\b\b\b\b\b\b\b\b\b\b\b\b\b\b\b\b\b\b\b\b\b\b\b\r20/20 [==============================] - 6s 285ms/step - loss: 0.0221 - accuracy: 0.8424\n",
            "Epoch 166/200\n",
            "20/20 [==============================] - ETA: 0s - loss: 0.0221 - accuracy: 0.8424"
          ]
        },
        {
          "output_type": "stream",
          "name": "stderr",
          "text": [
            "WARNING:tensorflow:Early stopping conditioned on metric `val_loss` which is not available. Available metrics are: loss,accuracy\n"
          ]
        },
        {
          "output_type": "stream",
          "name": "stdout",
          "text": [
            "\b\b\b\b\b\b\b\b\b\b\b\b\b\b\b\b\b\b\b\b\b\b\b\b\b\b\b\b\b\b\b\b\b\b\b\b\b\b\b\b\b\b\b\b\b\b\b\b\b\b\b\b\b\b\b\b\b\b\b\b\b\b\b\b\b\b\b\b\b\b\b\b\b\b\b\b\b\b\b\b\b\b\r20/20 [==============================] - 4s 208ms/step - loss: 0.0221 - accuracy: 0.8424\n",
            "Epoch 167/200\n",
            "20/20 [==============================] - ETA: 0s - loss: 0.0220 - accuracy: 0.8425"
          ]
        },
        {
          "output_type": "stream",
          "name": "stderr",
          "text": [
            "WARNING:tensorflow:Early stopping conditioned on metric `val_loss` which is not available. Available metrics are: loss,accuracy\n"
          ]
        },
        {
          "output_type": "stream",
          "name": "stdout",
          "text": [
            "\b\b\b\b\b\b\b\b\b\b\b\b\b\b\b\b\b\b\b\b\b\b\b\b\b\b\b\b\b\b\b\b\b\b\b\b\b\b\b\b\b\b\b\b\b\b\b\b\b\b\b\b\b\b\b\b\b\b\b\b\b\b\b\b\b\b\b\b\b\b\b\b\b\b\b\b\b\b\b\b\b\b\r20/20 [==============================] - 4s 206ms/step - loss: 0.0220 - accuracy: 0.8425\n",
            "Epoch 168/200\n",
            "20/20 [==============================] - ETA: 0s - loss: 0.0220 - accuracy: 0.8425"
          ]
        },
        {
          "output_type": "stream",
          "name": "stderr",
          "text": [
            "WARNING:tensorflow:Early stopping conditioned on metric `val_loss` which is not available. Available metrics are: loss,accuracy\n"
          ]
        },
        {
          "output_type": "stream",
          "name": "stdout",
          "text": [
            "\b\b\b\b\b\b\b\b\b\b\b\b\b\b\b\b\b\b\b\b\b\b\b\b\b\b\b\b\b\b\b\b\b\b\b\b\b\b\b\b\b\b\b\b\b\b\b\b\b\b\b\b\b\b\b\b\b\b\b\b\b\b\b\b\b\b\b\b\b\b\b\b\b\b\b\b\b\b\b\b\b\b\r20/20 [==============================] - 5s 274ms/step - loss: 0.0220 - accuracy: 0.8425\n",
            "Epoch 169/200\n",
            "20/20 [==============================] - ETA: 0s - loss: 0.0219 - accuracy: 0.8425"
          ]
        },
        {
          "output_type": "stream",
          "name": "stderr",
          "text": [
            "WARNING:tensorflow:Early stopping conditioned on metric `val_loss` which is not available. Available metrics are: loss,accuracy\n"
          ]
        },
        {
          "output_type": "stream",
          "name": "stdout",
          "text": [
            "\b\b\b\b\b\b\b\b\b\b\b\b\b\b\b\b\b\b\b\b\b\b\b\b\b\b\b\b\b\b\b\b\b\b\b\b\b\b\b\b\b\b\b\b\b\b\b\b\b\b\b\b\b\b\b\b\b\b\b\b\b\b\b\b\b\b\b\b\b\b\b\b\b\b\b\b\b\b\b\b\b\b\r20/20 [==============================] - 4s 206ms/step - loss: 0.0219 - accuracy: 0.8425\n",
            "Epoch 170/200\n",
            "20/20 [==============================] - ETA: 0s - loss: 0.0219 - accuracy: 0.8425"
          ]
        },
        {
          "output_type": "stream",
          "name": "stderr",
          "text": [
            "WARNING:tensorflow:Early stopping conditioned on metric `val_loss` which is not available. Available metrics are: loss,accuracy\n"
          ]
        },
        {
          "output_type": "stream",
          "name": "stdout",
          "text": [
            "\b\b\b\b\b\b\b\b\b\b\b\b\b\b\b\b\b\b\b\b\b\b\b\b\b\b\b\b\b\b\b\b\b\b\b\b\b\b\b\b\b\b\b\b\b\b\b\b\b\b\b\b\b\b\b\b\b\b\b\b\b\b\b\b\b\b\b\b\b\b\b\b\b\b\b\b\b\b\b\b\b\b\r20/20 [==============================] - 4s 206ms/step - loss: 0.0219 - accuracy: 0.8425\n",
            "Epoch 171/200\n",
            "20/20 [==============================] - ETA: 0s - loss: 0.0218 - accuracy: 0.8425"
          ]
        },
        {
          "output_type": "stream",
          "name": "stderr",
          "text": [
            "WARNING:tensorflow:Early stopping conditioned on metric `val_loss` which is not available. Available metrics are: loss,accuracy\n"
          ]
        },
        {
          "output_type": "stream",
          "name": "stdout",
          "text": [
            "\b\b\b\b\b\b\b\b\b\b\b\b\b\b\b\b\b\b\b\b\b\b\b\b\b\b\b\b\b\b\b\b\b\b\b\b\b\b\b\b\b\b\b\b\b\b\b\b\b\b\b\b\b\b\b\b\b\b\b\b\b\b\b\b\b\b\b\b\b\b\b\b\b\b\b\b\b\b\b\b\b\b\r20/20 [==============================] - 6s 275ms/step - loss: 0.0218 - accuracy: 0.8425\n",
            "Epoch 172/200\n",
            "20/20 [==============================] - ETA: 0s - loss: 0.0218 - accuracy: 0.8426"
          ]
        },
        {
          "output_type": "stream",
          "name": "stderr",
          "text": [
            "WARNING:tensorflow:Early stopping conditioned on metric `val_loss` which is not available. Available metrics are: loss,accuracy\n"
          ]
        },
        {
          "output_type": "stream",
          "name": "stdout",
          "text": [
            "\b\b\b\b\b\b\b\b\b\b\b\b\b\b\b\b\b\b\b\b\b\b\b\b\b\b\b\b\b\b\b\b\b\b\b\b\b\b\b\b\b\b\b\b\b\b\b\b\b\b\b\b\b\b\b\b\b\b\b\b\b\b\b\b\b\b\b\b\b\b\b\b\b\b\b\b\b\b\b\b\b\b\r20/20 [==============================] - 4s 205ms/step - loss: 0.0218 - accuracy: 0.8426\n",
            "Epoch 173/200\n",
            "20/20 [==============================] - ETA: 0s - loss: 0.0219 - accuracy: 0.8426"
          ]
        },
        {
          "output_type": "stream",
          "name": "stderr",
          "text": [
            "WARNING:tensorflow:Early stopping conditioned on metric `val_loss` which is not available. Available metrics are: loss,accuracy\n"
          ]
        },
        {
          "output_type": "stream",
          "name": "stdout",
          "text": [
            "\b\b\b\b\b\b\b\b\b\b\b\b\b\b\b\b\b\b\b\b\b\b\b\b\b\b\b\b\b\b\b\b\b\b\b\b\b\b\b\b\b\b\b\b\b\b\b\b\b\b\b\b\b\b\b\b\b\b\b\b\b\b\b\b\b\b\b\b\b\b\b\b\b\b\b\b\b\b\b\b\b\b\r20/20 [==============================] - 4s 211ms/step - loss: 0.0219 - accuracy: 0.8426\n",
            "Epoch 174/200\n",
            "20/20 [==============================] - ETA: 0s - loss: 0.0219 - accuracy: 0.8425"
          ]
        },
        {
          "output_type": "stream",
          "name": "stderr",
          "text": [
            "WARNING:tensorflow:Early stopping conditioned on metric `val_loss` which is not available. Available metrics are: loss,accuracy\n"
          ]
        },
        {
          "output_type": "stream",
          "name": "stdout",
          "text": [
            "\b\b\b\b\b\b\b\b\b\b\b\b\b\b\b\b\b\b\b\b\b\b\b\b\b\b\b\b\b\b\b\b\b\b\b\b\b\b\b\b\b\b\b\b\b\b\b\b\b\b\b\b\b\b\b\b\b\b\b\b\b\b\b\b\b\b\b\b\b\b\b\b\b\b\b\b\b\b\b\b\b\b\r20/20 [==============================] - 5s 266ms/step - loss: 0.0219 - accuracy: 0.8425\n",
            "Epoch 175/200\n",
            "20/20 [==============================] - ETA: 0s - loss: 0.0217 - accuracy: 0.8426"
          ]
        },
        {
          "output_type": "stream",
          "name": "stderr",
          "text": [
            "WARNING:tensorflow:Early stopping conditioned on metric `val_loss` which is not available. Available metrics are: loss,accuracy\n"
          ]
        },
        {
          "output_type": "stream",
          "name": "stdout",
          "text": [
            "\b\b\b\b\b\b\b\b\b\b\b\b\b\b\b\b\b\b\b\b\b\b\b\b\b\b\b\b\b\b\b\b\b\b\b\b\b\b\b\b\b\b\b\b\b\b\b\b\b\b\b\b\b\b\b\b\b\b\b\b\b\b\b\b\b\b\b\b\b\b\b\b\b\b\b\b\b\b\b\b\b\b\r20/20 [==============================] - 4s 208ms/step - loss: 0.0217 - accuracy: 0.8426\n",
            "Epoch 176/200\n",
            "20/20 [==============================] - ETA: 0s - loss: 0.0218 - accuracy: 0.8426"
          ]
        },
        {
          "output_type": "stream",
          "name": "stderr",
          "text": [
            "WARNING:tensorflow:Early stopping conditioned on metric `val_loss` which is not available. Available metrics are: loss,accuracy\n"
          ]
        },
        {
          "output_type": "stream",
          "name": "stdout",
          "text": [
            "\b\b\b\b\b\b\b\b\b\b\b\b\b\b\b\b\b\b\b\b\b\b\b\b\b\b\b\b\b\b\b\b\b\b\b\b\b\b\b\b\b\b\b\b\b\b\b\b\b\b\b\b\b\b\b\b\b\b\b\b\b\b\b\b\b\b\b\b\b\b\b\b\b\b\b\b\b\b\b\b\b\b\r20/20 [==============================] - 4s 221ms/step - loss: 0.0218 - accuracy: 0.8426\n",
            "Epoch 177/200\n",
            "20/20 [==============================] - ETA: 0s - loss: 0.0217 - accuracy: 0.8426"
          ]
        },
        {
          "output_type": "stream",
          "name": "stderr",
          "text": [
            "WARNING:tensorflow:Early stopping conditioned on metric `val_loss` which is not available. Available metrics are: loss,accuracy\n"
          ]
        },
        {
          "output_type": "stream",
          "name": "stdout",
          "text": [
            "\b\b\b\b\b\b\b\b\b\b\b\b\b\b\b\b\b\b\b\b\b\b\b\b\b\b\b\b\b\b\b\b\b\b\b\b\b\b\b\b\b\b\b\b\b\b\b\b\b\b\b\b\b\b\b\b\b\b\b\b\b\b\b\b\b\b\b\b\b\b\b\b\b\b\b\b\b\b\b\b\b\b\r20/20 [==============================] - 5s 268ms/step - loss: 0.0217 - accuracy: 0.8426\n",
            "Epoch 178/200\n",
            "20/20 [==============================] - ETA: 0s - loss: 0.0216 - accuracy: 0.8427"
          ]
        },
        {
          "output_type": "stream",
          "name": "stderr",
          "text": [
            "WARNING:tensorflow:Early stopping conditioned on metric `val_loss` which is not available. Available metrics are: loss,accuracy\n"
          ]
        },
        {
          "output_type": "stream",
          "name": "stdout",
          "text": [
            "\b\b\b\b\b\b\b\b\b\b\b\b\b\b\b\b\b\b\b\b\b\b\b\b\b\b\b\b\b\b\b\b\b\b\b\b\b\b\b\b\b\b\b\b\b\b\b\b\b\b\b\b\b\b\b\b\b\b\b\b\b\b\b\b\b\b\b\b\b\b\b\b\b\b\b\b\b\b\b\b\b\b\r20/20 [==============================] - 4s 214ms/step - loss: 0.0216 - accuracy: 0.8427\n",
            "Epoch 179/200\n",
            "20/20 [==============================] - ETA: 0s - loss: 0.0216 - accuracy: 0.8427"
          ]
        },
        {
          "output_type": "stream",
          "name": "stderr",
          "text": [
            "WARNING:tensorflow:Early stopping conditioned on metric `val_loss` which is not available. Available metrics are: loss,accuracy\n"
          ]
        },
        {
          "output_type": "stream",
          "name": "stdout",
          "text": [
            "\b\b\b\b\b\b\b\b\b\b\b\b\b\b\b\b\b\b\b\b\b\b\b\b\b\b\b\b\b\b\b\b\b\b\b\b\b\b\b\b\b\b\b\b\b\b\b\b\b\b\b\b\b\b\b\b\b\b\b\b\b\b\b\b\b\b\b\b\b\b\b\b\b\b\b\b\b\b\b\b\b\b\r20/20 [==============================] - 4s 223ms/step - loss: 0.0216 - accuracy: 0.8427\n",
            "Epoch 180/200\n",
            "20/20 [==============================] - ETA: 0s - loss: 0.0216 - accuracy: 0.8427"
          ]
        },
        {
          "output_type": "stream",
          "name": "stderr",
          "text": [
            "WARNING:tensorflow:Early stopping conditioned on metric `val_loss` which is not available. Available metrics are: loss,accuracy\n"
          ]
        },
        {
          "output_type": "stream",
          "name": "stdout",
          "text": [
            "\b\b\b\b\b\b\b\b\b\b\b\b\b\b\b\b\b\b\b\b\b\b\b\b\b\b\b\b\b\b\b\b\b\b\b\b\b\b\b\b\b\b\b\b\b\b\b\b\b\b\b\b\b\b\b\b\b\b\b\b\b\b\b\b\b\b\b\b\b\b\b\b\b\b\b\b\b\b\b\b\b\b\r20/20 [==============================] - 5s 254ms/step - loss: 0.0216 - accuracy: 0.8427\n",
            "Epoch 181/200\n",
            "20/20 [==============================] - ETA: 0s - loss: 0.0216 - accuracy: 0.8427"
          ]
        },
        {
          "output_type": "stream",
          "name": "stderr",
          "text": [
            "WARNING:tensorflow:Early stopping conditioned on metric `val_loss` which is not available. Available metrics are: loss,accuracy\n"
          ]
        },
        {
          "output_type": "stream",
          "name": "stdout",
          "text": [
            "\b\b\b\b\b\b\b\b\b\b\b\b\b\b\b\b\b\b\b\b\b\b\b\b\b\b\b\b\b\b\b\b\b\b\b\b\b\b\b\b\b\b\b\b\b\b\b\b\b\b\b\b\b\b\b\b\b\b\b\b\b\b\b\b\b\b\b\b\b\b\b\b\b\b\b\b\b\b\b\b\b\b\r20/20 [==============================] - 4s 206ms/step - loss: 0.0216 - accuracy: 0.8427\n",
            "Epoch 182/200\n",
            "20/20 [==============================] - ETA: 0s - loss: 0.0216 - accuracy: 0.8427"
          ]
        },
        {
          "output_type": "stream",
          "name": "stderr",
          "text": [
            "WARNING:tensorflow:Early stopping conditioned on metric `val_loss` which is not available. Available metrics are: loss,accuracy\n"
          ]
        },
        {
          "output_type": "stream",
          "name": "stdout",
          "text": [
            "\b\b\b\b\b\b\b\b\b\b\b\b\b\b\b\b\b\b\b\b\b\b\b\b\b\b\b\b\b\b\b\b\b\b\b\b\b\b\b\b\b\b\b\b\b\b\b\b\b\b\b\b\b\b\b\b\b\b\b\b\b\b\b\b\b\b\b\b\b\b\b\b\b\b\b\b\b\b\b\b\b\b\r20/20 [==============================] - 4s 224ms/step - loss: 0.0216 - accuracy: 0.8427\n",
            "Epoch 183/200\n",
            "20/20 [==============================] - ETA: 0s - loss: 0.0216 - accuracy: 0.8427"
          ]
        },
        {
          "output_type": "stream",
          "name": "stderr",
          "text": [
            "WARNING:tensorflow:Early stopping conditioned on metric `val_loss` which is not available. Available metrics are: loss,accuracy\n"
          ]
        },
        {
          "output_type": "stream",
          "name": "stdout",
          "text": [
            "\b\b\b\b\b\b\b\b\b\b\b\b\b\b\b\b\b\b\b\b\b\b\b\b\b\b\b\b\b\b\b\b\b\b\b\b\b\b\b\b\b\b\b\b\b\b\b\b\b\b\b\b\b\b\b\b\b\b\b\b\b\b\b\b\b\b\b\b\b\b\b\b\b\b\b\b\b\b\b\b\b\b\r20/20 [==============================] - 5s 250ms/step - loss: 0.0216 - accuracy: 0.8427\n",
            "Epoch 184/200\n",
            "20/20 [==============================] - ETA: 0s - loss: 0.0216 - accuracy: 0.8427"
          ]
        },
        {
          "output_type": "stream",
          "name": "stderr",
          "text": [
            "WARNING:tensorflow:Early stopping conditioned on metric `val_loss` which is not available. Available metrics are: loss,accuracy\n"
          ]
        },
        {
          "output_type": "stream",
          "name": "stdout",
          "text": [
            "\b\b\b\b\b\b\b\b\b\b\b\b\b\b\b\b\b\b\b\b\b\b\b\b\b\b\b\b\b\b\b\b\b\b\b\b\b\b\b\b\b\b\b\b\b\b\b\b\b\b\b\b\b\b\b\b\b\b\b\b\b\b\b\b\b\b\b\b\b\b\b\b\b\b\b\b\b\b\b\b\b\b\r20/20 [==============================] - 4s 205ms/step - loss: 0.0216 - accuracy: 0.8427\n",
            "Epoch 185/200\n",
            "20/20 [==============================] - ETA: 0s - loss: 0.0215 - accuracy: 0.8428"
          ]
        },
        {
          "output_type": "stream",
          "name": "stderr",
          "text": [
            "WARNING:tensorflow:Early stopping conditioned on metric `val_loss` which is not available. Available metrics are: loss,accuracy\n"
          ]
        },
        {
          "output_type": "stream",
          "name": "stdout",
          "text": [
            "\b\b\b\b\b\b\b\b\b\b\b\b\b\b\b\b\b\b\b\b\b\b\b\b\b\b\b\b\b\b\b\b\b\b\b\b\b\b\b\b\b\b\b\b\b\b\b\b\b\b\b\b\b\b\b\b\b\b\b\b\b\b\b\b\b\b\b\b\b\b\b\b\b\b\b\b\b\b\b\b\b\b\r20/20 [==============================] - 5s 229ms/step - loss: 0.0215 - accuracy: 0.8428\n",
            "Epoch 186/200\n",
            "20/20 [==============================] - ETA: 0s - loss: 0.0216 - accuracy: 0.8427"
          ]
        },
        {
          "output_type": "stream",
          "name": "stderr",
          "text": [
            "WARNING:tensorflow:Early stopping conditioned on metric `val_loss` which is not available. Available metrics are: loss,accuracy\n"
          ]
        },
        {
          "output_type": "stream",
          "name": "stdout",
          "text": [
            "\b\b\b\b\b\b\b\b\b\b\b\b\b\b\b\b\b\b\b\b\b\b\b\b\b\b\b\b\b\b\b\b\b\b\b\b\b\b\b\b\b\b\b\b\b\b\b\b\b\b\b\b\b\b\b\b\b\b\b\b\b\b\b\b\b\b\b\b\b\b\b\b\b\b\b\b\b\b\b\b\b\b\r20/20 [==============================] - 5s 247ms/step - loss: 0.0216 - accuracy: 0.8427\n",
            "Epoch 187/200\n",
            "20/20 [==============================] - ETA: 0s - loss: 0.0214 - accuracy: 0.8428"
          ]
        },
        {
          "output_type": "stream",
          "name": "stderr",
          "text": [
            "WARNING:tensorflow:Early stopping conditioned on metric `val_loss` which is not available. Available metrics are: loss,accuracy\n"
          ]
        },
        {
          "output_type": "stream",
          "name": "stdout",
          "text": [
            "\b\b\b\b\b\b\b\b\b\b\b\b\b\b\b\b\b\b\b\b\b\b\b\b\b\b\b\b\b\b\b\b\b\b\b\b\b\b\b\b\b\b\b\b\b\b\b\b\b\b\b\b\b\b\b\b\b\b\b\b\b\b\b\b\b\b\b\b\b\b\b\b\b\b\b\b\b\b\b\b\b\b\r20/20 [==============================] - 4s 206ms/step - loss: 0.0214 - accuracy: 0.8428\n",
            "Epoch 188/200\n",
            "20/20 [==============================] - ETA: 0s - loss: 0.0213 - accuracy: 0.8429"
          ]
        },
        {
          "output_type": "stream",
          "name": "stderr",
          "text": [
            "WARNING:tensorflow:Early stopping conditioned on metric `val_loss` which is not available. Available metrics are: loss,accuracy\n"
          ]
        },
        {
          "output_type": "stream",
          "name": "stdout",
          "text": [
            "\b\b\b\b\b\b\b\b\b\b\b\b\b\b\b\b\b\b\b\b\b\b\b\b\b\b\b\b\b\b\b\b\b\b\b\b\b\b\b\b\b\b\b\b\b\b\b\b\b\b\b\b\b\b\b\b\b\b\b\b\b\b\b\b\b\b\b\b\b\b\b\b\b\b\b\b\b\b\b\b\b\b\r20/20 [==============================] - 5s 230ms/step - loss: 0.0213 - accuracy: 0.8429\n",
            "Epoch 189/200\n",
            "20/20 [==============================] - ETA: 0s - loss: 0.0213 - accuracy: 0.8428"
          ]
        },
        {
          "output_type": "stream",
          "name": "stderr",
          "text": [
            "WARNING:tensorflow:Early stopping conditioned on metric `val_loss` which is not available. Available metrics are: loss,accuracy\n"
          ]
        },
        {
          "output_type": "stream",
          "name": "stdout",
          "text": [
            "\b\b\b\b\b\b\b\b\b\b\b\b\b\b\b\b\b\b\b\b\b\b\b\b\b\b\b\b\b\b\b\b\b\b\b\b\b\b\b\b\b\b\b\b\b\b\b\b\b\b\b\b\b\b\b\b\b\b\b\b\b\b\b\b\b\b\b\b\b\b\b\b\b\b\b\b\b\b\b\b\b\b\r20/20 [==============================] - 5s 255ms/step - loss: 0.0213 - accuracy: 0.8428\n",
            "Epoch 190/200\n",
            "20/20 [==============================] - ETA: 0s - loss: 0.0213 - accuracy: 0.8428"
          ]
        },
        {
          "output_type": "stream",
          "name": "stderr",
          "text": [
            "WARNING:tensorflow:Early stopping conditioned on metric `val_loss` which is not available. Available metrics are: loss,accuracy\n"
          ]
        },
        {
          "output_type": "stream",
          "name": "stdout",
          "text": [
            "\b\b\b\b\b\b\b\b\b\b\b\b\b\b\b\b\b\b\b\b\b\b\b\b\b\b\b\b\b\b\b\b\b\b\b\b\b\b\b\b\b\b\b\b\b\b\b\b\b\b\b\b\b\b\b\b\b\b\b\b\b\b\b\b\b\b\b\b\b\b\b\b\b\b\b\b\b\b\b\b\b\b\r20/20 [==============================] - 4s 210ms/step - loss: 0.0213 - accuracy: 0.8428\n",
            "Epoch 191/200\n",
            "20/20 [==============================] - ETA: 0s - loss: 0.0213 - accuracy: 0.8428"
          ]
        },
        {
          "output_type": "stream",
          "name": "stderr",
          "text": [
            "WARNING:tensorflow:Early stopping conditioned on metric `val_loss` which is not available. Available metrics are: loss,accuracy\n"
          ]
        },
        {
          "output_type": "stream",
          "name": "stdout",
          "text": [
            "\b\b\b\b\b\b\b\b\b\b\b\b\b\b\b\b\b\b\b\b\b\b\b\b\b\b\b\b\b\b\b\b\b\b\b\b\b\b\b\b\b\b\b\b\b\b\b\b\b\b\b\b\b\b\b\b\b\b\b\b\b\b\b\b\b\b\b\b\b\b\b\b\b\b\b\b\b\b\b\b\b\b\r20/20 [==============================] - 5s 242ms/step - loss: 0.0213 - accuracy: 0.8428\n",
            "Epoch 192/200\n",
            "20/20 [==============================] - ETA: 0s - loss: 0.0213 - accuracy: 0.8429"
          ]
        },
        {
          "output_type": "stream",
          "name": "stderr",
          "text": [
            "WARNING:tensorflow:Early stopping conditioned on metric `val_loss` which is not available. Available metrics are: loss,accuracy\n"
          ]
        },
        {
          "output_type": "stream",
          "name": "stdout",
          "text": [
            "\b\b\b\b\b\b\b\b\b\b\b\b\b\b\b\b\b\b\b\b\b\b\b\b\b\b\b\b\b\b\b\b\b\b\b\b\b\b\b\b\b\b\b\b\b\b\b\b\b\b\b\b\b\b\b\b\b\b\b\b\b\b\b\b\b\b\b\b\b\b\b\b\b\b\b\b\b\b\b\b\b\b\r20/20 [==============================] - 5s 241ms/step - loss: 0.0213 - accuracy: 0.8429\n",
            "Epoch 193/200\n",
            "20/20 [==============================] - ETA: 0s - loss: 0.0212 - accuracy: 0.8429"
          ]
        },
        {
          "output_type": "stream",
          "name": "stderr",
          "text": [
            "WARNING:tensorflow:Early stopping conditioned on metric `val_loss` which is not available. Available metrics are: loss,accuracy\n"
          ]
        },
        {
          "output_type": "stream",
          "name": "stdout",
          "text": [
            "\b\b\b\b\b\b\b\b\b\b\b\b\b\b\b\b\b\b\b\b\b\b\b\b\b\b\b\b\b\b\b\b\b\b\b\b\b\b\b\b\b\b\b\b\b\b\b\b\b\b\b\b\b\b\b\b\b\b\b\b\b\b\b\b\b\b\b\b\b\b\b\b\b\b\b\b\b\b\b\b\b\b\r20/20 [==============================] - 4s 209ms/step - loss: 0.0212 - accuracy: 0.8429\n",
            "Epoch 194/200\n",
            "20/20 [==============================] - ETA: 0s - loss: 0.0212 - accuracy: 0.8429"
          ]
        },
        {
          "output_type": "stream",
          "name": "stderr",
          "text": [
            "WARNING:tensorflow:Early stopping conditioned on metric `val_loss` which is not available. Available metrics are: loss,accuracy\n"
          ]
        },
        {
          "output_type": "stream",
          "name": "stdout",
          "text": [
            "\b\b\b\b\b\b\b\b\b\b\b\b\b\b\b\b\b\b\b\b\b\b\b\b\b\b\b\b\b\b\b\b\b\b\b\b\b\b\b\b\b\b\b\b\b\b\b\b\b\b\b\b\b\b\b\b\b\b\b\b\b\b\b\b\b\b\b\b\b\b\b\b\b\b\b\b\b\b\b\b\b\b\r20/20 [==============================] - 5s 249ms/step - loss: 0.0212 - accuracy: 0.8429\n",
            "Epoch 195/200\n",
            "20/20 [==============================] - ETA: 0s - loss: 0.0212 - accuracy: 0.8430"
          ]
        },
        {
          "output_type": "stream",
          "name": "stderr",
          "text": [
            "WARNING:tensorflow:Early stopping conditioned on metric `val_loss` which is not available. Available metrics are: loss,accuracy\n"
          ]
        },
        {
          "output_type": "stream",
          "name": "stdout",
          "text": [
            "\b\b\b\b\b\b\b\b\b\b\b\b\b\b\b\b\b\b\b\b\b\b\b\b\b\b\b\b\b\b\b\b\b\b\b\b\b\b\b\b\b\b\b\b\b\b\b\b\b\b\b\b\b\b\b\b\b\b\b\b\b\b\b\b\b\b\b\b\b\b\b\b\b\b\b\b\b\b\b\b\b\b\r20/20 [==============================] - 5s 236ms/step - loss: 0.0212 - accuracy: 0.8430\n",
            "Epoch 196/200\n",
            "20/20 [==============================] - ETA: 0s - loss: 0.0212 - accuracy: 0.8429"
          ]
        },
        {
          "output_type": "stream",
          "name": "stderr",
          "text": [
            "WARNING:tensorflow:Early stopping conditioned on metric `val_loss` which is not available. Available metrics are: loss,accuracy\n"
          ]
        },
        {
          "output_type": "stream",
          "name": "stdout",
          "text": [
            "\b\b\b\b\b\b\b\b\b\b\b\b\b\b\b\b\b\b\b\b\b\b\b\b\b\b\b\b\b\b\b\b\b\b\b\b\b\b\b\b\b\b\b\b\b\b\b\b\b\b\b\b\b\b\b\b\b\b\b\b\b\b\b\b\b\b\b\b\b\b\b\b\b\b\b\b\b\b\b\b\b\b\r20/20 [==============================] - 4s 206ms/step - loss: 0.0212 - accuracy: 0.8429\n",
            "Epoch 197/200\n",
            "20/20 [==============================] - ETA: 0s - loss: 0.0212 - accuracy: 0.8429"
          ]
        },
        {
          "output_type": "stream",
          "name": "stderr",
          "text": [
            "WARNING:tensorflow:Early stopping conditioned on metric `val_loss` which is not available. Available metrics are: loss,accuracy\n"
          ]
        },
        {
          "output_type": "stream",
          "name": "stdout",
          "text": [
            "\b\b\b\b\b\b\b\b\b\b\b\b\b\b\b\b\b\b\b\b\b\b\b\b\b\b\b\b\b\b\b\b\b\b\b\b\b\b\b\b\b\b\b\b\b\b\b\b\b\b\b\b\b\b\b\b\b\b\b\b\b\b\b\b\b\b\b\b\b\b\b\b\b\b\b\b\b\b\b\b\b\b\r20/20 [==============================] - 5s 253ms/step - loss: 0.0212 - accuracy: 0.8429\n",
            "Epoch 198/200\n",
            "20/20 [==============================] - ETA: 0s - loss: 0.0212 - accuracy: 0.8429"
          ]
        },
        {
          "output_type": "stream",
          "name": "stderr",
          "text": [
            "WARNING:tensorflow:Early stopping conditioned on metric `val_loss` which is not available. Available metrics are: loss,accuracy\n"
          ]
        },
        {
          "output_type": "stream",
          "name": "stdout",
          "text": [
            "\b\b\b\b\b\b\b\b\b\b\b\b\b\b\b\b\b\b\b\b\b\b\b\b\b\b\b\b\b\b\b\b\b\b\b\b\b\b\b\b\b\b\b\b\b\b\b\b\b\b\b\b\b\b\b\b\b\b\b\b\b\b\b\b\b\b\b\b\b\b\b\b\b\b\b\b\b\b\b\b\b\b\r20/20 [==============================] - 5s 227ms/step - loss: 0.0212 - accuracy: 0.8429\n",
            "Epoch 199/200\n",
            "20/20 [==============================] - ETA: 0s - loss: 0.0211 - accuracy: 0.8430"
          ]
        },
        {
          "output_type": "stream",
          "name": "stderr",
          "text": [
            "WARNING:tensorflow:Early stopping conditioned on metric `val_loss` which is not available. Available metrics are: loss,accuracy\n"
          ]
        },
        {
          "output_type": "stream",
          "name": "stdout",
          "text": [
            "\b\b\b\b\b\b\b\b\b\b\b\b\b\b\b\b\b\b\b\b\b\b\b\b\b\b\b\b\b\b\b\b\b\b\b\b\b\b\b\b\b\b\b\b\b\b\b\b\b\b\b\b\b\b\b\b\b\b\b\b\b\b\b\b\b\b\b\b\b\b\b\b\b\b\b\b\b\b\b\b\b\b\r20/20 [==============================] - 4s 206ms/step - loss: 0.0211 - accuracy: 0.8430\n",
            "Epoch 200/200\n",
            "20/20 [==============================] - ETA: 0s - loss: 0.0211 - accuracy: 0.8430"
          ]
        },
        {
          "output_type": "stream",
          "name": "stderr",
          "text": [
            "WARNING:tensorflow:Early stopping conditioned on metric `val_loss` which is not available. Available metrics are: loss,accuracy\n"
          ]
        },
        {
          "output_type": "stream",
          "name": "stdout",
          "text": [
            "\b\b\b\b\b\b\b\b\b\b\b\b\b\b\b\b\b\b\b\b\b\b\b\b\b\b\b\b\b\b\b\b\b\b\b\b\b\b\b\b\b\b\b\b\b\b\b\b\b\b\b\b\b\b\b\b\b\b\b\b\b\b\b\b\b\b\b\b\b\b\b\b\b\b\b\b\b\b\b\b\b\b\r20/20 [==============================] - 5s 252ms/step - loss: 0.0211 - accuracy: 0.8430\n",
            "Done\n",
            " Please wait while AnomalyDetector.h5 has been created \n",
            "Refresh when needed\n"
          ]
        }
      ]
    },
    {
      "cell_type": "code",
      "source": [
        "from tensorflow.keras.utils import img_to_array,load_img\n",
        "import numpy as np\n",
        "import glob\n",
        "import os \n",
        "from skimage import data, color\n",
        "from skimage.transform import rescale, resize, downscale_local_mean\n",
        "import argparse\n",
        "from PIL import Image\n",
        "imagestore=[]\n",
        "\n",
        "\n",
        "for i in range(1,47):\n",
        "  video_source_path='/content/drive/MyDrive/UCSD_Anomaly_Dataset.v1p2/UCSDped1/Test/'+str(i)\n",
        "  imagestore=[]\n",
        "  fps=5\n",
        "#fps refers to the number of seconds after which one frame will be taken . fps=5 means 1 frame after every 5 seconds. More like seconds per frame.\n",
        "\n",
        "  def create_dir(path):\n",
        "\t  if not os.path.exists(path):\n",
        "\t\t  os.makedirs(path)\n",
        "\n",
        "  def remove_old_images(path):\n",
        "\t  filelist = glob.glob(os.path.join(path, \"*.png\"))\n",
        "\t  for f in filelist:\n",
        "\t\t  os.remove(f)\n",
        "\n",
        "  def store(image_path):\n",
        "\t  img=load_img(image_path)\n",
        "\t  img=img_to_array(img)\n",
        "\n",
        "\n",
        "\t#Resize the Image to (227,227,3) for the network to be able to process it. \n",
        "\n",
        "\n",
        "\t  img=resize(img,(227,227,3))\n",
        "\n",
        "\t#Convert the Image to Grayscale\n",
        "\n",
        "\n",
        "\t  gray=0.2989*img[:,:,0]+0.5870*img[:,:,1]+0.1140*img[:,:,2]\n",
        "\n",
        "\t  imagestore.append(gray)\n",
        "#List of all Videos in the Source Directory.\n",
        "  videos=os.listdir(video_source_path)\n",
        "  print(\"Found \",len(videos),\" testing videos\")\n",
        "\n",
        "\n",
        "#Make a temp dir to store all the frames\n",
        "  create_dir(video_source_path+'/frames')\n",
        "\n",
        "#Remove old images\n",
        "  remove_old_images(video_source_path+'/frames')\n",
        "\n",
        "  framepath=video_source_path+'/frames'\n",
        "  total=0\n",
        "  video_count=0\n",
        "\n",
        "  for video in videos:\n",
        "\t\t  video_count+=1\n",
        "\t\t  print(\"Video number: \",video_count)\n",
        "\t\t  print(\"Video:\",str(video))\n",
        "\t\t  image_count=0\n",
        "\t\t  os.system( 'ffmpeg -i {}/{} -r 1/{}  {}/frames/%03d.jpg'.format(video_source_path,video,fps,video_source_path))\n",
        "\t\t  images=os.listdir(framepath)\n",
        "\t\t  image_count=len(images)\n",
        "\t\t  for image in images:\n",
        "\t\t\t  image_path=framepath+ '/'+ image\n",
        "\t\t\t  store(image_path)\n",
        "\t\t  total=len(images)+total\n",
        "\t\t  print(\"Number of images:\",image_count,\"\\n----------\\n\")\n",
        "\n",
        "\n",
        "  imagestore=np.array(imagestore)\n",
        "  a,b,c=imagestore.shape\n",
        "#Reshape to (227,227,batch_size)\n",
        "  imagestore.resize(b,c,a)\n",
        "#Normalize\n",
        "  imagestore=(imagestore-imagestore.mean())/(imagestore.std())\n",
        "#Clip negative Values\n",
        "  imagestore=np.clip(imagestore,0,1)\n",
        "  np.save('tester.npy',imagestore)\n",
        "#Remove Buffer Directory\n",
        "  os.system('rm -r {}'.format(framepath))\n",
        "\n",
        "  print(\"Program ended. All testing videos shall be stored in tester.npy \\n Please wait while tester.npy is created. \\nRefresh when needed\")\n",
        "  print('Number of frames created :', int(total))\n",
        "  print ('Number of bunches=',int(total),\"/10 = \",int(total/10))\n",
        "  print(\"\\nCorrupted and unreadable bunches were ignored\")\n",
        "\n",
        "\n",
        "\n"
      ],
      "metadata": {
        "colab": {
          "base_uri": "https://localhost:8080/"
        },
        "id": "QPT63tofkMEy",
        "outputId": "64514649-81d3-49c8-a15e-325f5c25b7c9"
      },
      "execution_count": 10,
      "outputs": [
        {
          "output_type": "stream",
          "name": "stdout",
          "text": [
            "\u001b[1;30;43mStreaming output truncated to the last 5000 lines.\u001b[0m\n",
            "\n",
            "Video number:  11\n",
            "Video: 141.bmp\n",
            "Number of images: 1 \n",
            "----------\n",
            "\n",
            "Video number:  12\n",
            "Video: 064.bmp\n",
            "Number of images: 1 \n",
            "----------\n",
            "\n",
            "Video number:  13\n",
            "Video: 140.bmp\n",
            "Number of images: 1 \n",
            "----------\n",
            "\n",
            "Video number:  14\n",
            "Video: 023.bmp\n",
            "Number of images: 1 \n",
            "----------\n",
            "\n",
            "Video number:  15\n",
            "Video: 164.bmp\n",
            "Number of images: 1 \n",
            "----------\n",
            "\n",
            "Video number:  16\n",
            "Video: 056.bmp\n",
            "Number of images: 1 \n",
            "----------\n",
            "\n",
            "Video number:  17\n",
            "Video: 112.bmp\n",
            "Number of images: 1 \n",
            "----------\n",
            "\n",
            "Video number:  18\n",
            "Video: 153.bmp\n",
            "Number of images: 1 \n",
            "----------\n",
            "\n",
            "Video number:  19\n",
            "Video: 116.bmp\n",
            "Number of images: 1 \n",
            "----------\n",
            "\n",
            "Video number:  20\n",
            "Video: 157.bmp\n",
            "Number of images: 1 \n",
            "----------\n",
            "\n",
            "Video number:  21\n",
            "Video: 114.bmp\n",
            "Number of images: 1 \n",
            "----------\n",
            "\n",
            "Video number:  22\n",
            "Video: 063.bmp\n",
            "Number of images: 1 \n",
            "----------\n",
            "\n",
            "Video number:  23\n",
            "Video: 145.bmp\n",
            "Number of images: 1 \n",
            "----------\n",
            "\n",
            "Video number:  24\n",
            "Video: 084.bmp\n",
            "Number of images: 1 \n",
            "----------\n",
            "\n",
            "Video number:  25\n",
            "Video: 058.bmp\n",
            "Number of images: 1 \n",
            "----------\n",
            "\n",
            "Video number:  26\n",
            "Video: 129.bmp\n",
            "Number of images: 1 \n",
            "----------\n",
            "\n",
            "Video number:  27\n",
            "Video: 073.bmp\n",
            "Number of images: 1 \n",
            "----------\n",
            "\n",
            "Video number:  28\n",
            "Video: 147.bmp\n",
            "Number of images: 1 \n",
            "----------\n",
            "\n",
            "Video number:  29\n",
            "Video: 172.bmp\n",
            "Number of images: 1 \n",
            "----------\n",
            "\n",
            "Video number:  30\n",
            "Video: 128.bmp\n",
            "Number of images: 1 \n",
            "----------\n",
            "\n",
            "Video number:  31\n",
            "Video: 120.bmp\n",
            "Number of images: 1 \n",
            "----------\n",
            "\n",
            "Video number:  32\n",
            "Video: 055.bmp\n",
            "Number of images: 1 \n",
            "----------\n",
            "\n",
            "Video number:  33\n",
            "Video: 196.bmp\n",
            "Number of images: 1 \n",
            "----------\n",
            "\n",
            "Video number:  34\n",
            "Video: 185.bmp\n",
            "Number of images: 1 \n",
            "----------\n",
            "\n",
            "Video number:  35\n",
            "Video: 079.bmp\n",
            "Number of images: 1 \n",
            "----------\n",
            "\n",
            "Video number:  36\n",
            "Video: 053.bmp\n",
            "Number of images: 1 \n",
            "----------\n",
            "\n",
            "Video number:  37\n",
            "Video: 088.bmp\n",
            "Number of images: 1 \n",
            "----------\n",
            "\n",
            "Video number:  38\n",
            "Video: 109.bmp\n",
            "Number of images: 1 \n",
            "----------\n",
            "\n",
            "Video number:  39\n",
            "Video: 038.bmp\n",
            "Number of images: 1 \n",
            "----------\n",
            "\n",
            "Video number:  40\n",
            "Video: 123.bmp\n",
            "Number of images: 1 \n",
            "----------\n",
            "\n",
            "Video number:  41\n",
            "Video: 087.bmp\n",
            "Number of images: 1 \n",
            "----------\n",
            "\n",
            "Video number:  42\n",
            "Video: 173.bmp\n",
            "Number of images: 1 \n",
            "----------\n",
            "\n",
            "Video number:  43\n",
            "Video: 098.bmp\n",
            "Number of images: 1 \n",
            "----------\n",
            "\n",
            "Video number:  44\n",
            "Video: 057.bmp\n",
            "Number of images: 1 \n",
            "----------\n",
            "\n",
            "Video number:  45\n",
            "Video: 146.bmp\n",
            "Number of images: 1 \n",
            "----------\n",
            "\n",
            "Video number:  46\n",
            "Video: 077.bmp\n",
            "Number of images: 1 \n",
            "----------\n",
            "\n",
            "Video number:  47\n",
            "Video: 135.bmp\n",
            "Number of images: 1 \n",
            "----------\n",
            "\n",
            "Video number:  48\n",
            "Video: 005.bmp\n",
            "Number of images: 1 \n",
            "----------\n",
            "\n",
            "Video number:  49\n",
            "Video: 136.bmp\n",
            "Number of images: 1 \n",
            "----------\n",
            "\n",
            "Video number:  50\n",
            "Video: 095.bmp\n",
            "Number of images: 1 \n",
            "----------\n",
            "\n",
            "Video number:  51\n",
            "Video: 097.bmp\n",
            "Number of images: 1 \n",
            "----------\n",
            "\n",
            "Video number:  52\n",
            "Video: 150.bmp\n",
            "Number of images: 1 \n",
            "----------\n",
            "\n",
            "Video number:  53\n",
            "Video: 039.bmp\n",
            "Number of images: 1 \n",
            "----------\n",
            "\n",
            "Video number:  54\n",
            "Video: 119.bmp\n",
            "Number of images: 1 \n",
            "----------\n",
            "\n",
            "Video number:  55\n",
            "Video: 054.bmp\n",
            "Number of images: 1 \n",
            "----------\n",
            "\n",
            "Video number:  56\n",
            "Video: 019.bmp\n",
            "Number of images: 1 \n",
            "----------\n",
            "\n",
            "Video number:  57\n",
            "Video: 142.bmp\n",
            "Number of images: 1 \n",
            "----------\n",
            "\n",
            "Video number:  58\n",
            "Video: 134.bmp\n",
            "Number of images: 1 \n",
            "----------\n",
            "\n",
            "Video number:  59\n",
            "Video: 045.bmp\n",
            "Number of images: 1 \n",
            "----------\n",
            "\n",
            "Video number:  60\n",
            "Video: 001.bmp\n",
            "Number of images: 1 \n",
            "----------\n",
            "\n",
            "Video number:  61\n",
            "Video: 132.bmp\n",
            "Number of images: 1 \n",
            "----------\n",
            "\n",
            "Video number:  62\n",
            "Video: 016.bmp\n",
            "Number of images: 1 \n",
            "----------\n",
            "\n",
            "Video number:  63\n",
            "Video: 082.bmp\n",
            "Number of images: 1 \n",
            "----------\n",
            "\n",
            "Video number:  64\n",
            "Video: 187.bmp\n",
            "Number of images: 1 \n",
            "----------\n",
            "\n",
            "Video number:  65\n",
            "Video: 036.bmp\n",
            "Number of images: 1 \n",
            "----------\n",
            "\n",
            "Video number:  66\n",
            "Video: 125.bmp\n",
            "Number of images: 1 \n",
            "----------\n",
            "\n",
            "Video number:  67\n",
            "Video: 026.bmp\n",
            "Number of images: 1 \n",
            "----------\n",
            "\n",
            "Video number:  68\n",
            "Video: 065.bmp\n",
            "Number of images: 1 \n",
            "----------\n",
            "\n",
            "Video number:  69\n",
            "Video: 179.bmp\n",
            "Number of images: 1 \n",
            "----------\n",
            "\n",
            "Video number:  70\n",
            "Video: 011.bmp\n",
            "Number of images: 1 \n",
            "----------\n",
            "\n",
            "Video number:  71\n",
            "Video: 021.bmp\n",
            "Number of images: 1 \n",
            "----------\n",
            "\n",
            "Video number:  72\n",
            "Video: 043.bmp\n",
            "Number of images: 1 \n",
            "----------\n",
            "\n",
            "Video number:  73\n",
            "Video: 027.bmp\n",
            "Number of images: 1 \n",
            "----------\n",
            "\n",
            "Video number:  74\n",
            "Video: 193.bmp\n",
            "Number of images: 1 \n",
            "----------\n",
            "\n",
            "Video number:  75\n",
            "Video: 072.bmp\n",
            "Number of images: 1 \n",
            "----------\n",
            "\n",
            "Video number:  76\n",
            "Video: 100.bmp\n",
            "Number of images: 1 \n",
            "----------\n",
            "\n",
            "Video number:  77\n",
            "Video: 003.bmp\n",
            "Number of images: 1 \n",
            "----------\n",
            "\n",
            "Video number:  78\n",
            "Video: 061.bmp\n",
            "Number of images: 1 \n",
            "----------\n",
            "\n",
            "Video number:  79\n",
            "Video: 030.bmp\n",
            "Number of images: 1 \n",
            "----------\n",
            "\n",
            "Video number:  80\n",
            "Video: 111.bmp\n",
            "Number of images: 1 \n",
            "----------\n",
            "\n",
            "Video number:  81\n",
            "Video: 051.bmp\n",
            "Number of images: 1 \n",
            "----------\n",
            "\n",
            "Video number:  82\n",
            "Video: 089.bmp\n",
            "Number of images: 1 \n",
            "----------\n",
            "\n",
            "Video number:  83\n",
            "Video: 178.bmp\n",
            "Number of images: 1 \n",
            "----------\n",
            "\n",
            "Video number:  84\n",
            "Video: 124.bmp\n",
            "Number of images: 1 \n",
            "----------\n",
            "\n",
            "Video number:  85\n",
            "Video: 138.bmp\n",
            "Number of images: 1 \n",
            "----------\n",
            "\n",
            "Video number:  86\n",
            "Video: 013.bmp\n",
            "Number of images: 1 \n",
            "----------\n",
            "\n",
            "Video number:  87\n",
            "Video: 083.bmp\n",
            "Number of images: 1 \n",
            "----------\n",
            "\n",
            "Video number:  88\n",
            "Video: 048.bmp\n",
            "Number of images: 1 \n",
            "----------\n",
            "\n",
            "Video number:  89\n",
            "Video: 092.bmp\n",
            "Number of images: 1 \n",
            "----------\n",
            "\n",
            "Video number:  90\n",
            "Video: 182.bmp\n",
            "Number of images: 1 \n",
            "----------\n",
            "\n",
            "Video number:  91\n",
            "Video: 049.bmp\n",
            "Number of images: 1 \n",
            "----------\n",
            "\n",
            "Video number:  92\n",
            "Video: 066.bmp\n",
            "Number of images: 1 \n",
            "----------\n",
            "\n",
            "Video number:  93\n",
            "Video: 139.bmp\n",
            "Number of images: 1 \n",
            "----------\n",
            "\n",
            "Video number:  94\n",
            "Video: 159.bmp\n",
            "Number of images: 1 \n",
            "----------\n",
            "\n",
            "Video number:  95\n",
            "Video: 002.bmp\n",
            "Number of images: 1 \n",
            "----------\n",
            "\n",
            "Video number:  96\n",
            "Video: 060.bmp\n",
            "Number of images: 1 \n",
            "----------\n",
            "\n",
            "Video number:  97\n",
            "Video: 170.bmp\n",
            "Number of images: 1 \n",
            "----------\n",
            "\n",
            "Video number:  98\n",
            "Video: 176.bmp\n",
            "Number of images: 1 \n",
            "----------\n",
            "\n",
            "Video number:  99\n",
            "Video: 165.bmp\n",
            "Number of images: 1 \n",
            "----------\n",
            "\n",
            "Video number:  100\n",
            "Video: 189.bmp\n",
            "Number of images: 1 \n",
            "----------\n",
            "\n",
            "Video number:  101\n",
            "Video: 085.bmp\n",
            "Number of images: 1 \n",
            "----------\n",
            "\n",
            "Video number:  102\n",
            "Video: 067.bmp\n",
            "Number of images: 1 \n",
            "----------\n",
            "\n",
            "Video number:  103\n",
            "Video: 127.bmp\n",
            "Number of images: 1 \n",
            "----------\n",
            "\n",
            "Video number:  104\n",
            "Video: 131.bmp\n",
            "Number of images: 1 \n",
            "----------\n",
            "\n",
            "Video number:  105\n",
            "Video: 012.bmp\n",
            "Number of images: 1 \n",
            "----------\n",
            "\n",
            "Video number:  106\n",
            "Video: 163.bmp\n",
            "Number of images: 1 \n",
            "----------\n",
            "\n",
            "Video number:  107\n",
            "Video: 171.bmp\n",
            "Number of images: 1 \n",
            "----------\n",
            "\n",
            "Video number:  108\n",
            "Video: 148.bmp\n",
            "Number of images: 1 \n",
            "----------\n",
            "\n",
            "Video number:  109\n",
            "Video: 144.bmp\n",
            "Number of images: 1 \n",
            "----------\n",
            "\n",
            "Video number:  110\n",
            "Video: 015.bmp\n",
            "Number of images: 1 \n",
            "----------\n",
            "\n",
            "Video number:  111\n",
            "Video: 160.bmp\n",
            "Number of images: 1 \n",
            "----------\n",
            "\n",
            "Video number:  112\n",
            "Video: 009.bmp\n",
            "Number of images: 1 \n",
            "----------\n",
            "\n",
            "Video number:  113\n",
            "Video: 152.bmp\n",
            "Number of images: 1 \n",
            "----------\n",
            "\n",
            "Video number:  114\n",
            "Video: 195.bmp\n",
            "Number of images: 1 \n",
            "----------\n",
            "\n",
            "Video number:  115\n",
            "Video: 102.bmp\n",
            "Number of images: 1 \n",
            "----------\n",
            "\n",
            "Video number:  116\n",
            "Video: 184.bmp\n",
            "Number of images: 1 \n",
            "----------\n",
            "\n",
            "Video number:  117\n",
            "Video: 143.bmp\n",
            "Number of images: 1 \n",
            "----------\n",
            "\n",
            "Video number:  118\n",
            "Video: 174.bmp\n",
            "Number of images: 1 \n",
            "----------\n",
            "\n",
            "Video number:  119\n",
            "Video: 158.bmp\n",
            "Number of images: 1 \n",
            "----------\n",
            "\n",
            "Video number:  120\n",
            "Video: 078.bmp\n",
            "Number of images: 1 \n",
            "----------\n",
            "\n",
            "Video number:  121\n",
            "Video: 017.bmp\n",
            "Number of images: 1 \n",
            "----------\n",
            "\n",
            "Video number:  122\n",
            "Video: 181.bmp\n",
            "Number of images: 1 \n",
            "----------\n",
            "\n",
            "Video number:  123\n",
            "Video: 044.bmp\n",
            "Number of images: 1 \n",
            "----------\n",
            "\n",
            "Video number:  124\n",
            "Video: 074.bmp\n",
            "Number of images: 1 \n",
            "----------\n",
            "\n",
            "Video number:  125\n",
            "Video: 115.bmp\n",
            "Number of images: 1 \n",
            "----------\n",
            "\n",
            "Video number:  126\n",
            "Video: 062.bmp\n",
            "Number of images: 1 \n",
            "----------\n",
            "\n",
            "Video number:  127\n",
            "Video: 086.bmp\n",
            "Number of images: 1 \n",
            "----------\n",
            "\n",
            "Video number:  128\n",
            "Video: ._.DS_Store\n",
            "Number of images: 1 \n",
            "----------\n",
            "\n",
            "Video number:  129\n",
            "Video: 149.bmp\n",
            "Number of images: 1 \n",
            "----------\n",
            "\n",
            "Video number:  130\n",
            "Video: 126.bmp\n",
            "Number of images: 1 \n",
            "----------\n",
            "\n",
            "Video number:  131\n",
            "Video: 007.bmp\n",
            "Number of images: 1 \n",
            "----------\n",
            "\n",
            "Video number:  132\n",
            "Video: 191.bmp\n",
            "Number of images: 1 \n",
            "----------\n",
            "\n",
            "Video number:  133\n",
            "Video: 006.bmp\n",
            "Number of images: 1 \n",
            "----------\n",
            "\n",
            "Video number:  134\n",
            "Video: 094.bmp\n",
            "Number of images: 1 \n",
            "----------\n",
            "\n",
            "Video number:  135\n",
            "Video: 175.bmp\n",
            "Number of images: 1 \n",
            "----------\n",
            "\n",
            "Video number:  136\n",
            "Video: 093.bmp\n",
            "Number of images: 1 \n",
            "----------\n",
            "\n",
            "Video number:  137\n",
            "Video: 070.bmp\n",
            "Number of images: 1 \n",
            "----------\n",
            "\n",
            "Video number:  138\n",
            "Video: 020.bmp\n",
            "Number of images: 1 \n",
            "----------\n",
            "\n",
            "Video number:  139\n",
            "Video: 200.bmp\n",
            "Number of images: 1 \n",
            "----------\n",
            "\n",
            "Video number:  140\n",
            "Video: 180.bmp\n",
            "Number of images: 1 \n",
            "----------\n",
            "\n",
            "Video number:  141\n",
            "Video: 108.bmp\n",
            "Number of images: 1 \n",
            "----------\n",
            "\n",
            "Video number:  142\n",
            "Video: 197.bmp\n",
            "Number of images: 1 \n",
            "----------\n",
            "\n",
            "Video number:  143\n",
            "Video: 076.bmp\n",
            "Number of images: 1 \n",
            "----------\n",
            "\n",
            "Video number:  144\n",
            "Video: 059.bmp\n",
            "Number of images: 1 \n",
            "----------\n",
            "\n",
            "Video number:  145\n",
            "Video: 183.bmp\n",
            "Number of images: 1 \n",
            "----------\n",
            "\n",
            "Video number:  146\n",
            "Video: 022.bmp\n",
            "Number of images: 1 \n",
            "----------\n",
            "\n",
            "Video number:  147\n",
            "Video: 069.bmp\n",
            "Number of images: 1 \n",
            "----------\n",
            "\n",
            "Video number:  148\n",
            "Video: 192.bmp\n",
            "Number of images: 1 \n",
            "----------\n",
            "\n",
            "Video number:  149\n",
            "Video: 047.bmp\n",
            "Number of images: 1 \n",
            "----------\n",
            "\n",
            "Video number:  150\n",
            "Video: 050.bmp\n",
            "Number of images: 1 \n",
            "----------\n",
            "\n",
            "Video number:  151\n",
            "Video: 110.bmp\n",
            "Number of images: 1 \n",
            "----------\n",
            "\n",
            "Video number:  152\n",
            "Video: 188.bmp\n",
            "Number of images: 1 \n",
            "----------\n",
            "\n",
            "Video number:  153\n",
            "Video: 046.bmp\n",
            "Number of images: 1 \n",
            "----------\n",
            "\n",
            "Video number:  154\n",
            "Video: 008.bmp\n",
            "Number of images: 1 \n",
            "----------\n",
            "\n",
            "Video number:  155\n",
            "Video: 096.bmp\n",
            "Number of images: 1 \n",
            "----------\n",
            "\n",
            "Video number:  156\n",
            "Video: 090.bmp\n",
            "Number of images: 1 \n",
            "----------\n",
            "\n",
            "Video number:  157\n",
            "Video: 167.bmp\n",
            "Number of images: 1 \n",
            "----------\n",
            "\n",
            "Video number:  158\n",
            "Video: 024.bmp\n",
            "Number of images: 1 \n",
            "----------\n",
            "\n",
            "Video number:  159\n",
            "Video: 122.bmp\n",
            "Number of images: 1 \n",
            "----------\n",
            "\n",
            "Video number:  160\n",
            "Video: 041.bmp\n",
            "Number of images: 1 \n",
            "----------\n",
            "\n",
            "Video number:  161\n",
            "Video: 032.bmp\n",
            "Number of images: 1 \n",
            "----------\n",
            "\n",
            "Video number:  162\n",
            "Video: 101.bmp\n",
            "Number of images: 1 \n",
            "----------\n",
            "\n",
            "Video number:  163\n",
            "Video: 080.bmp\n",
            "Number of images: 1 \n",
            "----------\n",
            "\n",
            "Video number:  164\n",
            "Video: 106.bmp\n",
            "Number of images: 1 \n",
            "----------\n",
            "\n",
            "Video number:  165\n",
            "Video: 034.bmp\n",
            "Number of images: 1 \n",
            "----------\n",
            "\n",
            "Video number:  166\n",
            "Video: 166.bmp\n",
            "Number of images: 1 \n",
            "----------\n",
            "\n",
            "Video number:  167\n",
            "Video: 025.bmp\n",
            "Number of images: 1 \n",
            "----------\n",
            "\n",
            "Video number:  168\n",
            "Video: 199.bmp\n",
            "Number of images: 1 \n",
            "----------\n",
            "\n",
            "Video number:  169\n",
            "Video: 151.bmp\n",
            "Number of images: 1 \n",
            "----------\n",
            "\n",
            "Video number:  170\n",
            "Video: 004.bmp\n",
            "Number of images: 1 \n",
            "----------\n",
            "\n",
            "Video number:  171\n",
            "Video: 117.bmp\n",
            "Number of images: 1 \n",
            "----------\n",
            "\n",
            "Video number:  172\n",
            "Video: 018.bmp\n",
            "Number of images: 1 \n",
            "----------\n",
            "\n",
            "Video number:  173\n",
            "Video: 137.bmp\n",
            "Number of images: 1 \n",
            "----------\n",
            "\n",
            "Video number:  174\n",
            "Video: 071.bmp\n",
            "Number of images: 1 \n",
            "----------\n",
            "\n",
            "Video number:  175\n",
            "Video: 168.bmp\n",
            "Number of images: 1 \n",
            "----------\n",
            "\n",
            "Video number:  176\n",
            "Video: 161.bmp\n",
            "Number of images: 1 \n",
            "----------\n",
            "\n",
            "Video number:  177\n",
            "Video: 154.bmp\n",
            "Number of images: 1 \n",
            "----------\n",
            "\n",
            "Video number:  178\n",
            "Video: 028.bmp\n",
            "Number of images: 1 \n",
            "----------\n",
            "\n",
            "Video number:  179\n",
            "Video: 033.bmp\n",
            "Number of images: 1 \n",
            "----------\n",
            "\n",
            "Video number:  180\n",
            "Video: 103.bmp\n",
            "Number of images: 1 \n",
            "----------\n",
            "\n",
            "Video number:  181\n",
            "Video: 113.bmp\n",
            "Number of images: 1 \n",
            "----------\n",
            "\n",
            "Video number:  182\n",
            "Video: 118.bmp\n",
            "Number of images: 1 \n",
            "----------\n",
            "\n",
            "Video number:  183\n",
            "Video: 035.bmp\n",
            "Number of images: 1 \n",
            "----------\n",
            "\n",
            "Video number:  184\n",
            "Video: 107.bmp\n",
            "Number of images: 1 \n",
            "----------\n",
            "\n",
            "Video number:  185\n",
            "Video: 105.bmp\n",
            "Number of images: 1 \n",
            "----------\n",
            "\n",
            "Video number:  186\n",
            "Video: 121.bmp\n",
            "Number of images: 1 \n",
            "----------\n",
            "\n",
            "Video number:  187\n",
            "Video: 042.bmp\n",
            "Number of images: 1 \n",
            "----------\n",
            "\n",
            "Video number:  188\n",
            "Video: 194.bmp\n",
            "Number of images: 1 \n",
            "----------\n",
            "\n",
            "Video number:  189\n",
            "Video: .DS_Store\n",
            "Number of images: 1 \n",
            "----------\n",
            "\n",
            "Video number:  190\n",
            "Video: 104.bmp\n",
            "Number of images: 1 \n",
            "----------\n",
            "\n",
            "Video number:  191\n",
            "Video: 029.bmp\n",
            "Number of images: 1 \n",
            "----------\n",
            "\n",
            "Video number:  192\n",
            "Video: 091.bmp\n",
            "Number of images: 1 \n",
            "----------\n",
            "\n",
            "Video number:  193\n",
            "Video: 162.bmp\n",
            "Number of images: 1 \n",
            "----------\n",
            "\n",
            "Video number:  194\n",
            "Video: 052.bmp\n",
            "Number of images: 1 \n",
            "----------\n",
            "\n",
            "Video number:  195\n",
            "Video: 169.bmp\n",
            "Number of images: 1 \n",
            "----------\n",
            "\n",
            "Video number:  196\n",
            "Video: 186.bmp\n",
            "Number of images: 1 \n",
            "----------\n",
            "\n",
            "Video number:  197\n",
            "Video: 075.bmp\n",
            "Number of images: 1 \n",
            "----------\n",
            "\n",
            "Video number:  198\n",
            "Video: 068.bmp\n",
            "Number of images: 1 \n",
            "----------\n",
            "\n",
            "Video number:  199\n",
            "Video: 133.bmp\n",
            "Number of images: 1 \n",
            "----------\n",
            "\n",
            "Video number:  200\n",
            "Video: 014.bmp\n",
            "Number of images: 1 \n",
            "----------\n",
            "\n",
            "Video number:  201\n",
            "Video: 198.bmp\n",
            "Number of images: 1 \n",
            "----------\n",
            "\n",
            "Video number:  202\n",
            "Video: 156.bmp\n",
            "Number of images: 1 \n",
            "----------\n",
            "\n",
            "Program ended. All testing videos shall be stored in tester.npy \n",
            " Please wait while tester.npy is created. \n",
            "Refresh when needed\n",
            "Number of frames created : 202\n",
            "Number of bunches= 202 /10 =  20\n",
            "\n",
            "Corrupted and unreadable bunches were ignored\n",
            "Found  200  testing videos\n",
            "Video number:  1\n",
            "Video: 139.tif\n",
            "Number of images: 1 \n",
            "----------\n",
            "\n",
            "Video number:  2\n",
            "Video: 051.tif\n",
            "Number of images: 1 \n",
            "----------\n",
            "\n",
            "Video number:  3\n",
            "Video: 166.tif\n",
            "Number of images: 1 \n",
            "----------\n",
            "\n",
            "Video number:  4\n",
            "Video: 136.tif\n",
            "Number of images: 1 \n",
            "----------\n",
            "\n",
            "Video number:  5\n",
            "Video: 178.tif\n",
            "Number of images: 1 \n",
            "----------\n",
            "\n",
            "Video number:  6\n",
            "Video: 043.tif\n",
            "Number of images: 1 \n",
            "----------\n",
            "\n",
            "Video number:  7\n",
            "Video: 167.tif\n",
            "Number of images: 1 \n",
            "----------\n",
            "\n",
            "Video number:  8\n",
            "Video: 004.tif\n",
            "Number of images: 1 \n",
            "----------\n",
            "\n",
            "Video number:  9\n",
            "Video: 171.tif\n",
            "Number of images: 1 \n",
            "----------\n",
            "\n",
            "Video number:  10\n",
            "Video: 157.tif\n",
            "Number of images: 1 \n",
            "----------\n",
            "\n",
            "Video number:  11\n",
            "Video: 119.tif\n",
            "Number of images: 1 \n",
            "----------\n",
            "\n",
            "Video number:  12\n",
            "Video: 141.tif\n",
            "Number of images: 1 \n",
            "----------\n",
            "\n",
            "Video number:  13\n",
            "Video: 113.tif\n",
            "Number of images: 1 \n",
            "----------\n",
            "\n",
            "Video number:  14\n",
            "Video: 162.tif\n",
            "Number of images: 1 \n",
            "----------\n",
            "\n",
            "Video number:  15\n",
            "Video: 175.tif\n",
            "Number of images: 1 \n",
            "----------\n",
            "\n",
            "Video number:  16\n",
            "Video: 135.tif\n",
            "Number of images: 1 \n",
            "----------\n",
            "\n",
            "Video number:  17\n",
            "Video: 003.tif\n",
            "Number of images: 1 \n",
            "----------\n",
            "\n",
            "Video number:  18\n",
            "Video: 193.tif\n",
            "Number of images: 1 \n",
            "----------\n",
            "\n",
            "Video number:  19\n",
            "Video: 146.tif\n",
            "Number of images: 1 \n",
            "----------\n",
            "\n",
            "Video number:  20\n",
            "Video: 010.tif\n",
            "Number of images: 1 \n",
            "----------\n",
            "\n",
            "Video number:  21\n",
            "Video: 077.tif\n",
            "Number of images: 1 \n",
            "----------\n",
            "\n",
            "Video number:  22\n",
            "Video: 127.tif\n",
            "Number of images: 1 \n",
            "----------\n",
            "\n",
            "Video number:  23\n",
            "Video: 144.tif\n",
            "Number of images: 1 \n",
            "----------\n",
            "\n",
            "Video number:  24\n",
            "Video: 092.tif\n",
            "Number of images: 1 \n",
            "----------\n",
            "\n",
            "Video number:  25\n",
            "Video: 107.tif\n",
            "Number of images: 1 \n",
            "----------\n",
            "\n",
            "Video number:  26\n",
            "Video: 124.tif\n",
            "Number of images: 1 \n",
            "----------\n",
            "\n",
            "Video number:  27\n",
            "Video: 159.tif\n",
            "Number of images: 1 \n",
            "----------\n",
            "\n",
            "Video number:  28\n",
            "Video: 170.tif\n",
            "Number of images: 1 \n",
            "----------\n",
            "\n",
            "Video number:  29\n",
            "Video: 035.tif\n",
            "Number of images: 1 \n",
            "----------\n",
            "\n",
            "Video number:  30\n",
            "Video: 046.tif\n",
            "Number of images: 1 \n",
            "----------\n",
            "\n",
            "Video number:  31\n",
            "Video: 066.tif\n",
            "Number of images: 1 \n",
            "----------\n",
            "\n",
            "Video number:  32\n",
            "Video: 087.tif\n",
            "Number of images: 1 \n",
            "----------\n",
            "\n",
            "Video number:  33\n",
            "Video: 191.tif\n",
            "Number of images: 1 \n",
            "----------\n",
            "\n",
            "Video number:  34\n",
            "Video: 172.tif\n",
            "Number of images: 1 \n",
            "----------\n",
            "\n",
            "Video number:  35\n",
            "Video: 137.tif\n",
            "Number of images: 1 \n",
            "----------\n",
            "\n",
            "Video number:  36\n",
            "Video: 062.tif\n",
            "Number of images: 1 \n",
            "----------\n",
            "\n",
            "Video number:  37\n",
            "Video: 110.tif\n",
            "Number of images: 1 \n",
            "----------\n",
            "\n",
            "Video number:  38\n",
            "Video: 163.tif\n",
            "Number of images: 1 \n",
            "----------\n",
            "\n",
            "Video number:  39\n",
            "Video: 021.tif\n",
            "Number of images: 1 \n",
            "----------\n",
            "\n",
            "Video number:  40\n",
            "Video: 008.tif\n",
            "Number of images: 1 \n",
            "----------\n",
            "\n",
            "Video number:  41\n",
            "Video: 098.tif\n",
            "Number of images: 1 \n",
            "----------\n",
            "\n",
            "Video number:  42\n",
            "Video: 011.tif\n",
            "Number of images: 1 \n",
            "----------\n",
            "\n",
            "Video number:  43\n",
            "Video: 108.tif\n",
            "Number of images: 1 \n",
            "----------\n",
            "\n",
            "Video number:  44\n",
            "Video: 081.tif\n",
            "Number of images: 1 \n",
            "----------\n",
            "\n",
            "Video number:  45\n",
            "Video: 125.tif\n",
            "Number of images: 1 \n",
            "----------\n",
            "\n",
            "Video number:  46\n",
            "Video: 067.tif\n",
            "Number of images: 1 \n",
            "----------\n",
            "\n",
            "Video number:  47\n",
            "Video: 029.tif\n",
            "Number of images: 1 \n",
            "----------\n",
            "\n",
            "Video number:  48\n",
            "Video: 031.tif\n",
            "Number of images: 1 \n",
            "----------\n",
            "\n",
            "Video number:  49\n",
            "Video: 199.tif\n",
            "Number of images: 1 \n",
            "----------\n",
            "\n",
            "Video number:  50\n",
            "Video: 140.tif\n",
            "Number of images: 1 \n",
            "----------\n",
            "\n",
            "Video number:  51\n",
            "Video: 114.tif\n",
            "Number of images: 1 \n",
            "----------\n",
            "\n",
            "Video number:  52\n",
            "Video: 041.tif\n",
            "Number of images: 1 \n",
            "----------\n",
            "\n",
            "Video number:  53\n",
            "Video: 196.tif\n",
            "Number of images: 1 \n",
            "----------\n",
            "\n",
            "Video number:  54\n",
            "Video: 095.tif\n",
            "Number of images: 1 \n",
            "----------\n",
            "\n",
            "Video number:  55\n",
            "Video: 115.tif\n",
            "Number of images: 1 \n",
            "----------\n",
            "\n",
            "Video number:  56\n",
            "Video: 038.tif\n",
            "Number of images: 1 \n",
            "----------\n",
            "\n",
            "Video number:  57\n",
            "Video: 073.tif\n",
            "Number of images: 1 \n",
            "----------\n",
            "\n",
            "Video number:  58\n",
            "Video: 158.tif\n",
            "Number of images: 1 \n",
            "----------\n",
            "\n",
            "Video number:  59\n",
            "Video: 118.tif\n",
            "Number of images: 1 \n",
            "----------\n",
            "\n",
            "Video number:  60\n",
            "Video: 013.tif\n",
            "Number of images: 1 \n",
            "----------\n",
            "\n",
            "Video number:  61\n",
            "Video: 189.tif\n",
            "Number of images: 1 \n",
            "----------\n",
            "\n",
            "Video number:  62\n",
            "Video: 076.tif\n",
            "Number of images: 1 \n",
            "----------\n",
            "\n",
            "Video number:  63\n",
            "Video: 160.tif\n",
            "Number of images: 1 \n",
            "----------\n",
            "\n",
            "Video number:  64\n",
            "Video: 102.tif\n",
            "Number of images: 1 \n",
            "----------\n",
            "\n",
            "Video number:  65\n",
            "Video: 105.tif\n",
            "Number of images: 1 \n",
            "----------\n",
            "\n",
            "Video number:  66\n",
            "Video: 131.tif\n",
            "Number of images: 1 \n",
            "----------\n",
            "\n",
            "Video number:  67\n",
            "Video: 091.tif\n",
            "Number of images: 1 \n",
            "----------\n",
            "\n",
            "Video number:  68\n",
            "Video: 060.tif\n",
            "Number of images: 1 \n",
            "----------\n",
            "\n",
            "Video number:  69\n",
            "Video: 133.tif\n",
            "Number of images: 1 \n",
            "----------\n",
            "\n",
            "Video number:  70\n",
            "Video: 161.tif\n",
            "Number of images: 1 \n",
            "----------\n",
            "\n",
            "Video number:  71\n",
            "Video: 019.tif\n",
            "Number of images: 1 \n",
            "----------\n",
            "\n",
            "Video number:  72\n",
            "Video: 188.tif\n",
            "Number of images: 1 \n",
            "----------\n",
            "\n",
            "Video number:  73\n",
            "Video: 039.tif\n",
            "Number of images: 1 \n",
            "----------\n",
            "\n",
            "Video number:  74\n",
            "Video: 022.tif\n",
            "Number of images: 1 \n",
            "----------\n",
            "\n",
            "Video number:  75\n",
            "Video: 071.tif\n",
            "Number of images: 1 \n",
            "----------\n",
            "\n",
            "Video number:  76\n",
            "Video: 069.tif\n",
            "Number of images: 1 \n",
            "----------\n",
            "\n",
            "Video number:  77\n",
            "Video: 052.tif\n",
            "Number of images: 1 \n",
            "----------\n",
            "\n",
            "Video number:  78\n",
            "Video: 116.tif\n",
            "Number of images: 1 \n",
            "----------\n",
            "\n",
            "Video number:  79\n",
            "Video: 034.tif\n",
            "Number of images: 1 \n",
            "----------\n",
            "\n",
            "Video number:  80\n",
            "Video: 025.tif\n",
            "Number of images: 1 \n",
            "----------\n",
            "\n",
            "Video number:  81\n",
            "Video: 186.tif\n",
            "Number of images: 1 \n",
            "----------\n",
            "\n",
            "Video number:  82\n",
            "Video: 156.tif\n",
            "Number of images: 1 \n",
            "----------\n",
            "\n",
            "Video number:  83\n",
            "Video: 083.tif\n",
            "Number of images: 1 \n",
            "----------\n",
            "\n",
            "Video number:  84\n",
            "Video: 070.tif\n",
            "Number of images: 1 \n",
            "----------\n",
            "\n",
            "Video number:  85\n",
            "Video: 176.tif\n",
            "Number of images: 1 \n",
            "----------\n",
            "\n",
            "Video number:  86\n",
            "Video: 020.tif\n",
            "Number of images: 1 \n",
            "----------\n",
            "\n",
            "Video number:  87\n",
            "Video: 129.tif\n",
            "Number of images: 1 \n",
            "----------\n",
            "\n",
            "Video number:  88\n",
            "Video: 152.tif\n",
            "Number of images: 1 \n",
            "----------\n",
            "\n",
            "Video number:  89\n",
            "Video: 027.tif\n",
            "Number of images: 1 \n",
            "----------\n",
            "\n",
            "Video number:  90\n",
            "Video: 037.tif\n",
            "Number of images: 1 \n",
            "----------\n",
            "\n",
            "Video number:  91\n",
            "Video: 100.tif\n",
            "Number of images: 1 \n",
            "----------\n",
            "\n",
            "Video number:  92\n",
            "Video: 106.tif\n",
            "Number of images: 1 \n",
            "----------\n",
            "\n",
            "Video number:  93\n",
            "Video: 197.tif\n",
            "Number of images: 1 \n",
            "----------\n",
            "\n",
            "Video number:  94\n",
            "Video: 032.tif\n",
            "Number of images: 1 \n",
            "----------\n",
            "\n",
            "Video number:  95\n",
            "Video: 169.tif\n",
            "Number of images: 1 \n",
            "----------\n",
            "\n",
            "Video number:  96\n",
            "Video: 040.tif\n",
            "Number of images: 1 \n",
            "----------\n",
            "\n",
            "Video number:  97\n",
            "Video: 044.tif\n",
            "Number of images: 1 \n",
            "----------\n",
            "\n",
            "Video number:  98\n",
            "Video: 082.tif\n",
            "Number of images: 1 \n",
            "----------\n",
            "\n",
            "Video number:  99\n",
            "Video: 055.tif\n",
            "Number of images: 1 \n",
            "----------\n",
            "\n",
            "Video number:  100\n",
            "Video: 014.tif\n",
            "Number of images: 1 \n",
            "----------\n",
            "\n",
            "Video number:  101\n",
            "Video: 036.tif\n",
            "Number of images: 1 \n",
            "----------\n",
            "\n",
            "Video number:  102\n",
            "Video: 030.tif\n",
            "Number of images: 1 \n",
            "----------\n",
            "\n",
            "Video number:  103\n",
            "Video: 085.tif\n",
            "Number of images: 1 \n",
            "----------\n",
            "\n",
            "Video number:  104\n",
            "Video: 001.tif\n",
            "Number of images: 1 \n",
            "----------\n",
            "\n",
            "Video number:  105\n",
            "Video: 130.tif\n",
            "Number of images: 1 \n",
            "----------\n",
            "\n",
            "Video number:  106\n",
            "Video: 068.tif\n",
            "Number of images: 1 \n",
            "----------\n",
            "\n",
            "Video number:  107\n",
            "Video: 094.tif\n",
            "Number of images: 1 \n",
            "----------\n",
            "\n",
            "Video number:  108\n",
            "Video: 183.tif\n",
            "Number of images: 1 \n",
            "----------\n",
            "\n",
            "Video number:  109\n",
            "Video: 198.tif\n",
            "Number of images: 1 \n",
            "----------\n",
            "\n",
            "Video number:  110\n",
            "Video: 180.tif\n",
            "Number of images: 1 \n",
            "----------\n",
            "\n",
            "Video number:  111\n",
            "Video: 143.tif\n",
            "Number of images: 1 \n",
            "----------\n",
            "\n",
            "Video number:  112\n",
            "Video: 149.tif\n",
            "Number of images: 1 \n",
            "----------\n",
            "\n",
            "Video number:  113\n",
            "Video: 164.tif\n",
            "Number of images: 1 \n",
            "----------\n",
            "\n",
            "Video number:  114\n",
            "Video: 018.tif\n",
            "Number of images: 1 \n",
            "----------\n",
            "\n",
            "Video number:  115\n",
            "Video: 074.tif\n",
            "Number of images: 1 \n",
            "----------\n",
            "\n",
            "Video number:  116\n",
            "Video: 151.tif\n",
            "Number of images: 1 \n",
            "----------\n",
            "\n",
            "Video number:  117\n",
            "Video: 054.tif\n",
            "Number of images: 1 \n",
            "----------\n",
            "\n",
            "Video number:  118\n",
            "Video: 190.tif\n",
            "Number of images: 1 \n",
            "----------\n",
            "\n",
            "Video number:  119\n",
            "Video: 065.tif\n",
            "Number of images: 1 \n",
            "----------\n",
            "\n",
            "Video number:  120\n",
            "Video: 045.tif\n",
            "Number of images: 1 \n",
            "----------\n",
            "\n",
            "Video number:  121\n",
            "Video: 057.tif\n",
            "Number of images: 1 \n",
            "----------\n",
            "\n",
            "Video number:  122\n",
            "Video: 090.tif\n",
            "Number of images: 1 \n",
            "----------\n",
            "\n",
            "Video number:  123\n",
            "Video: 049.tif\n",
            "Number of images: 1 \n",
            "----------\n",
            "\n",
            "Video number:  124\n",
            "Video: 154.tif\n",
            "Number of images: 1 \n",
            "----------\n",
            "\n",
            "Video number:  125\n",
            "Video: 023.tif\n",
            "Number of images: 1 \n",
            "----------\n",
            "\n",
            "Video number:  126\n",
            "Video: 128.tif\n",
            "Number of images: 1 \n",
            "----------\n",
            "\n",
            "Video number:  127\n",
            "Video: 080.tif\n",
            "Number of images: 1 \n",
            "----------\n",
            "\n",
            "Video number:  128\n",
            "Video: 168.tif\n",
            "Number of images: 1 \n",
            "----------\n",
            "\n",
            "Video number:  129\n",
            "Video: 050.tif\n",
            "Number of images: 1 \n",
            "----------\n",
            "\n",
            "Video number:  130\n",
            "Video: 117.tif\n",
            "Number of images: 1 \n",
            "----------\n",
            "\n",
            "Video number:  131\n",
            "Video: 126.tif\n",
            "Number of images: 1 \n",
            "----------\n",
            "\n",
            "Video number:  132\n",
            "Video: 058.tif\n",
            "Number of images: 1 \n",
            "----------\n",
            "\n",
            "Video number:  133\n",
            "Video: 153.tif\n",
            "Number of images: 1 \n",
            "----------\n",
            "\n",
            "Video number:  134\n",
            "Video: 024.tif\n",
            "Number of images: 1 \n",
            "----------\n",
            "\n",
            "Video number:  135\n",
            "Video: 086.tif\n",
            "Number of images: 1 \n",
            "----------\n",
            "\n",
            "Video number:  136\n",
            "Video: 111.tif\n",
            "Number of images: 1 \n",
            "----------\n",
            "\n",
            "Video number:  137\n",
            "Video: 075.tif\n",
            "Number of images: 1 \n",
            "----------\n",
            "\n",
            "Video number:  138\n",
            "Video: 179.tif\n",
            "Number of images: 1 \n",
            "----------\n",
            "\n",
            "Video number:  139\n",
            "Video: 056.tif\n",
            "Number of images: 1 \n",
            "----------\n",
            "\n",
            "Video number:  140\n",
            "Video: 150.tif\n",
            "Number of images: 1 \n",
            "----------\n",
            "\n",
            "Video number:  141\n",
            "Video: 063.tif\n",
            "Number of images: 1 \n",
            "----------\n",
            "\n",
            "Video number:  142\n",
            "Video: 181.tif\n",
            "Number of images: 1 \n",
            "----------\n",
            "\n",
            "Video number:  143\n",
            "Video: 006.tif\n",
            "Number of images: 1 \n",
            "----------\n",
            "\n",
            "Video number:  144\n",
            "Video: 012.tif\n",
            "Number of images: 1 \n",
            "----------\n",
            "\n",
            "Video number:  145\n",
            "Video: 177.tif\n",
            "Number of images: 1 \n",
            "----------\n",
            "\n",
            "Video number:  146\n",
            "Video: 192.tif\n",
            "Number of images: 1 \n",
            "----------\n",
            "\n",
            "Video number:  147\n",
            "Video: 002.tif\n",
            "Number of images: 1 \n",
            "----------\n",
            "\n",
            "Video number:  148\n",
            "Video: 099.tif\n",
            "Number of images: 1 \n",
            "----------\n",
            "\n",
            "Video number:  149\n",
            "Video: 120.tif\n",
            "Number of images: 1 \n",
            "----------\n",
            "\n",
            "Video number:  150\n",
            "Video: 184.tif\n",
            "Number of images: 1 \n",
            "----------\n",
            "\n",
            "Video number:  151\n",
            "Video: 185.tif\n",
            "Number of images: 1 \n",
            "----------\n",
            "\n",
            "Video number:  152\n",
            "Video: 033.tif\n",
            "Number of images: 1 \n",
            "----------\n",
            "\n",
            "Video number:  153\n",
            "Video: 103.tif\n",
            "Number of images: 1 \n",
            "----------\n",
            "\n",
            "Video number:  154\n",
            "Video: 089.tif\n",
            "Number of images: 1 \n",
            "----------\n",
            "\n",
            "Video number:  155\n",
            "Video: 134.tif\n",
            "Number of images: 1 \n",
            "----------\n",
            "\n",
            "Video number:  156\n",
            "Video: 061.tif\n",
            "Number of images: 1 \n",
            "----------\n",
            "\n",
            "Video number:  157\n",
            "Video: 109.tif\n",
            "Number of images: 1 \n",
            "----------\n",
            "\n",
            "Video number:  158\n",
            "Video: 007.tif\n",
            "Number of images: 1 \n",
            "----------\n",
            "\n",
            "Video number:  159\n",
            "Video: 059.tif\n",
            "Number of images: 1 \n",
            "----------\n",
            "\n",
            "Video number:  160\n",
            "Video: 101.tif\n",
            "Number of images: 1 \n",
            "----------\n",
            "\n",
            "Video number:  161\n",
            "Video: 079.tif\n",
            "Number of images: 1 \n",
            "----------\n",
            "\n",
            "Video number:  162\n",
            "Video: 173.tif\n",
            "Number of images: 1 \n",
            "----------\n",
            "\n",
            "Video number:  163\n",
            "Video: 121.tif\n",
            "Number of images: 1 \n",
            "----------\n",
            "\n",
            "Video number:  164\n",
            "Video: 026.tif\n",
            "Number of images: 1 \n",
            "----------\n",
            "\n",
            "Video number:  165\n",
            "Video: 142.tif\n",
            "Number of images: 1 \n",
            "----------\n",
            "\n",
            "Video number:  166\n",
            "Video: 122.tif\n",
            "Number of images: 1 \n",
            "----------\n",
            "\n",
            "Video number:  167\n",
            "Video: 187.tif\n",
            "Number of images: 1 \n",
            "----------\n",
            "\n",
            "Video number:  168\n",
            "Video: 182.tif\n",
            "Number of images: 1 \n",
            "----------\n",
            "\n",
            "Video number:  169\n",
            "Video: 138.tif\n",
            "Number of images: 1 \n",
            "----------\n",
            "\n",
            "Video number:  170\n",
            "Video: 015.tif\n",
            "Number of images: 1 \n",
            "----------\n",
            "\n",
            "Video number:  171\n",
            "Video: 016.tif\n",
            "Number of images: 1 \n",
            "----------\n",
            "\n",
            "Video number:  172\n",
            "Video: 096.tif\n",
            "Number of images: 1 \n",
            "----------\n",
            "\n",
            "Video number:  173\n",
            "Video: 078.tif\n",
            "Number of images: 1 \n",
            "----------\n",
            "\n",
            "Video number:  174\n",
            "Video: 093.tif\n",
            "Number of images: 1 \n",
            "----------\n",
            "\n",
            "Video number:  175\n",
            "Video: 112.tif\n",
            "Number of images: 1 \n",
            "----------\n",
            "\n",
            "Video number:  176\n",
            "Video: 165.tif\n",
            "Number of images: 1 \n",
            "----------\n",
            "\n",
            "Video number:  177\n",
            "Video: 053.tif\n",
            "Number of images: 1 \n",
            "----------\n",
            "\n",
            "Video number:  178\n",
            "Video: 200.tif\n",
            "Number of images: 1 \n",
            "----------\n",
            "\n",
            "Video number:  179\n",
            "Video: 123.tif\n",
            "Number of images: 1 \n",
            "----------\n",
            "\n",
            "Video number:  180\n",
            "Video: 047.tif\n",
            "Number of images: 1 \n",
            "----------\n",
            "\n",
            "Video number:  181\n",
            "Video: 048.tif\n",
            "Number of images: 1 \n",
            "----------\n",
            "\n",
            "Video number:  182\n",
            "Video: 195.tif\n",
            "Number of images: 1 \n",
            "----------\n",
            "\n",
            "Video number:  183\n",
            "Video: 028.tif\n",
            "Number of images: 1 \n",
            "----------\n",
            "\n",
            "Video number:  184\n",
            "Video: 009.tif\n",
            "Number of images: 1 \n",
            "----------\n",
            "\n",
            "Video number:  185\n",
            "Video: 148.tif\n",
            "Number of images: 1 \n",
            "----------\n",
            "\n",
            "Video number:  186\n",
            "Video: 147.tif\n",
            "Number of images: 1 \n",
            "----------\n",
            "\n",
            "Video number:  187\n",
            "Video: 145.tif\n",
            "Number of images: 1 \n",
            "----------\n",
            "\n",
            "Video number:  188\n",
            "Video: 005.tif\n",
            "Number of images: 1 \n",
            "----------\n",
            "\n",
            "Video number:  189\n",
            "Video: 042.tif\n",
            "Number of images: 1 \n",
            "----------\n",
            "\n",
            "Video number:  190\n",
            "Video: 155.tif\n",
            "Number of images: 1 \n",
            "----------\n",
            "\n",
            "Video number:  191\n",
            "Video: 104.tif\n",
            "Number of images: 1 \n",
            "----------\n",
            "\n",
            "Video number:  192\n",
            "Video: 088.tif\n",
            "Number of images: 1 \n",
            "----------\n",
            "\n",
            "Video number:  193\n",
            "Video: 194.tif\n",
            "Number of images: 1 \n",
            "----------\n",
            "\n",
            "Video number:  194\n",
            "Video: 132.tif\n",
            "Number of images: 1 \n",
            "----------\n",
            "\n",
            "Video number:  195\n",
            "Video: 097.tif\n",
            "Number of images: 1 \n",
            "----------\n",
            "\n",
            "Video number:  196\n",
            "Video: 072.tif\n",
            "Number of images: 1 \n",
            "----------\n",
            "\n",
            "Video number:  197\n",
            "Video: 064.tif\n",
            "Number of images: 1 \n",
            "----------\n",
            "\n",
            "Video number:  198\n",
            "Video: 084.tif\n",
            "Number of images: 1 \n",
            "----------\n",
            "\n",
            "Video number:  199\n",
            "Video: 174.tif\n",
            "Number of images: 1 \n",
            "----------\n",
            "\n",
            "Video number:  200\n",
            "Video: 017.tif\n",
            "Number of images: 1 \n",
            "----------\n",
            "\n",
            "Program ended. All testing videos shall be stored in tester.npy \n",
            " Please wait while tester.npy is created. \n",
            "Refresh when needed\n",
            "Number of frames created : 200\n",
            "Number of bunches= 200 /10 =  20\n",
            "\n",
            "Corrupted and unreadable bunches were ignored\n",
            "Found  200  testing videos\n",
            "Video number:  1\n",
            "Video: 139.tif\n",
            "Number of images: 1 \n",
            "----------\n",
            "\n",
            "Video number:  2\n",
            "Video: 051.tif\n",
            "Number of images: 1 \n",
            "----------\n",
            "\n",
            "Video number:  3\n",
            "Video: 166.tif\n",
            "Number of images: 1 \n",
            "----------\n",
            "\n",
            "Video number:  4\n",
            "Video: 136.tif\n",
            "Number of images: 1 \n",
            "----------\n",
            "\n",
            "Video number:  5\n",
            "Video: 178.tif\n",
            "Number of images: 1 \n",
            "----------\n",
            "\n",
            "Video number:  6\n",
            "Video: 043.tif\n",
            "Number of images: 1 \n",
            "----------\n",
            "\n",
            "Video number:  7\n",
            "Video: 167.tif\n",
            "Number of images: 1 \n",
            "----------\n",
            "\n",
            "Video number:  8\n",
            "Video: 004.tif\n",
            "Number of images: 1 \n",
            "----------\n",
            "\n",
            "Video number:  9\n",
            "Video: 171.tif\n",
            "Number of images: 1 \n",
            "----------\n",
            "\n",
            "Video number:  10\n",
            "Video: 157.tif\n",
            "Number of images: 1 \n",
            "----------\n",
            "\n",
            "Video number:  11\n",
            "Video: 119.tif\n",
            "Number of images: 1 \n",
            "----------\n",
            "\n",
            "Video number:  12\n",
            "Video: 141.tif\n",
            "Number of images: 1 \n",
            "----------\n",
            "\n",
            "Video number:  13\n",
            "Video: 113.tif\n",
            "Number of images: 1 \n",
            "----------\n",
            "\n",
            "Video number:  14\n",
            "Video: 162.tif\n",
            "Number of images: 1 \n",
            "----------\n",
            "\n",
            "Video number:  15\n",
            "Video: 175.tif\n",
            "Number of images: 1 \n",
            "----------\n",
            "\n",
            "Video number:  16\n",
            "Video: 135.tif\n",
            "Number of images: 1 \n",
            "----------\n",
            "\n",
            "Video number:  17\n",
            "Video: 003.tif\n",
            "Number of images: 1 \n",
            "----------\n",
            "\n",
            "Video number:  18\n",
            "Video: 193.tif\n",
            "Number of images: 1 \n",
            "----------\n",
            "\n",
            "Video number:  19\n",
            "Video: 146.tif\n",
            "Number of images: 1 \n",
            "----------\n",
            "\n",
            "Video number:  20\n",
            "Video: 010.tif\n",
            "Number of images: 1 \n",
            "----------\n",
            "\n",
            "Video number:  21\n",
            "Video: 077.tif\n",
            "Number of images: 1 \n",
            "----------\n",
            "\n",
            "Video number:  22\n",
            "Video: 127.tif\n",
            "Number of images: 1 \n",
            "----------\n",
            "\n",
            "Video number:  23\n",
            "Video: 144.tif\n",
            "Number of images: 1 \n",
            "----------\n",
            "\n",
            "Video number:  24\n",
            "Video: 092.tif\n",
            "Number of images: 1 \n",
            "----------\n",
            "\n",
            "Video number:  25\n",
            "Video: 107.tif\n",
            "Number of images: 1 \n",
            "----------\n",
            "\n",
            "Video number:  26\n",
            "Video: 124.tif\n",
            "Number of images: 1 \n",
            "----------\n",
            "\n",
            "Video number:  27\n",
            "Video: 159.tif\n",
            "Number of images: 1 \n",
            "----------\n",
            "\n",
            "Video number:  28\n",
            "Video: 170.tif\n",
            "Number of images: 1 \n",
            "----------\n",
            "\n",
            "Video number:  29\n",
            "Video: 035.tif\n",
            "Number of images: 1 \n",
            "----------\n",
            "\n",
            "Video number:  30\n",
            "Video: 046.tif\n",
            "Number of images: 1 \n",
            "----------\n",
            "\n",
            "Video number:  31\n",
            "Video: 066.tif\n",
            "Number of images: 1 \n",
            "----------\n",
            "\n",
            "Video number:  32\n",
            "Video: 087.tif\n",
            "Number of images: 1 \n",
            "----------\n",
            "\n",
            "Video number:  33\n",
            "Video: 191.tif\n",
            "Number of images: 1 \n",
            "----------\n",
            "\n",
            "Video number:  34\n",
            "Video: 172.tif\n",
            "Number of images: 1 \n",
            "----------\n",
            "\n",
            "Video number:  35\n",
            "Video: 137.tif\n",
            "Number of images: 1 \n",
            "----------\n",
            "\n",
            "Video number:  36\n",
            "Video: 062.tif\n",
            "Number of images: 1 \n",
            "----------\n",
            "\n",
            "Video number:  37\n",
            "Video: 110.tif\n",
            "Number of images: 1 \n",
            "----------\n",
            "\n",
            "Video number:  38\n",
            "Video: 163.tif\n",
            "Number of images: 1 \n",
            "----------\n",
            "\n",
            "Video number:  39\n",
            "Video: 021.tif\n",
            "Number of images: 1 \n",
            "----------\n",
            "\n",
            "Video number:  40\n",
            "Video: 008.tif\n",
            "Number of images: 1 \n",
            "----------\n",
            "\n",
            "Video number:  41\n",
            "Video: 098.tif\n",
            "Number of images: 1 \n",
            "----------\n",
            "\n",
            "Video number:  42\n",
            "Video: 011.tif\n",
            "Number of images: 1 \n",
            "----------\n",
            "\n",
            "Video number:  43\n",
            "Video: 108.tif\n",
            "Number of images: 1 \n",
            "----------\n",
            "\n",
            "Video number:  44\n",
            "Video: 081.tif\n",
            "Number of images: 1 \n",
            "----------\n",
            "\n",
            "Video number:  45\n",
            "Video: 125.tif\n",
            "Number of images: 1 \n",
            "----------\n",
            "\n",
            "Video number:  46\n",
            "Video: 067.tif\n",
            "Number of images: 1 \n",
            "----------\n",
            "\n",
            "Video number:  47\n",
            "Video: 029.tif\n",
            "Number of images: 1 \n",
            "----------\n",
            "\n",
            "Video number:  48\n",
            "Video: 031.tif\n",
            "Number of images: 1 \n",
            "----------\n",
            "\n",
            "Video number:  49\n",
            "Video: 199.tif\n",
            "Number of images: 1 \n",
            "----------\n",
            "\n",
            "Video number:  50\n",
            "Video: 140.tif\n",
            "Number of images: 1 \n",
            "----------\n",
            "\n",
            "Video number:  51\n",
            "Video: 114.tif\n",
            "Number of images: 1 \n",
            "----------\n",
            "\n",
            "Video number:  52\n",
            "Video: 041.tif\n",
            "Number of images: 1 \n",
            "----------\n",
            "\n",
            "Video number:  53\n",
            "Video: 196.tif\n",
            "Number of images: 1 \n",
            "----------\n",
            "\n",
            "Video number:  54\n",
            "Video: 095.tif\n",
            "Number of images: 1 \n",
            "----------\n",
            "\n",
            "Video number:  55\n",
            "Video: 115.tif\n",
            "Number of images: 1 \n",
            "----------\n",
            "\n",
            "Video number:  56\n",
            "Video: 038.tif\n",
            "Number of images: 1 \n",
            "----------\n",
            "\n",
            "Video number:  57\n",
            "Video: 073.tif\n",
            "Number of images: 1 \n",
            "----------\n",
            "\n",
            "Video number:  58\n",
            "Video: 158.tif\n",
            "Number of images: 1 \n",
            "----------\n",
            "\n",
            "Video number:  59\n",
            "Video: 118.tif\n",
            "Number of images: 1 \n",
            "----------\n",
            "\n",
            "Video number:  60\n",
            "Video: 013.tif\n",
            "Number of images: 1 \n",
            "----------\n",
            "\n",
            "Video number:  61\n",
            "Video: 189.tif\n",
            "Number of images: 1 \n",
            "----------\n",
            "\n",
            "Video number:  62\n",
            "Video: 076.tif\n",
            "Number of images: 1 \n",
            "----------\n",
            "\n",
            "Video number:  63\n",
            "Video: 160.tif\n",
            "Number of images: 1 \n",
            "----------\n",
            "\n",
            "Video number:  64\n",
            "Video: 102.tif\n",
            "Number of images: 1 \n",
            "----------\n",
            "\n",
            "Video number:  65\n",
            "Video: 105.tif\n",
            "Number of images: 1 \n",
            "----------\n",
            "\n",
            "Video number:  66\n",
            "Video: 131.tif\n",
            "Number of images: 1 \n",
            "----------\n",
            "\n",
            "Video number:  67\n",
            "Video: 091.tif\n",
            "Number of images: 1 \n",
            "----------\n",
            "\n",
            "Video number:  68\n",
            "Video: 060.tif\n",
            "Number of images: 1 \n",
            "----------\n",
            "\n",
            "Video number:  69\n",
            "Video: 133.tif\n",
            "Number of images: 1 \n",
            "----------\n",
            "\n",
            "Video number:  70\n",
            "Video: 161.tif\n",
            "Number of images: 1 \n",
            "----------\n",
            "\n",
            "Video number:  71\n",
            "Video: 019.tif\n",
            "Number of images: 1 \n",
            "----------\n",
            "\n",
            "Video number:  72\n",
            "Video: 188.tif\n",
            "Number of images: 1 \n",
            "----------\n",
            "\n",
            "Video number:  73\n",
            "Video: 039.tif\n",
            "Number of images: 1 \n",
            "----------\n",
            "\n",
            "Video number:  74\n",
            "Video: 022.tif\n",
            "Number of images: 1 \n",
            "----------\n",
            "\n",
            "Video number:  75\n",
            "Video: 071.tif\n",
            "Number of images: 1 \n",
            "----------\n",
            "\n",
            "Video number:  76\n",
            "Video: 069.tif\n",
            "Number of images: 1 \n",
            "----------\n",
            "\n",
            "Video number:  77\n",
            "Video: 052.tif\n",
            "Number of images: 1 \n",
            "----------\n",
            "\n",
            "Video number:  78\n",
            "Video: 116.tif\n",
            "Number of images: 1 \n",
            "----------\n",
            "\n",
            "Video number:  79\n",
            "Video: 034.tif\n",
            "Number of images: 1 \n",
            "----------\n",
            "\n",
            "Video number:  80\n",
            "Video: 025.tif\n",
            "Number of images: 1 \n",
            "----------\n",
            "\n",
            "Video number:  81\n",
            "Video: 186.tif\n",
            "Number of images: 1 \n",
            "----------\n",
            "\n",
            "Video number:  82\n",
            "Video: 156.tif\n",
            "Number of images: 1 \n",
            "----------\n",
            "\n",
            "Video number:  83\n",
            "Video: 083.tif\n",
            "Number of images: 1 \n",
            "----------\n",
            "\n",
            "Video number:  84\n",
            "Video: 070.tif\n",
            "Number of images: 1 \n",
            "----------\n",
            "\n",
            "Video number:  85\n",
            "Video: 176.tif\n",
            "Number of images: 1 \n",
            "----------\n",
            "\n",
            "Video number:  86\n",
            "Video: 020.tif\n",
            "Number of images: 1 \n",
            "----------\n",
            "\n",
            "Video number:  87\n",
            "Video: 129.tif\n",
            "Number of images: 1 \n",
            "----------\n",
            "\n",
            "Video number:  88\n",
            "Video: 152.tif\n",
            "Number of images: 1 \n",
            "----------\n",
            "\n",
            "Video number:  89\n",
            "Video: 027.tif\n",
            "Number of images: 1 \n",
            "----------\n",
            "\n",
            "Video number:  90\n",
            "Video: 037.tif\n",
            "Number of images: 1 \n",
            "----------\n",
            "\n",
            "Video number:  91\n",
            "Video: 100.tif\n",
            "Number of images: 1 \n",
            "----------\n",
            "\n",
            "Video number:  92\n",
            "Video: 106.tif\n",
            "Number of images: 1 \n",
            "----------\n",
            "\n",
            "Video number:  93\n",
            "Video: 197.tif\n",
            "Number of images: 1 \n",
            "----------\n",
            "\n",
            "Video number:  94\n",
            "Video: 032.tif\n",
            "Number of images: 1 \n",
            "----------\n",
            "\n",
            "Video number:  95\n",
            "Video: 169.tif\n",
            "Number of images: 1 \n",
            "----------\n",
            "\n",
            "Video number:  96\n",
            "Video: 040.tif\n",
            "Number of images: 1 \n",
            "----------\n",
            "\n",
            "Video number:  97\n",
            "Video: 044.tif\n",
            "Number of images: 1 \n",
            "----------\n",
            "\n",
            "Video number:  98\n",
            "Video: 082.tif\n",
            "Number of images: 1 \n",
            "----------\n",
            "\n",
            "Video number:  99\n",
            "Video: 055.tif\n",
            "Number of images: 1 \n",
            "----------\n",
            "\n",
            "Video number:  100\n",
            "Video: 014.tif\n",
            "Number of images: 1 \n",
            "----------\n",
            "\n",
            "Video number:  101\n",
            "Video: 036.tif\n",
            "Number of images: 1 \n",
            "----------\n",
            "\n",
            "Video number:  102\n",
            "Video: 030.tif\n",
            "Number of images: 1 \n",
            "----------\n",
            "\n",
            "Video number:  103\n",
            "Video: 085.tif\n",
            "Number of images: 1 \n",
            "----------\n",
            "\n",
            "Video number:  104\n",
            "Video: 001.tif\n",
            "Number of images: 1 \n",
            "----------\n",
            "\n",
            "Video number:  105\n",
            "Video: 130.tif\n",
            "Number of images: 1 \n",
            "----------\n",
            "\n",
            "Video number:  106\n",
            "Video: 068.tif\n",
            "Number of images: 1 \n",
            "----------\n",
            "\n",
            "Video number:  107\n",
            "Video: 094.tif\n",
            "Number of images: 1 \n",
            "----------\n",
            "\n",
            "Video number:  108\n",
            "Video: 183.tif\n",
            "Number of images: 1 \n",
            "----------\n",
            "\n",
            "Video number:  109\n",
            "Video: 198.tif\n",
            "Number of images: 1 \n",
            "----------\n",
            "\n",
            "Video number:  110\n",
            "Video: 180.tif\n",
            "Number of images: 1 \n",
            "----------\n",
            "\n",
            "Video number:  111\n",
            "Video: 143.tif\n",
            "Number of images: 1 \n",
            "----------\n",
            "\n",
            "Video number:  112\n",
            "Video: 149.tif\n",
            "Number of images: 1 \n",
            "----------\n",
            "\n",
            "Video number:  113\n",
            "Video: 164.tif\n",
            "Number of images: 1 \n",
            "----------\n",
            "\n",
            "Video number:  114\n",
            "Video: 018.tif\n",
            "Number of images: 1 \n",
            "----------\n",
            "\n",
            "Video number:  115\n",
            "Video: 074.tif\n",
            "Number of images: 1 \n",
            "----------\n",
            "\n",
            "Video number:  116\n",
            "Video: 151.tif\n",
            "Number of images: 1 \n",
            "----------\n",
            "\n",
            "Video number:  117\n",
            "Video: 054.tif\n",
            "Number of images: 1 \n",
            "----------\n",
            "\n",
            "Video number:  118\n",
            "Video: 190.tif\n",
            "Number of images: 1 \n",
            "----------\n",
            "\n",
            "Video number:  119\n",
            "Video: 065.tif\n",
            "Number of images: 1 \n",
            "----------\n",
            "\n",
            "Video number:  120\n",
            "Video: 045.tif\n",
            "Number of images: 1 \n",
            "----------\n",
            "\n",
            "Video number:  121\n",
            "Video: 057.tif\n",
            "Number of images: 1 \n",
            "----------\n",
            "\n",
            "Video number:  122\n",
            "Video: 090.tif\n",
            "Number of images: 1 \n",
            "----------\n",
            "\n",
            "Video number:  123\n",
            "Video: 049.tif\n",
            "Number of images: 1 \n",
            "----------\n",
            "\n",
            "Video number:  124\n",
            "Video: 154.tif\n",
            "Number of images: 1 \n",
            "----------\n",
            "\n",
            "Video number:  125\n",
            "Video: 023.tif\n",
            "Number of images: 1 \n",
            "----------\n",
            "\n",
            "Video number:  126\n",
            "Video: 128.tif\n",
            "Number of images: 1 \n",
            "----------\n",
            "\n",
            "Video number:  127\n",
            "Video: 080.tif\n",
            "Number of images: 1 \n",
            "----------\n",
            "\n",
            "Video number:  128\n",
            "Video: 168.tif\n",
            "Number of images: 1 \n",
            "----------\n",
            "\n",
            "Video number:  129\n",
            "Video: 050.tif\n",
            "Number of images: 1 \n",
            "----------\n",
            "\n",
            "Video number:  130\n",
            "Video: 117.tif\n",
            "Number of images: 1 \n",
            "----------\n",
            "\n",
            "Video number:  131\n",
            "Video: 126.tif\n",
            "Number of images: 1 \n",
            "----------\n",
            "\n",
            "Video number:  132\n",
            "Video: 058.tif\n",
            "Number of images: 1 \n",
            "----------\n",
            "\n",
            "Video number:  133\n",
            "Video: 153.tif\n",
            "Number of images: 1 \n",
            "----------\n",
            "\n",
            "Video number:  134\n",
            "Video: 024.tif\n",
            "Number of images: 1 \n",
            "----------\n",
            "\n",
            "Video number:  135\n",
            "Video: 086.tif\n",
            "Number of images: 1 \n",
            "----------\n",
            "\n",
            "Video number:  136\n",
            "Video: 111.tif\n",
            "Number of images: 1 \n",
            "----------\n",
            "\n",
            "Video number:  137\n",
            "Video: 075.tif\n",
            "Number of images: 1 \n",
            "----------\n",
            "\n",
            "Video number:  138\n",
            "Video: 179.tif\n",
            "Number of images: 1 \n",
            "----------\n",
            "\n",
            "Video number:  139\n",
            "Video: 056.tif\n",
            "Number of images: 1 \n",
            "----------\n",
            "\n",
            "Video number:  140\n",
            "Video: 150.tif\n",
            "Number of images: 1 \n",
            "----------\n",
            "\n",
            "Video number:  141\n",
            "Video: 063.tif\n",
            "Number of images: 1 \n",
            "----------\n",
            "\n",
            "Video number:  142\n",
            "Video: 181.tif\n",
            "Number of images: 1 \n",
            "----------\n",
            "\n",
            "Video number:  143\n",
            "Video: 006.tif\n",
            "Number of images: 1 \n",
            "----------\n",
            "\n",
            "Video number:  144\n",
            "Video: 012.tif\n",
            "Number of images: 1 \n",
            "----------\n",
            "\n",
            "Video number:  145\n",
            "Video: 177.tif\n",
            "Number of images: 1 \n",
            "----------\n",
            "\n",
            "Video number:  146\n",
            "Video: 192.tif\n",
            "Number of images: 1 \n",
            "----------\n",
            "\n",
            "Video number:  147\n",
            "Video: 002.tif\n",
            "Number of images: 1 \n",
            "----------\n",
            "\n",
            "Video number:  148\n",
            "Video: 099.tif\n",
            "Number of images: 1 \n",
            "----------\n",
            "\n",
            "Video number:  149\n",
            "Video: 120.tif\n",
            "Number of images: 1 \n",
            "----------\n",
            "\n",
            "Video number:  150\n",
            "Video: 184.tif\n",
            "Number of images: 1 \n",
            "----------\n",
            "\n",
            "Video number:  151\n",
            "Video: 185.tif\n",
            "Number of images: 1 \n",
            "----------\n",
            "\n",
            "Video number:  152\n",
            "Video: 033.tif\n",
            "Number of images: 1 \n",
            "----------\n",
            "\n",
            "Video number:  153\n",
            "Video: 103.tif\n",
            "Number of images: 1 \n",
            "----------\n",
            "\n",
            "Video number:  154\n",
            "Video: 089.tif\n",
            "Number of images: 1 \n",
            "----------\n",
            "\n",
            "Video number:  155\n",
            "Video: 134.tif\n",
            "Number of images: 1 \n",
            "----------\n",
            "\n",
            "Video number:  156\n",
            "Video: 061.tif\n",
            "Number of images: 1 \n",
            "----------\n",
            "\n",
            "Video number:  157\n",
            "Video: 109.tif\n",
            "Number of images: 1 \n",
            "----------\n",
            "\n",
            "Video number:  158\n",
            "Video: 007.tif\n",
            "Number of images: 1 \n",
            "----------\n",
            "\n",
            "Video number:  159\n",
            "Video: 059.tif\n",
            "Number of images: 1 \n",
            "----------\n",
            "\n",
            "Video number:  160\n",
            "Video: 101.tif\n",
            "Number of images: 1 \n",
            "----------\n",
            "\n",
            "Video number:  161\n",
            "Video: 079.tif\n",
            "Number of images: 1 \n",
            "----------\n",
            "\n",
            "Video number:  162\n",
            "Video: 173.tif\n",
            "Number of images: 1 \n",
            "----------\n",
            "\n",
            "Video number:  163\n",
            "Video: 121.tif\n",
            "Number of images: 1 \n",
            "----------\n",
            "\n",
            "Video number:  164\n",
            "Video: 026.tif\n",
            "Number of images: 1 \n",
            "----------\n",
            "\n",
            "Video number:  165\n",
            "Video: 142.tif\n",
            "Number of images: 1 \n",
            "----------\n",
            "\n",
            "Video number:  166\n",
            "Video: 122.tif\n",
            "Number of images: 1 \n",
            "----------\n",
            "\n",
            "Video number:  167\n",
            "Video: 187.tif\n",
            "Number of images: 1 \n",
            "----------\n",
            "\n",
            "Video number:  168\n",
            "Video: 182.tif\n",
            "Number of images: 1 \n",
            "----------\n",
            "\n",
            "Video number:  169\n",
            "Video: 138.tif\n",
            "Number of images: 1 \n",
            "----------\n",
            "\n",
            "Video number:  170\n",
            "Video: 015.tif\n",
            "Number of images: 1 \n",
            "----------\n",
            "\n",
            "Video number:  171\n",
            "Video: 016.tif\n",
            "Number of images: 1 \n",
            "----------\n",
            "\n",
            "Video number:  172\n",
            "Video: 096.tif\n",
            "Number of images: 1 \n",
            "----------\n",
            "\n",
            "Video number:  173\n",
            "Video: 078.tif\n",
            "Number of images: 1 \n",
            "----------\n",
            "\n",
            "Video number:  174\n",
            "Video: 093.tif\n",
            "Number of images: 1 \n",
            "----------\n",
            "\n",
            "Video number:  175\n",
            "Video: 112.tif\n",
            "Number of images: 1 \n",
            "----------\n",
            "\n",
            "Video number:  176\n",
            "Video: 165.tif\n",
            "Number of images: 1 \n",
            "----------\n",
            "\n",
            "Video number:  177\n",
            "Video: 053.tif\n",
            "Number of images: 1 \n",
            "----------\n",
            "\n",
            "Video number:  178\n",
            "Video: 200.tif\n",
            "Number of images: 1 \n",
            "----------\n",
            "\n",
            "Video number:  179\n",
            "Video: 123.tif\n",
            "Number of images: 1 \n",
            "----------\n",
            "\n",
            "Video number:  180\n",
            "Video: 047.tif\n",
            "Number of images: 1 \n",
            "----------\n",
            "\n",
            "Video number:  181\n",
            "Video: 048.tif\n",
            "Number of images: 1 \n",
            "----------\n",
            "\n",
            "Video number:  182\n",
            "Video: 195.tif\n",
            "Number of images: 1 \n",
            "----------\n",
            "\n",
            "Video number:  183\n",
            "Video: 028.tif\n",
            "Number of images: 1 \n",
            "----------\n",
            "\n",
            "Video number:  184\n",
            "Video: 009.tif\n",
            "Number of images: 1 \n",
            "----------\n",
            "\n",
            "Video number:  185\n",
            "Video: 148.tif\n",
            "Number of images: 1 \n",
            "----------\n",
            "\n",
            "Video number:  186\n",
            "Video: 147.tif\n",
            "Number of images: 1 \n",
            "----------\n",
            "\n",
            "Video number:  187\n",
            "Video: 145.tif\n",
            "Number of images: 1 \n",
            "----------\n",
            "\n",
            "Video number:  188\n",
            "Video: 005.tif\n",
            "Number of images: 1 \n",
            "----------\n",
            "\n",
            "Video number:  189\n",
            "Video: 042.tif\n",
            "Number of images: 1 \n",
            "----------\n",
            "\n",
            "Video number:  190\n",
            "Video: 155.tif\n",
            "Number of images: 1 \n",
            "----------\n",
            "\n",
            "Video number:  191\n",
            "Video: 104.tif\n",
            "Number of images: 1 \n",
            "----------\n",
            "\n",
            "Video number:  192\n",
            "Video: 088.tif\n",
            "Number of images: 1 \n",
            "----------\n",
            "\n",
            "Video number:  193\n",
            "Video: 194.tif\n",
            "Number of images: 1 \n",
            "----------\n",
            "\n",
            "Video number:  194\n",
            "Video: 132.tif\n",
            "Number of images: 1 \n",
            "----------\n",
            "\n",
            "Video number:  195\n",
            "Video: 097.tif\n",
            "Number of images: 1 \n",
            "----------\n",
            "\n",
            "Video number:  196\n",
            "Video: 072.tif\n",
            "Number of images: 1 \n",
            "----------\n",
            "\n",
            "Video number:  197\n",
            "Video: 064.tif\n",
            "Number of images: 1 \n",
            "----------\n",
            "\n",
            "Video number:  198\n",
            "Video: 084.tif\n",
            "Number of images: 1 \n",
            "----------\n",
            "\n",
            "Video number:  199\n",
            "Video: 174.tif\n",
            "Number of images: 1 \n",
            "----------\n",
            "\n",
            "Video number:  200\n",
            "Video: 017.tif\n",
            "Number of images: 1 \n",
            "----------\n",
            "\n",
            "Program ended. All testing videos shall be stored in tester.npy \n",
            " Please wait while tester.npy is created. \n",
            "Refresh when needed\n",
            "Number of frames created : 200\n",
            "Number of bunches= 200 /10 =  20\n",
            "\n",
            "Corrupted and unreadable bunches were ignored\n",
            "Found  200  testing videos\n",
            "Video number:  1\n",
            "Video: 139.tif\n",
            "Number of images: 1 \n",
            "----------\n",
            "\n",
            "Video number:  2\n",
            "Video: 051.tif\n",
            "Number of images: 1 \n",
            "----------\n",
            "\n",
            "Video number:  3\n",
            "Video: 166.tif\n",
            "Number of images: 1 \n",
            "----------\n",
            "\n",
            "Video number:  4\n",
            "Video: 136.tif\n",
            "Number of images: 1 \n",
            "----------\n",
            "\n",
            "Video number:  5\n",
            "Video: 178.tif\n",
            "Number of images: 1 \n",
            "----------\n",
            "\n",
            "Video number:  6\n",
            "Video: 043.tif\n",
            "Number of images: 1 \n",
            "----------\n",
            "\n",
            "Video number:  7\n",
            "Video: 167.tif\n",
            "Number of images: 1 \n",
            "----------\n",
            "\n",
            "Video number:  8\n",
            "Video: 004.tif\n",
            "Number of images: 1 \n",
            "----------\n",
            "\n",
            "Video number:  9\n",
            "Video: 171.tif\n",
            "Number of images: 1 \n",
            "----------\n",
            "\n",
            "Video number:  10\n",
            "Video: 157.tif\n",
            "Number of images: 1 \n",
            "----------\n",
            "\n",
            "Video number:  11\n",
            "Video: 119.tif\n",
            "Number of images: 1 \n",
            "----------\n",
            "\n",
            "Video number:  12\n",
            "Video: 141.tif\n",
            "Number of images: 1 \n",
            "----------\n",
            "\n",
            "Video number:  13\n",
            "Video: 113.tif\n",
            "Number of images: 1 \n",
            "----------\n",
            "\n",
            "Video number:  14\n",
            "Video: 162.tif\n",
            "Number of images: 1 \n",
            "----------\n",
            "\n",
            "Video number:  15\n",
            "Video: 175.tif\n",
            "Number of images: 1 \n",
            "----------\n",
            "\n",
            "Video number:  16\n",
            "Video: 135.tif\n",
            "Number of images: 1 \n",
            "----------\n",
            "\n",
            "Video number:  17\n",
            "Video: 003.tif\n",
            "Number of images: 1 \n",
            "----------\n",
            "\n",
            "Video number:  18\n",
            "Video: 193.tif\n",
            "Number of images: 1 \n",
            "----------\n",
            "\n",
            "Video number:  19\n",
            "Video: 146.tif\n",
            "Number of images: 1 \n",
            "----------\n",
            "\n",
            "Video number:  20\n",
            "Video: 010.tif\n",
            "Number of images: 1 \n",
            "----------\n",
            "\n",
            "Video number:  21\n",
            "Video: 077.tif\n",
            "Number of images: 1 \n",
            "----------\n",
            "\n",
            "Video number:  22\n",
            "Video: 127.tif\n",
            "Number of images: 1 \n",
            "----------\n",
            "\n",
            "Video number:  23\n",
            "Video: 144.tif\n",
            "Number of images: 1 \n",
            "----------\n",
            "\n",
            "Video number:  24\n",
            "Video: 092.tif\n",
            "Number of images: 1 \n",
            "----------\n",
            "\n",
            "Video number:  25\n",
            "Video: 107.tif\n",
            "Number of images: 1 \n",
            "----------\n",
            "\n",
            "Video number:  26\n",
            "Video: 124.tif\n",
            "Number of images: 1 \n",
            "----------\n",
            "\n",
            "Video number:  27\n",
            "Video: 159.tif\n",
            "Number of images: 1 \n",
            "----------\n",
            "\n",
            "Video number:  28\n",
            "Video: 170.tif\n",
            "Number of images: 1 \n",
            "----------\n",
            "\n",
            "Video number:  29\n",
            "Video: 035.tif\n",
            "Number of images: 1 \n",
            "----------\n",
            "\n",
            "Video number:  30\n",
            "Video: 046.tif\n",
            "Number of images: 1 \n",
            "----------\n",
            "\n",
            "Video number:  31\n",
            "Video: 066.tif\n",
            "Number of images: 1 \n",
            "----------\n",
            "\n",
            "Video number:  32\n",
            "Video: 087.tif\n",
            "Number of images: 1 \n",
            "----------\n",
            "\n",
            "Video number:  33\n",
            "Video: 191.tif\n",
            "Number of images: 1 \n",
            "----------\n",
            "\n",
            "Video number:  34\n",
            "Video: 172.tif\n",
            "Number of images: 1 \n",
            "----------\n",
            "\n",
            "Video number:  35\n",
            "Video: 137.tif\n",
            "Number of images: 1 \n",
            "----------\n",
            "\n",
            "Video number:  36\n",
            "Video: 062.tif\n",
            "Number of images: 1 \n",
            "----------\n",
            "\n",
            "Video number:  37\n",
            "Video: 110.tif\n",
            "Number of images: 1 \n",
            "----------\n",
            "\n",
            "Video number:  38\n",
            "Video: 163.tif\n",
            "Number of images: 1 \n",
            "----------\n",
            "\n",
            "Video number:  39\n",
            "Video: 021.tif\n",
            "Number of images: 1 \n",
            "----------\n",
            "\n",
            "Video number:  40\n",
            "Video: 008.tif\n",
            "Number of images: 1 \n",
            "----------\n",
            "\n",
            "Video number:  41\n",
            "Video: 098.tif\n",
            "Number of images: 1 \n",
            "----------\n",
            "\n",
            "Video number:  42\n",
            "Video: 011.tif\n",
            "Number of images: 1 \n",
            "----------\n",
            "\n",
            "Video number:  43\n",
            "Video: 108.tif\n",
            "Number of images: 1 \n",
            "----------\n",
            "\n",
            "Video number:  44\n",
            "Video: 081.tif\n",
            "Number of images: 1 \n",
            "----------\n",
            "\n",
            "Video number:  45\n",
            "Video: 125.tif\n",
            "Number of images: 1 \n",
            "----------\n",
            "\n",
            "Video number:  46\n",
            "Video: 067.tif\n",
            "Number of images: 1 \n",
            "----------\n",
            "\n",
            "Video number:  47\n",
            "Video: 029.tif\n",
            "Number of images: 1 \n",
            "----------\n",
            "\n",
            "Video number:  48\n",
            "Video: 031.tif\n",
            "Number of images: 1 \n",
            "----------\n",
            "\n",
            "Video number:  49\n",
            "Video: 199.tif\n",
            "Number of images: 1 \n",
            "----------\n",
            "\n",
            "Video number:  50\n",
            "Video: 140.tif\n",
            "Number of images: 1 \n",
            "----------\n",
            "\n",
            "Video number:  51\n",
            "Video: 114.tif\n",
            "Number of images: 1 \n",
            "----------\n",
            "\n",
            "Video number:  52\n",
            "Video: 041.tif\n",
            "Number of images: 1 \n",
            "----------\n",
            "\n",
            "Video number:  53\n",
            "Video: 196.tif\n",
            "Number of images: 1 \n",
            "----------\n",
            "\n",
            "Video number:  54\n",
            "Video: 095.tif\n",
            "Number of images: 1 \n",
            "----------\n",
            "\n",
            "Video number:  55\n",
            "Video: 115.tif\n",
            "Number of images: 1 \n",
            "----------\n",
            "\n",
            "Video number:  56\n",
            "Video: 038.tif\n",
            "Number of images: 1 \n",
            "----------\n",
            "\n",
            "Video number:  57\n",
            "Video: 073.tif\n",
            "Number of images: 1 \n",
            "----------\n",
            "\n",
            "Video number:  58\n",
            "Video: 158.tif\n",
            "Number of images: 1 \n",
            "----------\n",
            "\n",
            "Video number:  59\n",
            "Video: 118.tif\n",
            "Number of images: 1 \n",
            "----------\n",
            "\n",
            "Video number:  60\n",
            "Video: 013.tif\n",
            "Number of images: 1 \n",
            "----------\n",
            "\n",
            "Video number:  61\n",
            "Video: 189.tif\n",
            "Number of images: 1 \n",
            "----------\n",
            "\n",
            "Video number:  62\n",
            "Video: 076.tif\n",
            "Number of images: 1 \n",
            "----------\n",
            "\n",
            "Video number:  63\n",
            "Video: 160.tif\n",
            "Number of images: 1 \n",
            "----------\n",
            "\n",
            "Video number:  64\n",
            "Video: 102.tif\n",
            "Number of images: 1 \n",
            "----------\n",
            "\n",
            "Video number:  65\n",
            "Video: 105.tif\n",
            "Number of images: 1 \n",
            "----------\n",
            "\n",
            "Video number:  66\n",
            "Video: 131.tif\n",
            "Number of images: 1 \n",
            "----------\n",
            "\n",
            "Video number:  67\n",
            "Video: 091.tif\n",
            "Number of images: 1 \n",
            "----------\n",
            "\n",
            "Video number:  68\n",
            "Video: 060.tif\n",
            "Number of images: 1 \n",
            "----------\n",
            "\n",
            "Video number:  69\n",
            "Video: 133.tif\n",
            "Number of images: 1 \n",
            "----------\n",
            "\n",
            "Video number:  70\n",
            "Video: 161.tif\n",
            "Number of images: 1 \n",
            "----------\n",
            "\n",
            "Video number:  71\n",
            "Video: 019.tif\n",
            "Number of images: 1 \n",
            "----------\n",
            "\n",
            "Video number:  72\n",
            "Video: 188.tif\n",
            "Number of images: 1 \n",
            "----------\n",
            "\n",
            "Video number:  73\n",
            "Video: 039.tif\n",
            "Number of images: 1 \n",
            "----------\n",
            "\n",
            "Video number:  74\n",
            "Video: 022.tif\n",
            "Number of images: 1 \n",
            "----------\n",
            "\n",
            "Video number:  75\n",
            "Video: 071.tif\n",
            "Number of images: 1 \n",
            "----------\n",
            "\n",
            "Video number:  76\n",
            "Video: 069.tif\n",
            "Number of images: 1 \n",
            "----------\n",
            "\n",
            "Video number:  77\n",
            "Video: 052.tif\n",
            "Number of images: 1 \n",
            "----------\n",
            "\n",
            "Video number:  78\n",
            "Video: 116.tif\n",
            "Number of images: 1 \n",
            "----------\n",
            "\n",
            "Video number:  79\n",
            "Video: 034.tif\n",
            "Number of images: 1 \n",
            "----------\n",
            "\n",
            "Video number:  80\n",
            "Video: 025.tif\n",
            "Number of images: 1 \n",
            "----------\n",
            "\n",
            "Video number:  81\n",
            "Video: 186.tif\n",
            "Number of images: 1 \n",
            "----------\n",
            "\n",
            "Video number:  82\n",
            "Video: 156.tif\n",
            "Number of images: 1 \n",
            "----------\n",
            "\n",
            "Video number:  83\n",
            "Video: 083.tif\n",
            "Number of images: 1 \n",
            "----------\n",
            "\n",
            "Video number:  84\n",
            "Video: 070.tif\n",
            "Number of images: 1 \n",
            "----------\n",
            "\n",
            "Video number:  85\n",
            "Video: 176.tif\n",
            "Number of images: 1 \n",
            "----------\n",
            "\n",
            "Video number:  86\n",
            "Video: 020.tif\n",
            "Number of images: 1 \n",
            "----------\n",
            "\n",
            "Video number:  87\n",
            "Video: 129.tif\n",
            "Number of images: 1 \n",
            "----------\n",
            "\n",
            "Video number:  88\n",
            "Video: 152.tif\n",
            "Number of images: 1 \n",
            "----------\n",
            "\n",
            "Video number:  89\n",
            "Video: 027.tif\n",
            "Number of images: 1 \n",
            "----------\n",
            "\n",
            "Video number:  90\n",
            "Video: 037.tif\n",
            "Number of images: 1 \n",
            "----------\n",
            "\n",
            "Video number:  91\n",
            "Video: 100.tif\n",
            "Number of images: 1 \n",
            "----------\n",
            "\n",
            "Video number:  92\n",
            "Video: 106.tif\n",
            "Number of images: 1 \n",
            "----------\n",
            "\n",
            "Video number:  93\n",
            "Video: 197.tif\n",
            "Number of images: 1 \n",
            "----------\n",
            "\n",
            "Video number:  94\n",
            "Video: 032.tif\n",
            "Number of images: 1 \n",
            "----------\n",
            "\n",
            "Video number:  95\n",
            "Video: 169.tif\n",
            "Number of images: 1 \n",
            "----------\n",
            "\n",
            "Video number:  96\n",
            "Video: 040.tif\n",
            "Number of images: 1 \n",
            "----------\n",
            "\n",
            "Video number:  97\n",
            "Video: 044.tif\n",
            "Number of images: 1 \n",
            "----------\n",
            "\n",
            "Video number:  98\n",
            "Video: 082.tif\n",
            "Number of images: 1 \n",
            "----------\n",
            "\n",
            "Video number:  99\n",
            "Video: 055.tif\n",
            "Number of images: 1 \n",
            "----------\n",
            "\n",
            "Video number:  100\n",
            "Video: 014.tif\n",
            "Number of images: 1 \n",
            "----------\n",
            "\n",
            "Video number:  101\n",
            "Video: 036.tif\n",
            "Number of images: 1 \n",
            "----------\n",
            "\n",
            "Video number:  102\n",
            "Video: 030.tif\n",
            "Number of images: 1 \n",
            "----------\n",
            "\n",
            "Video number:  103\n",
            "Video: 085.tif\n",
            "Number of images: 1 \n",
            "----------\n",
            "\n",
            "Video number:  104\n",
            "Video: 001.tif\n",
            "Number of images: 1 \n",
            "----------\n",
            "\n",
            "Video number:  105\n",
            "Video: 130.tif\n",
            "Number of images: 1 \n",
            "----------\n",
            "\n",
            "Video number:  106\n",
            "Video: 068.tif\n",
            "Number of images: 1 \n",
            "----------\n",
            "\n",
            "Video number:  107\n",
            "Video: 094.tif\n",
            "Number of images: 1 \n",
            "----------\n",
            "\n",
            "Video number:  108\n",
            "Video: 183.tif\n",
            "Number of images: 1 \n",
            "----------\n",
            "\n",
            "Video number:  109\n",
            "Video: 198.tif\n",
            "Number of images: 1 \n",
            "----------\n",
            "\n",
            "Video number:  110\n",
            "Video: 180.tif\n",
            "Number of images: 1 \n",
            "----------\n",
            "\n",
            "Video number:  111\n",
            "Video: 143.tif\n",
            "Number of images: 1 \n",
            "----------\n",
            "\n",
            "Video number:  112\n",
            "Video: 149.tif\n",
            "Number of images: 1 \n",
            "----------\n",
            "\n",
            "Video number:  113\n",
            "Video: 164.tif\n",
            "Number of images: 1 \n",
            "----------\n",
            "\n",
            "Video number:  114\n",
            "Video: 018.tif\n",
            "Number of images: 1 \n",
            "----------\n",
            "\n",
            "Video number:  115\n",
            "Video: 074.tif\n",
            "Number of images: 1 \n",
            "----------\n",
            "\n",
            "Video number:  116\n",
            "Video: 151.tif\n",
            "Number of images: 1 \n",
            "----------\n",
            "\n",
            "Video number:  117\n",
            "Video: 054.tif\n",
            "Number of images: 1 \n",
            "----------\n",
            "\n",
            "Video number:  118\n",
            "Video: 190.tif\n",
            "Number of images: 1 \n",
            "----------\n",
            "\n",
            "Video number:  119\n",
            "Video: 065.tif\n",
            "Number of images: 1 \n",
            "----------\n",
            "\n",
            "Video number:  120\n",
            "Video: 045.tif\n",
            "Number of images: 1 \n",
            "----------\n",
            "\n",
            "Video number:  121\n",
            "Video: 057.tif\n",
            "Number of images: 1 \n",
            "----------\n",
            "\n",
            "Video number:  122\n",
            "Video: 090.tif\n",
            "Number of images: 1 \n",
            "----------\n",
            "\n",
            "Video number:  123\n",
            "Video: 049.tif\n",
            "Number of images: 1 \n",
            "----------\n",
            "\n",
            "Video number:  124\n",
            "Video: 154.tif\n",
            "Number of images: 1 \n",
            "----------\n",
            "\n",
            "Video number:  125\n",
            "Video: 023.tif\n",
            "Number of images: 1 \n",
            "----------\n",
            "\n",
            "Video number:  126\n",
            "Video: 128.tif\n",
            "Number of images: 1 \n",
            "----------\n",
            "\n",
            "Video number:  127\n",
            "Video: 080.tif\n",
            "Number of images: 1 \n",
            "----------\n",
            "\n",
            "Video number:  128\n",
            "Video: 168.tif\n",
            "Number of images: 1 \n",
            "----------\n",
            "\n",
            "Video number:  129\n",
            "Video: 050.tif\n",
            "Number of images: 1 \n",
            "----------\n",
            "\n",
            "Video number:  130\n",
            "Video: 117.tif\n",
            "Number of images: 1 \n",
            "----------\n",
            "\n",
            "Video number:  131\n",
            "Video: 126.tif\n",
            "Number of images: 1 \n",
            "----------\n",
            "\n",
            "Video number:  132\n",
            "Video: 058.tif\n",
            "Number of images: 1 \n",
            "----------\n",
            "\n",
            "Video number:  133\n",
            "Video: 153.tif\n",
            "Number of images: 1 \n",
            "----------\n",
            "\n",
            "Video number:  134\n",
            "Video: 024.tif\n",
            "Number of images: 1 \n",
            "----------\n",
            "\n",
            "Video number:  135\n",
            "Video: 086.tif\n",
            "Number of images: 1 \n",
            "----------\n",
            "\n",
            "Video number:  136\n",
            "Video: 111.tif\n",
            "Number of images: 1 \n",
            "----------\n",
            "\n",
            "Video number:  137\n",
            "Video: 075.tif\n",
            "Number of images: 1 \n",
            "----------\n",
            "\n",
            "Video number:  138\n",
            "Video: 179.tif\n",
            "Number of images: 1 \n",
            "----------\n",
            "\n",
            "Video number:  139\n",
            "Video: 056.tif\n",
            "Number of images: 1 \n",
            "----------\n",
            "\n",
            "Video number:  140\n",
            "Video: 150.tif\n",
            "Number of images: 1 \n",
            "----------\n",
            "\n",
            "Video number:  141\n",
            "Video: 063.tif\n",
            "Number of images: 1 \n",
            "----------\n",
            "\n",
            "Video number:  142\n",
            "Video: 181.tif\n",
            "Number of images: 1 \n",
            "----------\n",
            "\n",
            "Video number:  143\n",
            "Video: 006.tif\n",
            "Number of images: 1 \n",
            "----------\n",
            "\n",
            "Video number:  144\n",
            "Video: 012.tif\n",
            "Number of images: 1 \n",
            "----------\n",
            "\n",
            "Video number:  145\n",
            "Video: 177.tif\n",
            "Number of images: 1 \n",
            "----------\n",
            "\n",
            "Video number:  146\n",
            "Video: 192.tif\n",
            "Number of images: 1 \n",
            "----------\n",
            "\n",
            "Video number:  147\n",
            "Video: 002.tif\n",
            "Number of images: 1 \n",
            "----------\n",
            "\n",
            "Video number:  148\n",
            "Video: 099.tif\n",
            "Number of images: 1 \n",
            "----------\n",
            "\n",
            "Video number:  149\n",
            "Video: 120.tif\n",
            "Number of images: 1 \n",
            "----------\n",
            "\n",
            "Video number:  150\n",
            "Video: 184.tif\n",
            "Number of images: 1 \n",
            "----------\n",
            "\n",
            "Video number:  151\n",
            "Video: 185.tif\n",
            "Number of images: 1 \n",
            "----------\n",
            "\n",
            "Video number:  152\n",
            "Video: 033.tif\n",
            "Number of images: 1 \n",
            "----------\n",
            "\n",
            "Video number:  153\n",
            "Video: 103.tif\n",
            "Number of images: 1 \n",
            "----------\n",
            "\n",
            "Video number:  154\n",
            "Video: 089.tif\n",
            "Number of images: 1 \n",
            "----------\n",
            "\n",
            "Video number:  155\n",
            "Video: 134.tif\n",
            "Number of images: 1 \n",
            "----------\n",
            "\n",
            "Video number:  156\n",
            "Video: 061.tif\n",
            "Number of images: 1 \n",
            "----------\n",
            "\n",
            "Video number:  157\n",
            "Video: 109.tif\n",
            "Number of images: 1 \n",
            "----------\n",
            "\n",
            "Video number:  158\n",
            "Video: 007.tif\n",
            "Number of images: 1 \n",
            "----------\n",
            "\n",
            "Video number:  159\n",
            "Video: 059.tif\n",
            "Number of images: 1 \n",
            "----------\n",
            "\n",
            "Video number:  160\n",
            "Video: 101.tif\n",
            "Number of images: 1 \n",
            "----------\n",
            "\n",
            "Video number:  161\n",
            "Video: 079.tif\n",
            "Number of images: 1 \n",
            "----------\n",
            "\n",
            "Video number:  162\n",
            "Video: 173.tif\n",
            "Number of images: 1 \n",
            "----------\n",
            "\n",
            "Video number:  163\n",
            "Video: 121.tif\n",
            "Number of images: 1 \n",
            "----------\n",
            "\n",
            "Video number:  164\n",
            "Video: 026.tif\n",
            "Number of images: 1 \n",
            "----------\n",
            "\n",
            "Video number:  165\n",
            "Video: 142.tif\n",
            "Number of images: 1 \n",
            "----------\n",
            "\n",
            "Video number:  166\n",
            "Video: 122.tif\n",
            "Number of images: 1 \n",
            "----------\n",
            "\n",
            "Video number:  167\n",
            "Video: 187.tif\n",
            "Number of images: 1 \n",
            "----------\n",
            "\n",
            "Video number:  168\n",
            "Video: 182.tif\n",
            "Number of images: 1 \n",
            "----------\n",
            "\n",
            "Video number:  169\n",
            "Video: 138.tif\n",
            "Number of images: 1 \n",
            "----------\n",
            "\n",
            "Video number:  170\n",
            "Video: 015.tif\n",
            "Number of images: 1 \n",
            "----------\n",
            "\n",
            "Video number:  171\n",
            "Video: 016.tif\n",
            "Number of images: 1 \n",
            "----------\n",
            "\n",
            "Video number:  172\n",
            "Video: 096.tif\n",
            "Number of images: 1 \n",
            "----------\n",
            "\n",
            "Video number:  173\n",
            "Video: 078.tif\n",
            "Number of images: 1 \n",
            "----------\n",
            "\n",
            "Video number:  174\n",
            "Video: 093.tif\n",
            "Number of images: 1 \n",
            "----------\n",
            "\n",
            "Video number:  175\n",
            "Video: 112.tif\n",
            "Number of images: 1 \n",
            "----------\n",
            "\n",
            "Video number:  176\n",
            "Video: 165.tif\n",
            "Number of images: 1 \n",
            "----------\n",
            "\n",
            "Video number:  177\n",
            "Video: 053.tif\n",
            "Number of images: 1 \n",
            "----------\n",
            "\n",
            "Video number:  178\n",
            "Video: 200.tif\n",
            "Number of images: 1 \n",
            "----------\n",
            "\n",
            "Video number:  179\n",
            "Video: 123.tif\n",
            "Number of images: 1 \n",
            "----------\n",
            "\n",
            "Video number:  180\n",
            "Video: 047.tif\n",
            "Number of images: 1 \n",
            "----------\n",
            "\n",
            "Video number:  181\n",
            "Video: 048.tif\n",
            "Number of images: 1 \n",
            "----------\n",
            "\n",
            "Video number:  182\n",
            "Video: 195.tif\n",
            "Number of images: 1 \n",
            "----------\n",
            "\n",
            "Video number:  183\n",
            "Video: 028.tif\n",
            "Number of images: 1 \n",
            "----------\n",
            "\n",
            "Video number:  184\n",
            "Video: 009.tif\n",
            "Number of images: 1 \n",
            "----------\n",
            "\n",
            "Video number:  185\n",
            "Video: 148.tif\n",
            "Number of images: 1 \n",
            "----------\n",
            "\n",
            "Video number:  186\n",
            "Video: 147.tif\n",
            "Number of images: 1 \n",
            "----------\n",
            "\n",
            "Video number:  187\n",
            "Video: 145.tif\n",
            "Number of images: 1 \n",
            "----------\n",
            "\n",
            "Video number:  188\n",
            "Video: 005.tif\n",
            "Number of images: 1 \n",
            "----------\n",
            "\n",
            "Video number:  189\n",
            "Video: 042.tif\n",
            "Number of images: 1 \n",
            "----------\n",
            "\n",
            "Video number:  190\n",
            "Video: 155.tif\n",
            "Number of images: 1 \n",
            "----------\n",
            "\n",
            "Video number:  191\n",
            "Video: 104.tif\n",
            "Number of images: 1 \n",
            "----------\n",
            "\n",
            "Video number:  192\n",
            "Video: 088.tif\n",
            "Number of images: 1 \n",
            "----------\n",
            "\n",
            "Video number:  193\n",
            "Video: 194.tif\n",
            "Number of images: 1 \n",
            "----------\n",
            "\n",
            "Video number:  194\n",
            "Video: 132.tif\n",
            "Number of images: 1 \n",
            "----------\n",
            "\n",
            "Video number:  195\n",
            "Video: 097.tif\n",
            "Number of images: 1 \n",
            "----------\n",
            "\n",
            "Video number:  196\n",
            "Video: 072.tif\n",
            "Number of images: 1 \n",
            "----------\n",
            "\n",
            "Video number:  197\n",
            "Video: 064.tif\n",
            "Number of images: 1 \n",
            "----------\n",
            "\n",
            "Video number:  198\n",
            "Video: 084.tif\n",
            "Number of images: 1 \n",
            "----------\n",
            "\n",
            "Video number:  199\n",
            "Video: 174.tif\n",
            "Number of images: 1 \n",
            "----------\n",
            "\n",
            "Video number:  200\n",
            "Video: 017.tif\n",
            "Number of images: 1 \n",
            "----------\n",
            "\n",
            "Program ended. All testing videos shall be stored in tester.npy \n",
            " Please wait while tester.npy is created. \n",
            "Refresh when needed\n",
            "Number of frames created : 200\n",
            "Number of bunches= 200 /10 =  20\n",
            "\n",
            "Corrupted and unreadable bunches were ignored\n",
            "Found  200  testing videos\n",
            "Video number:  1\n",
            "Video: 139.tif\n",
            "Number of images: 1 \n",
            "----------\n",
            "\n",
            "Video number:  2\n",
            "Video: 051.tif\n",
            "Number of images: 1 \n",
            "----------\n",
            "\n",
            "Video number:  3\n",
            "Video: 166.tif\n",
            "Number of images: 1 \n",
            "----------\n",
            "\n",
            "Video number:  4\n",
            "Video: 136.tif\n",
            "Number of images: 1 \n",
            "----------\n",
            "\n",
            "Video number:  5\n",
            "Video: 178.tif\n",
            "Number of images: 1 \n",
            "----------\n",
            "\n",
            "Video number:  6\n",
            "Video: 043.tif\n",
            "Number of images: 1 \n",
            "----------\n",
            "\n",
            "Video number:  7\n",
            "Video: 167.tif\n",
            "Number of images: 1 \n",
            "----------\n",
            "\n",
            "Video number:  8\n",
            "Video: 004.tif\n",
            "Number of images: 1 \n",
            "----------\n",
            "\n",
            "Video number:  9\n",
            "Video: 171.tif\n",
            "Number of images: 1 \n",
            "----------\n",
            "\n",
            "Video number:  10\n",
            "Video: 157.tif\n",
            "Number of images: 1 \n",
            "----------\n",
            "\n",
            "Video number:  11\n",
            "Video: 119.tif\n",
            "Number of images: 1 \n",
            "----------\n",
            "\n",
            "Video number:  12\n",
            "Video: 141.tif\n",
            "Number of images: 1 \n",
            "----------\n",
            "\n",
            "Video number:  13\n",
            "Video: 113.tif\n",
            "Number of images: 1 \n",
            "----------\n",
            "\n",
            "Video number:  14\n",
            "Video: 162.tif\n",
            "Number of images: 1 \n",
            "----------\n",
            "\n",
            "Video number:  15\n",
            "Video: 175.tif\n",
            "Number of images: 1 \n",
            "----------\n",
            "\n",
            "Video number:  16\n",
            "Video: 135.tif\n",
            "Number of images: 1 \n",
            "----------\n",
            "\n",
            "Video number:  17\n",
            "Video: 003.tif\n",
            "Number of images: 1 \n",
            "----------\n",
            "\n",
            "Video number:  18\n",
            "Video: 193.tif\n",
            "Number of images: 1 \n",
            "----------\n",
            "\n",
            "Video number:  19\n",
            "Video: 146.tif\n",
            "Number of images: 1 \n",
            "----------\n",
            "\n",
            "Video number:  20\n",
            "Video: 010.tif\n",
            "Number of images: 1 \n",
            "----------\n",
            "\n",
            "Video number:  21\n",
            "Video: 077.tif\n",
            "Number of images: 1 \n",
            "----------\n",
            "\n",
            "Video number:  22\n",
            "Video: 127.tif\n",
            "Number of images: 1 \n",
            "----------\n",
            "\n",
            "Video number:  23\n",
            "Video: 144.tif\n",
            "Number of images: 1 \n",
            "----------\n",
            "\n",
            "Video number:  24\n",
            "Video: 092.tif\n",
            "Number of images: 1 \n",
            "----------\n",
            "\n",
            "Video number:  25\n",
            "Video: 107.tif\n",
            "Number of images: 1 \n",
            "----------\n",
            "\n",
            "Video number:  26\n",
            "Video: 124.tif\n",
            "Number of images: 1 \n",
            "----------\n",
            "\n",
            "Video number:  27\n",
            "Video: 159.tif\n",
            "Number of images: 1 \n",
            "----------\n",
            "\n",
            "Video number:  28\n",
            "Video: 170.tif\n",
            "Number of images: 1 \n",
            "----------\n",
            "\n",
            "Video number:  29\n",
            "Video: 035.tif\n",
            "Number of images: 1 \n",
            "----------\n",
            "\n",
            "Video number:  30\n",
            "Video: 046.tif\n",
            "Number of images: 1 \n",
            "----------\n",
            "\n",
            "Video number:  31\n",
            "Video: 066.tif\n",
            "Number of images: 1 \n",
            "----------\n",
            "\n",
            "Video number:  32\n",
            "Video: 087.tif\n",
            "Number of images: 1 \n",
            "----------\n",
            "\n",
            "Video number:  33\n",
            "Video: 191.tif\n",
            "Number of images: 1 \n",
            "----------\n",
            "\n",
            "Video number:  34\n",
            "Video: 172.tif\n",
            "Number of images: 1 \n",
            "----------\n",
            "\n",
            "Video number:  35\n",
            "Video: 137.tif\n",
            "Number of images: 1 \n",
            "----------\n",
            "\n",
            "Video number:  36\n",
            "Video: 062.tif\n",
            "Number of images: 1 \n",
            "----------\n",
            "\n",
            "Video number:  37\n",
            "Video: 110.tif\n",
            "Number of images: 1 \n",
            "----------\n",
            "\n",
            "Video number:  38\n",
            "Video: 163.tif\n",
            "Number of images: 1 \n",
            "----------\n",
            "\n",
            "Video number:  39\n",
            "Video: 021.tif\n",
            "Number of images: 1 \n",
            "----------\n",
            "\n",
            "Video number:  40\n",
            "Video: 008.tif\n",
            "Number of images: 1 \n",
            "----------\n",
            "\n",
            "Video number:  41\n",
            "Video: 098.tif\n",
            "Number of images: 1 \n",
            "----------\n",
            "\n",
            "Video number:  42\n",
            "Video: 011.tif\n",
            "Number of images: 1 \n",
            "----------\n",
            "\n",
            "Video number:  43\n",
            "Video: 108.tif\n",
            "Number of images: 1 \n",
            "----------\n",
            "\n",
            "Video number:  44\n",
            "Video: 081.tif\n",
            "Number of images: 1 \n",
            "----------\n",
            "\n",
            "Video number:  45\n",
            "Video: 125.tif\n",
            "Number of images: 1 \n",
            "----------\n",
            "\n",
            "Video number:  46\n",
            "Video: 067.tif\n",
            "Number of images: 1 \n",
            "----------\n",
            "\n",
            "Video number:  47\n",
            "Video: 029.tif\n",
            "Number of images: 1 \n",
            "----------\n",
            "\n",
            "Video number:  48\n",
            "Video: 031.tif\n",
            "Number of images: 1 \n",
            "----------\n",
            "\n",
            "Video number:  49\n",
            "Video: 199.tif\n",
            "Number of images: 1 \n",
            "----------\n",
            "\n",
            "Video number:  50\n",
            "Video: 140.tif\n",
            "Number of images: 1 \n",
            "----------\n",
            "\n",
            "Video number:  51\n",
            "Video: 114.tif\n",
            "Number of images: 1 \n",
            "----------\n",
            "\n",
            "Video number:  52\n",
            "Video: 041.tif\n",
            "Number of images: 1 \n",
            "----------\n",
            "\n",
            "Video number:  53\n",
            "Video: 196.tif\n",
            "Number of images: 1 \n",
            "----------\n",
            "\n",
            "Video number:  54\n",
            "Video: 095.tif\n",
            "Number of images: 1 \n",
            "----------\n",
            "\n",
            "Video number:  55\n",
            "Video: 115.tif\n",
            "Number of images: 1 \n",
            "----------\n",
            "\n",
            "Video number:  56\n",
            "Video: 038.tif\n",
            "Number of images: 1 \n",
            "----------\n",
            "\n",
            "Video number:  57\n",
            "Video: 073.tif\n",
            "Number of images: 1 \n",
            "----------\n",
            "\n",
            "Video number:  58\n",
            "Video: 158.tif\n",
            "Number of images: 1 \n",
            "----------\n",
            "\n",
            "Video number:  59\n",
            "Video: 118.tif\n",
            "Number of images: 1 \n",
            "----------\n",
            "\n",
            "Video number:  60\n",
            "Video: 013.tif\n",
            "Number of images: 1 \n",
            "----------\n",
            "\n",
            "Video number:  61\n",
            "Video: 189.tif\n",
            "Number of images: 1 \n",
            "----------\n",
            "\n",
            "Video number:  62\n",
            "Video: 076.tif\n",
            "Number of images: 1 \n",
            "----------\n",
            "\n",
            "Video number:  63\n",
            "Video: 160.tif\n",
            "Number of images: 1 \n",
            "----------\n",
            "\n",
            "Video number:  64\n",
            "Video: 102.tif\n",
            "Number of images: 1 \n",
            "----------\n",
            "\n",
            "Video number:  65\n",
            "Video: 105.tif\n",
            "Number of images: 1 \n",
            "----------\n",
            "\n",
            "Video number:  66\n",
            "Video: 131.tif\n",
            "Number of images: 1 \n",
            "----------\n",
            "\n",
            "Video number:  67\n",
            "Video: 091.tif\n",
            "Number of images: 1 \n",
            "----------\n",
            "\n",
            "Video number:  68\n",
            "Video: 060.tif\n",
            "Number of images: 1 \n",
            "----------\n",
            "\n",
            "Video number:  69\n",
            "Video: 133.tif\n",
            "Number of images: 1 \n",
            "----------\n",
            "\n",
            "Video number:  70\n",
            "Video: 161.tif\n",
            "Number of images: 1 \n",
            "----------\n",
            "\n",
            "Video number:  71\n",
            "Video: 019.tif\n",
            "Number of images: 1 \n",
            "----------\n",
            "\n",
            "Video number:  72\n",
            "Video: 188.tif\n",
            "Number of images: 1 \n",
            "----------\n",
            "\n",
            "Video number:  73\n",
            "Video: 039.tif\n",
            "Number of images: 1 \n",
            "----------\n",
            "\n",
            "Video number:  74\n",
            "Video: 022.tif\n",
            "Number of images: 1 \n",
            "----------\n",
            "\n",
            "Video number:  75\n",
            "Video: 071.tif\n",
            "Number of images: 1 \n",
            "----------\n",
            "\n",
            "Video number:  76\n",
            "Video: 069.tif\n",
            "Number of images: 1 \n",
            "----------\n",
            "\n",
            "Video number:  77\n",
            "Video: 052.tif\n",
            "Number of images: 1 \n",
            "----------\n",
            "\n",
            "Video number:  78\n",
            "Video: 116.tif\n",
            "Number of images: 1 \n",
            "----------\n",
            "\n",
            "Video number:  79\n",
            "Video: 034.tif\n",
            "Number of images: 1 \n",
            "----------\n",
            "\n",
            "Video number:  80\n",
            "Video: 025.tif\n",
            "Number of images: 1 \n",
            "----------\n",
            "\n",
            "Video number:  81\n",
            "Video: 186.tif\n",
            "Number of images: 1 \n",
            "----------\n",
            "\n",
            "Video number:  82\n",
            "Video: 156.tif\n",
            "Number of images: 1 \n",
            "----------\n",
            "\n",
            "Video number:  83\n",
            "Video: 083.tif\n",
            "Number of images: 1 \n",
            "----------\n",
            "\n",
            "Video number:  84\n",
            "Video: 070.tif\n",
            "Number of images: 1 \n",
            "----------\n",
            "\n",
            "Video number:  85\n",
            "Video: 176.tif\n",
            "Number of images: 1 \n",
            "----------\n",
            "\n",
            "Video number:  86\n",
            "Video: 020.tif\n",
            "Number of images: 1 \n",
            "----------\n",
            "\n",
            "Video number:  87\n",
            "Video: 129.tif\n",
            "Number of images: 1 \n",
            "----------\n",
            "\n",
            "Video number:  88\n",
            "Video: 152.tif\n",
            "Number of images: 1 \n",
            "----------\n",
            "\n",
            "Video number:  89\n",
            "Video: 027.tif\n",
            "Number of images: 1 \n",
            "----------\n",
            "\n",
            "Video number:  90\n",
            "Video: 037.tif\n",
            "Number of images: 1 \n",
            "----------\n",
            "\n",
            "Video number:  91\n",
            "Video: 100.tif\n",
            "Number of images: 1 \n",
            "----------\n",
            "\n",
            "Video number:  92\n",
            "Video: 106.tif\n",
            "Number of images: 1 \n",
            "----------\n",
            "\n",
            "Video number:  93\n",
            "Video: 197.tif\n",
            "Number of images: 1 \n",
            "----------\n",
            "\n",
            "Video number:  94\n",
            "Video: 032.tif\n",
            "Number of images: 1 \n",
            "----------\n",
            "\n",
            "Video number:  95\n",
            "Video: 169.tif\n",
            "Number of images: 1 \n",
            "----------\n",
            "\n",
            "Video number:  96\n",
            "Video: 040.tif\n",
            "Number of images: 1 \n",
            "----------\n",
            "\n",
            "Video number:  97\n",
            "Video: 044.tif\n",
            "Number of images: 1 \n",
            "----------\n",
            "\n",
            "Video number:  98\n",
            "Video: 082.tif\n",
            "Number of images: 1 \n",
            "----------\n",
            "\n",
            "Video number:  99\n",
            "Video: 055.tif\n",
            "Number of images: 1 \n",
            "----------\n",
            "\n",
            "Video number:  100\n",
            "Video: 014.tif\n",
            "Number of images: 1 \n",
            "----------\n",
            "\n",
            "Video number:  101\n",
            "Video: 036.tif\n",
            "Number of images: 1 \n",
            "----------\n",
            "\n",
            "Video number:  102\n",
            "Video: 030.tif\n",
            "Number of images: 1 \n",
            "----------\n",
            "\n",
            "Video number:  103\n",
            "Video: 085.tif\n",
            "Number of images: 1 \n",
            "----------\n",
            "\n",
            "Video number:  104\n",
            "Video: 001.tif\n",
            "Number of images: 1 \n",
            "----------\n",
            "\n",
            "Video number:  105\n",
            "Video: 130.tif\n",
            "Number of images: 1 \n",
            "----------\n",
            "\n",
            "Video number:  106\n",
            "Video: 068.tif\n",
            "Number of images: 1 \n",
            "----------\n",
            "\n",
            "Video number:  107\n",
            "Video: 094.tif\n",
            "Number of images: 1 \n",
            "----------\n",
            "\n",
            "Video number:  108\n",
            "Video: 183.tif\n",
            "Number of images: 1 \n",
            "----------\n",
            "\n",
            "Video number:  109\n",
            "Video: 198.tif\n",
            "Number of images: 1 \n",
            "----------\n",
            "\n",
            "Video number:  110\n",
            "Video: 180.tif\n",
            "Number of images: 1 \n",
            "----------\n",
            "\n",
            "Video number:  111\n",
            "Video: 143.tif\n",
            "Number of images: 1 \n",
            "----------\n",
            "\n",
            "Video number:  112\n",
            "Video: 149.tif\n",
            "Number of images: 1 \n",
            "----------\n",
            "\n",
            "Video number:  113\n",
            "Video: 164.tif\n",
            "Number of images: 1 \n",
            "----------\n",
            "\n",
            "Video number:  114\n",
            "Video: 018.tif\n",
            "Number of images: 1 \n",
            "----------\n",
            "\n",
            "Video number:  115\n",
            "Video: 074.tif\n",
            "Number of images: 1 \n",
            "----------\n",
            "\n",
            "Video number:  116\n",
            "Video: 151.tif\n",
            "Number of images: 1 \n",
            "----------\n",
            "\n",
            "Video number:  117\n",
            "Video: 054.tif\n",
            "Number of images: 1 \n",
            "----------\n",
            "\n",
            "Video number:  118\n",
            "Video: 190.tif\n",
            "Number of images: 1 \n",
            "----------\n",
            "\n",
            "Video number:  119\n",
            "Video: 065.tif\n",
            "Number of images: 1 \n",
            "----------\n",
            "\n",
            "Video number:  120\n",
            "Video: 045.tif\n",
            "Number of images: 1 \n",
            "----------\n",
            "\n",
            "Video number:  121\n",
            "Video: 057.tif\n",
            "Number of images: 1 \n",
            "----------\n",
            "\n",
            "Video number:  122\n",
            "Video: 090.tif\n",
            "Number of images: 1 \n",
            "----------\n",
            "\n",
            "Video number:  123\n",
            "Video: 049.tif\n",
            "Number of images: 1 \n",
            "----------\n",
            "\n",
            "Video number:  124\n",
            "Video: 154.tif\n",
            "Number of images: 1 \n",
            "----------\n",
            "\n",
            "Video number:  125\n",
            "Video: 023.tif\n",
            "Number of images: 1 \n",
            "----------\n",
            "\n",
            "Video number:  126\n",
            "Video: 128.tif\n",
            "Number of images: 1 \n",
            "----------\n",
            "\n",
            "Video number:  127\n",
            "Video: 080.tif\n",
            "Number of images: 1 \n",
            "----------\n",
            "\n",
            "Video number:  128\n",
            "Video: 168.tif\n",
            "Number of images: 1 \n",
            "----------\n",
            "\n",
            "Video number:  129\n",
            "Video: 050.tif\n",
            "Number of images: 1 \n",
            "----------\n",
            "\n",
            "Video number:  130\n",
            "Video: 117.tif\n",
            "Number of images: 1 \n",
            "----------\n",
            "\n",
            "Video number:  131\n",
            "Video: 126.tif\n",
            "Number of images: 1 \n",
            "----------\n",
            "\n",
            "Video number:  132\n",
            "Video: 058.tif\n",
            "Number of images: 1 \n",
            "----------\n",
            "\n",
            "Video number:  133\n",
            "Video: 153.tif\n",
            "Number of images: 1 \n",
            "----------\n",
            "\n",
            "Video number:  134\n",
            "Video: 024.tif\n",
            "Number of images: 1 \n",
            "----------\n",
            "\n",
            "Video number:  135\n",
            "Video: 086.tif\n",
            "Number of images: 1 \n",
            "----------\n",
            "\n",
            "Video number:  136\n",
            "Video: 111.tif\n",
            "Number of images: 1 \n",
            "----------\n",
            "\n",
            "Video number:  137\n",
            "Video: 075.tif\n",
            "Number of images: 1 \n",
            "----------\n",
            "\n",
            "Video number:  138\n",
            "Video: 179.tif\n",
            "Number of images: 1 \n",
            "----------\n",
            "\n",
            "Video number:  139\n",
            "Video: 056.tif\n",
            "Number of images: 1 \n",
            "----------\n",
            "\n",
            "Video number:  140\n",
            "Video: 150.tif\n",
            "Number of images: 1 \n",
            "----------\n",
            "\n",
            "Video number:  141\n",
            "Video: 063.tif\n",
            "Number of images: 1 \n",
            "----------\n",
            "\n",
            "Video number:  142\n",
            "Video: 181.tif\n",
            "Number of images: 1 \n",
            "----------\n",
            "\n",
            "Video number:  143\n",
            "Video: 006.tif\n",
            "Number of images: 1 \n",
            "----------\n",
            "\n",
            "Video number:  144\n",
            "Video: 012.tif\n",
            "Number of images: 1 \n",
            "----------\n",
            "\n",
            "Video number:  145\n",
            "Video: 177.tif\n",
            "Number of images: 1 \n",
            "----------\n",
            "\n",
            "Video number:  146\n",
            "Video: 192.tif\n",
            "Number of images: 1 \n",
            "----------\n",
            "\n",
            "Video number:  147\n",
            "Video: 002.tif\n",
            "Number of images: 1 \n",
            "----------\n",
            "\n",
            "Video number:  148\n",
            "Video: 099.tif\n",
            "Number of images: 1 \n",
            "----------\n",
            "\n",
            "Video number:  149\n",
            "Video: 120.tif\n",
            "Number of images: 1 \n",
            "----------\n",
            "\n",
            "Video number:  150\n",
            "Video: 184.tif\n",
            "Number of images: 1 \n",
            "----------\n",
            "\n",
            "Video number:  151\n",
            "Video: 185.tif\n",
            "Number of images: 1 \n",
            "----------\n",
            "\n",
            "Video number:  152\n",
            "Video: 033.tif\n",
            "Number of images: 1 \n",
            "----------\n",
            "\n",
            "Video number:  153\n",
            "Video: 103.tif\n",
            "Number of images: 1 \n",
            "----------\n",
            "\n",
            "Video number:  154\n",
            "Video: 089.tif\n",
            "Number of images: 1 \n",
            "----------\n",
            "\n",
            "Video number:  155\n",
            "Video: 134.tif\n",
            "Number of images: 1 \n",
            "----------\n",
            "\n",
            "Video number:  156\n",
            "Video: 061.tif\n",
            "Number of images: 1 \n",
            "----------\n",
            "\n",
            "Video number:  157\n",
            "Video: 109.tif\n",
            "Number of images: 1 \n",
            "----------\n",
            "\n",
            "Video number:  158\n",
            "Video: 007.tif\n",
            "Number of images: 1 \n",
            "----------\n",
            "\n",
            "Video number:  159\n",
            "Video: 059.tif\n",
            "Number of images: 1 \n",
            "----------\n",
            "\n",
            "Video number:  160\n",
            "Video: 101.tif\n",
            "Number of images: 1 \n",
            "----------\n",
            "\n",
            "Video number:  161\n",
            "Video: 079.tif\n",
            "Number of images: 1 \n",
            "----------\n",
            "\n",
            "Video number:  162\n",
            "Video: 173.tif\n",
            "Number of images: 1 \n",
            "----------\n",
            "\n",
            "Video number:  163\n",
            "Video: 121.tif\n",
            "Number of images: 1 \n",
            "----------\n",
            "\n",
            "Video number:  164\n",
            "Video: 026.tif\n",
            "Number of images: 1 \n",
            "----------\n",
            "\n",
            "Video number:  165\n",
            "Video: 142.tif\n",
            "Number of images: 1 \n",
            "----------\n",
            "\n",
            "Video number:  166\n",
            "Video: 122.tif\n",
            "Number of images: 1 \n",
            "----------\n",
            "\n",
            "Video number:  167\n",
            "Video: 187.tif\n",
            "Number of images: 1 \n",
            "----------\n",
            "\n",
            "Video number:  168\n",
            "Video: 182.tif\n",
            "Number of images: 1 \n",
            "----------\n",
            "\n",
            "Video number:  169\n",
            "Video: 138.tif\n",
            "Number of images: 1 \n",
            "----------\n",
            "\n",
            "Video number:  170\n",
            "Video: 015.tif\n",
            "Number of images: 1 \n",
            "----------\n",
            "\n",
            "Video number:  171\n",
            "Video: 016.tif\n",
            "Number of images: 1 \n",
            "----------\n",
            "\n",
            "Video number:  172\n",
            "Video: 096.tif\n",
            "Number of images: 1 \n",
            "----------\n",
            "\n",
            "Video number:  173\n",
            "Video: 078.tif\n",
            "Number of images: 1 \n",
            "----------\n",
            "\n",
            "Video number:  174\n",
            "Video: 093.tif\n",
            "Number of images: 1 \n",
            "----------\n",
            "\n",
            "Video number:  175\n",
            "Video: 112.tif\n",
            "Number of images: 1 \n",
            "----------\n",
            "\n",
            "Video number:  176\n",
            "Video: 165.tif\n",
            "Number of images: 1 \n",
            "----------\n",
            "\n",
            "Video number:  177\n",
            "Video: 053.tif\n",
            "Number of images: 1 \n",
            "----------\n",
            "\n",
            "Video number:  178\n",
            "Video: 200.tif\n",
            "Number of images: 1 \n",
            "----------\n",
            "\n",
            "Video number:  179\n",
            "Video: 123.tif\n",
            "Number of images: 1 \n",
            "----------\n",
            "\n",
            "Video number:  180\n",
            "Video: 047.tif\n",
            "Number of images: 1 \n",
            "----------\n",
            "\n",
            "Video number:  181\n",
            "Video: 048.tif\n",
            "Number of images: 1 \n",
            "----------\n",
            "\n",
            "Video number:  182\n",
            "Video: 195.tif\n",
            "Number of images: 1 \n",
            "----------\n",
            "\n",
            "Video number:  183\n",
            "Video: 028.tif\n",
            "Number of images: 1 \n",
            "----------\n",
            "\n",
            "Video number:  184\n",
            "Video: 009.tif\n",
            "Number of images: 1 \n",
            "----------\n",
            "\n",
            "Video number:  185\n",
            "Video: 148.tif\n",
            "Number of images: 1 \n",
            "----------\n",
            "\n",
            "Video number:  186\n",
            "Video: 147.tif\n",
            "Number of images: 1 \n",
            "----------\n",
            "\n",
            "Video number:  187\n",
            "Video: 145.tif\n",
            "Number of images: 1 \n",
            "----------\n",
            "\n",
            "Video number:  188\n",
            "Video: 005.tif\n",
            "Number of images: 1 \n",
            "----------\n",
            "\n",
            "Video number:  189\n",
            "Video: 042.tif\n",
            "Number of images: 1 \n",
            "----------\n",
            "\n",
            "Video number:  190\n",
            "Video: 155.tif\n",
            "Number of images: 1 \n",
            "----------\n",
            "\n",
            "Video number:  191\n",
            "Video: 104.tif\n",
            "Number of images: 1 \n",
            "----------\n",
            "\n",
            "Video number:  192\n",
            "Video: 088.tif\n",
            "Number of images: 1 \n",
            "----------\n",
            "\n",
            "Video number:  193\n",
            "Video: 194.tif\n",
            "Number of images: 1 \n",
            "----------\n",
            "\n",
            "Video number:  194\n",
            "Video: 132.tif\n",
            "Number of images: 1 \n",
            "----------\n",
            "\n",
            "Video number:  195\n",
            "Video: 097.tif\n",
            "Number of images: 1 \n",
            "----------\n",
            "\n",
            "Video number:  196\n",
            "Video: 072.tif\n",
            "Number of images: 1 \n",
            "----------\n",
            "\n",
            "Video number:  197\n",
            "Video: 064.tif\n",
            "Number of images: 1 \n",
            "----------\n",
            "\n",
            "Video number:  198\n",
            "Video: 084.tif\n",
            "Number of images: 1 \n",
            "----------\n",
            "\n",
            "Video number:  199\n",
            "Video: 174.tif\n",
            "Number of images: 1 \n",
            "----------\n",
            "\n",
            "Video number:  200\n",
            "Video: 017.tif\n",
            "Number of images: 1 \n",
            "----------\n",
            "\n",
            "Program ended. All testing videos shall be stored in tester.npy \n",
            " Please wait while tester.npy is created. \n",
            "Refresh when needed\n",
            "Number of frames created : 200\n",
            "Number of bunches= 200 /10 =  20\n",
            "\n",
            "Corrupted and unreadable bunches were ignored\n"
          ]
        }
      ]
    },
    {
      "cell_type": "code",
      "source": [
        "from keras.models import load_model\n",
        "import numpy as np \n",
        "\n",
        "\n",
        "\n",
        "\n",
        "def mean_squared_loss(x1,x2):\n",
        "\n",
        "\n",
        "\n",
        "\n",
        "\n",
        "\tdiff=x1-x2\n",
        "\ta,b,c,d,e=diff.shape\n",
        "\tn_samples=a*b*c*d*e\n",
        "\tsq_diff=diff**2\n",
        "\tSum=sq_diff.sum()\n",
        "\tdist=np.sqrt(Sum)\n",
        "\tmean_dist=dist/n_samples\n",
        "\n",
        "\treturn mean_dist\n",
        "\n",
        "\n",
        "\n",
        "\n",
        "\n",
        "\n",
        "\n",
        "\n",
        "threshold=0.00025 #(Accuracy level 1)\n",
        "#threshold=0.00042 #(Accuracy level 2)\n",
        "#threshold=0.0008#(Accuracy level Vishakha)\n",
        "\n",
        "model=load_model('AnomalyDetector.h5')\n",
        "\n",
        "X_test=np.load('tester.npy')\n",
        "frames=X_test.shape[2]\n",
        "#Need to make number of frames divisible by 10\n",
        "\n",
        "\n",
        "flag=0 #Overall video flagq\n",
        "\n",
        "frames=frames-frames%10\n",
        "\n",
        "X_test=X_test[:,:,:frames]\n",
        "X_test=X_test.reshape(-1,227,227,10)\n",
        "X_test=np.expand_dims(X_test,axis=4)\n",
        "counter =0\n",
        "for number,bunch in enumerate(X_test):\n",
        "\tn_bunch=np.expand_dims(bunch,axis=0)\n",
        "\treconstructed_bunch=model.predict(n_bunch)\n",
        "\n",
        "\n",
        "\tloss=mean_squared_loss(n_bunch,reconstructed_bunch)\n",
        "\t\n",
        "\tif loss>threshold:\n",
        "\t\tprint(\"Anomalous bunch of frames at bunch number {}\".format(number))\n",
        "\t\tcounter=counter+1\n",
        "\t\tprint(\"bunch number: \",counter)\n",
        "\t\tflag=1\n",
        "\n",
        "\n",
        "\telse:\n",
        "\t\tprint('No anomaly')\n",
        "\t\tcounter=counter+1\n",
        "\t\tprint(\"bunch number: \",counter)\n",
        "\n",
        "\n",
        "\n",
        "if flag==1:\n",
        "\tprint(\"Anomalous Events detected\")\n",
        "else:\n",
        "\tprint(\"No anomaly detected\")\n",
        "\t\n",
        "print(\"\\nCorrupted and unreadable bunches were ignored\")"
      ],
      "metadata": {
        "colab": {
          "base_uri": "https://localhost:8080/"
        },
        "id": "pW-EcceOoXHl",
        "outputId": "1893341d-9cba-4f2a-ccab-f71931c6f989"
      },
      "execution_count": 11,
      "outputs": [
        {
          "output_type": "stream",
          "name": "stdout",
          "text": [
            "1/1 [==============================] - 1s 706ms/step\n",
            "No anomaly\n",
            "bunch number:  1\n",
            "1/1 [==============================] - 0s 60ms/step\n",
            "No anomaly\n",
            "bunch number:  2\n",
            "1/1 [==============================] - 0s 63ms/step\n",
            "No anomaly\n",
            "bunch number:  3\n",
            "1/1 [==============================] - 0s 62ms/step\n",
            "No anomaly\n",
            "bunch number:  4\n",
            "1/1 [==============================] - 0s 61ms/step\n",
            "No anomaly\n",
            "bunch number:  5\n",
            "1/1 [==============================] - 0s 62ms/step\n",
            "No anomaly\n",
            "bunch number:  6\n",
            "1/1 [==============================] - 0s 60ms/step\n",
            "No anomaly\n",
            "bunch number:  7\n",
            "1/1 [==============================] - 0s 55ms/step\n",
            "No anomaly\n",
            "bunch number:  8\n",
            "1/1 [==============================] - 0s 60ms/step\n",
            "No anomaly\n",
            "bunch number:  9\n",
            "1/1 [==============================] - 0s 60ms/step\n",
            "No anomaly\n",
            "bunch number:  10\n",
            "1/1 [==============================] - 0s 57ms/step\n",
            "No anomaly\n",
            "bunch number:  11\n",
            "1/1 [==============================] - 0s 62ms/step\n",
            "No anomaly\n",
            "bunch number:  12\n",
            "1/1 [==============================] - 0s 60ms/step\n",
            "No anomaly\n",
            "bunch number:  13\n",
            "1/1 [==============================] - 0s 55ms/step\n",
            "No anomaly\n",
            "bunch number:  14\n",
            "1/1 [==============================] - 0s 57ms/step\n",
            "No anomaly\n",
            "bunch number:  15\n",
            "1/1 [==============================] - 0s 69ms/step\n",
            "No anomaly\n",
            "bunch number:  16\n",
            "1/1 [==============================] - 0s 59ms/step\n",
            "No anomaly\n",
            "bunch number:  17\n",
            "1/1 [==============================] - 0s 58ms/step\n",
            "Anomalous bunch of frames at bunch number 17\n",
            "bunch number:  18\n",
            "1/1 [==============================] - 0s 56ms/step\n",
            "No anomaly\n",
            "bunch number:  19\n",
            "1/1 [==============================] - 0s 54ms/step\n",
            "Anomalous bunch of frames at bunch number 19\n",
            "bunch number:  20\n",
            "Anomalous Events detected\n",
            "\n",
            "Corrupted and unreadable bunches were ignored\n"
          ]
        }
      ]
    },
    {
      "cell_type": "code",
      "source": [],
      "metadata": {
        "id": "eKWtWYOIlUzZ"
      },
      "execution_count": null,
      "outputs": []
    }
  ]
}